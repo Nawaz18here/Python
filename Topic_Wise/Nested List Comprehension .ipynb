{
 "cells": [
  {
   "cell_type": "markdown",
   "id": "9f2ca70e",
   "metadata": {},
   "source": [
    "A nested list comprehension doubles down on the concept of list comprehensions"
   ]
  },
  {
   "cell_type": "code",
   "execution_count": null,
   "id": "14ef0a3a",
   "metadata": {},
   "outputs": [],
   "source": []
  },
  {
   "cell_type": "markdown",
   "id": "352bda8a",
   "metadata": {},
   "source": [
    "## Nested List Comprehension Example 1"
   ]
  },
  {
   "cell_type": "code",
   "execution_count": 11,
   "id": "43b50b89",
   "metadata": {},
   "outputs": [],
   "source": [
    "nested = [[1,2,3], ['a','b','def'], [5, 10,'f',17], [3,9] ] "
   ]
  },
  {
   "cell_type": "code",
   "execution_count": 12,
   "id": "c449ca2e",
   "metadata": {},
   "outputs": [],
   "source": [
    "#Using FOR Loop\n",
    "flatten=[]\n",
    "for i in nested:\n",
    "    for j in i:\n",
    "        flatten.append(j)"
   ]
  },
  {
   "cell_type": "code",
   "execution_count": 13,
   "id": "a5dea222",
   "metadata": {},
   "outputs": [
    {
     "data": {
      "text/plain": [
       "[1, 2, 3, 'a', 'b', 'def', 5, 10, 'f', 17, 3, 9]"
      ]
     },
     "execution_count": 13,
     "metadata": {},
     "output_type": "execute_result"
    }
   ],
   "source": [
    "flatten"
   ]
  },
  {
   "cell_type": "code",
   "execution_count": null,
   "id": "3270a1dd",
   "metadata": {},
   "outputs": [],
   "source": []
  },
  {
   "cell_type": "code",
   "execution_count": 14,
   "id": "fba5da23",
   "metadata": {},
   "outputs": [],
   "source": [
    "#Using Nested List Comprehension\n",
    "flatten2= [val for element in nested for val in element]"
   ]
  },
  {
   "cell_type": "code",
   "execution_count": 15,
   "id": "99b16459",
   "metadata": {},
   "outputs": [
    {
     "data": {
      "text/plain": [
       "[1, 2, 3, 'a', 'b', 'def', 5, 10, 'f', 17, 3, 9]"
      ]
     },
     "execution_count": 15,
     "metadata": {},
     "output_type": "execute_result"
    }
   ],
   "source": [
    "flatten2"
   ]
  },
  {
   "cell_type": "code",
   "execution_count": 9,
   "id": "9e1967f0",
   "metadata": {},
   "outputs": [],
   "source": []
  },
  {
   "cell_type": "code",
   "execution_count": 17,
   "id": "61fa16d0",
   "metadata": {},
   "outputs": [],
   "source": [
    "#Using Nested List Comprehension using if cond\n",
    "flatten3= [val for element in nested for val in element if len(element)>2]"
   ]
  },
  {
   "cell_type": "code",
   "execution_count": 19,
   "id": "ec93bccc",
   "metadata": {},
   "outputs": [
    {
     "data": {
      "text/plain": [
       "[1, 2, 3, 'a', 'b', 'def', 5, 10, 'f', 17]"
      ]
     },
     "execution_count": 19,
     "metadata": {},
     "output_type": "execute_result"
    }
   ],
   "source": [
    "flatten3"
   ]
  },
  {
   "cell_type": "code",
   "execution_count": null,
   "id": "fca2751f",
   "metadata": {},
   "outputs": [],
   "source": []
  },
  {
   "cell_type": "code",
   "execution_count": null,
   "id": "c10d8206",
   "metadata": {},
   "outputs": [],
   "source": []
  },
  {
   "cell_type": "markdown",
   "id": "2e746402",
   "metadata": {},
   "source": [
    "## Nested List Comprehension Example 2"
   ]
  },
  {
   "cell_type": "code",
   "execution_count": 39,
   "id": "479ae7d3",
   "metadata": {},
   "outputs": [],
   "source": [
    "Numbers = [[1,2,3,4,5,6,7,8,9,10],\n",
    "          [11,12,13,14,15,16,17,18,19,20]]"
   ]
  },
  {
   "cell_type": "code",
   "execution_count": 40,
   "id": "4b992f20",
   "metadata": {},
   "outputs": [
    {
     "data": {
      "text/plain": [
       "[4, 16, 36, 64, 100, 144, 196, 256, 324, 400]"
      ]
     },
     "execution_count": 40,
     "metadata": {},
     "output_type": "execute_result"
    }
   ],
   "source": [
    "x = [num **2 for list in Numbers for num in list if num%2==0]\n",
    "x"
   ]
  },
  {
   "cell_type": "code",
   "execution_count": 43,
   "id": "92fa69a8",
   "metadata": {},
   "outputs": [
    {
     "data": {
      "text/plain": [
       "[4, 16, 36, 64, 100, 144, 196, 256, 324, 400]"
      ]
     },
     "execution_count": 43,
     "metadata": {},
     "output_type": "execute_result"
    }
   ],
   "source": [
    "l=[]\n",
    "for list in Numbers:\n",
    "    for num in list:\n",
    "        if num%2==0:\n",
    "            l.append(num**2)\n",
    "l"
   ]
  },
  {
   "cell_type": "code",
   "execution_count": null,
   "id": "52260b5d",
   "metadata": {},
   "outputs": [],
   "source": []
  },
  {
   "cell_type": "code",
   "execution_count": null,
   "id": "b7a8748f",
   "metadata": {},
   "outputs": [],
   "source": []
  },
  {
   "cell_type": "code",
   "execution_count": null,
   "id": "1e1d0786",
   "metadata": {},
   "outputs": [],
   "source": []
  },
  {
   "cell_type": "markdown",
   "id": "197a5d4e",
   "metadata": {},
   "source": [
    "## Nested if with List Comprehension"
   ]
  },
  {
   "cell_type": "code",
   "execution_count": 44,
   "id": "0acd8959",
   "metadata": {},
   "outputs": [
    {
     "name": "stdout",
     "output_type": "stream",
     "text": [
      "[0, 10, 20, 30, 40]\n"
     ]
    }
   ],
   "source": [
    "filtered_list = [ x for x in range(50) if x % 2 == 0 if x % 5 == 0]\n",
    "print(filtered_list)"
   ]
  },
  {
   "cell_type": "code",
   "execution_count": 45,
   "id": "3aab6fd8",
   "metadata": {},
   "outputs": [
    {
     "name": "stdout",
     "output_type": "stream",
     "text": [
      "0\n",
      "10\n",
      "20\n",
      "30\n",
      "40\n"
     ]
    }
   ],
   "source": [
    "for x in range(50):\n",
    "    if x%2==0:\n",
    "        if x%5==0:\n",
    "            print(x)"
   ]
  },
  {
   "cell_type": "code",
   "execution_count": null,
   "id": "00243183",
   "metadata": {},
   "outputs": [],
   "source": []
  },
  {
   "cell_type": "markdown",
   "id": "3a79362c",
   "metadata": {},
   "source": [
    "## if…else With List Comprehension"
   ]
  },
  {
   "cell_type": "code",
   "execution_count": 46,
   "id": "71541097",
   "metadata": {},
   "outputs": [],
   "source": [
    "list = ['even' if i%2==0 else 'odd' for i in range(10)]"
   ]
  },
  {
   "cell_type": "code",
   "execution_count": 47,
   "id": "28d52651",
   "metadata": {},
   "outputs": [
    {
     "data": {
      "text/plain": [
       "['even', 'odd', 'even', 'odd', 'even', 'odd', 'even', 'odd', 'even', 'odd']"
      ]
     },
     "execution_count": 47,
     "metadata": {},
     "output_type": "execute_result"
    }
   ],
   "source": [
    "list"
   ]
  },
  {
   "cell_type": "code",
   "execution_count": null,
   "id": "1abe112b",
   "metadata": {},
   "outputs": [],
   "source": []
  },
  {
   "cell_type": "code",
   "execution_count": 1,
   "id": "a60e619d",
   "metadata": {},
   "outputs": [],
   "source": [
    "matrix = [[1, 2, 3, 4], [4, 5, 6, 8]]"
   ]
  },
  {
   "cell_type": "code",
   "execution_count": 2,
   "id": "9f81f41a",
   "metadata": {},
   "outputs": [],
   "source": [
    "t_mat = []\n",
    "for i in matrix : \n",
    "    for j in matrix:\n",
    "        if i==j:\n",
    "            t_mat.append(i)"
   ]
  },
  {
   "cell_type": "code",
   "execution_count": 3,
   "id": "9a8251b3",
   "metadata": {},
   "outputs": [
    {
     "data": {
      "text/plain": [
       "[[1, 2, 3, 4], [4, 5, 6, 8]]"
      ]
     },
     "execution_count": 3,
     "metadata": {},
     "output_type": "execute_result"
    }
   ],
   "source": [
    "t_mat"
   ]
  },
  {
   "cell_type": "code",
   "execution_count": 4,
   "id": "f78b732e",
   "metadata": {},
   "outputs": [
    {
     "data": {
      "text/plain": [
       "[[1, 2, 3, 4], [4, 5, 6, 8]]"
      ]
     },
     "execution_count": 4,
     "metadata": {},
     "output_type": "execute_result"
    }
   ],
   "source": [
    "matrix"
   ]
  },
  {
   "cell_type": "code",
   "execution_count": null,
   "id": "3c1eb486",
   "metadata": {},
   "outputs": [],
   "source": []
  }
 ],
 "metadata": {
  "kernelspec": {
   "display_name": "Python 3 (ipykernel)",
   "language": "python",
   "name": "python3"
  },
  "language_info": {
   "codemirror_mode": {
    "name": "ipython",
    "version": 3
   },
   "file_extension": ".py",
   "mimetype": "text/x-python",
   "name": "python",
   "nbconvert_exporter": "python",
   "pygments_lexer": "ipython3",
   "version": "3.9.12"
  }
 },
 "nbformat": 4,
 "nbformat_minor": 5
}
