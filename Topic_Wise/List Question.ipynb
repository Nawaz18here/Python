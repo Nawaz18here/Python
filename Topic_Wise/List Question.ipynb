{
 "cells": [
  {
   "cell_type": "code",
   "execution_count": null,
   "id": "c0d4ba79",
   "metadata": {},
   "outputs": [],
   "source": []
  },
  {
   "cell_type": "raw",
   "id": "4a27bbab",
   "metadata": {},
   "source": []
  },
  {
   "cell_type": "markdown",
   "id": "6d84d625",
   "metadata": {},
   "source": [
    "## 1. Python Program to Find Largest Number in a List"
   ]
  },
  {
   "cell_type": "code",
   "execution_count": 1,
   "id": "e8b6858e",
   "metadata": {},
   "outputs": [],
   "source": [
    "l=[4,2,1,88,42,1,313,3]"
   ]
  },
  {
   "cell_type": "code",
   "execution_count": 15,
   "id": "c937802b",
   "metadata": {},
   "outputs": [],
   "source": [
    "#Basic Approach\n",
    "def lar_no(l):\n",
    "    largest_val=l[0]\n",
    "    n=len(l)\n",
    "    for i in range(n):\n",
    "        if l[i] > largest_val:\n",
    "            largest_val = l[i]\n",
    "    return largest_val"
   ]
  },
  {
   "cell_type": "code",
   "execution_count": 16,
   "id": "9f690197",
   "metadata": {},
   "outputs": [
    {
     "name": "stdout",
     "output_type": "stream",
     "text": [
      "largest no in list :  313\n"
     ]
    }
   ],
   "source": [
    "print(\"largest no in list : \", lar_no(l) )"
   ]
  },
  {
   "cell_type": "code",
   "execution_count": null,
   "id": "ba130475",
   "metadata": {},
   "outputs": [],
   "source": []
  },
  {
   "cell_type": "code",
   "execution_count": 6,
   "id": "20441f8a",
   "metadata": {},
   "outputs": [
    {
     "name": "stdout",
     "output_type": "stream",
     "text": [
      "313\n"
     ]
    }
   ],
   "source": [
    "#The max() Function — Find the Largest Element of a List\n",
    "max_no = max(l)\n",
    "print(max_no)"
   ]
  },
  {
   "cell_type": "code",
   "execution_count": null,
   "id": "07af85af",
   "metadata": {},
   "outputs": [],
   "source": []
  },
  {
   "cell_type": "code",
   "execution_count": 8,
   "id": "1dce3aca",
   "metadata": {},
   "outputs": [
    {
     "name": "stdout",
     "output_type": "stream",
     "text": [
      "largest no in list :  313\n"
     ]
    }
   ],
   "source": [
    "#Reduce() with the built-in max() Function\n",
    "from functools import reduce\n",
    "x=reduce(max,l)\n",
    "print(\"largest no in list : \", x )\n"
   ]
  },
  {
   "cell_type": "code",
   "execution_count": 9,
   "id": "ca5056e8",
   "metadata": {},
   "outputs": [
    {
     "name": "stdout",
     "output_type": "stream",
     "text": [
      "largest no in list :  313\n"
     ]
    }
   ],
   "source": [
    "#Reduce() with the built-in max() Function\n",
    "from functools import reduce\n",
    "s=reduce(lambda x,y : y if x<y else x ,l)\n",
    "print(\"largest no in list : \", s )\n"
   ]
  },
  {
   "cell_type": "code",
   "execution_count": null,
   "id": "03b49a1f",
   "metadata": {},
   "outputs": [],
   "source": []
  },
  {
   "cell_type": "code",
   "execution_count": 14,
   "id": "4813b866",
   "metadata": {},
   "outputs": [
    {
     "name": "stdout",
     "output_type": "stream",
     "text": [
      "Largest element is: 313\n"
     ]
    }
   ],
   "source": [
    "# sorting the list\n",
    "l.sort()\n",
    " \n",
    "# printing the last element\n",
    "print(\"Largest element is:\", l[-1])"
   ]
  },
  {
   "cell_type": "code",
   "execution_count": null,
   "id": "ed061e13",
   "metadata": {},
   "outputs": [],
   "source": []
  },
  {
   "cell_type": "markdown",
   "id": "a8375181",
   "metadata": {},
   "source": [
    "## -----------------------------------------------------------"
   ]
  },
  {
   "cell_type": "markdown",
   "id": "f5234eb0",
   "metadata": {},
   "source": [
    "## 2. Python Program to Find Second Largest Number in a List "
   ]
  },
  {
   "cell_type": "code",
   "execution_count": null,
   "id": "79f549c8",
   "metadata": {},
   "outputs": [],
   "source": []
  },
  {
   "cell_type": "code",
   "execution_count": 29,
   "id": "3588d16c",
   "metadata": {},
   "outputs": [],
   "source": [
    "l=[4,2,1,88,42,1,313,3]"
   ]
  },
  {
   "cell_type": "code",
   "execution_count": 28,
   "id": "bc5ca28d",
   "metadata": {},
   "outputs": [
    {
     "data": {
      "text/plain": [
       "88"
      ]
     },
     "execution_count": 28,
     "metadata": {},
     "output_type": "execute_result"
    }
   ],
   "source": [
    "l.sort()\n",
    "l[-2]"
   ]
  },
  {
   "cell_type": "code",
   "execution_count": 30,
   "id": "bab95f47",
   "metadata": {},
   "outputs": [
    {
     "name": "stdout",
     "output_type": "stream",
     "text": [
      "firt largest:  5\n",
      "second largest:  2\n"
     ]
    }
   ],
   "source": [
    "l=[5,2,1,1,1]\n",
    "first_lar=min(l)\n",
    "second_lar=0\n",
    "\n",
    "for i in l:\n",
    "    if i>first_lar:\n",
    "        second_lar = first_lar\n",
    "        first_lar =i\n",
    "    else:\n",
    "        second_lar = max(second_lar,i)\n",
    "        \n",
    "print(f\"firt largest: \",first_lar)\n",
    "print(f\"second largest: \",second_lar)"
   ]
  },
  {
   "cell_type": "code",
   "execution_count": 31,
   "id": "7c423901",
   "metadata": {},
   "outputs": [
    {
     "data": {
      "text/plain": [
       "(99, 45)"
      ]
     },
     "execution_count": 31,
     "metadata": {},
     "output_type": "execute_result"
    }
   ],
   "source": [
    "list = [10, 20, 4, 45, 99]\n",
    "#list=[5,2,1,1,1]\n",
    "mx= max(list[0],list[1])\n",
    "secondmx= min(list[0],list[1])\n",
    "\n",
    "n = len(list)\n",
    "for i in range(2,n):\n",
    "    if list[i] > mx:\n",
    "        secondmx= mx\n",
    "        mx= list[i]\n",
    "    elif list[i] > secondmx and mx!=list[i]:\n",
    "        secondmx=list[i]\n",
    "    elif mx==secondmx and secondmx!=list[i]:\n",
    "        secondmx=list[i]\n",
    "\n",
    "mx,secondmx"
   ]
  },
  {
   "cell_type": "code",
   "execution_count": 32,
   "id": "168ccf18",
   "metadata": {},
   "outputs": [
    {
     "data": {
      "text/plain": [
       "30"
      ]
     },
     "execution_count": 32,
     "metadata": {},
     "output_type": "execute_result"
    }
   ],
   "source": [
    "#removing the maximum element  \n",
    "list_val = [20, 30, 40, 25, 10] \n",
    "\n",
    "r_lst = set (list_val)\n",
    "r_lst.remove(max(r_lst))\n",
    "max(r_lst)"
   ]
  },
  {
   "cell_type": "code",
   "execution_count": null,
   "id": "cd055c00",
   "metadata": {},
   "outputs": [],
   "source": []
  },
  {
   "cell_type": "markdown",
   "id": "62ed7c17",
   "metadata": {},
   "source": [
    "## Python Program to Print Largest Even and Largest Odd Number in a List"
   ]
  },
  {
   "cell_type": "code",
   "execution_count": 33,
   "id": "84dd27fe",
   "metadata": {},
   "outputs": [],
   "source": [
    "l= [1,3,4,5,77,11,88,13,78,5]\n",
    "\n",
    "ev=[]\n",
    "od=[]\n",
    "n=len(l)\n",
    "for i in range(n):\n",
    "    if l[i]%2==0:\n",
    "        ev.append(l[i])\n",
    "    else:\n",
    "        od.append(l[i])"
   ]
  },
  {
   "cell_type": "code",
   "execution_count": 34,
   "id": "8cc630ab",
   "metadata": {},
   "outputs": [
    {
     "name": "stdout",
     "output_type": "stream",
     "text": [
      "[4, 88, 78]\n",
      "[1, 3, 5, 77, 11, 13, 5]\n"
     ]
    }
   ],
   "source": [
    "print(ev)\n",
    "print(od)"
   ]
  },
  {
   "cell_type": "code",
   "execution_count": 35,
   "id": "b4384027",
   "metadata": {},
   "outputs": [],
   "source": [
    "def findlargest(y):\n",
    "    mx=y[0]\n",
    "    n1=len(y)\n",
    "    for i in range(n1):\n",
    "        if y[i]>mx:\n",
    "            mx=y[i]\n",
    "    return mx"
   ]
  },
  {
   "cell_type": "code",
   "execution_count": 36,
   "id": "106e3916",
   "metadata": {},
   "outputs": [
    {
     "name": "stdout",
     "output_type": "stream",
     "text": [
      "88\n",
      "77\n"
     ]
    }
   ],
   "source": [
    "print(findlargest(ev))\n",
    "print(findlargest(od))"
   ]
  },
  {
   "cell_type": "code",
   "execution_count": null,
   "id": "41d64260",
   "metadata": {},
   "outputs": [],
   "source": []
  },
  {
   "cell_type": "code",
   "execution_count": 42,
   "id": "b7df8aa6",
   "metadata": {},
   "outputs": [
    {
     "name": "stdout",
     "output_type": "stream",
     "text": [
      "Largest odd number is  809\n",
      "Largest even number is  694\n",
      "even list :  [234, 236, 694]\n",
      "odd list :  [123, 809]\n"
     ]
    }
   ],
   "source": [
    "def printmax(lis):\n",
    "   \n",
    "    # Using list comprehension storing\n",
    "    # even and odd numbers as separate lists\n",
    "    evenl = [x for x in lis if x % 2 == 0]\n",
    "    oddl = [x for x in lis if x % 2 == 1]\n",
    " \n",
    "    # printing max numbers in corresponding lists\n",
    "    print(\"Largest odd number is \", max(oddl))\n",
    "    print(\"Largest even number is \", max(evenl))\n",
    "    \n",
    "    print('even list : ',evenl)\n",
    "    print('odd list : ',oddl)\n",
    " \n",
    " \n",
    "# Input a list of numbers\n",
    "lis = [123, 234, 236, 694, 809]\n",
    " \n",
    "printmax(lis)\n"
   ]
  },
  {
   "cell_type": "code",
   "execution_count": null,
   "id": "20706b9b",
   "metadata": {},
   "outputs": [],
   "source": []
  },
  {
   "cell_type": "code",
   "execution_count": 4,
   "id": "16521a56",
   "metadata": {},
   "outputs": [],
   "source": [
    "def largestevenodd(l):\n",
    "    \n",
    "    curr_e = -1\n",
    "    curr_o = -1\n",
    "    \n",
    "    \n",
    "    for i in l:\n",
    "        if (i%2==0 and i>curr_e):\n",
    "            curr_e = i\n",
    "        elif (i%2!=0 and i>curr_o):\n",
    "            curr_o = i\n",
    "        \n",
    "    #return curr_e,curr_o\n",
    "    print(\"Largest odd number is \", curr_o)\n",
    "    print(\"Largest even number is \", curr_e)\n",
    "    \n",
    "    "
   ]
  },
  {
   "cell_type": "code",
   "execution_count": 5,
   "id": "650bb4ff",
   "metadata": {},
   "outputs": [
    {
     "name": "stdout",
     "output_type": "stream",
     "text": [
      "Largest odd number is  809\n",
      "Largest even number is  694\n"
     ]
    }
   ],
   "source": [
    "l = [123, 234, 236, 694, 809]\n",
    "largestevenodd(l)"
   ]
  },
  {
   "cell_type": "code",
   "execution_count": null,
   "id": "03cf88ad",
   "metadata": {},
   "outputs": [],
   "source": []
  },
  {
   "cell_type": "markdown",
   "id": "8ab6e72c",
   "metadata": {},
   "source": [
    "## Python Program to Split Even and Odd Elements into Two Lists"
   ]
  },
  {
   "cell_type": "code",
   "execution_count": 6,
   "id": "cd52d9a6",
   "metadata": {},
   "outputs": [],
   "source": [
    "l = [23,4,5,6,1,22,57,12,5,7]"
   ]
  },
  {
   "cell_type": "code",
   "execution_count": 7,
   "id": "bd8a2cf6",
   "metadata": {},
   "outputs": [],
   "source": [
    "def splitevenodd(l):\n",
    "    \n",
    "    ev = [i for i in l if i%2==0]\n",
    "    od = [i for i in l if i%2!=0]\n",
    "    \n",
    "    print(\"Even List: \",ev)\n",
    "    print(\"Odd List: \",od)"
   ]
  },
  {
   "cell_type": "code",
   "execution_count": 8,
   "id": "31341e8d",
   "metadata": {},
   "outputs": [
    {
     "name": "stdout",
     "output_type": "stream",
     "text": [
      "Even List:  [4, 6, 22, 12]\n",
      "Odd List:  [23, 5, 1, 57, 5, 7]\n"
     ]
    }
   ],
   "source": [
    "splitevenodd(l)"
   ]
  },
  {
   "cell_type": "code",
   "execution_count": null,
   "id": "eb9a1219",
   "metadata": {},
   "outputs": [],
   "source": []
  },
  {
   "cell_type": "code",
   "execution_count": 10,
   "id": "6479ded9",
   "metadata": {},
   "outputs": [],
   "source": [
    "def spevod(l):\n",
    "    ev_lst = list( filter(lambda x: x%2==0,l) )\n",
    "    od_lst = list( filter(lambda x: x%2!=0,l) )\n",
    "    \n",
    "    print(\"Even numbers:\", ev_lst)\n",
    "    print(\"Odd numbers:\", od_lst)"
   ]
  },
  {
   "cell_type": "code",
   "execution_count": 11,
   "id": "c56abf89",
   "metadata": {},
   "outputs": [
    {
     "name": "stdout",
     "output_type": "stream",
     "text": [
      "Even numbers: [4, 6, 22, 12]\n",
      "Odd numbers: [23, 5, 1, 57, 5, 7]\n"
     ]
    }
   ],
   "source": [
    "spevod(l)"
   ]
  },
  {
   "cell_type": "code",
   "execution_count": null,
   "id": "efa04eac",
   "metadata": {},
   "outputs": [],
   "source": []
  },
  {
   "cell_type": "code",
   "execution_count": 12,
   "id": "3b11e50d",
   "metadata": {},
   "outputs": [
    {
     "name": "stdout",
     "output_type": "stream",
     "text": [
      "Even numbers: [2, 4, 6, 8, 10]\n",
      "Odd numbers: [1, 3, 5, 7, 9]\n"
     ]
    }
   ],
   "source": [
    "def split_lists(nums):\n",
    "    even_list = []\n",
    "    odd_list = []\n",
    "    for num in nums:\n",
    "        if num % 2 == 0:\n",
    "            even_list.append(num)\n",
    "        else:\n",
    "            odd_list.append(num)\n",
    "    return even_list, odd_list\n",
    "\n",
    "nums = [1, 2, 3, 4, 5, 6, 7, 8, 9, 10]\n",
    "even_list, odd_list = split_lists(nums)\n",
    "print(\"Even numbers:\", even_list)\n",
    "print(\"Odd numbers:\", odd_list)\n"
   ]
  },
  {
   "cell_type": "code",
   "execution_count": null,
   "id": "154aed37",
   "metadata": {},
   "outputs": [],
   "source": []
  },
  {
   "cell_type": "code",
   "execution_count": null,
   "id": "a0dee6fa",
   "metadata": {},
   "outputs": [],
   "source": []
  },
  {
   "cell_type": "markdown",
   "id": "57ef00f7",
   "metadata": {},
   "source": [
    "## Python Program to Find Average of a List\n"
   ]
  },
  {
   "cell_type": "code",
   "execution_count": 8,
   "id": "7515afdf",
   "metadata": {},
   "outputs": [],
   "source": [
    "#nums = [1, 2, 3, 4, 5, 6, 7, 8, 9, 10]\n",
    "\n",
    "def avg_lst(l):\n",
    "    sum,cnt=0,0\n",
    "    n=len(l)\n",
    "    for i in range(n):\n",
    "        sum+= l[i]\n",
    "        cnt+= 1\n",
    "    avg = sum/cnt\n",
    "    return sum,cnt,avg\n"
   ]
  },
  {
   "cell_type": "code",
   "execution_count": 12,
   "id": "0c829044",
   "metadata": {},
   "outputs": [
    {
     "name": "stdout",
     "output_type": "stream",
     "text": [
      "Average:  3.0  Sum:  15  Count:  5\n"
     ]
    }
   ],
   "source": [
    "nums = [1,2,3,4,5]\n",
    "sum,cnt,avg= avg_lst(nums)\n",
    "print(\"Average: \",avg, \" Sum: \",sum,\" Count: \", cnt)"
   ]
  },
  {
   "cell_type": "code",
   "execution_count": null,
   "id": "6a4cd6ee",
   "metadata": {},
   "outputs": [],
   "source": []
  },
  {
   "cell_type": "code",
   "execution_count": 4,
   "id": "b54ba3c9",
   "metadata": {},
   "outputs": [
    {
     "name": "stdout",
     "output_type": "stream",
     "text": [
      "3.0\n",
      "5.5\n",
      "50.38461538461539\n"
     ]
    }
   ],
   "source": [
    "\n",
    "def find_average(my_list):\n",
    "    return sum(my_list) / len(my_list)\n",
    "\n",
    "# Test cases\n",
    "my_list1 = [1, 2, 3, 4, 5]\n",
    "average1 = find_average(my_list1)\n",
    "print(average1) # 3.0\n",
    "\n",
    "my_list2 = [1, 2, 3, 4, 5,6,7,8,9,10]\n",
    "average2 = find_average(my_list2)\n",
    "print(average2) # 5.5\n",
    "\n",
    "my_list3 = [1, 2, 3, 4, 5,6,7,8,9,10,100,200,300]\n",
    "average3 = find_average(my_list3)\n",
    "print(average3) # 35.0\n"
   ]
  },
  {
   "cell_type": "code",
   "execution_count": null,
   "id": "d35187a2",
   "metadata": {},
   "outputs": [],
   "source": []
  },
  {
   "cell_type": "code",
   "execution_count": 11,
   "id": "f340b832",
   "metadata": {},
   "outputs": [
    {
     "name": "stdout",
     "output_type": "stream",
     "text": [
      "3\n",
      "5.5\n",
      "50.38461538461539\n"
     ]
    }
   ],
   "source": [
    "import statistics\n",
    "\n",
    "def find_average(my_list):\n",
    "    return statistics.mean(my_list)\n",
    "\n",
    "# Test cases\n",
    "my_list1 = [1, 2, 3, 4, 5]\n",
    "average1 = find_average(my_list1)\n",
    "print(average1) # 3.0\n",
    "\n",
    "my_list2 = [1, 2, 3, 4, 5,6,7,8,9,10]\n",
    "average2 = find_average(my_list2)\n",
    "print(average2) # 5.5\n",
    "\n",
    "my_list3 = [1, 2, 3, 4, 5,6,7,8,9,10,100,200,300]\n",
    "average3 = find_average(my_list3)\n",
    "print(average3) # 35.0\n",
    "\n"
   ]
  },
  {
   "cell_type": "code",
   "execution_count": null,
   "id": "364be66c",
   "metadata": {},
   "outputs": [],
   "source": []
  },
  {
   "cell_type": "code",
   "execution_count": 13,
   "id": "1560b9ef",
   "metadata": {},
   "outputs": [
    {
     "data": {
      "text/plain": [
       "5.5"
      ]
     },
     "execution_count": 13,
     "metadata": {},
     "output_type": "execute_result"
    }
   ],
   "source": [
    "#Using Reduce function\n",
    "from functools import reduce\n",
    "l = [1, 2, 3, 4, 5,6,7,8,9,10]  # 5.5\n",
    "\n",
    "lst_avg = reduce ( lambda a,b: a+b , l) / len(l)\n",
    "lst_avg\n"
   ]
  },
  {
   "cell_type": "code",
   "execution_count": null,
   "id": "d13666af",
   "metadata": {},
   "outputs": [],
   "source": []
  },
  {
   "cell_type": "markdown",
   "id": "47b9bb8e",
   "metadata": {},
   "source": [
    "## Python Program to Print Sum of Negative Numbers, Positive Even Numbers and Positive Odd numbers in a List"
   ]
  },
  {
   "cell_type": "code",
   "execution_count": 20,
   "id": "223f8d7e",
   "metadata": {},
   "outputs": [],
   "source": [
    "\n",
    "def find_sum_check(lst):\n",
    "    sum_neg=0\n",
    "    sum_even=0\n",
    "    sum_odd =0\n",
    "    \n",
    "    for i in lst:\n",
    "        if i<0:\n",
    "            sum_neg += i\n",
    "        elif i%2==0:\n",
    "            sum_even += i\n",
    "        elif i%2!=0:\n",
    "            sum_odd += i\n",
    "\n",
    "    return (sum_neg,sum_even,sum_odd)\n"
   ]
  },
  {
   "cell_type": "code",
   "execution_count": 21,
   "id": "7dc3a484",
   "metadata": {},
   "outputs": [
    {
     "name": "stdout",
     "output_type": "stream",
     "text": [
      "Negative Sum:  -87  Even Sum:  14  Odd Sum:  8\n"
     ]
    }
   ],
   "source": [
    "# Test cases\n",
    "my_list1 = [-2,-4,0,12,-81, 2, 3, 5]\n",
    "a,b,c = find_sum_check(my_list1)\n",
    "print(\"Negative Sum: \",a, \" Even Sum: \",b,\" Odd Sum: \", c)"
   ]
  },
  {
   "cell_type": "code",
   "execution_count": null,
   "id": "4c5b981f",
   "metadata": {},
   "outputs": [],
   "source": []
  },
  {
   "cell_type": "code",
   "execution_count": 30,
   "id": "43eb9277",
   "metadata": {},
   "outputs": [],
   "source": [
    "#Using Filter \n",
    "\n",
    "lst = [1, -1, 50, -2, 0, -3]\n",
    "neg_num = list( filter(lambda x:x<0, lst) )\n",
    "even_num = list( filter(lambda x:( x>0 and x%2==0 ), lst) )\n",
    "odd_num = list( filter(lambda x: ( x>0 and x%2!=0 ) , lst) )"
   ]
  },
  {
   "cell_type": "code",
   "execution_count": 31,
   "id": "6d8e2332",
   "metadata": {},
   "outputs": [
    {
     "name": "stdout",
     "output_type": "stream",
     "text": [
      "even positive numbers sum 50\n",
      "odd positive numbers sum 1\n",
      "negative numbers sum -6\n"
     ]
    }
   ],
   "source": [
    "print(\"even positive numbers sum\",sum(even_num))\n",
    "print(\"odd positive numbers sum\",sum(odd_num))\n",
    "print(\"negative numbers sum\",sum(neg_num))"
   ]
  },
  {
   "cell_type": "code",
   "execution_count": null,
   "id": "34d029c5",
   "metadata": {},
   "outputs": [],
   "source": []
  },
  {
   "cell_type": "code",
   "execution_count": 34,
   "id": "0635a526",
   "metadata": {},
   "outputs": [
    {
     "name": "stdout",
     "output_type": "stream",
     "text": [
      "Sum of negative numbers:  -16\n",
      "Sum of even numbers:  6\n",
      "Sum of odd numbers:  33\n"
     ]
    }
   ],
   "source": [
    "#Using List comprehension\n",
    "\n",
    "my_list = [-1,-5, 6,9, -10, 11, 13]\n",
    "negative_sum = sum([x for x in my_list if x<0])\n",
    "even_sum = sum([x for x in my_list if x>0 and x%2==0])\n",
    "odd_sum = sum([x for x in my_list if x> 0 and x%2!=0])\n",
    "\n",
    "print(\"Sum of negative numbers: \", negative_sum)\n",
    "print(\"Sum of even numbers: \", even_sum)\n",
    "print(\"Sum of odd numbers: \", odd_sum)\n",
    "\n"
   ]
  },
  {
   "cell_type": "code",
   "execution_count": null,
   "id": "f23c3c14",
   "metadata": {},
   "outputs": [],
   "source": []
  },
  {
   "cell_type": "markdown",
   "id": "cc7ce65d",
   "metadata": {},
   "source": [
    "## Python Program to Count Occurrences of Element in List"
   ]
  },
  {
   "cell_type": "code",
   "execution_count": null,
   "id": "7fd57c01",
   "metadata": {},
   "outputs": [],
   "source": [
    "lst = [1,3,4,5,3,3,5,6,1]"
   ]
  },
  {
   "cell_type": "code",
   "execution_count": 42,
   "id": "a60f7718",
   "metadata": {},
   "outputs": [],
   "source": [
    "#Using For Loop\n",
    "\n",
    "def occur_ele(n,l):\n",
    "    y=len(l)\n",
    "    cnt=0\n",
    "    \n",
    "    for i in range(y):\n",
    "        if l[i] == n:\n",
    "            cnt+=1\n",
    "    print(n,\" appears \", cnt , \"times \" )\n",
    "    "
   ]
  },
  {
   "cell_type": "code",
   "execution_count": 45,
   "id": "a0fa72e1",
   "metadata": {},
   "outputs": [],
   "source": [
    "#lst = [1,3,4,5,3,3,5,6,1]\n",
    "#n=7\n",
    "lst = [8, 6, 8, 10, 8, 20, 10, 8, 8]\n",
    "n=8"
   ]
  },
  {
   "cell_type": "code",
   "execution_count": 46,
   "id": "69ac63b3",
   "metadata": {},
   "outputs": [
    {
     "name": "stdout",
     "output_type": "stream",
     "text": [
      "8  appears  5 times \n"
     ]
    }
   ],
   "source": [
    "occur_ele(n,lst)"
   ]
  },
  {
   "cell_type": "code",
   "execution_count": null,
   "id": "5ec02814",
   "metadata": {},
   "outputs": [],
   "source": []
  },
  {
   "cell_type": "code",
   "execution_count": 47,
   "id": "6e884e5c",
   "metadata": {},
   "outputs": [],
   "source": [
    "#Count occurrences of an element in a list Using count()\n",
    "def countX(n,l):\n",
    "    return l.count(n)"
   ]
  },
  {
   "cell_type": "code",
   "execution_count": 48,
   "id": "b595f8b9",
   "metadata": {},
   "outputs": [
    {
     "data": {
      "text/plain": [
       "5"
      ]
     },
     "execution_count": 48,
     "metadata": {},
     "output_type": "execute_result"
    }
   ],
   "source": [
    "countX(n,lst)"
   ]
  },
  {
   "cell_type": "code",
   "execution_count": 50,
   "id": "25787831",
   "metadata": {},
   "outputs": [
    {
     "name": "stdout",
     "output_type": "stream",
     "text": [
      "8 appears  5  times\n"
     ]
    }
   ],
   "source": [
    "#Using List comprehension\n",
    "lst = [8, 6, 8, 10, 8, 20, 10, 8, 8]\n",
    "n=8\n",
    "x= [i for i in lst if i==n]\n",
    "print(n,\"appears \", len(x) ,\" times\")"
   ]
  },
  {
   "cell_type": "code",
   "execution_count": null,
   "id": "772db5dd",
   "metadata": {},
   "outputs": [],
   "source": []
  },
  {
   "cell_type": "code",
   "execution_count": 58,
   "id": "fb14c542",
   "metadata": {},
   "outputs": [],
   "source": [
    "#Using pandas library\n",
    "import pandas as pd\n",
    "n=8\n",
    "lst = [8, 6, 8, 10, 8, 20, 10, 8, 8]"
   ]
  },
  {
   "cell_type": "code",
   "execution_count": 69,
   "id": "3ae8f35b",
   "metadata": {},
   "outputs": [
    {
     "name": "stdout",
     "output_type": "stream",
     "text": [
      "8 appears  5  times\n",
      "5\n"
     ]
    }
   ],
   "source": [
    "count= pd.Series(lst).value_counts()\n",
    "print(n,\"appears \",count[8] ,\" times\")\n",
    "\n",
    "\n",
    "print(count.get(8))\n"
   ]
  },
  {
   "cell_type": "code",
   "execution_count": null,
   "id": "43147cca",
   "metadata": {},
   "outputs": [],
   "source": []
  },
  {
   "cell_type": "code",
   "execution_count": 71,
   "id": "22fda004",
   "metadata": {},
   "outputs": [],
   "source": [
    "# Using loops and dict in python\n",
    "\n",
    "sample_list = [\"a\", \"ab\", \"a\", \"abc\", \"ab\", \"ab\"]\n",
    "\n",
    "def countOccurrence(a):\n",
    "    d={}\n",
    "    \n",
    "    for i in a:\n",
    "        if i in d:\n",
    "            d[i] +=1\n",
    "        else:\n",
    "            d[i] = 1\n",
    "    return d"
   ]
  },
  {
   "cell_type": "code",
   "execution_count": 74,
   "id": "62c92073",
   "metadata": {},
   "outputs": [
    {
     "name": "stdout",
     "output_type": "stream",
     "text": [
      "{'a': 2, 'ab': 3, 'abc': 1}\n"
     ]
    }
   ],
   "source": [
    "s=countOccurrence(sample_list)\n",
    "print(s)"
   ]
  },
  {
   "cell_type": "code",
   "execution_count": 75,
   "id": "b112803f",
   "metadata": {},
   "outputs": [
    {
     "name": "stdout",
     "output_type": "stream",
     "text": [
      "2\n"
     ]
    }
   ],
   "source": [
    "print(s.get('a'))"
   ]
  },
  {
   "cell_type": "code",
   "execution_count": null,
   "id": "b008791e",
   "metadata": {},
   "outputs": [],
   "source": []
  },
  {
   "cell_type": "code",
   "execution_count": 78,
   "id": "2f7ff929",
   "metadata": {},
   "outputs": [
    {
     "name": "stdout",
     "output_type": "stream",
     "text": [
      "1\n",
      "{'a': 3, 'd': 3, 'c': 2, 'b': 2, 'e': 1}\n"
     ]
    }
   ],
   "source": [
    "#Using dictionary comprehension\n",
    "\n",
    "lis = ['a', 'd', 'd', 'c', 'a', 'b', 'b', 'a', 'c', 'd', 'e']\n",
    "occurrence = {item: lis.count(item) for item in lis}\n",
    "print(occurrence.get('e'))\n",
    "print(occurrence)\n"
   ]
  },
  {
   "cell_type": "code",
   "execution_count": null,
   "id": "8c254c6e",
   "metadata": {},
   "outputs": [],
   "source": []
  },
  {
   "cell_type": "markdown",
   "id": "fa20a73d",
   "metadata": {},
   "source": [
    "## Python Program to Find the Sum of Elements in a List using Recursion"
   ]
  },
  {
   "cell_type": "code",
   "execution_count": 79,
   "id": "a1649ef2",
   "metadata": {},
   "outputs": [],
   "source": [
    "lst = [8, 6, 8, 10, 8, 20, 10, 8, 8]\n",
    "def rec_sum(l):\n",
    "    \n",
    "    if len(l)==0:\n",
    "        return 0\n",
    "    else:\n",
    "        return l[0] + rec_sum (l[1:])"
   ]
  },
  {
   "cell_type": "code",
   "execution_count": 80,
   "id": "823eae7d",
   "metadata": {},
   "outputs": [
    {
     "data": {
      "text/plain": [
       "86"
      ]
     },
     "execution_count": 80,
     "metadata": {},
     "output_type": "execute_result"
    }
   ],
   "source": [
    "rec_sum(lst)"
   ]
  },
  {
   "cell_type": "code",
   "execution_count": 81,
   "id": "04f30833",
   "metadata": {},
   "outputs": [
    {
     "name": "stdout",
     "output_type": "stream",
     "text": [
      "86\n"
     ]
    }
   ],
   "source": [
    "#Normal for loop\n",
    "total=0\n",
    "for i in lst:\n",
    "    total +=i\n",
    "print(total)"
   ]
  },
  {
   "cell_type": "code",
   "execution_count": 5,
   "id": "45843bcf",
   "metadata": {},
   "outputs": [
    {
     "name": "stdout",
     "output_type": "stream",
     "text": [
      "21\n"
     ]
    }
   ],
   "source": [
    "#Normal while loop\n",
    "\n",
    "lst=[1,2,4,6,8]\n",
    "total=0\n",
    "i=0\n",
    "\n",
    "while i<len(lst):\n",
    "    total +=lst[i]\n",
    "    i +=1\n",
    "print(total)"
   ]
  },
  {
   "cell_type": "code",
   "execution_count": 18,
   "id": "4cbdcc22",
   "metadata": {},
   "outputs": [
    {
     "data": {
      "text/plain": [
       "21"
      ]
     },
     "execution_count": 18,
     "metadata": {},
     "output_type": "execute_result"
    }
   ],
   "source": [
    "#Using reduce\n",
    "\n",
    "from functools import reduce\n",
    "x =  reduce(lambda a,b: a+b,lst)\n",
    "x"
   ]
  },
  {
   "cell_type": "code",
   "execution_count": null,
   "id": "2831c501",
   "metadata": {},
   "outputs": [],
   "source": []
  },
  {
   "cell_type": "code",
   "execution_count": 25,
   "id": "732a0a92",
   "metadata": {},
   "outputs": [
    {
     "name": "stdout",
     "output_type": "stream",
     "text": [
      "108\n"
     ]
    }
   ],
   "source": [
    "#Using Enemearate\n",
    "numbers = [4, 8, 15, 16, 23, 42]\n",
    "total = 0\n",
    "for _, number in enumerate(numbers):\n",
    "    total += number\n",
    "print(total)\n"
   ]
  },
  {
   "cell_type": "code",
   "execution_count": 3,
   "id": "6e5e9380",
   "metadata": {},
   "outputs": [
    {
     "name": "stdout",
     "output_type": "stream",
     "text": [
      "sum of ele in list :  108\n"
     ]
    }
   ],
   "source": [
    "#List Comprehension\n",
    "numbers = [4, 8, 15, 16, 23, 42]\n",
    "print(\"sum of ele in list : \",sum([i for i in numbers]))"
   ]
  },
  {
   "cell_type": "code",
   "execution_count": null,
   "id": "e4335901",
   "metadata": {},
   "outputs": [],
   "source": []
  },
  {
   "cell_type": "markdown",
   "id": "b303b715",
   "metadata": {},
   "source": [
    "## Python Program to Find the Length of a List using Recursion"
   ]
  },
  {
   "cell_type": "code",
   "execution_count": 2,
   "id": "9eaef78e",
   "metadata": {},
   "outputs": [],
   "source": [
    "lst = [1,2,5,7,11,8]"
   ]
  },
  {
   "cell_type": "code",
   "execution_count": 3,
   "id": "3c866886",
   "metadata": {},
   "outputs": [],
   "source": [
    "#Using Recursion\n",
    "\n",
    "def rec_len(l):\n",
    "    if not l:\n",
    "        return 0\n",
    "    else:\n",
    "        return ( 1 + rec_len(l[1:]) )"
   ]
  },
  {
   "cell_type": "code",
   "execution_count": 4,
   "id": "99164fa9",
   "metadata": {},
   "outputs": [
    {
     "data": {
      "text/plain": [
       "6"
      ]
     },
     "execution_count": 4,
     "metadata": {},
     "output_type": "execute_result"
    }
   ],
   "source": [
    "rec_len(lst)"
   ]
  },
  {
   "cell_type": "code",
   "execution_count": null,
   "id": "e5f3e884",
   "metadata": {},
   "outputs": [],
   "source": []
  },
  {
   "cell_type": "code",
   "execution_count": 29,
   "id": "e744d55a",
   "metadata": {},
   "outputs": [],
   "source": [
    "#Using For Loop\n",
    "\n",
    "def len_list(l):\n",
    "    cnt=0\n",
    "    for i in lst:\n",
    "        cnt +=1\n",
    "    print(\"Length of given list: \", cnt)"
   ]
  },
  {
   "cell_type": "code",
   "execution_count": 30,
   "id": "6b664054",
   "metadata": {},
   "outputs": [
    {
     "name": "stdout",
     "output_type": "stream",
     "text": [
      "Length of given list:  6\n"
     ]
    }
   ],
   "source": [
    "len_list(lst)"
   ]
  },
  {
   "cell_type": "code",
   "execution_count": null,
   "id": "8ad62911",
   "metadata": {},
   "outputs": [],
   "source": []
  },
  {
   "cell_type": "code",
   "execution_count": 31,
   "id": "f2c78ecf",
   "metadata": {},
   "outputs": [
    {
     "name": "stdout",
     "output_type": "stream",
     "text": [
      "6\n"
     ]
    }
   ],
   "source": [
    "#Using sum function\n",
    "print(sum([1 for i in lst]))"
   ]
  },
  {
   "cell_type": "code",
   "execution_count": null,
   "id": "47ef72fb",
   "metadata": {},
   "outputs": [],
   "source": []
  },
  {
   "cell_type": "markdown",
   "id": "5a7c23f1",
   "metadata": {},
   "source": [
    "## Python Program to Merge Two Lists and Sort it"
   ]
  },
  {
   "cell_type": "code",
   "execution_count": 7,
   "id": "d41989b2",
   "metadata": {},
   "outputs": [],
   "source": [
    "lst1 = [5,2,3,4]\n",
    "lst2 = [6,99,111,222]\n",
    "\n",
    "def merge_list(l1,l2):\n",
    "    lf = []\n",
    "    for i in l1:\n",
    "        lf.append(i)\n",
    "    \n",
    "    for j in l2:\n",
    "        lf.append(j)\n",
    "        \n",
    "    s=lf[0]\n",
    "    n=len(lf)\n",
    "    for l in range(n):\n",
    "        for k in range(l+1,n):\n",
    "            if lf[l]>lf[k]:\n",
    "                lf[l],lf[k] = lf[k],lf[l]\n",
    "    print(lf)"
   ]
  },
  {
   "cell_type": "code",
   "execution_count": 8,
   "id": "cf9dba61",
   "metadata": {},
   "outputs": [
    {
     "name": "stdout",
     "output_type": "stream",
     "text": [
      "[2, 3, 4, 5, 6, 99, 111, 222]\n"
     ]
    }
   ],
   "source": [
    "merge_list(lst1,lst2)"
   ]
  },
  {
   "cell_type": "code",
   "execution_count": null,
   "id": "e7f0f2dc",
   "metadata": {},
   "outputs": [],
   "source": []
  },
  {
   "cell_type": "code",
   "execution_count": 3,
   "id": "9f5cb0f2",
   "metadata": {},
   "outputs": [
    {
     "name": "stdout",
     "output_type": "stream",
     "text": [
      "[1, 3, 5, 7, 11, 2, 4, 6, 8]\n",
      "9\n",
      "[3, 1, 5, 7, 11, 2, 4, 6, 8] i=  0 j=  1\n",
      "[5, 1, 3, 7, 11, 2, 4, 6, 8] i=  0 j=  2\n",
      "[7, 1, 3, 5, 11, 2, 4, 6, 8] i=  0 j=  3\n",
      "[11, 1, 3, 5, 7, 2, 4, 6, 8] i=  0 j=  4\n",
      "[11, 3, 1, 5, 7, 2, 4, 6, 8] i=  1 j=  2\n",
      "[11, 5, 1, 3, 7, 2, 4, 6, 8] i=  1 j=  3\n",
      "[11, 7, 1, 3, 5, 2, 4, 6, 8] i=  1 j=  4\n",
      "[11, 8, 1, 3, 5, 2, 4, 6, 7] i=  1 j=  8\n",
      "[11, 8, 3, 1, 5, 2, 4, 6, 7] i=  2 j=  3\n",
      "[11, 8, 5, 1, 3, 2, 4, 6, 7] i=  2 j=  4\n",
      "[11, 8, 6, 1, 3, 2, 4, 5, 7] i=  2 j=  7\n",
      "[11, 8, 7, 1, 3, 2, 4, 5, 6] i=  2 j=  8\n",
      "[11, 8, 7, 3, 1, 2, 4, 5, 6] i=  3 j=  4\n",
      "[11, 8, 7, 4, 1, 2, 3, 5, 6] i=  3 j=  6\n",
      "[11, 8, 7, 5, 1, 2, 3, 4, 6] i=  3 j=  7\n",
      "[11, 8, 7, 6, 1, 2, 3, 4, 5] i=  3 j=  8\n",
      "[11, 8, 7, 6, 2, 1, 3, 4, 5] i=  4 j=  5\n",
      "[11, 8, 7, 6, 3, 1, 2, 4, 5] i=  4 j=  6\n",
      "[11, 8, 7, 6, 4, 1, 2, 3, 5] i=  4 j=  7\n",
      "[11, 8, 7, 6, 5, 1, 2, 3, 4] i=  4 j=  8\n",
      "[11, 8, 7, 6, 5, 2, 1, 3, 4] i=  5 j=  6\n",
      "[11, 8, 7, 6, 5, 3, 1, 2, 4] i=  5 j=  7\n",
      "[11, 8, 7, 6, 5, 4, 1, 2, 3] i=  5 j=  8\n",
      "[11, 8, 7, 6, 5, 4, 2, 1, 3] i=  6 j=  7\n",
      "[11, 8, 7, 6, 5, 4, 3, 1, 2] i=  6 j=  8\n",
      "[11, 8, 7, 6, 5, 4, 3, 2, 1] i=  7 j=  8\n"
     ]
    }
   ],
   "source": [
    "#Visulizing list\n",
    "\n",
    "l1= [1,3,5,7,11]\n",
    "l2= [2,4,6,8]\n",
    "\n",
    "\n",
    "l1.extend(l2)\n",
    "print(l1)\n",
    "n=len(l1)\n",
    "print(n)\n",
    "\n",
    "\n",
    "\n",
    "for i in range(n):\n",
    "    for j in range(i+1,n):\n",
    "        if l1[i]<l1[j]:\n",
    "            l1[i],l1[j]=l1[j],l1[i]\n",
    "            print(l1,'i= ',i,'j= ',j)\n"
   ]
  },
  {
   "cell_type": "code",
   "execution_count": null,
   "id": "96c5ecbe",
   "metadata": {},
   "outputs": [],
   "source": []
  },
  {
   "cell_type": "code",
   "execution_count": null,
   "id": "46a2d4ee",
   "metadata": {},
   "outputs": [],
   "source": []
  },
  {
   "cell_type": "code",
   "execution_count": null,
   "id": "cd2b2db4",
   "metadata": {},
   "outputs": [],
   "source": []
  },
  {
   "cell_type": "code",
   "execution_count": 16,
   "id": "3eac8c01",
   "metadata": {},
   "outputs": [],
   "source": [
    "lst1 = [5,2,3,4]\n",
    "lst2 = [6,99,111,222]"
   ]
  },
  {
   "cell_type": "code",
   "execution_count": 17,
   "id": "7638b9a8",
   "metadata": {},
   "outputs": [
    {
     "name": "stdout",
     "output_type": "stream",
     "text": [
      "[5, 2, 3, 4, 6, 99, 111, 222]\n"
     ]
    }
   ],
   "source": [
    "#Using Extend\n",
    "lst1.extend(lst2)\n",
    "print(lst1)"
   ]
  },
  {
   "cell_type": "code",
   "execution_count": null,
   "id": "cd9dd3c8",
   "metadata": {},
   "outputs": [],
   "source": []
  },
  {
   "cell_type": "code",
   "execution_count": 18,
   "id": "2db1b836",
   "metadata": {},
   "outputs": [
    {
     "name": "stdout",
     "output_type": "stream",
     "text": [
      "[-9, 1, 2, 4, 5, 5, 6, 11, 13]\n"
     ]
    }
   ],
   "source": [
    "#Using the sorted() function\n",
    "list1= [5,-9,1,4]\n",
    "list2= [11,5,6,13,2]\n",
    "\n",
    "print(sorted(list1+list2))"
   ]
  },
  {
   "cell_type": "code",
   "execution_count": null,
   "id": "121dccc5",
   "metadata": {},
   "outputs": [],
   "source": []
  },
  {
   "cell_type": "code",
   "execution_count": null,
   "id": "23c05d1b",
   "metadata": {},
   "outputs": [],
   "source": []
  },
  {
   "cell_type": "markdown",
   "id": "55220660",
   "metadata": {},
   "source": [
    "## Python Program to Remove Duplicates from a List"
   ]
  },
  {
   "cell_type": "code",
   "execution_count": 5,
   "id": "0ac49dab",
   "metadata": {},
   "outputs": [
    {
     "data": {
      "text/plain": [
       "[1, 3, 4, 7, 8]"
      ]
     },
     "execution_count": 5,
     "metadata": {},
     "output_type": "execute_result"
    }
   ],
   "source": [
    "lst = [1,3,3,4,3,1,4,1,7,8]\n",
    "\n",
    "#Using set conversion\n",
    "\n",
    "set1 = set()\n",
    "lstf = []\n",
    "for i in lst:\n",
    "    set1.add(i)\n",
    "for i in set1:\n",
    "    lstf.append(i)\n",
    "lstf"
   ]
  },
  {
   "cell_type": "code",
   "execution_count": 14,
   "id": "a75dca3e",
   "metadata": {},
   "outputs": [
    {
     "name": "stdout",
     "output_type": "stream",
     "text": [
      "[1, 3, 4, 7, 8]\n"
     ]
    }
   ],
   "source": [
    "#In Just One line: Same as upper using set-list conversion\n",
    "print(list(set(lst)))"
   ]
  },
  {
   "cell_type": "code",
   "execution_count": null,
   "id": "781b3664",
   "metadata": {},
   "outputs": [],
   "source": []
  },
  {
   "cell_type": "code",
   "execution_count": 12,
   "id": "5aaa565b",
   "metadata": {},
   "outputs": [],
   "source": [
    "#using not in on list i.e temp list\n",
    "\n",
    "def remove_dup(l):\n",
    "    \n",
    "    newlst=[]\n",
    "    for i in l:\n",
    "        if i not in newlst:\n",
    "            newlst.append(i)\n",
    "    return (newlst)\n"
   ]
  },
  {
   "cell_type": "code",
   "execution_count": 13,
   "id": "cb1e5899",
   "metadata": {},
   "outputs": [
    {
     "data": {
      "text/plain": [
       "[1, 3, 4, 7, 8]"
      ]
     },
     "execution_count": 13,
     "metadata": {},
     "output_type": "execute_result"
    }
   ],
   "source": [
    "lst = [1,3,3,4,3,1,4,1,7,8]\n",
    "remove_dup(lst)"
   ]
  },
  {
   "cell_type": "code",
   "execution_count": null,
   "id": "79519ba2",
   "metadata": {},
   "outputs": [],
   "source": []
  },
  {
   "cell_type": "code",
   "execution_count": 15,
   "id": "87896498",
   "metadata": {},
   "outputs": [
    {
     "name": "stdout",
     "output_type": "stream",
     "text": [
      "['a', 'x', 'y', 'b', 'c']\n"
     ]
    }
   ],
   "source": [
    "#The dict.fromkeys() methods return keys that are unique and helps to get rid of the duplicate values\n",
    "my_list = ['a','x','a','y','a','b','b','c']\n",
    "my_final_list = dict.fromkeys(my_list)\n",
    "print(list(my_final_list))\n"
   ]
  },
  {
   "cell_type": "code",
   "execution_count": null,
   "id": "941cba6f",
   "metadata": {},
   "outputs": [],
   "source": []
  },
  {
   "cell_type": "code",
   "execution_count": null,
   "id": "76cffcb6",
   "metadata": {},
   "outputs": [],
   "source": []
  },
  {
   "cell_type": "code",
   "execution_count": 2,
   "id": "ae2f1d07",
   "metadata": {},
   "outputs": [
    {
     "name": "stdout",
     "output_type": "stream",
     "text": [
      "[1, 3, 4, 7, 8]\n"
     ]
    }
   ],
   "source": [
    "lst = [1,3,3,4,3,1,4,1,7,8]\n",
    "\n",
    "#Using set comprehension\n",
    "\n",
    "s = {i for i in lst}\n",
    "#print(s)\n",
    "l = [i for i in s]\n",
    "print(l)\n"
   ]
  },
  {
   "cell_type": "code",
   "execution_count": null,
   "id": "ba5a3fd0",
   "metadata": {},
   "outputs": [],
   "source": []
  },
  {
   "cell_type": "code",
   "execution_count": null,
   "id": "7ff25cd0",
   "metadata": {},
   "outputs": [],
   "source": []
  },
  {
   "cell_type": "markdown",
   "id": "89f85656",
   "metadata": {},
   "source": [
    "## Python Program to Swap the First and Last Element in a List"
   ]
  },
  {
   "cell_type": "code",
   "execution_count": null,
   "id": "744cb0b9",
   "metadata": {},
   "outputs": [],
   "source": []
  },
  {
   "cell_type": "code",
   "execution_count": 3,
   "id": "edea9688",
   "metadata": {},
   "outputs": [
    {
     "data": {
      "text/plain": [
       "[3, 5, 'a', [1, 4], 1]"
      ]
     },
     "execution_count": 3,
     "metadata": {},
     "output_type": "execute_result"
    }
   ],
   "source": [
    "#1st Approach\n",
    "\n",
    "ls = [1,5,'a',[1,4],3]\n",
    "ls[0],ls[-1] = ls[-1],ls[0]\n",
    "ls"
   ]
  },
  {
   "cell_type": "code",
   "execution_count": null,
   "id": "c167bbc6",
   "metadata": {},
   "outputs": [],
   "source": []
  },
  {
   "cell_type": "code",
   "execution_count": 6,
   "id": "6a7db86d",
   "metadata": {},
   "outputs": [
    {
     "data": {
      "text/plain": [
       "[3, 5, 'a', [1, 4], 1]"
      ]
     },
     "execution_count": 6,
     "metadata": {},
     "output_type": "execute_result"
    }
   ],
   "source": [
    "#2nd Approach\n",
    "ls = [1,5,'a',[1,4],3]\n",
    "frst = ls.pop(0)\n",
    "last = ls.pop(-1)\n",
    "\n",
    "ls.insert(0,last)\n",
    "ls.append(frst)\n",
    "\n",
    "ls"
   ]
  },
  {
   "cell_type": "code",
   "execution_count": null,
   "id": "282883eb",
   "metadata": {},
   "outputs": [],
   "source": []
  },
  {
   "cell_type": "markdown",
   "id": "9afc56ff",
   "metadata": {},
   "source": [
    "## Python Program to Sort a List According to the Second Element in Sublist"
   ]
  },
  {
   "cell_type": "code",
   "execution_count": 31,
   "id": "0275003f",
   "metadata": {},
   "outputs": [],
   "source": [
    "lst = [(700, 6), (900, 3), (400, 12), (800, 9)]"
   ]
  },
  {
   "cell_type": "code",
   "execution_count": 13,
   "id": "3c111002",
   "metadata": {},
   "outputs": [
    {
     "name": "stdout",
     "output_type": "stream",
     "text": [
      "[(900, 3), (700, 6), (800, 9), (400, 12)]\n"
     ]
    }
   ],
   "source": [
    "#Using Sort function\n",
    "\n",
    "lst.sort(key = lambda x: x[1])\n",
    "print(lst)"
   ]
  },
  {
   "cell_type": "code",
   "execution_count": null,
   "id": "3b3884e4",
   "metadata": {},
   "outputs": [],
   "source": []
  },
  {
   "cell_type": "code",
   "execution_count": 16,
   "id": "0372844b",
   "metadata": {},
   "outputs": [
    {
     "name": "stdout",
     "output_type": "stream",
     "text": [
      "Orignal List:  [(1200, 6), (100, 3), (50, 12), (300, 9)]\n",
      "Sorted List:  [(100, 3), (1200, 6), (300, 9), (50, 12)]\n"
     ]
    }
   ],
   "source": [
    "# Tuple\n",
    "lst = [(1200, 6), (100, 3), (50, 12), (300, 9)]\n",
    "print(\"Orignal List: \", lst)\n",
    "# Function to sort \n",
    "def Sort(lst): \n",
    "    # reverse = None (Sorts in Ascending order) \n",
    "    return(sorted(lst, key = lambda a: a[1]))  \n",
    " \n",
    "# sorted list of tuples\n",
    "print(\"Sorted List: \", Sort(lst)) "
   ]
  },
  {
   "cell_type": "code",
   "execution_count": null,
   "id": "462a02ac",
   "metadata": {},
   "outputs": [],
   "source": []
  },
  {
   "cell_type": "code",
   "execution_count": 32,
   "id": "47f44060",
   "metadata": {},
   "outputs": [
    {
     "data": {
      "text/plain": [
       "[(700, 6), (900, 3), (400, 12), (800, 9)]"
      ]
     },
     "execution_count": 32,
     "metadata": {},
     "output_type": "execute_result"
    }
   ],
   "source": [
    "lst"
   ]
  },
  {
   "cell_type": "code",
   "execution_count": 26,
   "id": "85fa8e2e",
   "metadata": {},
   "outputs": [],
   "source": [
    "#Using Loop\n",
    "for i in range(0,len(lst)):\n",
    "    for j in range(0,len(lst)-i-1):\n",
    "        if lst[j][1] > lst[j+1][1]:\n",
    "            temp= lst[j]\n",
    "            lst[j] = lst[j+1]\n",
    "            lst[j+1]= temp\n",
    "            "
   ]
  },
  {
   "cell_type": "code",
   "execution_count": 27,
   "id": "7ff5a7fa",
   "metadata": {},
   "outputs": [
    {
     "name": "stdout",
     "output_type": "stream",
     "text": [
      "Sorted List :  [(900, 3), (700, 6), (800, 9), (400, 12)]\n"
     ]
    }
   ],
   "source": [
    "print(\"Sorted List : \", str(lst))"
   ]
  },
  {
   "cell_type": "code",
   "execution_count": null,
   "id": "0a4e977b",
   "metadata": {},
   "outputs": [],
   "source": []
  },
  {
   "cell_type": "code",
   "execution_count": 28,
   "id": "3a8238ec",
   "metadata": {},
   "outputs": [],
   "source": [
    "#Using Sorted function\n",
    "def Sort(sub_li):\n",
    "    return(sorted(sub_li, key = lambda x: x[1]))  "
   ]
  },
  {
   "cell_type": "code",
   "execution_count": 33,
   "id": "2fa1606e",
   "metadata": {},
   "outputs": [
    {
     "name": "stdout",
     "output_type": "stream",
     "text": [
      "[(900, 3), (700, 6), (800, 9), (400, 12)]\n"
     ]
    }
   ],
   "source": [
    "print(Sort(lst))"
   ]
  },
  {
   "cell_type": "code",
   "execution_count": null,
   "id": "fd6443e3",
   "metadata": {},
   "outputs": [],
   "source": []
  },
  {
   "cell_type": "markdown",
   "id": "af75f8df",
   "metadata": {},
   "source": [
    "## Python Program to Return the Length of the Longest Word from the List of Words"
   ]
  },
  {
   "cell_type": "code",
   "execution_count": 37,
   "id": "b8da6b95",
   "metadata": {},
   "outputs": [],
   "source": [
    "a = ['one', 'two', 'three', 'four'] "
   ]
  },
  {
   "cell_type": "code",
   "execution_count": 21,
   "id": "df6480e4",
   "metadata": {},
   "outputs": [
    {
     "name": "stdout",
     "output_type": "stream",
     "text": [
      "Element:  three  & Length : 5\n"
     ]
    }
   ],
   "source": [
    "# Using Loop iterating :\n",
    "\n",
    "maxl = len(a[0])\n",
    "for i in a:\n",
    "    if maxl < len(i):\n",
    "        maxl = len(i)\n",
    "        print(\"Element: \", i,\" & Length :\",maxl)"
   ]
  },
  {
   "cell_type": "code",
   "execution_count": null,
   "id": "bab240eb",
   "metadata": {},
   "outputs": [],
   "source": []
  },
  {
   "cell_type": "code",
   "execution_count": 35,
   "id": "de5ec4fd",
   "metadata": {},
   "outputs": [],
   "source": [
    "# Using Sort\n",
    "word_len= []\n",
    "def sort_maxword(l):\n",
    "    for i in l:\n",
    "        word_len.append((len(i),i))\n",
    "    word_len.sort(key= lambda x:x[0], reverse=True)\n",
    "    return word_len[0][0],word_len[0][-1]"
   ]
  },
  {
   "cell_type": "code",
   "execution_count": 44,
   "id": "53e517f1",
   "metadata": {},
   "outputs": [
    {
     "data": {
      "text/plain": [
       "(5, 'three')"
      ]
     },
     "execution_count": 44,
     "metadata": {},
     "output_type": "execute_result"
    }
   ],
   "source": [
    "sort_maxword(a)"
   ]
  },
  {
   "cell_type": "code",
   "execution_count": null,
   "id": "8de03cc0",
   "metadata": {},
   "outputs": [],
   "source": []
  },
  {
   "cell_type": "code",
   "execution_count": 50,
   "id": "786e3064",
   "metadata": {},
   "outputs": [],
   "source": [
    "word_len= []\n",
    "def sort_maxword(l):\n",
    "    for i in l:\n",
    "        word_len.append((len(i),i))\n",
    "    word_len.sort()\n",
    "    return word_len[-1][0],word_len[-1][1]"
   ]
  },
  {
   "cell_type": "code",
   "execution_count": 43,
   "id": "48d51ef9",
   "metadata": {},
   "outputs": [
    {
     "data": {
      "text/plain": [
       "(5, 'three')"
      ]
     },
     "execution_count": 43,
     "metadata": {},
     "output_type": "execute_result"
    }
   ],
   "source": [
    "sort_maxword(a)"
   ]
  },
  {
   "cell_type": "code",
   "execution_count": 51,
   "id": "72620f17",
   "metadata": {},
   "outputs": [
    {
     "data": {
      "text/plain": [
       "(5, 'abcde')"
      ]
     },
     "execution_count": 51,
     "metadata": {},
     "output_type": "execute_result"
    }
   ],
   "source": [
    "my_list = [\"ab\", \"abc\", \"abcd\", \"abcde\"]\n",
    "sort_maxword(my_list)"
   ]
  },
  {
   "cell_type": "code",
   "execution_count": null,
   "id": "72488a7a",
   "metadata": {},
   "outputs": [],
   "source": []
  },
  {
   "cell_type": "markdown",
   "id": "a4b1ccbf",
   "metadata": {},
   "source": [
    "## Python Program to Find the Number Occurring Odd Number of Times in a List"
   ]
  },
  {
   "cell_type": "code",
   "execution_count": 108,
   "id": "386a7b82",
   "metadata": {},
   "outputs": [],
   "source": [
    "#Using Dictionary\n",
    "b = [1,3,1,3,5,5,7,7,7,1,89]\n",
    "\n",
    "def occ(s):\n",
    "    d={}\n",
    "    for i in s:\n",
    "        if i in d:\n",
    "            d[i]+= 1\n",
    "        else:\n",
    "            d[i] = 1\n",
    "    \n",
    "    for j in d.keys():\n",
    "        if d[j]%2==1:\n",
    "            print(j,end=' ')\n"
   ]
  },
  {
   "cell_type": "code",
   "execution_count": 109,
   "id": "8f309b9d",
   "metadata": {},
   "outputs": [
    {
     "name": "stdout",
     "output_type": "stream",
     "text": [
      "1 7 89 "
     ]
    }
   ],
   "source": [
    "occ(b)"
   ]
  },
  {
   "cell_type": "code",
   "execution_count": null,
   "id": "47882fec",
   "metadata": {},
   "outputs": [],
   "source": []
  },
  {
   "cell_type": "code",
   "execution_count": 119,
   "id": "e7186544",
   "metadata": {},
   "outputs": [
    {
     "name": "stdout",
     "output_type": "stream",
     "text": [
      "2\n"
     ]
    }
   ],
   "source": [
    "# Find the single number\n",
    "# which occurs odd numbers and other numbers occur even number\n",
    "\n",
    "def odd_occurrence(arr):\n",
    "    result = 0\n",
    "\n",
    "    for element in arr:\n",
    "        # XOR\n",
    "        result = result ^ element\n",
    "    return result\n",
    " \n",
    "# Test data\n",
    "num1 = [ 4, 5, 4, 5, 2, 2, 3, 3, 2, 4, 4 ]\n",
    " \n",
    "print(odd_occurrence(num1))\n"
   ]
  },
  {
   "cell_type": "code",
   "execution_count": null,
   "id": "98f5a573",
   "metadata": {},
   "outputs": [],
   "source": []
  },
  {
   "cell_type": "markdown",
   "id": "4f9ccc55",
   "metadata": {},
   "source": [
    "## Python Program to Generate Random Numbers from 1 to 20 and Append Them to the List"
   ]
  },
  {
   "cell_type": "code",
   "execution_count": 135,
   "id": "e8ef2cc7",
   "metadata": {},
   "outputs": [
    {
     "name": "stdout",
     "output_type": "stream",
     "text": [
      "[10, 2, 10, 1, 4, 7, 2, 10, 1, 8, 5, 10, 7, 5, 4, 6, 8, 1, 2]\n"
     ]
    }
   ],
   "source": [
    "import random\n",
    "a=[]\n",
    "for i in range(1,20):\n",
    "    a.append(random.randint(1,10))\n",
    "print(a)"
   ]
  },
  {
   "cell_type": "code",
   "execution_count": null,
   "id": "a80a07cf",
   "metadata": {},
   "outputs": [],
   "source": []
  },
  {
   "cell_type": "code",
   "execution_count": 137,
   "id": "f5792f28",
   "metadata": {},
   "outputs": [
    {
     "name": "stdout",
     "output_type": "stream",
     "text": [
      "[15, 18, 6, 10, 2]\n"
     ]
    }
   ],
   "source": [
    "import random\n",
    "#Generate 5 random numbers between 1 and 20\n",
    "randomlist = random.sample(range(1, 20), 5)\n",
    "print(randomlist)"
   ]
  },
  {
   "cell_type": "code",
   "execution_count": null,
   "id": "cbce0b9d",
   "metadata": {},
   "outputs": [],
   "source": []
  },
  {
   "cell_type": "markdown",
   "id": "015ba63f",
   "metadata": {},
   "source": [
    "## Python Program to Remove the ith Occurrence of the Given Word in a List"
   ]
  },
  {
   "cell_type": "code",
   "execution_count": 194,
   "id": "10dd18c1",
   "metadata": {},
   "outputs": [],
   "source": [
    "# Function to remove Ith word: 1st Method \n",
    "\n",
    "def RemoveIthWord(list, word, N):\n",
    "    count = 0\n",
    "     \n",
    "    for i in range(0, len(list)):\n",
    "        if (list[i] == word):\n",
    "            count = count + 1\n",
    "             \n",
    "            if(count == N):\n",
    "                del(list[i])\n",
    "                return True\n",
    "                 \n",
    "    return False\n"
   ]
  },
  {
   "cell_type": "code",
   "execution_count": 203,
   "id": "b1d72a5b",
   "metadata": {},
   "outputs": [
    {
     "name": "stdout",
     "output_type": "stream",
     "text": [
      "Updated list is:  ['for', 'geeks']\n"
     ]
    }
   ],
   "source": [
    "# Driver code\n",
    "list = ['geeks', 'for', 'geeks']\n",
    "word = 'geeks'\n",
    "N = 1\n",
    " \n",
    "flag = RemoveIthWord(list, word, N)\n",
    " \n",
    "if (flag == True):\n",
    "    print(\"Updated list is: \", list)\n",
    "else:\n",
    "    print(\"Item not Updated: \",list)"
   ]
  },
  {
   "cell_type": "code",
   "execution_count": null,
   "id": "95ea9ee9",
   "metadata": {},
   "outputs": [],
   "source": []
  },
  {
   "cell_type": "code",
   "execution_count": null,
   "id": "fda3e98b",
   "metadata": {},
   "outputs": [],
   "source": []
  },
  {
   "cell_type": "code",
   "execution_count": 207,
   "id": "4e2aabc6",
   "metadata": {},
   "outputs": [],
   "source": [
    "#2nd Method:\n",
    "\n",
    "def rem_word(lst,word,N):\n",
    "    cnt=0\n",
    "    newlist= []\n",
    "    for i in lst:\n",
    "        if (i==word):\n",
    "            cnt+=1\n",
    "            if (cnt!=N):\n",
    "                newlist.append(i)\n",
    "        else:\n",
    "            newlist.append(i)\n",
    "    #lst=newlist\n",
    "    \n",
    "    if cnt==0:\n",
    "        print(\"Not found\")\n",
    "    else:\n",
    "        print(\"updated list: \", newlist)\n",
    "        \n",
    "    return newlist\n",
    "    "
   ]
  },
  {
   "cell_type": "code",
   "execution_count": 214,
   "id": "2f72e5ff",
   "metadata": {},
   "outputs": [
    {
     "name": "stdout",
     "output_type": "stream",
     "text": [
      "Not found\n"
     ]
    },
    {
     "data": {
      "text/plain": [
       "['geeks', 'for', 'geeks']"
      ]
     },
     "execution_count": 214,
     "metadata": {},
     "output_type": "execute_result"
    }
   ],
   "source": [
    "list = [\"geeks\", \"for\", \"geeks\"]\n",
    "word = \"ok\"\n",
    "N = 5\n",
    " \n",
    "rem_word(list, word, N)"
   ]
  },
  {
   "cell_type": "code",
   "execution_count": null,
   "id": "e5fc2ae9",
   "metadata": {},
   "outputs": [],
   "source": []
  },
  {
   "cell_type": "code",
   "execution_count": 215,
   "id": "8a0fb10b",
   "metadata": {},
   "outputs": [],
   "source": [
    "#3rd Method:\n",
    "\n",
    "def pop_word(lst,word,N):\n",
    "    cnt=0\n",
    "    index=0\n",
    "    \n",
    "    for i in lst:\n",
    "        index+=1\n",
    "        if (i==word):\n",
    "            cnt+=1\n",
    "            \n",
    "            if(cnt==N):\n",
    "                lst.pop(index-1)\n",
    "    return lst"
   ]
  },
  {
   "cell_type": "code",
   "execution_count": 218,
   "id": "270fc182",
   "metadata": {},
   "outputs": [
    {
     "name": "stdout",
     "output_type": "stream",
     "text": [
      "new list is : ['he', 'ankit', 'is', 'raj', 'is', 'ankit raj']\n"
     ]
    }
   ],
   "source": [
    "# Driver code\n",
    "list1 = [\"he\",\"is\",\"ankit\",\"is\",\"raj\",\"is\",\"ankit raj\"]\n",
    "word=\"is\"\n",
    "n1=1\n",
    " \n",
    "print(\"new list is :\",pop_word(list1,word,n1))"
   ]
  },
  {
   "cell_type": "code",
   "execution_count": null,
   "id": "f3c8f3e5",
   "metadata": {},
   "outputs": [],
   "source": []
  },
  {
   "cell_type": "markdown",
   "id": "7688d49c",
   "metadata": {},
   "source": [
    "## Python Program to Find the Cumulative Sum of a List"
   ]
  },
  {
   "cell_type": "code",
   "execution_count": 228,
   "id": "cc248150",
   "metadata": {},
   "outputs": [],
   "source": [
    "def cumm_sum(l):\n",
    "    a=[]\n",
    "    sum=0\n",
    "    for i in l:\n",
    "        sum+=i\n",
    "        a.append(sum)\n",
    "    return a\n"
   ]
  },
  {
   "cell_type": "code",
   "execution_count": 229,
   "id": "d9492265",
   "metadata": {},
   "outputs": [
    {
     "data": {
      "text/plain": [
       "[10, 25, 45, 70, 100]"
      ]
     },
     "execution_count": 229,
     "metadata": {},
     "output_type": "execute_result"
    }
   ],
   "source": [
    "cumm_sum(x)"
   ]
  },
  {
   "cell_type": "code",
   "execution_count": 230,
   "id": "4ae53551",
   "metadata": {},
   "outputs": [
    {
     "data": {
      "text/plain": [
       "[4, 14, 29, 47, 67]"
      ]
     },
     "execution_count": 230,
     "metadata": {},
     "output_type": "execute_result"
    }
   ],
   "source": [
    "cumm_sum([4, 10, 15, 18, 20])"
   ]
  },
  {
   "cell_type": "code",
   "execution_count": null,
   "id": "fdcb1492",
   "metadata": {},
   "outputs": [],
   "source": []
  },
  {
   "cell_type": "code",
   "execution_count": 3,
   "id": "8a74100f",
   "metadata": {},
   "outputs": [
    {
     "name": "stdout",
     "output_type": "stream",
     "text": [
      "[10, 30, 60, 100, 150, 210, 217]\n",
      "[1, 3, 6, 10, 15]\n",
      "[0, 1, 3, 6, 10, 15]\n"
     ]
    }
   ],
   "source": [
    "def nums_cumulative_sum(nums_list):\n",
    "    return [sum(nums_list[:i+1]) for i in range(len(nums_list))]\n",
    "\n",
    "print(nums_cumulative_sum([10, 20, 30, 40, 50, 60, 7]))\n",
    "print(nums_cumulative_sum([1, 2, 3, 4, 5]))\n",
    "print(nums_cumulative_sum([0, 1, 2, 3, 4, 5]))\n"
   ]
  },
  {
   "cell_type": "code",
   "execution_count": null,
   "id": "92122ccd",
   "metadata": {},
   "outputs": [],
   "source": []
  },
  {
   "cell_type": "markdown",
   "id": "96233606",
   "metadata": {},
   "source": [
    "## Python Program to Find the Union of Two Lists"
   ]
  },
  {
   "cell_type": "code",
   "execution_count": 8,
   "id": "251863b8",
   "metadata": {},
   "outputs": [],
   "source": [
    "list1=[1,2,3,4,5,6]\n",
    "list2=[2,4,6,8,10,12]"
   ]
  },
  {
   "cell_type": "code",
   "execution_count": 16,
   "id": "22d0b1f6",
   "metadata": {},
   "outputs": [],
   "source": [
    "#Using extend function\n",
    "\n",
    "def find_union(list1,list2):\n",
    "    newlst=[]\n",
    "    newlst.extend(list1)\n",
    "    for i in list2:\n",
    "        if i not in list1:\n",
    "            newlst.append(i)\n",
    "    print(newlst)"
   ]
  },
  {
   "cell_type": "code",
   "execution_count": 17,
   "id": "03431e3c",
   "metadata": {},
   "outputs": [
    {
     "name": "stdout",
     "output_type": "stream",
     "text": [
      "[1, 2, 3, 4, 5, 6, 8, 10, 12]\n"
     ]
    }
   ],
   "source": [
    "find_union(list1,list2)"
   ]
  },
  {
   "cell_type": "code",
   "execution_count": 18,
   "id": "1329ca83",
   "metadata": {},
   "outputs": [
    {
     "name": "stdout",
     "output_type": "stream",
     "text": [
      "[23, 15, 2, 14, 14, 16, 20, 52, 48, 12, 26, 32, 47, 54]\n"
     ]
    }
   ],
   "source": [
    "lst1 = [23, 15, 2, 14, 14, 16, 20 ,52]\n",
    "lst2 = [2, 48, 15, 12, 26, 32, 47, 54]\n",
    "find_union(lst1,lst2)"
   ]
  },
  {
   "cell_type": "code",
   "execution_count": null,
   "id": "03108d5d",
   "metadata": {},
   "outputs": [],
   "source": []
  },
  {
   "cell_type": "code",
   "execution_count": null,
   "id": "e36e8e98",
   "metadata": {},
   "outputs": [],
   "source": []
  },
  {
   "cell_type": "code",
   "execution_count": 15,
   "id": "99f273b6",
   "metadata": {},
   "outputs": [
    {
     "name": "stdout",
     "output_type": "stream",
     "text": [
      "Union of the lists is: [1, 2, 3, 4, 5, 6, 8, 10, 12]\n"
     ]
    }
   ],
   "source": [
    "#Using Set()\n",
    "\n",
    "set1 = set(list1)\n",
    "set2 = set(list2)\n",
    "newList = list(set1.union(set2))\n",
    "print(\"Union of the lists is:\", newList)"
   ]
  },
  {
   "cell_type": "code",
   "execution_count": null,
   "id": "29de63cf",
   "metadata": {},
   "outputs": [],
   "source": []
  },
  {
   "cell_type": "code",
   "execution_count": 21,
   "id": "44e55f5a",
   "metadata": {},
   "outputs": [
    {
     "name": "stdout",
     "output_type": "stream",
     "text": [
      "[2, 4, 5, 6, 9, 12, 14, 15, 16, 20, 23, 25, 26, 32, 47, 48, 52, 54, 59, 64, 78]\n"
     ]
    }
   ],
   "source": [
    "# Union of three lists\n",
    "def Union(lst1, lst2, lst3):\n",
    "    final_list = list(set().union(lst1, lst2, lst3))\n",
    "    return final_list\n",
    " \n",
    "# Driver Code\n",
    "lst1 = [23, 15, 2, 14, 14, 16, 20 ,52]\n",
    "lst2 = [2, 48, 15, 12, 26, 32, 47, 54]\n",
    "lst3 = [4, 78, 5, 6, 9, 25, 64, 32, 59]\n",
    "print(Union(lst1, lst2, lst3))"
   ]
  },
  {
   "cell_type": "code",
   "execution_count": null,
   "id": "e01b35b8",
   "metadata": {},
   "outputs": [],
   "source": []
  },
  {
   "cell_type": "code",
   "execution_count": 19,
   "id": "538d6c6e",
   "metadata": {},
   "outputs": [
    {
     "name": "stdout",
     "output_type": "stream",
     "text": [
      "[2, 2, 12, 14, 14, 15, 15, 16, 20, 23, 26, 32, 47, 48, 52, 54]\n"
     ]
    }
   ],
   "source": [
    "# Maintained repetition and order\n",
    "def Union(lst1, lst2):\n",
    "    final_list = sorted(lst1 + lst2)\n",
    "    return final_list\n",
    " \n",
    "# Driver Code\n",
    "lst1 = [23, 15, 2, 14, 14, 16, 20 ,52]\n",
    "lst2 = [2, 48, 15, 12, 26, 32, 47, 54]\n",
    "print(Union(lst1, lst2))"
   ]
  },
  {
   "cell_type": "code",
   "execution_count": null,
   "id": "2c369168",
   "metadata": {},
   "outputs": [],
   "source": []
  },
  {
   "cell_type": "markdown",
   "id": "db4fbcca",
   "metadata": {},
   "source": [
    "## Python Program to Find the Intersection of Two Lists"
   ]
  },
  {
   "cell_type": "code",
   "execution_count": 1,
   "id": "5e914884",
   "metadata": {},
   "outputs": [],
   "source": [
    "lst1 = [23, 15, 2, 14, 14, 16, 20 ,52]\n",
    "lst2 = [2, 48, 15, 12, 26, 32, 47, 54]"
   ]
  },
  {
   "cell_type": "code",
   "execution_count": 3,
   "id": "30a3b098",
   "metadata": {},
   "outputs": [
    {
     "data": {
      "text/plain": [
       "[15, 2]"
      ]
     },
     "execution_count": 3,
     "metadata": {},
     "output_type": "execute_result"
    }
   ],
   "source": [
    "l= [i for i in lst1 for j in lst2 if i==j]\n",
    "l"
   ]
  },
  {
   "cell_type": "code",
   "execution_count": null,
   "id": "62c96104",
   "metadata": {},
   "outputs": [],
   "source": []
  },
  {
   "cell_type": "code",
   "execution_count": 4,
   "id": "163ff188",
   "metadata": {},
   "outputs": [],
   "source": [
    "def intersection_list(list1, list2):  \n",
    "    list3 = [i for i in list1 if i in list2]  \n",
    "    return list3  "
   ]
  },
  {
   "cell_type": "code",
   "execution_count": 5,
   "id": "928a66b5",
   "metadata": {},
   "outputs": [
    {
     "data": {
      "text/plain": [
       "[15, 2]"
      ]
     },
     "execution_count": 5,
     "metadata": {},
     "output_type": "execute_result"
    }
   ],
   "source": [
    "intersection_list(lst1, lst2)"
   ]
  },
  {
   "cell_type": "code",
   "execution_count": null,
   "id": "6b24a0ec",
   "metadata": {},
   "outputs": [],
   "source": []
  },
  {
   "cell_type": "code",
   "execution_count": 8,
   "id": "d5812297",
   "metadata": {},
   "outputs": [
    {
     "name": "stdout",
     "output_type": "stream",
     "text": [
      "Intersection of the lists is: [2, 15]\n"
     ]
    }
   ],
   "source": [
    "#Using Set()\n",
    "\n",
    "set1 = set(lst1)\n",
    "set2 = set(lst2)\n",
    "newList = list(set1.intersection(set2))\n",
    "print(\"Intersection of the lists is:\", newList)"
   ]
  },
  {
   "cell_type": "code",
   "execution_count": null,
   "id": "7573ae45",
   "metadata": {},
   "outputs": [],
   "source": []
  },
  {
   "cell_type": "markdown",
   "id": "6a5e53c2",
   "metadata": {},
   "source": [
    "## Python Program to Flatten a List without using Recursion"
   ]
  },
  {
   "cell_type": "code",
   "execution_count": 29,
   "id": "9456c610",
   "metadata": {},
   "outputs": [
    {
     "name": "stdout",
     "output_type": "stream",
     "text": [
      "list li before flattening [[100, 150], [[200]], [300, 400]]\n",
      "list li after flattening [100, 150, 200, 300, 400]\n",
      "\n",
      "\n",
      "list deep_li before flattening [[0, 1], [[2, [3, [4, [5, [6]]]]]], [7, 8]]\n",
      "list deep_li after flattening [0, 1, 2, 3, 4, 5, 6, 7, 8]\n"
     ]
    }
   ],
   "source": [
    "#Using Deep Flatten\n",
    "\n",
    "from iteration_utilities import deepflatten\n",
    "\n",
    "li = [ [100,150], [ [200 ] ], [ 300, 400 ] ]\n",
    "print(\"list li before flattening\", li)\n",
    "flat_li = list(deepflatten(li))\n",
    "print(\"list li after flattening\", flat_li)\n",
    "print(\"\\n\")\n",
    "\n",
    "\n",
    "\n",
    "\n",
    "deep_li = [[0,1], [[2, [3, [4, [5, [6 ]]]]]], [7,8]]\n",
    "print(\"list deep_li before flattening\", deep_li)\n",
    "flat_li = list(deepflatten(deep_li))\n",
    "print(\"list deep_li after flattening\", flat_li)"
   ]
  },
  {
   "cell_type": "code",
   "execution_count": 3,
   "id": "8ed70df3",
   "metadata": {},
   "outputs": [],
   "source": []
  },
  {
   "cell_type": "code",
   "execution_count": 9,
   "id": "1a5cbdd4",
   "metadata": {},
   "outputs": [
    {
     "data": {
      "text/plain": [
       "[1, 2, 3, 'a', 'b', 'def', 5, 10, 'f', 17, 3, 9]"
      ]
     },
     "execution_count": 9,
     "metadata": {},
     "output_type": "execute_result"
    }
   ],
   "source": [
    "#Using List Comprehension \n",
    "\n",
    "nested = [[1,2,3], ['a','b','def'], [5, 10,'f',17], [3,9] ] \n",
    "\n",
    "flt = [ j for i in nested for j in i ]\n",
    "flt"
   ]
  },
  {
   "cell_type": "code",
   "execution_count": null,
   "id": "996ec2bb",
   "metadata": {},
   "outputs": [],
   "source": []
  },
  {
   "cell_type": "code",
   "execution_count": 30,
   "id": "d2865967",
   "metadata": {},
   "outputs": [],
   "source": [
    "#Good Approach\n",
    "\n",
    "def flatten(input_list):\n",
    "    result = []\n",
    " \n",
    "    stack = [input_list]\n",
    " \n",
    "    while stack:\n",
    "        current = stack.pop(-1)\n",
    "        if isinstance(current, list):\n",
    "            stack.extend(current)\n",
    "        else:\n",
    "            result.append(current)\n",
    "            \n",
    "    result.reverse()\n",
    "    return result"
   ]
  },
  {
   "cell_type": "code",
   "execution_count": 45,
   "id": "e31235c9",
   "metadata": {},
   "outputs": [
    {
     "name": "stdout",
     "output_type": "stream",
     "text": [
      "[1, 2, 3, 4, 5, 6, 7, 8, 9, 10, 11, 12, 13]\n"
     ]
    }
   ],
   "source": [
    "l = [1, 2, [3, 4, [5, 6], 7],\n",
    "     [[[8, 9], 10]],\n",
    "     [11, [12, 13]]]\n",
    "\n",
    "#output list\n",
    "ans = flatten(l)\n",
    "print(ans)"
   ]
  },
  {
   "cell_type": "code",
   "execution_count": null,
   "id": "5ec1a954",
   "metadata": {},
   "outputs": [],
   "source": []
  },
  {
   "cell_type": "code",
   "execution_count": 39,
   "id": "8a34118b",
   "metadata": {},
   "outputs": [
    {
     "name": "stdout",
     "output_type": "stream",
     "text": [
      "[1, 2, 3, 4, 5, 6, 7, 8, 9, 10]\n"
     ]
    }
   ],
   "source": [
    "#Using Recursion\n",
    "\n",
    "def flatten2(list_of_lists):\n",
    "    if len(list_of_lists) == 0:\n",
    "        return list_of_lists\n",
    "    \n",
    "    if isinstance(list_of_lists[0], list):\n",
    "        return flatten2(list_of_lists[0]) + flatten2(list_of_lists[1:])\n",
    "    return list_of_lists[:1] + flatten2(list_of_lists[1:])\n",
    "\n",
    "\n",
    "print(flatten2([[1, 2, 3, 4], [5, 6, 7], [8, 9], 10]))"
   ]
  },
  {
   "cell_type": "code",
   "execution_count": 37,
   "id": "43d48aa0",
   "metadata": {},
   "outputs": [
    {
     "name": "stdout",
     "output_type": "stream",
     "text": [
      "[1, 2, 3, 4, 5, 6, 7, 8, 9, 10, 11, 12, 13]\n"
     ]
    }
   ],
   "source": [
    "print(flatten2(l))"
   ]
  },
  {
   "cell_type": "code",
   "execution_count": null,
   "id": "b73a5330",
   "metadata": {},
   "outputs": [],
   "source": []
  },
  {
   "cell_type": "markdown",
   "id": "d06770be",
   "metadata": {},
   "source": [
    "## Python Program to Find the Total Sum of a Nested List Using Recursion"
   ]
  },
  {
   "cell_type": "code",
   "execution_count": 59,
   "id": "b5e2f0e7",
   "metadata": {},
   "outputs": [],
   "source": [
    "def nested_sum(lst):\n",
    "    \n",
    "    total=0\n",
    "    \n",
    "    for i in lst:\n",
    "        if type(i)==list:\n",
    "            total +=nested_sum(i)\n",
    "        else:\n",
    "            total +=i\n",
    "    return total\n",
    "            "
   ]
  },
  {
   "cell_type": "code",
   "execution_count": 60,
   "id": "04b8b5ae",
   "metadata": {},
   "outputs": [
    {
     "data": {
      "text/plain": [
       "144"
      ]
     },
     "execution_count": 60,
     "metadata": {},
     "output_type": "execute_result"
    }
   ],
   "source": [
    "find_sum([[4,5],[7,8,[20]],100])"
   ]
  },
  {
   "cell_type": "code",
   "execution_count": null,
   "id": "6ddc5ed4",
   "metadata": {},
   "outputs": [],
   "source": []
  },
  {
   "cell_type": "markdown",
   "id": "fe1c66a4",
   "metadata": {},
   "source": [
    "## Python Program to Flatten a Nested List using Recursion"
   ]
  },
  {
   "cell_type": "code",
   "execution_count": 65,
   "id": "f1dd8e32",
   "metadata": {},
   "outputs": [],
   "source": [
    "def flatten_rec(lst):\n",
    "    if len(lst)==0:\n",
    "        return lst\n",
    "    if isinstance(lst[0],list):\n",
    "        return flatten_rec(lst[0]) + flatten_rec(lst[1:])\n",
    "    return lst[:1] + flatten_rec(lst[1:])\n",
    "        \n",
    "    "
   ]
  },
  {
   "cell_type": "code",
   "execution_count": 66,
   "id": "fafd792e",
   "metadata": {},
   "outputs": [
    {
     "data": {
      "text/plain": [
       "[4, 5, 7, 8, 20, 100]"
      ]
     },
     "execution_count": 66,
     "metadata": {},
     "output_type": "execute_result"
    }
   ],
   "source": [
    "flatten_rec([[4,5],[7,8,[20]],100])"
   ]
  },
  {
   "cell_type": "code",
   "execution_count": 67,
   "id": "85d37c41",
   "metadata": {},
   "outputs": [
    {
     "data": {
      "text/plain": [
       "[1, 2, 3, 4, 5, 6, 7, 8, 9, 10, 11, 12, 13]"
      ]
     },
     "execution_count": 67,
     "metadata": {},
     "output_type": "execute_result"
    }
   ],
   "source": [
    "x=[1, 2, [3, 4, [5, 6], 7],\n",
    "     [[[8, 9], 10]],\n",
    "     [11, [12, 13]]]\n",
    "flatten_rec(x)"
   ]
  },
  {
   "cell_type": "code",
   "execution_count": null,
   "id": "43071939",
   "metadata": {},
   "outputs": [],
   "source": []
  }
 ],
 "metadata": {
  "kernelspec": {
   "display_name": "Python 3 (ipykernel)",
   "language": "python",
   "name": "python3"
  },
  "language_info": {
   "codemirror_mode": {
    "name": "ipython",
    "version": 3
   },
   "file_extension": ".py",
   "mimetype": "text/x-python",
   "name": "python",
   "nbconvert_exporter": "python",
   "pygments_lexer": "ipython3",
   "version": "3.9.12"
  }
 },
 "nbformat": 4,
 "nbformat_minor": 5
}
