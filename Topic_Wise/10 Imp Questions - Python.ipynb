{
 "cells": [
  {
   "cell_type": "code",
   "execution_count": null,
   "id": "6bde37cb",
   "metadata": {},
   "outputs": [],
   "source": [
    "# 1. Largest no in a list"
   ]
  },
  {
   "cell_type": "code",
   "execution_count": 1,
   "id": "7040dc8c",
   "metadata": {},
   "outputs": [
    {
     "name": "stdout",
     "output_type": "stream",
     "text": [
      "Largest no in list: [45, 5, 1, 7, 8, 9, 66, 89, 0, -2, 1] is 89\n"
     ]
    }
   ],
   "source": [
    "a = [45,5,1,7,8,9,66,89,0,-2,1]\n",
    "\n",
    "mx=a[0]\n",
    "largest=0\n",
    "for i in a:\n",
    "    if i>mx:\n",
    "        mx=i\n",
    "        \n",
    "print('Largest no in list: {} is {}'.format(a,mx))\n",
    "        "
   ]
  },
  {
   "cell_type": "code",
   "execution_count": null,
   "id": "0b2afacd",
   "metadata": {},
   "outputs": [],
   "source": []
  },
  {
   "cell_type": "code",
   "execution_count": null,
   "id": "15a8cec6",
   "metadata": {},
   "outputs": [],
   "source": [
    "# 2. Reverse a string"
   ]
  },
  {
   "cell_type": "code",
   "execution_count": 2,
   "id": "b9473540",
   "metadata": {},
   "outputs": [
    {
     "name": "stdout",
     "output_type": "stream",
     "text": [
      "dlrow nohtyp olleh\n"
     ]
    }
   ],
   "source": [
    "s= 'hello python world'\n",
    "\n",
    "new_s=''\n",
    "for i in s:\n",
    "    new_s=i+new_s\n",
    "print(new_s)"
   ]
  },
  {
   "cell_type": "code",
   "execution_count": null,
   "id": "bb6e27f2",
   "metadata": {},
   "outputs": [],
   "source": []
  },
  {
   "cell_type": "code",
   "execution_count": null,
   "id": "f0d9e9a5",
   "metadata": {},
   "outputs": [],
   "source": [
    "# 3. Check a no if it is prime or not"
   ]
  },
  {
   "cell_type": "code",
   "execution_count": 6,
   "id": "7a769898",
   "metadata": {},
   "outputs": [],
   "source": [
    "def chk_prime(n):\n",
    "    flg=0\n",
    "    for i in range(2,n//2+1):\n",
    "        if n%i==0:\n",
    "            flg=1\n",
    "            break\n",
    "            \n",
    "    if flg==1:\n",
    "        print(\"{} is not a Prime no\".format(n))\n",
    "    else:\n",
    "        print(\"{} is a Prime no\".format(n))"
   ]
  },
  {
   "cell_type": "code",
   "execution_count": 7,
   "id": "f01f002e",
   "metadata": {},
   "outputs": [
    {
     "name": "stdout",
     "output_type": "stream",
     "text": [
      "18 is not a Prime no\n",
      "17 is a Prime no\n",
      "5 is a Prime no\n"
     ]
    }
   ],
   "source": [
    "chk_prime(18)\n",
    "chk_prime(17)\n",
    "chk_prime(5)"
   ]
  },
  {
   "cell_type": "code",
   "execution_count": null,
   "id": "0bed1460",
   "metadata": {},
   "outputs": [],
   "source": []
  },
  {
   "cell_type": "code",
   "execution_count": null,
   "id": "3cb51f39",
   "metadata": {},
   "outputs": [],
   "source": [
    "# 4. Factorial of a no"
   ]
  },
  {
   "cell_type": "code",
   "execution_count": 8,
   "id": "b02f0bc3",
   "metadata": {},
   "outputs": [],
   "source": [
    "#Using Recursion\n",
    "\n",
    "def fact(n):\n",
    "    if n==0 or n==1:\n",
    "        return 1\n",
    "    else:\n",
    "        return ( n * fact(n-1) )     "
   ]
  },
  {
   "cell_type": "code",
   "execution_count": 9,
   "id": "48853095",
   "metadata": {},
   "outputs": [
    {
     "data": {
      "text/plain": [
       "120"
      ]
     },
     "execution_count": 9,
     "metadata": {},
     "output_type": "execute_result"
    }
   ],
   "source": [
    "fact(5)"
   ]
  },
  {
   "cell_type": "code",
   "execution_count": null,
   "id": "3b0a83fb",
   "metadata": {},
   "outputs": [],
   "source": []
  },
  {
   "cell_type": "code",
   "execution_count": null,
   "id": "78e2cfd8",
   "metadata": {},
   "outputs": [],
   "source": [
    "# 5. Check if a string is palindrome or not"
   ]
  },
  {
   "cell_type": "code",
   "execution_count": 16,
   "id": "22b59e1e",
   "metadata": {},
   "outputs": [],
   "source": [
    "def chk_palindrome(s):\n",
    "    new_s=''\n",
    "    for i in s:\n",
    "        new_s=i+new_s\n",
    "    \n",
    "    if new_s==s:\n",
    "        print('{} is a palindrom of given string {}'.format(new_s,s))\n",
    "    else:\n",
    "        print('{} is not a palindrom of given string {}'.format(new_s,s))   "
   ]
  },
  {
   "cell_type": "code",
   "execution_count": 17,
   "id": "187e90c9",
   "metadata": {},
   "outputs": [
    {
     "name": "stdout",
     "output_type": "stream",
     "text": [
      "nitin is a palindrom of given string nitin\n",
      "malayalam is a palindrom of given string malayalam\n",
      "hooH is not a palindrom of given string Hooh\n"
     ]
    }
   ],
   "source": [
    "chk_palindrome('nitin')\n",
    "chk_palindrome('malayalam')\n",
    "chk_palindrome('Hooh')"
   ]
  },
  {
   "cell_type": "code",
   "execution_count": null,
   "id": "c1de9ae7",
   "metadata": {},
   "outputs": [],
   "source": []
  },
  {
   "cell_type": "code",
   "execution_count": null,
   "id": "fc51786e",
   "metadata": {},
   "outputs": [],
   "source": [
    "# 6. Sort a list of no in asc order"
   ]
  },
  {
   "cell_type": "code",
   "execution_count": 19,
   "id": "7dd4fe29",
   "metadata": {},
   "outputs": [
    {
     "name": "stdout",
     "output_type": "stream",
     "text": [
      "[-4, -1, 0, 1, 2, 5, 7, 8, 13, 15, 55]\n"
     ]
    }
   ],
   "source": [
    "l = [2,-1,0,5,55,1,7,8,15,-4,13]\n",
    "\n",
    "n=len(l)\n",
    "\n",
    "for i in range(n):\n",
    "    for j in range(i+1,n):\n",
    "        if l[i]>l[j]:\n",
    "            l[i],l[j]=l[j],l[i]\n",
    "            \n",
    "print(l)"
   ]
  },
  {
   "cell_type": "code",
   "execution_count": null,
   "id": "7f5339fe",
   "metadata": {},
   "outputs": [],
   "source": []
  },
  {
   "cell_type": "code",
   "execution_count": null,
   "id": "780c4732",
   "metadata": {},
   "outputs": [],
   "source": [
    "# 7. Sum of all no in a list"
   ]
  },
  {
   "cell_type": "code",
   "execution_count": 21,
   "id": "c499fdd1",
   "metadata": {},
   "outputs": [
    {
     "name": "stdout",
     "output_type": "stream",
     "text": [
      "50 is the total of given no in list [18, 5, 7, 5, 15]\n"
     ]
    }
   ],
   "source": [
    "l = [18,5,7,5,15]\n",
    "\n",
    "tot=0\n",
    "for i in l:\n",
    "    tot+=i\n",
    "print('{} is the total of given no in list {}'.format(tot,l))"
   ]
  },
  {
   "cell_type": "code",
   "execution_count": null,
   "id": "d48a72c4",
   "metadata": {},
   "outputs": [],
   "source": []
  },
  {
   "cell_type": "code",
   "execution_count": null,
   "id": "4c04fcc0",
   "metadata": {},
   "outputs": [],
   "source": []
  },
  {
   "cell_type": "code",
   "execution_count": null,
   "id": "b9cb43be",
   "metadata": {},
   "outputs": [],
   "source": [
    "# 8. Fibonaici series upto a given no."
   ]
  },
  {
   "cell_type": "code",
   "execution_count": 35,
   "id": "3ecdcc0d",
   "metadata": {},
   "outputs": [],
   "source": [
    "def fib(n):\n",
    "    a,b,=0,1\n",
    "    \n",
    "    while a<=n:\n",
    "        print(a, end=' ')\n",
    "        a,b=b,a+b\n",
    "    "
   ]
  },
  {
   "cell_type": "code",
   "execution_count": 36,
   "id": "4940517b",
   "metadata": {},
   "outputs": [
    {
     "name": "stdout",
     "output_type": "stream",
     "text": [
      "0 1 1 2 3 5 8 13 21 "
     ]
    }
   ],
   "source": [
    "fib(25)"
   ]
  },
  {
   "cell_type": "code",
   "execution_count": 37,
   "id": "ca6c78c4",
   "metadata": {},
   "outputs": [
    {
     "name": "stdout",
     "output_type": "stream",
     "text": [
      "0 1 1 2 3 5 8 13 21 34 "
     ]
    }
   ],
   "source": [
    "fib(50)"
   ]
  },
  {
   "cell_type": "code",
   "execution_count": null,
   "id": "840b4845",
   "metadata": {},
   "outputs": [],
   "source": []
  },
  {
   "cell_type": "code",
   "execution_count": null,
   "id": "f6ef41fb",
   "metadata": {},
   "outputs": [],
   "source": [
    "#9. Count occurrences of word in a given string"
   ]
  },
  {
   "cell_type": "code",
   "execution_count": 48,
   "id": "1e358c58",
   "metadata": {},
   "outputs": [],
   "source": [
    "def count_occu(s,search):\n",
    "    data = s.split(' ')\n",
    "    \n",
    "    d={}\n",
    "    \n",
    "    for i in data:\n",
    "        if i in d:\n",
    "            d[i]+=1\n",
    "        else:\n",
    "            d[i]=1\n",
    "    \n",
    "    print(d)\n",
    "    print('The word {} appeared {} times in string'.format(search,d[search]))\n",
    "    "
   ]
  },
  {
   "cell_type": "code",
   "execution_count": 51,
   "id": "8c5222b5",
   "metadata": {},
   "outputs": [
    {
     "name": "stdout",
     "output_type": "stream",
     "text": [
      "{'Spring': 1, 'is': 2, 'beautiful': 1, 'but': 1, 'so': 1, 'winter': 1}\n",
      "The word is appeared 2 times in string\n"
     ]
    }
   ],
   "source": [
    "s='Spring is beautiful but so is winter'\n",
    "search='is'\n",
    "\n",
    "count_occu(s,search)"
   ]
  },
  {
   "cell_type": "code",
   "execution_count": null,
   "id": "ae3e16a4",
   "metadata": {},
   "outputs": [],
   "source": []
  },
  {
   "cell_type": "code",
   "execution_count": null,
   "id": "f496dddc",
   "metadata": {},
   "outputs": [],
   "source": []
  }
 ],
 "metadata": {
  "kernelspec": {
   "display_name": "Python 3 (ipykernel)",
   "language": "python",
   "name": "python3"
  },
  "language_info": {
   "codemirror_mode": {
    "name": "ipython",
    "version": 3
   },
   "file_extension": ".py",
   "mimetype": "text/x-python",
   "name": "python",
   "nbconvert_exporter": "python",
   "pygments_lexer": "ipython3",
   "version": "3.9.12"
  }
 },
 "nbformat": 4,
 "nbformat_minor": 5
}
