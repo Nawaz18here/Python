{
 "cells": [
  {
   "cell_type": "markdown",
   "id": "af01239b",
   "metadata": {},
   "source": [
    "## 1. Python Program to Create Dictionary from an Object"
   ]
  },
  {
   "cell_type": "code",
   "execution_count": 1,
   "id": "8ed8b199",
   "metadata": {},
   "outputs": [],
   "source": [
    "class Dict_():\n",
    "    def __init__(self):\n",
    "        self.lion = 'carnivore'\n",
    "        self.dog = 'omnivore'\n",
    "        self.giraffe = 'herbivore'\n",
    "    \n",
    "    def printit(self):\n",
    "        print(\"Dictionary from the object fields belonging to the class Animals:\")\n"
   ]
  },
  {
   "cell_type": "code",
   "execution_count": 2,
   "id": "1552b34b",
   "metadata": {},
   "outputs": [
    {
     "name": "stdout",
     "output_type": "stream",
     "text": [
      "Dictionary from the object fields belonging to the class Animals:\n",
      "{'lion': 'carnivore', 'dog': 'omnivore', 'giraffe': 'herbivore'}\n"
     ]
    }
   ],
   "source": [
    "a=Dict_()\n",
    "a.printit()\n",
    "print(a.__dict__)"
   ]
  },
  {
   "cell_type": "code",
   "execution_count": null,
   "id": "654cf1ea",
   "metadata": {},
   "outputs": [],
   "source": []
  },
  {
   "cell_type": "code",
   "execution_count": 5,
   "id": "d67c96fd",
   "metadata": {},
   "outputs": [
    {
     "name": "stdout",
     "output_type": "stream",
     "text": [
      "An instance of the class has been created\n",
      "{'A': 32, 'B': 60}\n"
     ]
    }
   ],
   "source": [
    "class base_class(object):\n",
    "    def __init__(self):\n",
    "        self.A = 32\n",
    "        self.B = 60\n",
    "my_instance = base_class()\n",
    "print(\"An instance of the class has been created\")\n",
    "print(my_instance.__dict__)"
   ]
  },
  {
   "cell_type": "code",
   "execution_count": null,
   "id": "29ddda39",
   "metadata": {},
   "outputs": [],
   "source": []
  },
  {
   "cell_type": "code",
   "execution_count": null,
   "id": "37a52be0",
   "metadata": {},
   "outputs": [],
   "source": []
  },
  {
   "cell_type": "markdown",
   "id": "8285dfc6",
   "metadata": {},
   "source": [
    "## 2. Python Program to Check if a Key Exists in a Dictionary or Not"
   ]
  },
  {
   "cell_type": "code",
   "execution_count": 25,
   "id": "8a4d22da",
   "metadata": {},
   "outputs": [],
   "source": [
    "def chk_keys(d,x):\n",
    "    flag=0\n",
    "    for i in d.keys():\n",
    "        if i in x:\n",
    "            flag=1\n",
    "            break\n",
    "        else:\n",
    "            flag=0\n",
    "        \n",
    "    if flag==1:\n",
    "        print(\"Yes, The key {} is found in\\ndictionary {}\".format(x,d))\n",
    "    else:\n",
    "        print(\"No, The key {} is not found in\\ndictionary {}\".format(x,d))"
   ]
  },
  {
   "cell_type": "code",
   "execution_count": 28,
   "id": "4311f6e7",
   "metadata": {},
   "outputs": [
    {
     "name": "stdout",
     "output_type": "stream",
     "text": [
      "Yes, The key Name is found in\n",
      "dictionary {'Name': 'Quadir', 'Desig': 'Developer'}\n"
     ]
    }
   ],
   "source": [
    "z={'Name':'Quadir','Desig':'Developer'}\n",
    "y='Name'\n",
    "chk_keys(z,y)"
   ]
  },
  {
   "cell_type": "code",
   "execution_count": 29,
   "id": "df552771",
   "metadata": {},
   "outputs": [
    {
     "name": "stdout",
     "output_type": "stream",
     "text": [
      "No, The key City is not found in\n",
      "dictionary {'Name': 'Quadir', 'Desig': 'Developer'}\n"
     ]
    }
   ],
   "source": [
    "z={'Name':'Quadir','Desig':'Developer'}\n",
    "y='City'\n",
    "chk_keys(z,y)"
   ]
  },
  {
   "cell_type": "code",
   "execution_count": null,
   "id": "bfe755d8",
   "metadata": {},
   "outputs": [],
   "source": []
  },
  {
   "cell_type": "code",
   "execution_count": null,
   "id": "68ed9076",
   "metadata": {},
   "outputs": [],
   "source": [
    "# Visit: https://www.scaler.com/topics/check-if-key-exists-in-dictionary-python/"
   ]
  },
  {
   "cell_type": "code",
   "execution_count": null,
   "id": "0ae6c6f4",
   "metadata": {},
   "outputs": [],
   "source": []
  },
  {
   "cell_type": "code",
   "execution_count": 30,
   "id": "f84ebaca",
   "metadata": {},
   "outputs": [
    {
     "name": "stdout",
     "output_type": "stream",
     "text": [
      "Enter key to check: Hi\n",
      "Key isn't present!\n"
     ]
    }
   ],
   "source": [
    "# Using if-in statement / in Operator\n",
    "\n",
    "\n",
    "d={'A':1,'B':2,'C':3}\n",
    "key=input(\"Enter key to check: \")\n",
    "\n",
    "if key in d.keys():\n",
    "        print(\"Key is present and value of the key is:\")\n",
    "        print(d[key])\n",
    "else:\n",
    "      print(\"Key isn't present!\")"
   ]
  },
  {
   "cell_type": "code",
   "execution_count": null,
   "id": "3d56d77b",
   "metadata": {},
   "outputs": [],
   "source": []
  },
  {
   "cell_type": "code",
   "execution_count": 38,
   "id": "238acd0f",
   "metadata": {},
   "outputs": [
    {
     "name": "stdout",
     "output_type": "stream",
     "text": [
      "No such student!\n"
     ]
    }
   ],
   "source": [
    "# Using get() Method\n",
    "\n",
    "dict = {1601:\"Aman\", 1602: \"Roshni\", 1603: \"Utkarsh\", 1699:\"Kritika\"}\n",
    "\n",
    "retVal = dict.get(1609)\n",
    "\n",
    "if retVal is not None:\n",
    "    print(\"Studnet Found! Name:\", retVal)\n",
    "else:\n",
    "    print(\"No such student!\")\n",
    "\n"
   ]
  },
  {
   "cell_type": "code",
   "execution_count": null,
   "id": "0be610c5",
   "metadata": {},
   "outputs": [],
   "source": []
  },
  {
   "cell_type": "code",
   "execution_count": 37,
   "id": "b6248a86",
   "metadata": {},
   "outputs": [
    {
     "name": "stdout",
     "output_type": "stream",
     "text": [
      "The key doesn't exist in the dictionary\n"
     ]
    }
   ],
   "source": [
    "## Handling ‘KeyError’ Exception\n",
    "\n",
    "dictExample = {'Aman': 110, 'Rajesh': 440, 'Suraj': 990}\n",
    "\n",
    "\n",
    "try:\n",
    "    dictExample[\"Kamal\"]\n",
    "    print('The key exists in the dictionary')\n",
    "except KeyError as error:\n",
    "    print(\"The key doesn't exist in the dictionary\")\n",
    " "
   ]
  },
  {
   "cell_type": "code",
   "execution_count": null,
   "id": "adab892c",
   "metadata": {},
   "outputs": [],
   "source": []
  },
  {
   "cell_type": "code",
   "execution_count": null,
   "id": "1a74b846",
   "metadata": {},
   "outputs": [],
   "source": []
  },
  {
   "cell_type": "code",
   "execution_count": 35,
   "id": "4f9d96ff",
   "metadata": {},
   "outputs": [
    {
     "data": {
      "text/plain": [
       "dict_keys(['A', 'B', 'C'])"
      ]
     },
     "execution_count": 35,
     "metadata": {},
     "output_type": "execute_result"
    }
   ],
   "source": [
    "#d.keys() Will print out all keys in dictionary\n",
    "\n",
    "d={'A':1,'B':2,'C':3}\n",
    "d.keys()"
   ]
  },
  {
   "cell_type": "code",
   "execution_count": null,
   "id": "9536bd26",
   "metadata": {},
   "outputs": [],
   "source": []
  },
  {
   "cell_type": "markdown",
   "id": "5ee4975c",
   "metadata": {},
   "source": [
    "## 3. Python Program to Add a Key-Value Pair to the Dictionary"
   ]
  },
  {
   "cell_type": "code",
   "execution_count": 5,
   "id": "9cff233c",
   "metadata": {},
   "outputs": [],
   "source": [
    "dict_={\"name\":\"Khan\", \"country\":'India', \"occupation\":'Job'}"
   ]
  },
  {
   "cell_type": "code",
   "execution_count": 8,
   "id": "f2a71e01",
   "metadata": {},
   "outputs": [],
   "source": [
    "def add_keyVal(d,key,value):\n",
    "    \n",
    "    if key in d.keys():\n",
    "        print(\"Key is already in dictionary, please enter another!\")\n",
    "    else:\n",
    "        print(\"Key, value Pair is added in dictionary!\")\n",
    "        d[key]=value\n",
    "    return d"
   ]
  },
  {
   "cell_type": "code",
   "execution_count": 7,
   "id": "a31a2077",
   "metadata": {},
   "outputs": [
    {
     "name": "stdout",
     "output_type": "stream",
     "text": [
      "Key is already in dictionary, please enter another!\n"
     ]
    },
    {
     "data": {
      "text/plain": [
       "{'name': 'Khan', 'country': 'India', 'occupation': 'Job'}"
      ]
     },
     "execution_count": 7,
     "metadata": {},
     "output_type": "execute_result"
    }
   ],
   "source": [
    "add_keyVal(dict_,'name','shyam')"
   ]
  },
  {
   "cell_type": "code",
   "execution_count": 10,
   "id": "d624679d",
   "metadata": {},
   "outputs": [
    {
     "name": "stdout",
     "output_type": "stream",
     "text": [
      "Key, value Pair is added in dictionary!\n"
     ]
    },
    {
     "data": {
      "text/plain": [
       "{'name': 'Khan', 'country': 'India', 'occupation': 'Job', 'phone': 9871}"
      ]
     },
     "execution_count": 10,
     "metadata": {},
     "output_type": "execute_result"
    }
   ],
   "source": [
    "add_keyVal(dict_,'phone',9871)"
   ]
  },
  {
   "cell_type": "code",
   "execution_count": null,
   "id": "421add1d",
   "metadata": {},
   "outputs": [],
   "source": []
  },
  {
   "cell_type": "code",
   "execution_count": 11,
   "id": "5c7e3041",
   "metadata": {},
   "outputs": [
    {
     "name": "stdout",
     "output_type": "stream",
     "text": [
      "Current Dict is:  {'key1': 'geeks', 'key2': 'for'}\n",
      "{'key1': 'geeks', 'key2': 'for', 'key3': 'geeks', 'key4': 'is', 'key5': 'fabulous', 'newkey1': 'portal'}\n"
     ]
    }
   ],
   "source": [
    "#2: Using update() method \n",
    "\n",
    "dict = {'key1':'geeks', 'key2':'for'}\n",
    "print(\"Current Dict is: \", dict)\n",
    " \n",
    "# adding dict1 (key3, key4 and key5) to dict\n",
    "dict1 = {'key3':'geeks', 'key4':'is', 'key5':'fabulous'}\n",
    "dict.update(dict1)\n",
    " \n",
    "    \n",
    "    \n",
    "    \n",
    "# by assigning\n",
    "dict.update(newkey1 ='portal')\n",
    "print(dict)"
   ]
  },
  {
   "cell_type": "code",
   "execution_count": null,
   "id": "a2b2c10f",
   "metadata": {},
   "outputs": [],
   "source": []
  },
  {
   "cell_type": "code",
   "execution_count": 1,
   "id": "9463f02b",
   "metadata": {},
   "outputs": [],
   "source": [
    "#Using Class\n",
    "\n",
    "\n",
    "class my_dict(dict):\n",
    "    \n",
    "    def _init__(self):\n",
    "        self= dict()\n",
    "        \n",
    "    def add(self,key,value):\n",
    "        self[key]=value\n",
    "\n"
   ]
  },
  {
   "cell_type": "code",
   "execution_count": 5,
   "id": "ce1cb9f9",
   "metadata": {},
   "outputs": [
    {
     "name": "stdout",
     "output_type": "stream",
     "text": [
      "{'Name': 'Ram', 'City': 'New Delhi'}\n"
     ]
    }
   ],
   "source": [
    "d_obj= my_dict()\n",
    "\n",
    "d_obj.key='Name'\n",
    "d_obj.value='Ram'\n",
    "\n",
    "\n",
    "d_obj.add(d_obj.key, d_obj.value)\n",
    "d_obj.add(\"City\", 'New Delhi')\n",
    " \n",
    "print(d_obj)"
   ]
  },
  {
   "cell_type": "code",
   "execution_count": null,
   "id": "d293d9e9",
   "metadata": {},
   "outputs": [],
   "source": []
  },
  {
   "cell_type": "markdown",
   "id": "8c2348c6",
   "metadata": {},
   "source": [
    "## 4. Python Program to Find the Sum of All the Items in a Dictionary"
   ]
  },
  {
   "cell_type": "code",
   "execution_count": 25,
   "id": "5d54604a",
   "metadata": {},
   "outputs": [],
   "source": [
    "def sum_items(d):\n",
    "    total=0\n",
    "    try:\n",
    "        for i in d.values():\n",
    "            if type(i) in [int,float]:\n",
    "                total+=i\n",
    "        print('Sum is ', total)\n",
    "    except Exception as e:\n",
    "        print('Some error occurs: ',e)"
   ]
  },
  {
   "cell_type": "code",
   "execution_count": 26,
   "id": "9da4e7fd",
   "metadata": {},
   "outputs": [
    {
     "name": "stdout",
     "output_type": "stream",
     "text": [
      "Sum is  879\n"
     ]
    }
   ],
   "source": [
    "di={'A':100,'B':540,'C':239}\n",
    "sum_items(di)"
   ]
  },
  {
   "cell_type": "code",
   "execution_count": 27,
   "id": "a3fb9c34",
   "metadata": {},
   "outputs": [
    {
     "name": "stdout",
     "output_type": "stream",
     "text": [
      "Sum is  0\n"
     ]
    }
   ],
   "source": [
    "dc = {'key1':'geeks', 'key2':'for'}\n",
    "sum_items(dc)"
   ]
  },
  {
   "cell_type": "code",
   "execution_count": null,
   "id": "f4ce4ddf",
   "metadata": {},
   "outputs": [],
   "source": []
  },
  {
   "cell_type": "code",
   "execution_count": 28,
   "id": "9285561e",
   "metadata": {},
   "outputs": [
    {
     "name": "stdout",
     "output_type": "stream",
     "text": [
      "Sum : 600\n"
     ]
    }
   ],
   "source": [
    "def returnSum(dict):\n",
    "    return sum(dict.values())\n",
    " \n",
    "\n",
    "# Driver Function\n",
    "dict = {'a': 100, 'b': 200, 'c': 300}\n",
    "print(\"Sum :\", returnSum(dict))"
   ]
  },
  {
   "cell_type": "code",
   "execution_count": null,
   "id": "7333bfe2",
   "metadata": {},
   "outputs": [],
   "source": []
  },
  {
   "cell_type": "code",
   "execution_count": 29,
   "id": "f2df65e2",
   "metadata": {},
   "outputs": [
    {
     "name": "stdout",
     "output_type": "stream",
     "text": [
      "Sum : 800\n"
     ]
    }
   ],
   "source": [
    "def returnSum(myDict):\n",
    "    return sum(myDict[key] for key in myDict)\n",
    " \n",
    "dict = {'a': 100, 'b': 200, 'c': 500}\n",
    "print(\"Sum :\", returnSum(dict))"
   ]
  },
  {
   "cell_type": "code",
   "execution_count": null,
   "id": "a1b43688",
   "metadata": {},
   "outputs": [],
   "source": []
  },
  {
   "cell_type": "markdown",
   "id": "e7ebb83f",
   "metadata": {},
   "source": [
    "## 5. Python Program to Multiply All the Items in a Dictionary"
   ]
  },
  {
   "cell_type": "code",
   "execution_count": 30,
   "id": "e1910eb1",
   "metadata": {},
   "outputs": [],
   "source": [
    "def mult_item(dictionary):\n",
    "    tot_=1\n",
    "    for i in dictionary:\n",
    "        tot_*=dictionary[i]\n",
    "    return tot_"
   ]
  },
  {
   "cell_type": "code",
   "execution_count": 31,
   "id": "c6a85588",
   "metadata": {},
   "outputs": [
    {
     "data": {
      "text/plain": [
       "8000"
      ]
     },
     "execution_count": 31,
     "metadata": {},
     "output_type": "execute_result"
    }
   ],
   "source": [
    "mult_item({1:10,2:20,4:40})"
   ]
  },
  {
   "cell_type": "code",
   "execution_count": 33,
   "id": "2887f87d",
   "metadata": {},
   "outputs": [
    {
     "data": {
      "text/plain": [
       "30"
      ]
     },
     "execution_count": 33,
     "metadata": {},
     "output_type": "execute_result"
    }
   ],
   "source": [
    "dict = {'value1':5, 'value2':4, 'value2':3, 'value4':2 } \n",
    "mult_item(dict)"
   ]
  },
  {
   "cell_type": "code",
   "execution_count": null,
   "id": "a82edb77",
   "metadata": {},
   "outputs": [],
   "source": []
  },
  {
   "cell_type": "markdown",
   "id": "24bb957e",
   "metadata": {},
   "source": [
    "## 6. Python Program to Remove a Key from a Dictionary"
   ]
  },
  {
   "cell_type": "code",
   "execution_count": 26,
   "id": "ce3c50a6",
   "metadata": {},
   "outputs": [],
   "source": [
    "def del_key(d,k):\n",
    "    \n",
    "    if k in d.keys():\n",
    "        del d[k]\n",
    "        print('{} has been deleted from dictionary Updated dict: {}'.format(k,d))\n",
    "    else:\n",
    "        print(\"Key not found in \", d)\n",
    "    "
   ]
  },
  {
   "cell_type": "code",
   "execution_count": 27,
   "id": "d2dd11b0",
   "metadata": {},
   "outputs": [
    {
     "name": "stdout",
     "output_type": "stream",
     "text": [
      "Key not found in  {'a': 1, 'b': 2, 'c': 3, 'd': 4}\n"
     ]
    }
   ],
   "source": [
    "d = {'a':1,'b':2,'c':3,'d':4}\n",
    "del_key(d,5)"
   ]
  },
  {
   "cell_type": "code",
   "execution_count": 28,
   "id": "2ef6429a",
   "metadata": {},
   "outputs": [
    {
     "name": "stdout",
     "output_type": "stream",
     "text": [
      "c has been deleted from dictionary Updated dict: {'a': 1, 'b': 2, 'd': 4}\n"
     ]
    }
   ],
   "source": [
    "del_key(d,'c')"
   ]
  },
  {
   "cell_type": "code",
   "execution_count": null,
   "id": "46133a92",
   "metadata": {},
   "outputs": [],
   "source": []
  },
  {
   "cell_type": "code",
   "execution_count": 30,
   "id": "b441ef51",
   "metadata": {},
   "outputs": [
    {
     "name": "stdout",
     "output_type": "stream",
     "text": [
      "Mani has been deleted from dictionary Updated dict: {'Arushi': 22, 'Haritha': 21}\n"
     ]
    }
   ],
   "source": [
    "di= {'Arushi': 22, 'Mani': 21, 'Haritha': 21}\n",
    "ki= 'Mani'\n",
    "\n",
    "del_key(di,ki)\n"
   ]
  },
  {
   "cell_type": "code",
   "execution_count": null,
   "id": "f3675ac0",
   "metadata": {},
   "outputs": [],
   "source": []
  },
  {
   "cell_type": "code",
   "execution_count": null,
   "id": "8ff4dfca",
   "metadata": {},
   "outputs": [],
   "source": [
    "# Using pop() to Remove Key from Dictionary\n",
    "\n",
    "# dict is a sample dictionary\n",
    "\n",
    "# Syntax 1\n",
    "dict.pop(key)\n",
    "\n",
    "# Syntax 2\n",
    "returnedValue = dict.pop(key)\n",
    "\n",
    "# Syntax 3\n",
    "dict.pop(key, defaultVal)\n",
    "\n",
    "# Syntax 4\n",
    "returnedValue = dict.pop(key, defaultVal)\n"
   ]
  },
  {
   "cell_type": "code",
   "execution_count": 33,
   "id": "b4d9eead",
   "metadata": {},
   "outputs": [
    {
     "name": "stdout",
     "output_type": "stream",
     "text": [
      "Dictionary: {1602: 'Roshni', 1603: 'Utkarsh', 1699: 'Kritika'}\n"
     ]
    }
   ],
   "source": [
    "dict = {1601:\"Aman\", 1602: \"Roshni\", 1603: \"Utkarsh\", 1699:\"Kritika\"}\n",
    "\n",
    "dict.pop(1601)\n",
    "print(\"Dictionary:\", dict)"
   ]
  },
  {
   "cell_type": "code",
   "execution_count": 34,
   "id": "03dcb043",
   "metadata": {},
   "outputs": [
    {
     "name": "stdout",
     "output_type": "stream",
     "text": [
      "Removed Student:  Utkarsh\n",
      "Dictionary: {1602: 'Roshni', 1699: 'Kritika'}\n",
      "Removed Student: No such roll number found!\n",
      "Dictionary: {1602: 'Roshni', 1699: 'Kritika'}\n"
     ]
    }
   ],
   "source": [
    "removedName = dict.pop(1603)\n",
    "print(\"Removed Student: \", removedName)\n",
    "print(\"Dictionary:\", dict)\n",
    "\n",
    "\n",
    "removedName2 = dict.pop(1600, \"No such roll number found!\")\n",
    "print(\"Removed Student:\", removedName2)\n",
    "print(\"Dictionary:\", dict)"
   ]
  },
  {
   "cell_type": "code",
   "execution_count": null,
   "id": "e45e6efe",
   "metadata": {},
   "outputs": [],
   "source": []
  },
  {
   "cell_type": "code",
   "execution_count": 35,
   "id": "63a54b6a",
   "metadata": {},
   "outputs": [
    {
     "name": "stdout",
     "output_type": "stream",
     "text": [
      "Key Not In Dictionary\n"
     ]
    }
   ],
   "source": [
    "dict = {1601:\"Aman\", 1602: \"Roshni\", 1603: \"Utkarsh\", 1699:\"Kritika\"}\n",
    "\n",
    "try:\n",
    "    retVal2 = dict.pop(1600)\n",
    "    print(retVal2)\n",
    "except:\n",
    "    print(\"Key Not In Dictionary\")"
   ]
  },
  {
   "cell_type": "code",
   "execution_count": null,
   "id": "b30b6cbc",
   "metadata": {},
   "outputs": [],
   "source": []
  },
  {
   "cell_type": "code",
   "execution_count": null,
   "id": "5a2e641c",
   "metadata": {},
   "outputs": [],
   "source": []
  },
  {
   "cell_type": "code",
   "execution_count": 36,
   "id": "fdbe5269",
   "metadata": {},
   "outputs": [
    {
     "name": "stdout",
     "output_type": "stream",
     "text": [
      "Dictionary before removing key:  {'A': 'John', 'B': 'Sam', 'C': 'Max'}\n",
      "Dictionary after removing key:  {'A': 'John', 'C': 'Max'}\n"
     ]
    }
   ],
   "source": [
    "# Using  items() and dictionary comprehension\n",
    "\n",
    "dic= { 'A' : \"John\", 'B' : \"Sam\", 'C' : \"Max\" }\n",
    "print(\"Dictionary before removing key: \",dic)\n",
    "\n",
    "# using dictionary comprehension to copy without 'B'\n",
    "\n",
    "new_dic= { key:val for key, val in dic.items() if key!= 'B'}\n",
    "print(\"Dictionary after removing key: \",new_dic)"
   ]
  },
  {
   "cell_type": "code",
   "execution_count": null,
   "id": "35b8049a",
   "metadata": {},
   "outputs": [],
   "source": []
  },
  {
   "cell_type": "code",
   "execution_count": null,
   "id": "e494123b",
   "metadata": {},
   "outputs": [],
   "source": []
  },
  {
   "cell_type": "markdown",
   "id": "7b4a8778",
   "metadata": {},
   "source": [
    "## 7. Python Program to Concatenate Two Dictionaries"
   ]
  },
  {
   "cell_type": "code",
   "execution_count": 38,
   "id": "39fc64da",
   "metadata": {},
   "outputs": [
    {
     "data": {
      "text/plain": [
       "{5: 'Riya', 6: 'Sanskriti', 7: 'Alina', 1: 'Ram', 2: 'Shyam', 3: 'John'}"
      ]
     },
     "execution_count": 38,
     "metadata": {},
     "output_type": "execute_result"
    }
   ],
   "source": [
    "# Using update() method\n",
    "\n",
    "d1= {1:'Ram',2:'Shyam',3:'John'}\n",
    "d2= {5:'Riya',6:'Sanskriti',7:'Alina'}\n",
    "\n",
    "d3= d2.copy()\n",
    "d3.update(d1)\n",
    "d3"
   ]
  },
  {
   "cell_type": "code",
   "execution_count": null,
   "id": "6df59c7b",
   "metadata": {},
   "outputs": [],
   "source": []
  },
  {
   "cell_type": "code",
   "execution_count": 40,
   "id": "9049fc72",
   "metadata": {},
   "outputs": [
    {
     "name": "stdout",
     "output_type": "stream",
     "text": [
      "{'John': 15, 'Rick': 20, 'Misa': 12, 'Bonnie': 18, 'Matt': 16}\n"
     ]
    }
   ],
   "source": [
    "# Using update() method\n",
    "\n",
    "def Merge(dict_1, dict_2):\n",
    "    result = dict_1 | dict_2\n",
    "    return result\n",
    "    \n",
    "# Driver code\n",
    "dict_1 = {'John': 15, 'Rick': 10, 'Misa' : 12 }\n",
    "dict_2 = {'Bonnie': 18,'Rick': 20,'Matt' : 16 }\n",
    "dict_3 = Merge(dict_1, dict_2)\n",
    "print(dict_3)"
   ]
  },
  {
   "cell_type": "code",
   "execution_count": null,
   "id": "e9c664eb",
   "metadata": {},
   "outputs": [],
   "source": []
  },
  {
   "cell_type": "code",
   "execution_count": 1,
   "id": "2874bcab",
   "metadata": {},
   "outputs": [
    {
     "name": "stdout",
     "output_type": "stream",
     "text": [
      "{'John': 15, 'Rick': 10, 'Misa': 12, 'Bonnie': 18, 'Riya': 20, 'Matt': 16}\n"
     ]
    }
   ],
   "source": [
    "# Unpacking the second dictionary\n",
    "\n",
    "dict_1={'John': 15, 'Rick': 10, 'Misa' : 12 }\n",
    "dict_2={'Bonnie': 18,'Riya': 20,'Matt' : 16 }\n",
    "dict_3=dict(dict_1,**dict_2)\n",
    "print (dict_3)"
   ]
  },
  {
   "cell_type": "code",
   "execution_count": null,
   "id": "ca8321d8",
   "metadata": {},
   "outputs": [],
   "source": []
  },
  {
   "cell_type": "code",
   "execution_count": null,
   "id": "81be7e93",
   "metadata": {},
   "outputs": [],
   "source": []
  },
  {
   "cell_type": "code",
   "execution_count": 2,
   "id": "dee90f45",
   "metadata": {},
   "outputs": [
    {
     "name": "stdout",
     "output_type": "stream",
     "text": [
      "{'x': 10, 'y': 8, 'a': 6, 'b': 4}\n"
     ]
    }
   ],
   "source": [
    "# Using for loop and keys() method\n",
    "\n",
    "def Merge(dict1, dict2):\n",
    "    for i in dict2.keys():\n",
    "        dict1[i]=dict2[i]\n",
    "    return dict1\n",
    "     \n",
    "# Driver code\n",
    "dict1 = {'x': 10, 'y': 8}\n",
    "dict2 = {'a': 6, 'b': 4}\n",
    "dict3 = Merge(dict1, dict2)\n",
    "print(dict3)"
   ]
  },
  {
   "cell_type": "code",
   "execution_count": null,
   "id": "6fce24eb",
   "metadata": {},
   "outputs": [],
   "source": []
  },
  {
   "cell_type": "code",
   "execution_count": null,
   "id": "87b23ade",
   "metadata": {},
   "outputs": [],
   "source": []
  },
  {
   "cell_type": "markdown",
   "id": "6136fbeb",
   "metadata": {},
   "source": [
    "## 8. Python Program to Map Two Lists into a Dictionary"
   ]
  },
  {
   "cell_type": "code",
   "execution_count": 7,
   "id": "c6049328",
   "metadata": {},
   "outputs": [
    {
     "name": "stdout",
     "output_type": "stream",
     "text": [
      "{1: 1, 2: 4, 3: 9}\n"
     ]
    }
   ],
   "source": [
    "#Using zip\n",
    "\n",
    "l1= [ 1,2,3 ]\n",
    "l2= [ 1,4,9 ]\n",
    "\n",
    "l3= dict(zip(l1,l2))\n",
    "print(l3)"
   ]
  },
  {
   "cell_type": "code",
   "execution_count": null,
   "id": "6f46b353",
   "metadata": {},
   "outputs": [],
   "source": []
  },
  {
   "cell_type": "code",
   "execution_count": 8,
   "id": "0ecd1875",
   "metadata": {},
   "outputs": [
    {
     "name": "stdout",
     "output_type": "stream",
     "text": [
      "{'pen': 5, 'paper': 20, 'pencil': 15}\n"
     ]
    }
   ],
   "source": [
    "# Using Dictionary Comprehension\n",
    "\n",
    "items = ['pen', 'paper', 'pencil']\n",
    "quantities = [5, 20, 15]\n",
    "items_dict = {key:value for key, value in zip(items, quantities)}\n",
    "\n",
    "print(items_dict)"
   ]
  },
  {
   "cell_type": "code",
   "execution_count": null,
   "id": "36a0cb45",
   "metadata": {},
   "outputs": [],
   "source": []
  },
  {
   "cell_type": "code",
   "execution_count": 5,
   "id": "8a56be75",
   "metadata": {},
   "outputs": [
    {
     "name": "stdout",
     "output_type": "stream",
     "text": [
      "Original key list is : ['Rash', 'Kil', 'Varsha']\n",
      "Original value list is : [1, 4, 5]\n"
     ]
    }
   ],
   "source": [
    "test_keys = [\"Rash\", \"Kil\", \"Varsha\"]\n",
    "test_values = [1, 4, 5]\n",
    " \n",
    "# Printing original keys-value lists\n",
    "print(\"Original key list is : \" + str(test_keys))\n",
    "print(\"Original value list is : \" + str(test_values))\n",
    " \n",
    "\n",
    "res = {}\n",
    "for key in test_keys:\n",
    "    for value in test_values:\n",
    "        res[key] = value\n",
    "        test_values.remove(value)\n",
    "        break"
   ]
  },
  {
   "cell_type": "code",
   "execution_count": 7,
   "id": "5ef05714",
   "metadata": {},
   "outputs": [
    {
     "name": "stdout",
     "output_type": "stream",
     "text": [
      "Resultant dictionary is :  {'Rash': 1, 'Kil': 4, 'Varsha': 5}\n"
     ]
    }
   ],
   "source": [
    "print(\"Resultant dictionary is : \" , res)"
   ]
  },
  {
   "cell_type": "code",
   "execution_count": null,
   "id": "ca920b45",
   "metadata": {},
   "outputs": [],
   "source": []
  },
  {
   "cell_type": "code",
   "execution_count": null,
   "id": "6db6ed07",
   "metadata": {},
   "outputs": [],
   "source": []
  },
  {
   "cell_type": "markdown",
   "id": "2e948801",
   "metadata": {},
   "source": [
    "## 9. Python Program to Create a Dictionary with Key as First Character and Value as Words Starting with that Character"
   ]
  },
  {
   "cell_type": "markdown",
   "id": "987e45cf",
   "metadata": {},
   "source": [
    "Case 1:\n",
    "Enter string:Hello world this is a test string sanfoundry\n",
    "('a', ':', ['a'])\n",
    "('i', ':', ['is'])\n",
    "('H', ':', ['Hello'])\n",
    "('s', ':', ['sanfoundry', 'string'])\n",
    "('t', ':', ['test', 'this'])\n",
    "('w', ':', ['world'])"
   ]
  },
  {
   "cell_type": "code",
   "execution_count": null,
   "id": "469880a2",
   "metadata": {},
   "outputs": [],
   "source": []
  },
  {
   "cell_type": "code",
   "execution_count": 33,
   "id": "c4bf8de0",
   "metadata": {},
   "outputs": [
    {
     "data": {
      "text/plain": [
       "{'H': ['Hello'],\n",
       " 'w': ['world'],\n",
       " 't': ['this', 'test'],\n",
       " 'i': ['is'],\n",
       " 'a': ['a'],\n",
       " 's': ['string', 'sanfoundry']}"
      ]
     },
     "execution_count": 33,
     "metadata": {},
     "output_type": "execute_result"
    }
   ],
   "source": [
    "str_ = 'Hello world this is a test string sanfoundry'\n",
    "\n",
    "new_str= str_.split(' ')\n",
    "d={}\n",
    "\n",
    "for i in new_str:\n",
    "    if (i[0] not in d.keys()):\n",
    "        d[i[0]]=[]\n",
    "        d[i[0]].append(i)\n",
    "    else:\n",
    "        if ( i not in d[i[0]]):\n",
    "            d[i[0]].append(i)\n",
    "            \n",
    "d\n",
    "\n"
   ]
  },
  {
   "cell_type": "code",
   "execution_count": null,
   "id": "83c2c2a3",
   "metadata": {},
   "outputs": [],
   "source": []
  },
  {
   "cell_type": "code",
   "execution_count": null,
   "id": "2ef5b03e",
   "metadata": {},
   "outputs": [],
   "source": []
  },
  {
   "cell_type": "markdown",
   "id": "c4010ddc",
   "metadata": {},
   "source": [
    "## 10. Python Program to Create Dictionary that Contains Number"
   ]
  },
  {
   "cell_type": "code",
   "execution_count": 37,
   "id": "e2f24dd6",
   "metadata": {},
   "outputs": [
    {
     "data": {
      "text/plain": [
       "{1: 1, 2: 4, 3: 9, 4: 16, 5: 25}"
      ]
     },
     "execution_count": 37,
     "metadata": {},
     "output_type": "execute_result"
    }
   ],
   "source": [
    "d={i:i**2 for i in range(1,6)}\n",
    "d"
   ]
  },
  {
   "cell_type": "code",
   "execution_count": null,
   "id": "5018169e",
   "metadata": {},
   "outputs": [],
   "source": []
  },
  {
   "cell_type": "code",
   "execution_count": null,
   "id": "e41b2c37",
   "metadata": {},
   "outputs": [],
   "source": []
  },
  {
   "cell_type": "markdown",
   "id": "6219454d",
   "metadata": {},
   "source": [
    "## 11. Python Program to Count the Frequency of Each Word in a String using Dictionary"
   ]
  },
  {
   "cell_type": "markdown",
   "id": "016c427c",
   "metadata": {},
   "source": [
    "Case 2:\n",
    "Enter string:orange banana apple apple orange pineapple\n",
    "{'orange': 2, 'pineapple': 1, 'banana': 1, 'apple': 2}"
   ]
  },
  {
   "cell_type": "code",
   "execution_count": null,
   "id": "4da41097",
   "metadata": {},
   "outputs": [],
   "source": []
  },
  {
   "cell_type": "code",
   "execution_count": 46,
   "id": "8ecf0654",
   "metadata": {},
   "outputs": [],
   "source": [
    "def count_word(s):\n",
    "    d={}\n",
    "    s= s.split(' ')\n",
    "    \n",
    "    for i in s:\n",
    "        if i in d:\n",
    "            d[i] +=1\n",
    "        else:\n",
    "            d[i] =1\n",
    "            \n",
    "    return d"
   ]
  },
  {
   "cell_type": "code",
   "execution_count": 47,
   "id": "842a75f8",
   "metadata": {},
   "outputs": [
    {
     "data": {
      "text/plain": [
       "{'orange': 2, 'banana': 1, 'apple': 2, 'pineapple': 1}"
      ]
     },
     "execution_count": 47,
     "metadata": {},
     "output_type": "execute_result"
    }
   ],
   "source": [
    "s='orange banana apple apple orange pineapple'\n",
    "count_word(s)"
   ]
  },
  {
   "cell_type": "code",
   "execution_count": 48,
   "id": "298aa4bc",
   "metadata": {},
   "outputs": [
    {
     "name": "stdout",
     "output_type": "stream",
     "text": [
      "{'the': 2, 'quick': 1, 'brown': 1, 'fox': 1, 'jumps': 1, 'over': 1, 'lazy': 1, 'dog.': 1}\n"
     ]
    }
   ],
   "source": [
    "print( count_word('the quick brown fox jumps over the lazy dog.'))\n"
   ]
  },
  {
   "cell_type": "code",
   "execution_count": null,
   "id": "fa207bf9",
   "metadata": {},
   "outputs": [],
   "source": []
  },
  {
   "cell_type": "code",
   "execution_count": null,
   "id": "da1c1f78",
   "metadata": {},
   "outputs": [],
   "source": []
  },
  {
   "cell_type": "code",
   "execution_count": null,
   "id": "129e390b",
   "metadata": {},
   "outputs": [],
   "source": []
  }
 ],
 "metadata": {
  "kernelspec": {
   "display_name": "Python 3 (ipykernel)",
   "language": "python",
   "name": "python3"
  },
  "language_info": {
   "codemirror_mode": {
    "name": "ipython",
    "version": 3
   },
   "file_extension": ".py",
   "mimetype": "text/x-python",
   "name": "python",
   "nbconvert_exporter": "python",
   "pygments_lexer": "ipython3",
   "version": "3.9.12"
  }
 },
 "nbformat": 4,
 "nbformat_minor": 5
}
