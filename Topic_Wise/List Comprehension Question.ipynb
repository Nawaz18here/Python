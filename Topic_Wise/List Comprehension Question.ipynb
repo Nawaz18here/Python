{
 "cells": [
  {
   "cell_type": "markdown",
   "id": "89c7b839",
   "metadata": {},
   "source": [
    "# List Comprehension Question"
   ]
  },
  {
   "cell_type": "markdown",
   "id": "3f9fc530",
   "metadata": {},
   "source": [
    " ***Provide a concise way to create lists."
   ]
  },
  {
   "cell_type": "markdown",
   "id": "27c2581a",
   "metadata": {},
   "source": [
    "# Syntax of  List Comprehension"
   ]
  },
  {
   "cell_type": "markdown",
   "id": "6183e704",
   "metadata": {},
   "source": [
    "## newList = [ expression(element) for element in oldList if condition ]"
   ]
  },
  {
   "cell_type": "code",
   "execution_count": null,
   "id": "3fb135ae",
   "metadata": {},
   "outputs": [],
   "source": []
  },
  {
   "cell_type": "code",
   "execution_count": 1,
   "id": "92d7d1c4",
   "metadata": {},
   "outputs": [],
   "source": [
    "a    = [ 1,3,5,7,9,11 ]\n",
    "#O/P = [ 2,6,10,14,18,22 ]"
   ]
  },
  {
   "cell_type": "code",
   "execution_count": 2,
   "id": "9a14fde2",
   "metadata": {},
   "outputs": [
    {
     "name": "stdout",
     "output_type": "stream",
     "text": [
      "[2, 6, 10, 14, 18, 22]\n"
     ]
    }
   ],
   "source": [
    "# 1. Using For Loop\n",
    "b=[]\n",
    "for i in a:\n",
    "    b.append(i*2)\n",
    "print(b) "
   ]
  },
  {
   "cell_type": "code",
   "execution_count": 3,
   "id": "a22c07cd",
   "metadata": {},
   "outputs": [
    {
     "data": {
      "text/plain": [
       "[2, 6, 10, 14, 18, 22]"
      ]
     },
     "execution_count": 3,
     "metadata": {},
     "output_type": "execute_result"
    }
   ],
   "source": [
    "# 2. Using List Comprehension\n",
    "c= [i*2 for i in a]\n",
    "c"
   ]
  },
  {
   "cell_type": "code",
   "execution_count": null,
   "id": "f8168a95",
   "metadata": {},
   "outputs": [],
   "source": []
  },
  {
   "cell_type": "markdown",
   "id": "8fce77fd",
   "metadata": {},
   "source": [
    "## 1. Given a list of numbers, remove all odd numbers from the list:"
   ]
  },
  {
   "cell_type": "code",
   "execution_count": 4,
   "id": "8b758213",
   "metadata": {},
   "outputs": [],
   "source": [
    "numbers = [3,5,45,97,32,22,10,19,39,43]"
   ]
  },
  {
   "cell_type": "code",
   "execution_count": 5,
   "id": "b27cfadf",
   "metadata": {},
   "outputs": [
    {
     "name": "stdout",
     "output_type": "stream",
     "text": [
      "[32, 22, 10]\n"
     ]
    }
   ],
   "source": [
    "# 1. Using Filter Function\n",
    "y = list ( filter( lambda x: x%2==0 , numbers) ) \n",
    "print(y)"
   ]
  },
  {
   "cell_type": "code",
   "execution_count": 6,
   "id": "5bbe4553",
   "metadata": {},
   "outputs": [
    {
     "name": "stdout",
     "output_type": "stream",
     "text": [
      "[32, 22, 10]\n"
     ]
    }
   ],
   "source": [
    "# 2. Using For Loop and Append Function\n",
    "y3=[]\n",
    "for i in numbers:\n",
    "    if i%2==0:\n",
    "        y3.append(i)\n",
    "print(y3)"
   ]
  },
  {
   "cell_type": "code",
   "execution_count": 7,
   "id": "4164c94e",
   "metadata": {},
   "outputs": [
    {
     "name": "stdout",
     "output_type": "stream",
     "text": [
      "[32, 22, 10]\n"
     ]
    }
   ],
   "source": [
    "# 3. Using List Comprehension\n",
    "y2 = [i for i in numbers if i%2!=0]\n",
    "print(y)"
   ]
  },
  {
   "cell_type": "code",
   "execution_count": null,
   "id": "b5473ff5",
   "metadata": {},
   "outputs": [],
   "source": []
  },
  {
   "cell_type": "markdown",
   "id": "4759dbd1",
   "metadata": {},
   "source": [
    "## 2. Find all of the numbers from 1-1000 that are divisible by 7"
   ]
  },
  {
   "cell_type": "code",
   "execution_count": 8,
   "id": "7b4bc6e6",
   "metadata": {},
   "outputs": [
    {
     "data": {
      "text/plain": [
       "[7,\n",
       " 14,\n",
       " 21,\n",
       " 28,\n",
       " 35,\n",
       " 42,\n",
       " 49,\n",
       " 56,\n",
       " 63,\n",
       " 70,\n",
       " 77,\n",
       " 84,\n",
       " 91,\n",
       " 98,\n",
       " 105,\n",
       " 112,\n",
       " 119,\n",
       " 126,\n",
       " 133,\n",
       " 140,\n",
       " 147,\n",
       " 154,\n",
       " 161,\n",
       " 168,\n",
       " 175,\n",
       " 182,\n",
       " 189,\n",
       " 196,\n",
       " 203,\n",
       " 210,\n",
       " 217,\n",
       " 224,\n",
       " 231,\n",
       " 238,\n",
       " 245,\n",
       " 252,\n",
       " 259,\n",
       " 266,\n",
       " 273,\n",
       " 280,\n",
       " 287,\n",
       " 294,\n",
       " 301,\n",
       " 308,\n",
       " 315,\n",
       " 322,\n",
       " 329,\n",
       " 336,\n",
       " 343,\n",
       " 350,\n",
       " 357,\n",
       " 364,\n",
       " 371,\n",
       " 378,\n",
       " 385,\n",
       " 392,\n",
       " 399,\n",
       " 406,\n",
       " 413,\n",
       " 420,\n",
       " 427,\n",
       " 434,\n",
       " 441,\n",
       " 448,\n",
       " 455,\n",
       " 462,\n",
       " 469,\n",
       " 476,\n",
       " 483,\n",
       " 490,\n",
       " 497,\n",
       " 504,\n",
       " 511,\n",
       " 518,\n",
       " 525,\n",
       " 532,\n",
       " 539,\n",
       " 546,\n",
       " 553,\n",
       " 560,\n",
       " 567,\n",
       " 574,\n",
       " 581,\n",
       " 588,\n",
       " 595,\n",
       " 602,\n",
       " 609,\n",
       " 616,\n",
       " 623,\n",
       " 630,\n",
       " 637,\n",
       " 644,\n",
       " 651,\n",
       " 658,\n",
       " 665,\n",
       " 672,\n",
       " 679,\n",
       " 686,\n",
       " 693,\n",
       " 700,\n",
       " 707,\n",
       " 714,\n",
       " 721,\n",
       " 728,\n",
       " 735,\n",
       " 742,\n",
       " 749,\n",
       " 756,\n",
       " 763,\n",
       " 770,\n",
       " 777,\n",
       " 784,\n",
       " 791,\n",
       " 798,\n",
       " 805,\n",
       " 812,\n",
       " 819,\n",
       " 826,\n",
       " 833,\n",
       " 840,\n",
       " 847,\n",
       " 854,\n",
       " 861,\n",
       " 868,\n",
       " 875,\n",
       " 882,\n",
       " 889,\n",
       " 896,\n",
       " 903,\n",
       " 910,\n",
       " 917,\n",
       " 924,\n",
       " 931,\n",
       " 938,\n",
       " 945,\n",
       " 952,\n",
       " 959,\n",
       " 966,\n",
       " 973,\n",
       " 980,\n",
       " 987,\n",
       " 994]"
      ]
     },
     "execution_count": 8,
     "metadata": {},
     "output_type": "execute_result"
    }
   ],
   "source": [
    "x = [i for i in range(1,1001) if i%7==0]\n",
    "x"
   ]
  },
  {
   "cell_type": "code",
   "execution_count": null,
   "id": "87de95e4",
   "metadata": {},
   "outputs": [],
   "source": []
  },
  {
   "cell_type": "markdown",
   "id": "480b320b",
   "metadata": {},
   "source": [
    "## 3. Find all of the numbers from 1-1000 that have a 3 in them"
   ]
  },
  {
   "cell_type": "code",
   "execution_count": 9,
   "id": "45593c7e",
   "metadata": {},
   "outputs": [
    {
     "data": {
      "text/plain": [
       "[3,\n",
       " 13,\n",
       " 23,\n",
       " 30,\n",
       " 31,\n",
       " 32,\n",
       " 33,\n",
       " 34,\n",
       " 35,\n",
       " 36,\n",
       " 37,\n",
       " 38,\n",
       " 39,\n",
       " 43,\n",
       " 53,\n",
       " 63,\n",
       " 73,\n",
       " 83,\n",
       " 93,\n",
       " 103,\n",
       " 113,\n",
       " 123,\n",
       " 130,\n",
       " 131,\n",
       " 132,\n",
       " 133,\n",
       " 134,\n",
       " 135,\n",
       " 136,\n",
       " 137,\n",
       " 138,\n",
       " 139,\n",
       " 143,\n",
       " 153,\n",
       " 163,\n",
       " 173,\n",
       " 183,\n",
       " 193,\n",
       " 203,\n",
       " 213,\n",
       " 223,\n",
       " 230,\n",
       " 231,\n",
       " 232,\n",
       " 233,\n",
       " 234,\n",
       " 235,\n",
       " 236,\n",
       " 237,\n",
       " 238,\n",
       " 239,\n",
       " 243,\n",
       " 253,\n",
       " 263,\n",
       " 273,\n",
       " 283,\n",
       " 293,\n",
       " 300,\n",
       " 301,\n",
       " 302,\n",
       " 303,\n",
       " 304,\n",
       " 305,\n",
       " 306,\n",
       " 307,\n",
       " 308,\n",
       " 309,\n",
       " 310,\n",
       " 311,\n",
       " 312,\n",
       " 313,\n",
       " 314,\n",
       " 315,\n",
       " 316,\n",
       " 317,\n",
       " 318,\n",
       " 319,\n",
       " 320,\n",
       " 321,\n",
       " 322,\n",
       " 323,\n",
       " 324,\n",
       " 325,\n",
       " 326,\n",
       " 327,\n",
       " 328,\n",
       " 329,\n",
       " 330,\n",
       " 331,\n",
       " 332,\n",
       " 333,\n",
       " 334,\n",
       " 335,\n",
       " 336,\n",
       " 337,\n",
       " 338,\n",
       " 339,\n",
       " 340,\n",
       " 341,\n",
       " 342,\n",
       " 343,\n",
       " 344,\n",
       " 345,\n",
       " 346,\n",
       " 347,\n",
       " 348,\n",
       " 349,\n",
       " 350,\n",
       " 351,\n",
       " 352,\n",
       " 353,\n",
       " 354,\n",
       " 355,\n",
       " 356,\n",
       " 357,\n",
       " 358,\n",
       " 359,\n",
       " 360,\n",
       " 361,\n",
       " 362,\n",
       " 363,\n",
       " 364,\n",
       " 365,\n",
       " 366,\n",
       " 367,\n",
       " 368,\n",
       " 369,\n",
       " 370,\n",
       " 371,\n",
       " 372,\n",
       " 373,\n",
       " 374,\n",
       " 375,\n",
       " 376,\n",
       " 377,\n",
       " 378,\n",
       " 379,\n",
       " 380,\n",
       " 381,\n",
       " 382,\n",
       " 383,\n",
       " 384,\n",
       " 385,\n",
       " 386,\n",
       " 387,\n",
       " 388,\n",
       " 389,\n",
       " 390,\n",
       " 391,\n",
       " 392,\n",
       " 393,\n",
       " 394,\n",
       " 395,\n",
       " 396,\n",
       " 397,\n",
       " 398,\n",
       " 399,\n",
       " 403,\n",
       " 413,\n",
       " 423,\n",
       " 430,\n",
       " 431,\n",
       " 432,\n",
       " 433,\n",
       " 434,\n",
       " 435,\n",
       " 436,\n",
       " 437,\n",
       " 438,\n",
       " 439,\n",
       " 443,\n",
       " 453,\n",
       " 463,\n",
       " 473,\n",
       " 483,\n",
       " 493,\n",
       " 503,\n",
       " 513,\n",
       " 523,\n",
       " 530,\n",
       " 531,\n",
       " 532,\n",
       " 533,\n",
       " 534,\n",
       " 535,\n",
       " 536,\n",
       " 537,\n",
       " 538,\n",
       " 539,\n",
       " 543,\n",
       " 553,\n",
       " 563,\n",
       " 573,\n",
       " 583,\n",
       " 593,\n",
       " 603,\n",
       " 613,\n",
       " 623,\n",
       " 630,\n",
       " 631,\n",
       " 632,\n",
       " 633,\n",
       " 634,\n",
       " 635,\n",
       " 636,\n",
       " 637,\n",
       " 638,\n",
       " 639,\n",
       " 643,\n",
       " 653,\n",
       " 663,\n",
       " 673,\n",
       " 683,\n",
       " 693,\n",
       " 703,\n",
       " 713,\n",
       " 723,\n",
       " 730,\n",
       " 731,\n",
       " 732,\n",
       " 733,\n",
       " 734,\n",
       " 735,\n",
       " 736,\n",
       " 737,\n",
       " 738,\n",
       " 739,\n",
       " 743,\n",
       " 753,\n",
       " 763,\n",
       " 773,\n",
       " 783,\n",
       " 793,\n",
       " 803,\n",
       " 813,\n",
       " 823,\n",
       " 830,\n",
       " 831,\n",
       " 832,\n",
       " 833,\n",
       " 834,\n",
       " 835,\n",
       " 836,\n",
       " 837,\n",
       " 838,\n",
       " 839,\n",
       " 843,\n",
       " 853,\n",
       " 863,\n",
       " 873,\n",
       " 883,\n",
       " 893,\n",
       " 903,\n",
       " 913,\n",
       " 923,\n",
       " 930,\n",
       " 931,\n",
       " 932,\n",
       " 933,\n",
       " 934,\n",
       " 935,\n",
       " 936,\n",
       " 937,\n",
       " 938,\n",
       " 939,\n",
       " 943,\n",
       " 953,\n",
       " 963,\n",
       " 973,\n",
       " 983,\n",
       " 993]"
      ]
     },
     "execution_count": 9,
     "metadata": {},
     "output_type": "execute_result"
    }
   ],
   "source": [
    "y = [i for i in range(1,1001) if '3' in str(i)]\n",
    "y"
   ]
  },
  {
   "cell_type": "code",
   "execution_count": null,
   "id": "8e931f9b",
   "metadata": {},
   "outputs": [],
   "source": []
  },
  {
   "cell_type": "markdown",
   "id": "66ee329b",
   "metadata": {},
   "source": [
    "## 4. Count the number of spaces in a string"
   ]
  },
  {
   "cell_type": "code",
   "execution_count": 21,
   "id": "73175621",
   "metadata": {},
   "outputs": [
    {
     "name": "stdout",
     "output_type": "stream",
     "text": [
      "5\n"
     ]
    }
   ],
   "source": [
    "str = \"Hello Im writing a python code\"\n",
    "count= [i for i in str if i==' ']\n",
    "print(len(count))"
   ]
  },
  {
   "cell_type": "code",
   "execution_count": null,
   "id": "6c50990b",
   "metadata": {},
   "outputs": [],
   "source": []
  },
  {
   "cell_type": "markdown",
   "id": "5b5bbda0",
   "metadata": {},
   "source": [
    "## 5. Create a list of all the consonants in the string"
   ]
  },
  {
   "cell_type": "code",
   "execution_count": 23,
   "id": "ec15d24c",
   "metadata": {},
   "outputs": [],
   "source": [
    "some_str= '''Yellow Yaks like yelling and yawning and yesturday\n",
    "they yodled while eating yuky yams'''"
   ]
  },
  {
   "cell_type": "code",
   "execution_count": 26,
   "id": "b9c86915",
   "metadata": {},
   "outputs": [
    {
     "data": {
      "text/plain": [
       "['Y',\n",
       " 'l',\n",
       " 'l',\n",
       " 'w',\n",
       " 'Y',\n",
       " 'k',\n",
       " 's',\n",
       " 'l',\n",
       " 'k',\n",
       " 'y',\n",
       " 'l',\n",
       " 'l',\n",
       " 'n',\n",
       " 'g',\n",
       " 'n',\n",
       " 'd',\n",
       " 'y',\n",
       " 'w',\n",
       " 'n',\n",
       " 'n',\n",
       " 'g',\n",
       " 'n',\n",
       " 'd',\n",
       " 'y',\n",
       " 's',\n",
       " 't',\n",
       " 'r',\n",
       " 'd',\n",
       " 'y',\n",
       " '\\n',\n",
       " 't',\n",
       " 'h',\n",
       " 'y',\n",
       " 'y',\n",
       " 'd',\n",
       " 'l',\n",
       " 'd',\n",
       " 'w',\n",
       " 'h',\n",
       " 'l',\n",
       " 't',\n",
       " 'n',\n",
       " 'g',\n",
       " 'y',\n",
       " 'k',\n",
       " 'y',\n",
       " 'y',\n",
       " 'm',\n",
       " 's']"
      ]
     },
     "execution_count": 26,
     "metadata": {},
     "output_type": "execute_result"
    }
   ],
   "source": [
    "vowel=['a','e','i','o','u',' ']\n",
    "consonants = [i for i in some_str if i not in vowel]\n",
    "consonants"
   ]
  },
  {
   "cell_type": "code",
   "execution_count": null,
   "id": "9d61a970",
   "metadata": {},
   "outputs": [],
   "source": []
  },
  {
   "cell_type": "markdown",
   "id": "b335ef01",
   "metadata": {},
   "source": [
    "## 6. Get the index and the value as a tuple for items in the list ['hi', 4, 8.99, 'apple', ('t','b','n')]\n",
    "\n",
    "Result would look like (index, value), (index, value)"
   ]
  },
  {
   "cell_type": "code",
   "execution_count": 41,
   "id": "63a800c9",
   "metadata": {},
   "outputs": [
    {
     "data": {
      "text/plain": [
       "[(0, 'hi'), (1, 4), (2, 8.99), (3, 'apple'), (4, ('t', 'b', 'n'))]"
      ]
     },
     "execution_count": 41,
     "metadata": {},
     "output_type": "execute_result"
    }
   ],
   "source": [
    "list= ['hi', 4, 8.99, 'apple', ('t','b','n')]\n",
    "\n",
    "result = [(index,value) for index,value in enumerate(list) ]\n",
    "result"
   ]
  },
  {
   "cell_type": "code",
   "execution_count": null,
   "id": "dc40f512",
   "metadata": {},
   "outputs": [],
   "source": []
  },
  {
   "cell_type": "markdown",
   "id": "3c472693",
   "metadata": {},
   "source": [
    "## 7. Find the common numbers in two lists (without using a tuple or set)"
   ]
  },
  {
   "cell_type": "code",
   "execution_count": 49,
   "id": "2954c2ab",
   "metadata": {},
   "outputs": [],
   "source": [
    "list_a = 1, 2, 3, 4\n",
    "list_b = 2, 3, 4, 5"
   ]
  },
  {
   "cell_type": "code",
   "execution_count": 51,
   "id": "b221d382",
   "metadata": {},
   "outputs": [
    {
     "data": {
      "text/plain": [
       "[2, 3, 4]"
      ]
     },
     "execution_count": 51,
     "metadata": {},
     "output_type": "execute_result"
    }
   ],
   "source": [
    "num= [i for i in list_a if i in list_b]\n",
    "num"
   ]
  },
  {
   "cell_type": "code",
   "execution_count": null,
   "id": "f1a157ab",
   "metadata": {},
   "outputs": [],
   "source": []
  },
  {
   "cell_type": "markdown",
   "id": "b47f7f7a",
   "metadata": {},
   "source": [
    "## 8. Get only the numbers in a sentence like ‘In 1984 there were 13 instances of a protest with over 1000 people attending’"
   ]
  },
  {
   "cell_type": "code",
   "execution_count": 52,
   "id": "1383fbb9",
   "metadata": {},
   "outputs": [],
   "source": [
    "sentence= 'In 1984 there were 13 instances of a protest with over 1000 people attending'"
   ]
  },
  {
   "cell_type": "code",
   "execution_count": 67,
   "id": "0bd46a04",
   "metadata": {},
   "outputs": [
    {
     "data": {
      "text/plain": [
       "['1984', '13', '1000']"
      ]
     },
     "execution_count": 67,
     "metadata": {},
     "output_type": "execute_result"
    }
   ],
   "source": [
    "word = sentence.split()\n",
    "x_num = [i for i in word if i.isnumeric() ]\n",
    "x_num"
   ]
  },
  {
   "cell_type": "code",
   "execution_count": null,
   "id": "b9332b7a",
   "metadata": {},
   "outputs": [],
   "source": []
  },
  {
   "cell_type": "markdown",
   "id": "e84205a4",
   "metadata": {},
   "source": [
    "## 9. Given numbers = range(20), produce a list containing the word ‘even’ if a number in the numbers is even, and the word ‘odd’ if the number is odd. Result would look like ‘odd’,’odd’, ‘even’"
   ]
  },
  {
   "cell_type": "code",
   "execution_count": 73,
   "id": "15571104",
   "metadata": {},
   "outputs": [],
   "source": [
    "result = ['even' if i%2==0 else 'odd' for i in range(1,20)]"
   ]
  },
  {
   "cell_type": "code",
   "execution_count": 74,
   "id": "189ad993",
   "metadata": {},
   "outputs": [
    {
     "data": {
      "text/plain": [
       "['odd',\n",
       " 'even',\n",
       " 'odd',\n",
       " 'even',\n",
       " 'odd',\n",
       " 'even',\n",
       " 'odd',\n",
       " 'even',\n",
       " 'odd',\n",
       " 'even',\n",
       " 'odd',\n",
       " 'even',\n",
       " 'odd',\n",
       " 'even',\n",
       " 'odd',\n",
       " 'even',\n",
       " 'odd',\n",
       " 'even',\n",
       " 'odd']"
      ]
     },
     "execution_count": 74,
     "metadata": {},
     "output_type": "execute_result"
    }
   ],
   "source": [
    "result"
   ]
  },
  {
   "cell_type": "code",
   "execution_count": null,
   "id": "2826a768",
   "metadata": {},
   "outputs": [],
   "source": []
  },
  {
   "cell_type": "markdown",
   "id": "b8d9dd4a",
   "metadata": {},
   "source": [
    "## 10. Produce a list of tuples consisting of only the matching numbers in these lists.\n",
    "\n",
    "list_a = [1,2,3,4,5,6,7,8,9]\n",
    "\n",
    "list_b = [2,7,1,12] \n",
    "\n",
    "Result would look like (4,4), (12,12)"
   ]
  },
  {
   "cell_type": "code",
   "execution_count": 77,
   "id": "2be5cc35",
   "metadata": {},
   "outputs": [],
   "source": [
    "list_a = [1,2,3,4,5,6,7,8,9]\n",
    "list_b = [2,7,1,12]"
   ]
  },
  {
   "cell_type": "code",
   "execution_count": 82,
   "id": "f5d63d53",
   "metadata": {},
   "outputs": [
    {
     "data": {
      "text/plain": [
       "[(1, 1), (2, 2), (7, 7)]"
      ]
     },
     "execution_count": 82,
     "metadata": {},
     "output_type": "execute_result"
    }
   ],
   "source": [
    "y = [(i,i) for i in list_a if i in list_b ]\n",
    "y"
   ]
  },
  {
   "cell_type": "code",
   "execution_count": 80,
   "id": "f166ae19",
   "metadata": {},
   "outputs": [
    {
     "name": "stdout",
     "output_type": "stream",
     "text": [
      "[(1, 1), (2, 2), (7, 7)]\n"
     ]
    }
   ],
   "source": [
    "result = [(a, b) for a in list_a for b in list_b if a == b]\n",
    "print(result)"
   ]
  },
  {
   "cell_type": "code",
   "execution_count": null,
   "id": "652ed64e",
   "metadata": {},
   "outputs": [],
   "source": []
  },
  {
   "cell_type": "markdown",
   "id": "523f04b9",
   "metadata": {},
   "source": [
    "## 11. Find all of the words in a string that are less than 4 letters"
   ]
  },
  {
   "cell_type": "code",
   "execution_count": 84,
   "id": "18b97a75",
   "metadata": {},
   "outputs": [],
   "source": [
    "sentence = 'On a summer day somner smith went simming in the sun and his red skin stung'"
   ]
  },
  {
   "cell_type": "code",
   "execution_count": 86,
   "id": "e00f7009",
   "metadata": {},
   "outputs": [
    {
     "data": {
      "text/plain": [
       "['On', 'a', 'day', 'in', 'the', 'sun', 'and', 'his', 'red']"
      ]
     },
     "execution_count": 86,
     "metadata": {},
     "output_type": "execute_result"
    }
   ],
   "source": [
    "all_str = [ i for i in sentence.split() if len(i)<4 ]\n",
    "all_str"
   ]
  },
  {
   "cell_type": "code",
   "execution_count": null,
   "id": "d4cc726f",
   "metadata": {},
   "outputs": [],
   "source": []
  },
  {
   "cell_type": "markdown",
   "id": "0e33c2c9",
   "metadata": {},
   "source": [
    "## 12. Use a nested list comprehension to find all of the numbers from 1-1000 that are divisible by any single digit besides 1 (2-9)"
   ]
  },
  {
   "cell_type": "code",
   "execution_count": null,
   "id": "859db0af",
   "metadata": {},
   "outputs": [],
   "source": []
  },
  {
   "cell_type": "code",
   "execution_count": 87,
   "id": "70195db9",
   "metadata": {},
   "outputs": [
    {
     "name": "stdout",
     "output_type": "stream",
     "text": [
      "{2, 3, 4, 5, 6, 7, 8, 9, 10, 12, 14, 15, 16, 18, 20, 21, 22, 24, 25, 26, 27, 28, 30, 32, 33, 34, 35, 36, 38, 39, 40, 42, 44, 45, 46, 48, 49, 50, 51, 52, 54, 55, 56, 57, 58, 60, 62, 63, 64, 65, 66, 68, 69, 70, 72, 74, 75, 76, 77, 78, 80, 81, 82, 84, 85, 86, 87, 88, 90, 91, 92, 93, 94, 95, 96, 98, 99}\n"
     ]
    }
   ],
   "source": [
    "#Using For Loop\n",
    "no_dups = set ()\n",
    "\n",
    "for n in range(1,100):\n",
    "    for x in range(2,10):\n",
    "        if n%x==0:\n",
    "            no_dups.add(n)\n",
    "print(no_dups)\n"
   ]
  },
  {
   "cell_type": "code",
   "execution_count": 90,
   "id": "eb84ce39",
   "metadata": {},
   "outputs": [
    {
     "data": {
      "text/plain": [
       "[0,\n",
       " 2,\n",
       " 3,\n",
       " 4,\n",
       " 5,\n",
       " 6,\n",
       " 7,\n",
       " 8,\n",
       " 9,\n",
       " 10,\n",
       " 12,\n",
       " 14,\n",
       " 15,\n",
       " 16,\n",
       " 18,\n",
       " 20,\n",
       " 21,\n",
       " 22,\n",
       " 24,\n",
       " 25,\n",
       " 26,\n",
       " 27,\n",
       " 28,\n",
       " 30,\n",
       " 32,\n",
       " 33,\n",
       " 34,\n",
       " 35,\n",
       " 36,\n",
       " 38,\n",
       " 39,\n",
       " 40,\n",
       " 42,\n",
       " 44,\n",
       " 45,\n",
       " 46,\n",
       " 48,\n",
       " 49,\n",
       " 50,\n",
       " 51,\n",
       " 52,\n",
       " 54,\n",
       " 55,\n",
       " 56,\n",
       " 57,\n",
       " 58,\n",
       " 60,\n",
       " 62,\n",
       " 63,\n",
       " 64,\n",
       " 65,\n",
       " 66,\n",
       " 68,\n",
       " 69,\n",
       " 70,\n",
       " 72,\n",
       " 74,\n",
       " 75,\n",
       " 76,\n",
       " 77,\n",
       " 78,\n",
       " 80,\n",
       " 81,\n",
       " 82,\n",
       " 84,\n",
       " 85,\n",
       " 86,\n",
       " 87,\n",
       " 88,\n",
       " 90,\n",
       " 91,\n",
       " 92,\n",
       " 93,\n",
       " 94,\n",
       " 95,\n",
       " 96,\n",
       " 98,\n",
       " 99]"
      ]
     },
     "execution_count": 90,
     "metadata": {},
     "output_type": "execute_result"
    }
   ],
   "source": [
    "#Using List Comprehension\n",
    "res = [ number for number in range(100) if True in [True for x in range(2,9) if number%x ==0] ] \n",
    "res"
   ]
  },
  {
   "cell_type": "code",
   "execution_count": null,
   "id": "028560c1",
   "metadata": {},
   "outputs": [],
   "source": []
  }
 ],
 "metadata": {
  "kernelspec": {
   "display_name": "Python 3 (ipykernel)",
   "language": "python",
   "name": "python3"
  },
  "language_info": {
   "codemirror_mode": {
    "name": "ipython",
    "version": 3
   },
   "file_extension": ".py",
   "mimetype": "text/x-python",
   "name": "python",
   "nbconvert_exporter": "python",
   "pygments_lexer": "ipython3",
   "version": "3.9.12"
  }
 },
 "nbformat": 4,
 "nbformat_minor": 5
}
