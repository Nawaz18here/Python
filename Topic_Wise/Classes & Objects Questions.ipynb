{
 "cells": [
  {
   "cell_type": "markdown",
   "id": "c06d3315",
   "metadata": {},
   "source": [
    "## 1. Python Program to Create a Class which Performs Basic Calculator Operations"
   ]
  },
  {
   "cell_type": "code",
   "execution_count": null,
   "id": "27d2e496",
   "metadata": {},
   "outputs": [],
   "source": []
  },
  {
   "cell_type": "code",
   "execution_count": 6,
   "id": "df563860",
   "metadata": {},
   "outputs": [],
   "source": [
    "class Calculator():\n",
    "    \n",
    "    def __init__(self,num1,num2):\n",
    "        self.num1=num1\n",
    "        self.num2=num2\n",
    "        \n",
    "    def addition(self):\n",
    "        add=self.num1+self.num2\n",
    "        print('Addition of {} & {} is {} '.format(self.num1,self.num2,add))\n",
    "        \n",
    "    def subtraction(self):\n",
    "        subs=self.num1-self.num2\n",
    "        print('Subtraction of {} & {} is {} '.format(self.num1,self.num2,subs))\n",
    "    \n",
    "    def multiplication(self):\n",
    "        mul=self.num1*self.num2\n",
    "        print('Multiplication of {} & {} is {} '.format(self.num1,self.num2,mul))\n",
    "        \n",
    "    def division(self):\n",
    "        divi=self.num1/self.num2\n",
    "        print('Division of {} & {} is {} '.format(self.num1,self.num2,divi))\n",
    "        \n",
    "\n",
    "    "
   ]
  },
  {
   "cell_type": "code",
   "execution_count": 7,
   "id": "fd03b351",
   "metadata": {},
   "outputs": [
    {
     "name": "stdout",
     "output_type": "stream",
     "text": [
      "Addition of 4 & 3 is 7 \n",
      "Subtraction of 4 & 3 is 1 \n",
      "Multiplication of 4 & 3 is 12 \n",
      "Division of 4 & 3 is 1.3333333333333333 \n"
     ]
    }
   ],
   "source": [
    "b1=Calculator(4,3)\n",
    "b1.addition()\n",
    "b1.subtraction()\n",
    "b1.multiplication()\n",
    "b1.division()"
   ]
  },
  {
   "cell_type": "code",
   "execution_count": null,
   "id": "16c26514",
   "metadata": {},
   "outputs": [],
   "source": []
  },
  {
   "cell_type": "code",
   "execution_count": null,
   "id": "8716a50d",
   "metadata": {},
   "outputs": [],
   "source": []
  },
  {
   "cell_type": "code",
   "execution_count": 2,
   "id": "84e5fb94",
   "metadata": {},
   "outputs": [
    {
     "name": "stdout",
     "output_type": "stream",
     "text": [
      "Enter First No: 4\n",
      "Enter Second No: 8\n",
      "0. Exit\n",
      "1. Addition\n",
      "2. Subtraction\n",
      "3. Multiplication\n",
      "4. Division\n",
      "Enter your choice... 5\n",
      "Sorry, Invalid choice!\n",
      "0. Exit\n",
      "1. Addition\n",
      "2. Subtraction\n",
      "3. Multiplication\n",
      "4. Division\n",
      "Enter your choice... 1\n",
      "The computed addition result is :  12\n",
      "0. Exit\n",
      "1. Addition\n",
      "2. Subtraction\n",
      "3. Multiplication\n",
      "4. Division\n",
      "Enter your choice... 0\n",
      "Comes out of the program!\n",
      "\n",
      "\n",
      "\n"
     ]
    }
   ],
   "source": [
    "class Basic_Calculator():\n",
    "    \n",
    "    def __init__(self,num1,num2):\n",
    "        self.num1=num1\n",
    "        self.num2=num2\n",
    "        \n",
    "    def addition(self):\n",
    "        add=self.num1+self.num2\n",
    "        return add\n",
    "        \n",
    "    def subtraction(self):\n",
    "        subs=self.num1-self.num2\n",
    "        return subs\n",
    "        \n",
    "    def multiplication(self):\n",
    "        mul=self.num1*self.num2\n",
    "        return mul\n",
    "        \n",
    "    def division(self):\n",
    "        divi=self.num1/self.num2\n",
    "        return divi\n",
    "\n",
    "num1= int(input(\"Enter First No: \"))\n",
    "num2= int(input(\"Enter Second No: \"))\n",
    "obj1 = Basic_Calculator(num1,num2)\n",
    "\n",
    "choice=1\n",
    "while choice!=0:\n",
    "    \n",
    "    print(\"0. Exit\")\n",
    "    print(\"1. Addition\")\n",
    "    print(\"2. Subtraction\")\n",
    "    print(\"3. Multiplication\")\n",
    "    print(\"4. Division\")\n",
    "    choice=int(input(\"Enter your choice... \"))\n",
    "    \n",
    "    \n",
    "    if choice==1:\n",
    "        print(\"The computed addition result is : \",obj1.addition())\n",
    "    elif choice==2:\n",
    "        print(\"The computed subtraction result is : \",obj1.subtraction())\n",
    "    elif choice==3:\n",
    "        print(\"The computed product result is : \",obj1.multiplication())\n",
    "    elif choice==4:\n",
    "        print(\"The computed division result is : \",round(obj1.division(),2))\n",
    "    elif choice==0:\n",
    "        print(\"Comes out of the program!\")\n",
    "    else:\n",
    "        print(\"Sorry, Invalid choice!\")\n",
    "        \n",
    "print('\\n\\n')\n",
    "    \n",
    "\n",
    "\n"
   ]
  },
  {
   "cell_type": "code",
   "execution_count": null,
   "id": "2a0e2e12",
   "metadata": {},
   "outputs": [],
   "source": []
  },
  {
   "cell_type": "code",
   "execution_count": null,
   "id": "41de0c08",
   "metadata": {},
   "outputs": [],
   "source": []
  },
  {
   "cell_type": "markdown",
   "id": "c2e34630",
   "metadata": {},
   "source": [
    "## 2. Python Program to Append, Delete and Display Elements of a List using Classes"
   ]
  },
  {
   "cell_type": "code",
   "execution_count": 20,
   "id": "080897a1",
   "metadata": {},
   "outputs": [],
   "source": [
    "class Operation_list():\n",
    "    \n",
    "    def __init__(self):\n",
    "        self.lst = list() \n",
    "    \n",
    "    def append_element(self,a):\n",
    "        return self.lst.append(a)\n",
    "    \n",
    "    def delete_element(self,b):\n",
    "        self.lst.remove(b)\n",
    "    \n",
    "    def display_list(self):\n",
    "        return self.lst\n",
    "    \n",
    "    \n"
   ]
  },
  {
   "cell_type": "code",
   "execution_count": 27,
   "id": "fdbba8c5",
   "metadata": {},
   "outputs": [
    {
     "name": "stdout",
     "output_type": "stream",
     "text": [
      "List before:  [1, 2, 3]\n",
      "List After:  [1, 3]\n"
     ]
    }
   ],
   "source": [
    "c1= Operation_list()\n",
    "c1.append_element(1)\n",
    "c1.append_element(2)\n",
    "c1.append_element(3)\n",
    "print(\"List before: \",c1.display_list())\n",
    "c1.delete_element(2)\n",
    "print(\"List After: \",c1.display_list())\n"
   ]
  },
  {
   "cell_type": "code",
   "execution_count": null,
   "id": "f3a198ca",
   "metadata": {},
   "outputs": [],
   "source": []
  },
  {
   "cell_type": "code",
   "execution_count": null,
   "id": "a3c969a3",
   "metadata": {},
   "outputs": [],
   "source": []
  },
  {
   "cell_type": "code",
   "execution_count": 1,
   "id": "319713e6",
   "metadata": {},
   "outputs": [
    {
     "name": "stdout",
     "output_type": "stream",
     "text": [
      "0. Exit\n",
      "1. Add Element\n",
      "2. Delete Element\n",
      "3. Display List\n",
      "Enter choice: 1\n",
      "Enter number to append: 13\n",
      "List:  [13]\n",
      "0. Exit\n",
      "1. Add Element\n",
      "2. Delete Element\n",
      "3. Display List\n",
      "Enter choice: 1\n",
      "Enter number to append: 53\n",
      "List:  [13, 53]\n",
      "0. Exit\n",
      "1. Add Element\n",
      "2. Delete Element\n",
      "3. Display List\n",
      "Enter choice: 18\n",
      "Invalid choice!!\n",
      "0. Exit\n",
      "1. Add Element\n",
      "2. Delete Element\n",
      "3. Display List\n",
      "Enter choice: 2\n",
      "Enter number to remove: 53\n",
      "List:  [13]\n",
      "0. Exit\n",
      "1. Add Element\n",
      "2. Delete Element\n",
      "3. Display List\n",
      "Enter choice: 3\n",
      "List:  [13]\n",
      "0. Exit\n",
      "1. Add Element\n",
      "2. Delete Element\n",
      "3. Display List\n",
      "Enter choice: 0\n",
      "Comes out of program!\n"
     ]
    }
   ],
   "source": [
    "class List_Program():\n",
    "    \n",
    "    def __init__(self):\n",
    "        self.lst = list() \n",
    "    \n",
    "    def append_element(self,a):\n",
    "        return self.lst.append(a)\n",
    "    \n",
    "    def delete_element(self,b):\n",
    "        self.lst.remove(b)\n",
    "    \n",
    "    def display_list(self):\n",
    "        return self.lst\n",
    "    \n",
    "obj = List_Program()\n",
    "\n",
    "choice = 1\n",
    "while choice != 0:\n",
    "    print(\"0. Exit\")\n",
    "    print(\"1. Add Element\")\n",
    "    print(\"2. Delete Element\")\n",
    "    print(\"3. Display List\")\n",
    "    choice = int(input(\"Enter choice: \"))\n",
    "    if choice == 1:\n",
    "        n = int(input(\"Enter number to append: \"))\n",
    "        obj.append_element(n)\n",
    "        print(\"List: \", obj.display_list())\n",
    "    elif choice == 2:\n",
    "        n = int(input(\"Enter number to remove: \"))\n",
    "        obj.delete_element(n)\n",
    "        print(\"List: \", obj.display_list())\n",
    "    elif choice == 3:\n",
    "        print(\"List: \", obj.display_list())\n",
    "    elif choice == 0:\n",
    "        print(\"Comes out of program!\")\n",
    "    else:\n",
    "        print(\"Invalid choice!!\")"
   ]
  },
  {
   "cell_type": "code",
   "execution_count": null,
   "id": "1c197915",
   "metadata": {},
   "outputs": [],
   "source": []
  },
  {
   "cell_type": "code",
   "execution_count": null,
   "id": "8b8770f2",
   "metadata": {},
   "outputs": [],
   "source": []
  },
  {
   "cell_type": "markdown",
   "id": "6a19df8c",
   "metadata": {},
   "source": [
    "## 3. Python Program to Find the Area of a Rectangle Using Classes"
   ]
  },
  {
   "cell_type": "code",
   "execution_count": 7,
   "id": "bb8cd649",
   "metadata": {},
   "outputs": [],
   "source": [
    "class Rectangle():\n",
    "    \n",
    "    def __init__(self,length,breadth):\n",
    "        self.length = length\n",
    "        self.breadth = breadth\n",
    "        \n",
    "    def calc_area(self):\n",
    "        area=self.length*self.breadth\n",
    "        print('Area of Rectangle having lenghth : {} & breadth : {} is {} '.format(self.length,self.breadth,area))\n",
    "        \n",
    "    "
   ]
  },
  {
   "cell_type": "code",
   "execution_count": 8,
   "id": "ac70500c",
   "metadata": {},
   "outputs": [
    {
     "name": "stdout",
     "output_type": "stream",
     "text": [
      "Area of Rectangle having lenghth : 50 & breadth : 4 is 200 \n"
     ]
    }
   ],
   "source": [
    "r1= Rectangle(50,4)\n",
    "r1.calc_area()"
   ]
  },
  {
   "cell_type": "code",
   "execution_count": null,
   "id": "10d79676",
   "metadata": {},
   "outputs": [],
   "source": []
  },
  {
   "cell_type": "code",
   "execution_count": null,
   "id": "ed4629a2",
   "metadata": {},
   "outputs": [],
   "source": []
  },
  {
   "cell_type": "markdown",
   "id": "ca89227f",
   "metadata": {},
   "source": [
    "## 4. Python Program to Find the Area and Perimeter of the Circle using Class"
   ]
  },
  {
   "cell_type": "code",
   "execution_count": 22,
   "id": "8226b47d",
   "metadata": {},
   "outputs": [],
   "source": [
    "import math\n",
    "class Circle():\n",
    "    \n",
    "    def __init__(self,radius):\n",
    "        self.radius = radius\n",
    "        \n",
    "    def circle_area(self):\n",
    "        area=math.pi * pow(self.radius,2)\n",
    "        print('Area of Circle having radius : {} is {} '.format(self.radius,round(area)))\n",
    "     \n",
    "    def circle_peri(self):\n",
    "        peri=2* math.pi * self.radius\n",
    "        print('Perimeter of Circle having radius : {} is {} '.format(self.radius,round(peri,2)))\n",
    "        \n",
    "    \n",
    "    "
   ]
  },
  {
   "cell_type": "code",
   "execution_count": 24,
   "id": "84d1a712",
   "metadata": {},
   "outputs": [
    {
     "name": "stdout",
     "output_type": "stream",
     "text": [
      "Area of Circle having radius : 5 is 79 \n",
      "Perimeter of Circle having radius : 5 is 31.42 \n"
     ]
    }
   ],
   "source": [
    "c1= Circle(5)\n",
    "c1.circle_area()\n",
    "c1.circle_peri()"
   ]
  },
  {
   "cell_type": "code",
   "execution_count": null,
   "id": "d07cd43e",
   "metadata": {},
   "outputs": [],
   "source": []
  },
  {
   "cell_type": "code",
   "execution_count": null,
   "id": "f9dcf36d",
   "metadata": {},
   "outputs": [],
   "source": []
  },
  {
   "cell_type": "markdown",
   "id": "0b926b39",
   "metadata": {},
   "source": [
    "## 5. Python Program to Create a Class in which One Method Accepts a String from the User and Another Prints it"
   ]
  },
  {
   "cell_type": "code",
   "execution_count": 14,
   "id": "409aa4c0",
   "metadata": {},
   "outputs": [],
   "source": [
    "class Print_class():\n",
    "    \n",
    "    def __init__(self):\n",
    "        self.str = ''\n",
    "    \n",
    "    def accept(self):\n",
    "        self.str=input(\"Enter String: \")\n",
    "    \n",
    "    def display(self):\n",
    "        print ('String is: ',self.str)\n",
    "    \n",
    "        "
   ]
  },
  {
   "cell_type": "code",
   "execution_count": 15,
   "id": "ce8ca6a9",
   "metadata": {},
   "outputs": [
    {
     "name": "stdout",
     "output_type": "stream",
     "text": [
      "Enter String: hello worlf python!\n",
      "String is:  hello worlf python!\n"
     ]
    }
   ],
   "source": [
    "p1 = Print_class()\n",
    "p1.accept()\n",
    "p1.display()"
   ]
  },
  {
   "cell_type": "code",
   "execution_count": null,
   "id": "80f827fa",
   "metadata": {},
   "outputs": [],
   "source": []
  },
  {
   "cell_type": "code",
   "execution_count": null,
   "id": "ff23747f",
   "metadata": {},
   "outputs": [],
   "source": []
  },
  {
   "cell_type": "markdown",
   "id": "53b8c05f",
   "metadata": {},
   "source": [
    "## 6. Python Program to Create a Class and Get All Possible Distinct Subsets from a Set"
   ]
  },
  {
   "cell_type": "code",
   "execution_count": null,
   "id": "4e4adfa0",
   "metadata": {},
   "outputs": [],
   "source": []
  },
  {
   "cell_type": "code",
   "execution_count": 21,
   "id": "ab399808",
   "metadata": {},
   "outputs": [],
   "source": [
    "class py_solution:\n",
    "    def sub_sets(self, sset):\n",
    "        return self.subsetsRecur([], sorted(sset))\n",
    "    \n",
    "    def subsetsRecur(self, current, sset):\n",
    "        if sset:\n",
    "            return self.subsetsRecur(current, sset[1:]) + self.subsetsRecur(current + [sset[0]], sset[1:])\n",
    "        return [current]\n"
   ]
  },
  {
   "cell_type": "code",
   "execution_count": 22,
   "id": "725855eb",
   "metadata": {},
   "outputs": [
    {
     "name": "stdout",
     "output_type": "stream",
     "text": [
      "[[], [6], [5], [5, 6], [4], [4, 6], [4, 5], [4, 5, 6]]\n"
     ]
    }
   ],
   "source": [
    "\n",
    "print(py_solution().sub_sets([4,5,6]))"
   ]
  },
  {
   "cell_type": "code",
   "execution_count": null,
   "id": "97c8b590",
   "metadata": {},
   "outputs": [],
   "source": []
  },
  {
   "cell_type": "code",
   "execution_count": null,
   "id": "fca11fe5",
   "metadata": {},
   "outputs": [],
   "source": []
  },
  {
   "cell_type": "code",
   "execution_count": null,
   "id": "0101e6ec",
   "metadata": {},
   "outputs": [],
   "source": []
  },
  {
   "cell_type": "code",
   "execution_count": null,
   "id": "d7223dc8",
   "metadata": {},
   "outputs": [],
   "source": []
  },
  {
   "cell_type": "code",
   "execution_count": null,
   "id": "3153de30",
   "metadata": {},
   "outputs": [],
   "source": []
  },
  {
   "cell_type": "code",
   "execution_count": null,
   "id": "afdd1701",
   "metadata": {},
   "outputs": [],
   "source": []
  },
  {
   "cell_type": "code",
   "execution_count": null,
   "id": "fc15d647",
   "metadata": {},
   "outputs": [],
   "source": []
  },
  {
   "cell_type": "code",
   "execution_count": null,
   "id": "697c2534",
   "metadata": {},
   "outputs": [],
   "source": []
  },
  {
   "cell_type": "code",
   "execution_count": null,
   "id": "5050ca16",
   "metadata": {},
   "outputs": [],
   "source": []
  },
  {
   "cell_type": "code",
   "execution_count": null,
   "id": "c8d769a1",
   "metadata": {},
   "outputs": [],
   "source": []
  },
  {
   "cell_type": "code",
   "execution_count": null,
   "id": "b0e7f520",
   "metadata": {},
   "outputs": [],
   "source": []
  },
  {
   "cell_type": "code",
   "execution_count": null,
   "id": "3e48d5d3",
   "metadata": {},
   "outputs": [],
   "source": []
  },
  {
   "cell_type": "code",
   "execution_count": null,
   "id": "8ab8e9e8",
   "metadata": {},
   "outputs": [],
   "source": []
  },
  {
   "cell_type": "code",
   "execution_count": null,
   "id": "f783499c",
   "metadata": {},
   "outputs": [],
   "source": []
  },
  {
   "cell_type": "code",
   "execution_count": null,
   "id": "5565c60a",
   "metadata": {},
   "outputs": [],
   "source": []
  },
  {
   "cell_type": "code",
   "execution_count": null,
   "id": "1547aa52",
   "metadata": {},
   "outputs": [],
   "source": []
  },
  {
   "cell_type": "code",
   "execution_count": null,
   "id": "4fba1819",
   "metadata": {},
   "outputs": [],
   "source": []
  },
  {
   "cell_type": "code",
   "execution_count": null,
   "id": "c51cf7d0",
   "metadata": {},
   "outputs": [],
   "source": []
  },
  {
   "cell_type": "code",
   "execution_count": null,
   "id": "ba3081da",
   "metadata": {},
   "outputs": [],
   "source": []
  },
  {
   "cell_type": "code",
   "execution_count": null,
   "id": "aee353b2",
   "metadata": {},
   "outputs": [],
   "source": []
  },
  {
   "cell_type": "code",
   "execution_count": null,
   "id": "cf5330db",
   "metadata": {},
   "outputs": [],
   "source": []
  },
  {
   "cell_type": "code",
   "execution_count": null,
   "id": "b678ff6c",
   "metadata": {},
   "outputs": [],
   "source": []
  },
  {
   "cell_type": "code",
   "execution_count": null,
   "id": "02375e98",
   "metadata": {},
   "outputs": [],
   "source": []
  },
  {
   "cell_type": "code",
   "execution_count": null,
   "id": "3baac1cb",
   "metadata": {},
   "outputs": [],
   "source": []
  }
 ],
 "metadata": {
  "kernelspec": {
   "display_name": "Python 3 (ipykernel)",
   "language": "python",
   "name": "python3"
  },
  "language_info": {
   "codemirror_mode": {
    "name": "ipython",
    "version": 3
   },
   "file_extension": ".py",
   "mimetype": "text/x-python",
   "name": "python",
   "nbconvert_exporter": "python",
   "pygments_lexer": "ipython3",
   "version": "3.9.12"
  }
 },
 "nbformat": 4,
 "nbformat_minor": 5
}
