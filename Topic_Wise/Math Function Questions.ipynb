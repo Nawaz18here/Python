{
 "cells": [
  {
   "cell_type": "markdown",
   "id": "59b404a2",
   "metadata": {},
   "source": [
    "## 1. Python Program to Find the Roots of a Quadratic Equation"
   ]
  },
  {
   "cell_type": "code",
   "execution_count": 9,
   "id": "0dba9745",
   "metadata": {},
   "outputs": [],
   "source": [
    "import math as m\n",
    "def root_eq(a,b,c):\n",
    "    try:\n",
    "        d=b**2-4*a*c\n",
    "        if d<0:\n",
    "            print(\"Roots are imaginary!\")\n",
    "        else:\n",
    "            x1=( -b+m.sqrt(d) )/2*a\n",
    "            x2=( -b-m.sqrt(d) )/2*a\n",
    "            print('First root is {} and Second root is {}'.format(x1,x2))\n",
    "    except:\n",
    "        print(\"Some Error occured, please check!\")"
   ]
  },
  {
   "cell_type": "code",
   "execution_count": 10,
   "id": "d396139e",
   "metadata": {},
   "outputs": [
    {
     "name": "stdout",
     "output_type": "stream",
     "text": [
      "First root is 3.0 and Second root is 2.0\n",
      "Roots are imaginary!\n"
     ]
    }
   ],
   "source": [
    "root_eq(1,-5,6)\n",
    "root_eq(1,5,10)"
   ]
  },
  {
   "cell_type": "code",
   "execution_count": null,
   "id": "aae856fd",
   "metadata": {},
   "outputs": [],
   "source": []
  },
  {
   "cell_type": "code",
   "execution_count": 11,
   "id": "e5f6761d",
   "metadata": {},
   "outputs": [
    {
     "name": "stdout",
     "output_type": "stream",
     "text": [
      "Enter a:8\n",
      "Enter b:5\n",
      "Enter c:9\n",
      "Complex Roots\n",
      "-0.3125  + i 16.217274740226856\n",
      "-0.3125  - i 16.217274740226856\n"
     ]
    }
   ],
   "source": [
    "# Python program to find roots of quadratic equation\n",
    "import math\n",
    "\n",
    "\n",
    "# function for finding roots\n",
    "def findRoots(a, b, c):\n",
    "\n",
    "    dis_form = b * b - 4 * a * c\n",
    "    sqrt_val = math.sqrt(abs(dis_form))\n",
    "\n",
    "\n",
    "    if dis_form > 0:\n",
    "        print(\" real and different roots \")\n",
    "        print((-b + sqrt_val) / (2 * a))\n",
    "        print((-b - sqrt_val) / (2 * a))\n",
    "\n",
    "    elif dis_form == 0:\n",
    "        print(\" real and same roots\")\n",
    "        print(-b / (2 * a))\n",
    "\n",
    "\n",
    "    else:\n",
    "        print(\"Complex Roots\")\n",
    "        print(- b / (2 * a), \" + i\", sqrt_val)\n",
    "        print(- b / (2 * a), \" - i\", sqrt_val)\n",
    "\n",
    "\n",
    "a = int(input('Enter a:'))\n",
    "b = int(input('Enter b:'))\n",
    "c = int(input('Enter c:'))\n",
    "\n",
    "# If a is 0, then incorrect equation\n",
    "if a == 0:\n",
    "    print(\"Input correct quadratic equation\")\n",
    "\n",
    "else:\n",
    "    findRoots(a, b, c)\n"
   ]
  },
  {
   "cell_type": "code",
   "execution_count": null,
   "id": "cfa8abf9",
   "metadata": {},
   "outputs": [],
   "source": []
  },
  {
   "cell_type": "code",
   "execution_count": null,
   "id": "55a488ff",
   "metadata": {},
   "outputs": [],
   "source": []
  },
  {
   "cell_type": "markdown",
   "id": "c97215f6",
   "metadata": {},
   "source": [
    "## 2. Python Program to Find the Area of a Triangle"
   ]
  },
  {
   "cell_type": "code",
   "execution_count": 19,
   "id": "479e5d6b",
   "metadata": {},
   "outputs": [],
   "source": [
    "import math as m\n",
    "def area_triangle(side1,side2,side3):\n",
    "    \n",
    "    s=(side1+side2+side3)/2    # calculate the semi-perimeter  \n",
    "    a=m.sqrt( s*(s-side1)*(s-side2)*(s-side3) )\n",
    "    \n",
    "    print(\"Area of given triangle is\",a)\n",
    "    "
   ]
  },
  {
   "cell_type": "code",
   "execution_count": 22,
   "id": "fdb0f772",
   "metadata": {},
   "outputs": [
    {
     "name": "stdout",
     "output_type": "stream",
     "text": [
      "Area of given triangle is 14.696938456699069\n",
      "Area of given triangle is 20.69269194667528\n",
      "Area of given triangle is 6.0\n"
     ]
    }
   ],
   "source": [
    "area_triangle(5,6,7)\n",
    "area_triangle(15,9,7)\n",
    "area_triangle(5,4,3)"
   ]
  },
  {
   "cell_type": "code",
   "execution_count": null,
   "id": "4051acb4",
   "metadata": {},
   "outputs": [],
   "source": []
  },
  {
   "cell_type": "markdown",
   "id": "47d7ef6f",
   "metadata": {},
   "source": [
    "## 3. Python Program to Find Simple Interest"
   ]
  },
  {
   "cell_type": "code",
   "execution_count": 27,
   "id": "1dc639d7",
   "metadata": {},
   "outputs": [],
   "source": [
    "def simple_interest():\n",
    "    p=int(input(\"Enter Principle Amount: \"))\n",
    "    r=float(input(\"Enter Rate: \"))\n",
    "    t=int(input(\"Enter Time Period (Years): \"))\n",
    "    \n",
    "    s=(p*r*t)/100\n",
    "    print(\"Simple Interest is: \",s)\n",
    "    "
   ]
  },
  {
   "cell_type": "code",
   "execution_count": 28,
   "id": "013478c2",
   "metadata": {},
   "outputs": [
    {
     "name": "stdout",
     "output_type": "stream",
     "text": [
      "Enter Principle Amount: 70000\n",
      "Enter Rate: 4\n",
      "Enter Time Period (Years): 1\n",
      "Simple Interest is:  2800.0\n"
     ]
    }
   ],
   "source": [
    "simple_interest()"
   ]
  },
  {
   "cell_type": "code",
   "execution_count": null,
   "id": "5f17e101",
   "metadata": {},
   "outputs": [],
   "source": []
  },
  {
   "cell_type": "markdown",
   "id": "09b25fec",
   "metadata": {},
   "source": [
    "## 4. Python Program to Find Quotient and Remainder of Two Numbers"
   ]
  },
  {
   "cell_type": "code",
   "execution_count": 29,
   "id": "2fc15c6b",
   "metadata": {},
   "outputs": [],
   "source": [
    "def find_quo_rem(a,b):\n",
    "    q=a//b\n",
    "    r=a%b\n",
    "    return(q,r)"
   ]
  },
  {
   "cell_type": "code",
   "execution_count": 31,
   "id": "52e3379c",
   "metadata": {},
   "outputs": [
    {
     "data": {
      "text/plain": [
       "(17, 6)"
      ]
     },
     "execution_count": 31,
     "metadata": {},
     "output_type": "execute_result"
    }
   ],
   "source": [
    "find_quo_rem(125,7)"
   ]
  },
  {
   "cell_type": "code",
   "execution_count": null,
   "id": "7cfc0dad",
   "metadata": {},
   "outputs": [],
   "source": []
  },
  {
   "cell_type": "markdown",
   "id": "ac612984",
   "metadata": {},
   "source": [
    "## 5. Python Program to Find All Pythagorean Triplets in the Range"
   ]
  },
  {
   "cell_type": "code",
   "execution_count": 45,
   "id": "f7728161",
   "metadata": {},
   "outputs": [],
   "source": [
    "def Pytha_Triplets():\n",
    "    n=int(input(\"Enter upper limit:\"))\n",
    "    for i in range(n):\n",
    "        for j in range(1,i):\n",
    "            for k in range(1,j):\n",
    "                if(i**2==j**2+k**2) and j+k>=i:\n",
    "                    print(\"Pythagorean Triplets in the Range {} is {},{},{}\".format(n,i,j,k))\n",
    "            "
   ]
  },
  {
   "cell_type": "code",
   "execution_count": 47,
   "id": "c88186f6",
   "metadata": {},
   "outputs": [
    {
     "name": "stdout",
     "output_type": "stream",
     "text": [
      "Enter upper limit:20\n",
      "Pythagorean Triplets in the Range 20 is 5,4,3\n",
      "Pythagorean Triplets in the Range 20 is 10,8,6\n",
      "Pythagorean Triplets in the Range 20 is 13,12,5\n",
      "Pythagorean Triplets in the Range 20 is 15,12,9\n",
      "Pythagorean Triplets in the Range 20 is 17,15,8\n"
     ]
    }
   ],
   "source": [
    "Pytha_Triplets()"
   ]
  },
  {
   "cell_type": "code",
   "execution_count": null,
   "id": "dd62da49",
   "metadata": {},
   "outputs": [],
   "source": []
  },
  {
   "cell_type": "markdown",
   "id": "9a801be0",
   "metadata": {},
   "source": [
    "An Efficient Solution can print all triplets in O(k) time where k is number of triplets printed. The idea is to use square sum relation of Pythagorean triplet, i.e., addition of squares of a and b is equal to square of c, we can write these number in terms of m and n such that,  \n",
    "\n",
    "       a = m2 - n2\n",
    "       b = 2 * m * n\n",
    "       c  = m2 + n2\n",
    "because,\n",
    "       a2 = m4 + n4 – 2 * m2 * n2\n",
    "       b2 = 4 * m2 * n2\n",
    "       c2 = m4 + n4 + 2* m2 * n2\n",
    "We can see that a2 + b2 = c2, so instead of iterating for a, b and c we can iterate for m and n and can generate these triplets. "
   ]
  },
  {
   "cell_type": "code",
   "execution_count": null,
   "id": "0fa55e27",
   "metadata": {},
   "outputs": [],
   "source": []
  },
  {
   "cell_type": "code",
   "execution_count": 48,
   "id": "ff273d1e",
   "metadata": {},
   "outputs": [],
   "source": [
    "def pythagoreanTriplets(limits) :\n",
    "    c, m = 0, 2\n",
    " \n",
    "    # Limiting c would limit\n",
    "    # all a, b and c\n",
    "    while c < limits :\n",
    "         \n",
    "        # Now loop on n from 1 to m-1\n",
    "        for n in range(1, m) :\n",
    "            a = m * m - n * n\n",
    "            b = 2 * m * n\n",
    "            c = m * m + n * n\n",
    " \n",
    "            # if c is greater than\n",
    "            # limit then break it\n",
    "            if c > limits :\n",
    "                break\n",
    " \n",
    "            print(a, b, c)\n",
    " \n",
    "        m = m + 1\n",
    " "
   ]
  },
  {
   "cell_type": "code",
   "execution_count": 49,
   "id": "3e293220",
   "metadata": {},
   "outputs": [
    {
     "name": "stdout",
     "output_type": "stream",
     "text": [
      "3 4 5\n",
      "8 6 10\n",
      "5 12 13\n",
      "15 8 17\n",
      "12 16 20\n"
     ]
    }
   ],
   "source": [
    "pythagoreanTriplets(20)"
   ]
  },
  {
   "cell_type": "code",
   "execution_count": null,
   "id": "c3c3d2cf",
   "metadata": {},
   "outputs": [],
   "source": []
  },
  {
   "cell_type": "code",
   "execution_count": 50,
   "id": "f6eb9b2b",
   "metadata": {},
   "outputs": [
    {
     "name": "stdout",
     "output_type": "stream",
     "text": [
      "3 4 5\n",
      "6 8 10\n",
      "5 12 13\n",
      "9 12 15\n",
      "8 15 17\n",
      "12 16 20\n"
     ]
    }
   ],
   "source": [
    "import math\n",
    "def pythagorean_triplet(n):\n",
    "    for b in range(n):\n",
    "        for a in range(1, b):\n",
    "            c = math.sqrt( a * a + b * b)\n",
    "            if c % 1 == 0:\n",
    "                print(a, b, int(c))\n",
    "            \n",
    "pythagorean_triplet(20)"
   ]
  },
  {
   "cell_type": "code",
   "execution_count": null,
   "id": "d506b94b",
   "metadata": {},
   "outputs": [],
   "source": []
  },
  {
   "cell_type": "code",
   "execution_count": null,
   "id": "88e990d9",
   "metadata": {},
   "outputs": [],
   "source": []
  },
  {
   "cell_type": "markdown",
   "id": "ba3355e1",
   "metadata": {},
   "source": [
    "## 6. Python Program to Compute a Polynomial Equation"
   ]
  },
  {
   "cell_type": "code",
   "execution_count": null,
   "id": "80175e8a",
   "metadata": {},
   "outputs": [],
   "source": []
  },
  {
   "cell_type": "code",
   "execution_count": 19,
   "id": "f145b37c",
   "metadata": {},
   "outputs": [],
   "source": [
    "def evaluate_poly(my_polynomial,num):\n",
    "    \n",
    "    poly_len = len(my_polynomial)\n",
    "    my_result = 0\n",
    "    \n",
    "    for i in range(poly_len):\n",
    "        my_sum = my_polynomial[i]\n",
    "        \n",
    "        for j in range(poly_len - i - 1):\n",
    "            my_sum = my_sum * num\n",
    "            \n",
    "        my_result = my_result + my_sum\n",
    "        #print(my_sum,my_result)\n",
    "        \n",
    "    print(\"The polynomial equation for the given list of co-efficients is :\")\n",
    "    print(my_result)"
   ]
  },
  {
   "cell_type": "code",
   "execution_count": 20,
   "id": "d3665af9",
   "metadata": {},
   "outputs": [
    {
     "name": "stdout",
     "output_type": "stream",
     "text": [
      "The polynomial equation for the given list of co-efficients is :\n",
      "51\n"
     ]
    }
   ],
   "source": [
    "evaluate_poly([3,4,5,1],2)"
   ]
  },
  {
   "cell_type": "code",
   "execution_count": null,
   "id": "8e2d4459",
   "metadata": {},
   "outputs": [],
   "source": []
  },
  {
   "cell_type": "code",
   "execution_count": 21,
   "id": "d57ff33c",
   "metadata": {},
   "outputs": [
    {
     "name": "stdout",
     "output_type": "stream",
     "text": [
      "5\n"
     ]
    }
   ],
   "source": [
    "# 2x3 - 6x2 + 2x - 1 for x = 3\n",
    "poly = [2, -6, 2, -1]\n",
    "x = 3\n",
    "n = len(poly)\n",
    " \n",
    "# Declaring the result\n",
    "result = 0\n",
    " \n",
    "# Running a for loop to traverse through the list\n",
    "for i in range(n):\n",
    " \n",
    "    # Declaring the variable Sum\n",
    "    Sum = poly[i]\n",
    " \n",
    "    # Running a for loop to multiply x (n-i-1)\n",
    "    # times to the current coefficient\n",
    "    for j in range(n - i - 1):\n",
    "        Sum = Sum * x\n",
    " \n",
    "    # Adding the sum to the result\n",
    "    result = result + Sum\n",
    "\n",
    "# Printing the result\n",
    "print(result)"
   ]
  },
  {
   "cell_type": "code",
   "execution_count": null,
   "id": "84c0f928",
   "metadata": {},
   "outputs": [],
   "source": []
  },
  {
   "cell_type": "code",
   "execution_count": null,
   "id": "718163b4",
   "metadata": {},
   "outputs": [],
   "source": []
  },
  {
   "cell_type": "markdown",
   "id": "5d04d5f8",
   "metadata": {},
   "source": [
    "## 7. Python Program to Swap Two Numbers without using Third Variable"
   ]
  },
  {
   "cell_type": "code",
   "execution_count": 2,
   "id": "16781cb5",
   "metadata": {},
   "outputs": [
    {
     "data": {
      "text/plain": [
       "(6, 4)"
      ]
     },
     "execution_count": 2,
     "metadata": {},
     "output_type": "execute_result"
    }
   ],
   "source": [
    "a,b=4,6\n",
    "a,b=b,a\n",
    "a,b"
   ]
  },
  {
   "cell_type": "code",
   "execution_count": null,
   "id": "e2c5f37e",
   "metadata": {},
   "outputs": [],
   "source": []
  },
  {
   "cell_type": "code",
   "execution_count": 1,
   "id": "358da3aa",
   "metadata": {},
   "outputs": [
    {
     "data": {
      "text/plain": [
       "(8, 7)"
      ]
     },
     "execution_count": 1,
     "metadata": {},
     "output_type": "execute_result"
    }
   ],
   "source": [
    "# Using Addition and Subtraction Operators\n",
    "\n",
    "a,b=7,8\n",
    "a=a+b\n",
    "b=a-b\n",
    "a=a-b\n",
    "a,b"
   ]
  },
  {
   "cell_type": "code",
   "execution_count": null,
   "id": "9d4a953b",
   "metadata": {},
   "outputs": [],
   "source": []
  },
  {
   "cell_type": "code",
   "execution_count": 3,
   "id": "0833afbd",
   "metadata": {},
   "outputs": [
    {
     "name": "stdout",
     "output_type": "stream",
     "text": [
      "Before swapping: \n",
      "Value of x :  5.4  and y :  10.3\n",
      "After swapping: \n",
      "Value of x :  10.3  and y :  5.4\n"
     ]
    }
   ],
   "source": [
    "x = 5.4\n",
    "y = 10.3\n",
    " \n",
    "print (\"Before swapping: \")\n",
    "print(\"Value of x : \", x, \" and y : \", y)\n",
    " \n",
    "# Swap code\n",
    "x = x + y # x = 15.7, y = 10.3\n",
    "y = x - y # x = 15.7, y = 5.4\n",
    "x = x - y # x = 10.3, y = 5.4\n",
    " \n",
    "print (\"After swapping: \")\n",
    "print(\"Value of x : \", x, \" and y : \", y)"
   ]
  },
  {
   "cell_type": "code",
   "execution_count": null,
   "id": "24e0b783",
   "metadata": {},
   "outputs": [],
   "source": []
  },
  {
   "cell_type": "code",
   "execution_count": 5,
   "id": "628bc406",
   "metadata": {},
   "outputs": [
    {
     "name": "stdout",
     "output_type": "stream",
     "text": [
      "Variables Value Before Swapping: \n",
      "Value of P:  11.2\n",
      "Value of Q:  21.1\n",
      "Variables Value After Swapping: \n",
      "Value of P:  21.1\n",
      "Value of Q:  11.2\n"
     ]
    }
   ],
   "source": [
    "# Using Division and Multiplication Operators \n",
    " \n",
    "\n",
    "P = 11.2  \n",
    "Q = 21.1  \n",
    "   \n",
    "print (\"Variables Value Before Swapping: \")  \n",
    "print (\"Value of P: \", P)   \n",
    "print (\"Value of Q: \", Q)  \n",
    "   \n",
    "# Method to swap 'P' and 'Q'  \n",
    "P = P * Q # P = 236.32, Q = 21.1  \n",
    "Q = P / Q # P = 236.32, Q = 11.2   \n",
    "P = P / Q # P = 21.1, Q = 11.2  \n",
    "   \n",
    "print (\"Variables Value After Swapping: \")  \n",
    "print (\"Value of P: \", P)   \n",
    "print (\"Value of Q: \", Q)  "
   ]
  },
  {
   "cell_type": "code",
   "execution_count": null,
   "id": "13c54356",
   "metadata": {},
   "outputs": [],
   "source": []
  },
  {
   "cell_type": "code",
   "execution_count": null,
   "id": "70ba795f",
   "metadata": {},
   "outputs": [],
   "source": []
  },
  {
   "cell_type": "markdown",
   "id": "fb41d16d",
   "metadata": {},
   "source": [
    "## 8. Python Program to Count Set Bits in an Integer"
   ]
  },
  {
   "cell_type": "markdown",
   "id": "1b991aa9",
   "metadata": {},
   "source": [
    "Case 1:\n",
    "Enter n: 9\n",
    "Number of set bits: 2"
   ]
  },
  {
   "cell_type": "code",
   "execution_count": null,
   "id": "64ca275c",
   "metadata": {},
   "outputs": [],
   "source": []
  },
  {
   "cell_type": "code",
   "execution_count": 1,
   "id": "3515759b",
   "metadata": {},
   "outputs": [],
   "source": [
    "#Integer to Binary Program : This will be used later\n",
    "\n",
    "def convert_to_bin(n):\n",
    "    \n",
    "    s=''\n",
    "    while (n!=0):\n",
    "        r=n%2\n",
    "        s=str(r)+s\n",
    "        n//=2\n",
    "        \n",
    "    return int(s)\n"
   ]
  },
  {
   "cell_type": "code",
   "execution_count": 3,
   "id": "f22918af",
   "metadata": {},
   "outputs": [
    {
     "data": {
      "text/plain": [
       "110"
      ]
     },
     "execution_count": 3,
     "metadata": {},
     "output_type": "execute_result"
    }
   ],
   "source": [
    "convert_to_bin(6)"
   ]
  },
  {
   "cell_type": "code",
   "execution_count": null,
   "id": "640b4f68",
   "metadata": {},
   "outputs": [],
   "source": []
  },
  {
   "cell_type": "code",
   "execution_count": 10,
   "id": "1cc185da",
   "metadata": {},
   "outputs": [],
   "source": [
    "def count_setbits(num):\n",
    "    cnt=0\n",
    "    \n",
    "    bin_num=convert_to_bin(num) # Binary Representation of given num\n",
    "    \n",
    "    for i in str(bin_num):\n",
    "        if '1' in i:\n",
    "            cnt+=1\n",
    "    print('Binary representation of {} is {} and has {} set bits'.format(num,bin_num,cnt)) "
   ]
  },
  {
   "cell_type": "code",
   "execution_count": 11,
   "id": "fbb5160d",
   "metadata": {},
   "outputs": [
    {
     "name": "stdout",
     "output_type": "stream",
     "text": [
      "Binary representation of 6 is 110 and has 2 set bits\n",
      "Binary representation of 13 is 1101 and has 3 set bits\n"
     ]
    }
   ],
   "source": [
    "count_setbits(6)\n",
    "count_setbits(13)"
   ]
  },
  {
   "cell_type": "code",
   "execution_count": null,
   "id": "69457a97",
   "metadata": {},
   "outputs": [],
   "source": []
  },
  {
   "cell_type": "code",
   "execution_count": 26,
   "id": "2774fc07",
   "metadata": {},
   "outputs": [],
   "source": [
    "#Using List Comprehesnsion\n",
    "\n",
    "def count_setbits2(num):\n",
    "    cnt=0\n",
    "    \n",
    "    bin_num=convert_to_bin(num) # Binary Representation of given num\n",
    "    \n",
    "    cnt_=sum([1 for i in str(bin_num) if '1' in i ]) \n",
    "        \n",
    "    print('Binary representation of {} is {} and has {} set bits'.format(num,bin_num,cnt_)) "
   ]
  },
  {
   "cell_type": "code",
   "execution_count": 27,
   "id": "bcce5dc7",
   "metadata": {},
   "outputs": [
    {
     "name": "stdout",
     "output_type": "stream",
     "text": [
      "Binary representation of 6 is 110 and has 2 set bits\n",
      "Binary representation of 13 is 1101 and has 3 set bits\n"
     ]
    }
   ],
   "source": [
    "count_setbits2(6)\n",
    "count_setbits2(13)"
   ]
  },
  {
   "cell_type": "code",
   "execution_count": null,
   "id": "e7003297",
   "metadata": {},
   "outputs": [],
   "source": []
  },
  {
   "cell_type": "code",
   "execution_count": 16,
   "id": "79eecbb1",
   "metadata": {},
   "outputs": [
    {
     "name": "stdout",
     "output_type": "stream",
     "text": [
      "The number of bits : 2\n"
     ]
    }
   ],
   "source": [
    "# recursive way\n",
    "def count( n):\n",
    "   # base case\n",
    "   if (n == 0):\n",
    "    return 0\n",
    "   else:\n",
    "      # whether last bit is set or not\n",
    "      return (n & 1) + count(n >> 1)\n",
    "# main\n",
    "n = 6\n",
    "print(\"The number of bits :\",count(n))"
   ]
  },
  {
   "cell_type": "code",
   "execution_count": null,
   "id": "6f856371",
   "metadata": {},
   "outputs": [],
   "source": []
  },
  {
   "cell_type": "code",
   "execution_count": null,
   "id": "53061744",
   "metadata": {},
   "outputs": [],
   "source": []
  },
  {
   "cell_type": "code",
   "execution_count": 36,
   "id": "3f848564",
   "metadata": {},
   "outputs": [
    {
     "name": "stdout",
     "output_type": "stream",
     "text": [
      "2\n"
     ]
    }
   ],
   "source": [
    "def  countSetBits(n):\n",
    "    count = 0\n",
    "    while (n):\n",
    "        count += n & 1\n",
    "        n >>= 1\n",
    "        \n",
    "    return count\n",
    "\n",
    "# Program to test function countSetBits */\n",
    "i = 9\n",
    "print(countSetBits(i))\n",
    " "
   ]
  },
  {
   "cell_type": "code",
   "execution_count": null,
   "id": "2e549268",
   "metadata": {},
   "outputs": [],
   "source": []
  },
  {
   "cell_type": "code",
   "execution_count": null,
   "id": "68329c87",
   "metadata": {},
   "outputs": [],
   "source": []
  },
  {
   "cell_type": "markdown",
   "id": "480625ac",
   "metadata": {},
   "source": [
    "## 9. Python Program to Clear the Rightmost Set Bit of a Number"
   ]
  },
  {
   "cell_type": "markdown",
   "id": "8a4500d7",
   "metadata": {},
   "source": [
    "Input:  12 (00...01100)\n",
    "Output: 8 (00...01000)\n",
    "\n",
    "Input:  7 (00...00111)\n",
    "Output: 6 (00...00110)"
   ]
  },
  {
   "cell_type": "code",
   "execution_count": null,
   "id": "f14941b5",
   "metadata": {},
   "outputs": [],
   "source": []
  },
  {
   "cell_type": "code",
   "execution_count": 38,
   "id": "269babf7",
   "metadata": {},
   "outputs": [
    {
     "name": "stdout",
     "output_type": "stream",
     "text": [
      "6\n"
     ]
    }
   ],
   "source": [
    "n=7\n",
    "print(n & n-1)"
   ]
  },
  {
   "cell_type": "code",
   "execution_count": null,
   "id": "bc3ba0ad",
   "metadata": {},
   "outputs": [],
   "source": []
  },
  {
   "cell_type": "code",
   "execution_count": 39,
   "id": "c28d3f84",
   "metadata": {},
   "outputs": [
    {
     "name": "stdout",
     "output_type": "stream",
     "text": [
      "The vlaue of n is :\n",
      "6\n",
      "The number after unsetting the rightmost set bit is \n",
      "4\n"
     ]
    }
   ],
   "source": [
    "def clear_right_bit(my_val):\n",
    "    return my_val & (my_val-1)\n",
    "n_val = 6\n",
    "print(\"The vlaue of n is :\")\n",
    "print(n_val)\n",
    "print(\"The number after unsetting the rightmost set bit is \")\n",
    "print(clear_right_bit(n_val))"
   ]
  },
  {
   "cell_type": "code",
   "execution_count": null,
   "id": "9f681f12",
   "metadata": {},
   "outputs": [],
   "source": []
  },
  {
   "cell_type": "code",
   "execution_count": null,
   "id": "c542acd8",
   "metadata": {},
   "outputs": [],
   "source": []
  },
  {
   "cell_type": "markdown",
   "id": "0cb8dcd3",
   "metadata": {},
   "source": [
    "## 10. Python Program to Test Collatz Conjecture for a Given Number"
   ]
  },
  {
   "cell_type": "markdown",
   "id": "396ab6fa",
   "metadata": {},
   "source": [
    "Starting with any positive integer N, Collatz sequence is defined corresponding to n as the numbers formed by the following operations :\n",
    " \n",
    "\n",
    "If n is even, then n = n / 2.\n",
    "If n is odd, then n = 3*n + 1.\n",
    "Repeat above steps, until it becomes 1."
   ]
  },
  {
   "cell_type": "code",
   "execution_count": null,
   "id": "c5e4e0d3",
   "metadata": {},
   "outputs": [],
   "source": []
  },
  {
   "cell_type": "code",
   "execution_count": 34,
   "id": "a9c3bfad",
   "metadata": {},
   "outputs": [],
   "source": [
    "def Collatz_Seq(n):\n",
    "    \n",
    "    \n",
    "    while (n!=1):\n",
    "        print(n,end =' ')\n",
    "        if n%2==0:\n",
    "            n//=2\n",
    "        else:\n",
    "            n=3*n+1\n",
    "            \n",
    "    print(n, end =' ')\n",
    "            "
   ]
  },
  {
   "cell_type": "code",
   "execution_count": 35,
   "id": "38ef6076",
   "metadata": {},
   "outputs": [
    {
     "name": "stdout",
     "output_type": "stream",
     "text": [
      "11 34 17 52 26 13 40 20 10 5 16 8 4 2 1 \n",
      "----\n",
      "5 16 8 4 2 1 "
     ]
    }
   ],
   "source": [
    "Collatz_Seq(11)\n",
    "print('\\n----')\n",
    "Collatz_Seq(5)"
   ]
  },
  {
   "cell_type": "code",
   "execution_count": null,
   "id": "15de18c1",
   "metadata": {},
   "outputs": [],
   "source": []
  },
  {
   "cell_type": "code",
   "execution_count": 14,
   "id": "5615b938",
   "metadata": {},
   "outputs": [
    {
     "name": "stdout",
     "output_type": "stream",
     "text": [
      "[11, 34, 17, 52, 26, 13, 40, 20, 10, 5, 16, 8, 4, 2, 1]\n"
     ]
    }
   ],
   "source": [
    "def collatz(number):\n",
    "    lst=[]\n",
    "    lst.append(number)\n",
    "    while(number!=1):\n",
    "        if(number%2==0):\n",
    "            number=number//2\n",
    "            lst.append(number)\n",
    "        else:\n",
    "            number=number*3+1\n",
    "            lst.append(number)\n",
    "    print(lst)\n",
    "collatz(11)\n",
    "             "
   ]
  },
  {
   "cell_type": "code",
   "execution_count": null,
   "id": "7b8a5aad",
   "metadata": {},
   "outputs": [],
   "source": []
  },
  {
   "cell_type": "code",
   "execution_count": null,
   "id": "2dc1933e",
   "metadata": {},
   "outputs": [],
   "source": []
  },
  {
   "cell_type": "code",
   "execution_count": null,
   "id": "7b0326f7",
   "metadata": {},
   "outputs": [],
   "source": []
  },
  {
   "cell_type": "markdown",
   "id": "13dfb906",
   "metadata": {},
   "source": [
    "## 11. Python Program to Find the Gravitational Force between Two Objects"
   ]
  },
  {
   "cell_type": "code",
   "execution_count": 40,
   "id": "c259ac54",
   "metadata": {},
   "outputs": [
    {
     "name": "stdout",
     "output_type": "stream",
     "text": [
      "Enter the first mass: 1000000\n",
      "Enter the second mass: 500000\n",
      "Enter the distance between the centres of the masses: 20\n",
      "Hence, the gravitational force is:  0.08 N\n"
     ]
    }
   ],
   "source": [
    "m1=float(input(\"Enter the first mass: \"))\n",
    "m2=float(input(\"Enter the second mass: \"))\n",
    "r=float(input(\"Enter the distance between the centres of the masses: \"))\n",
    "G=6.673*(10**-11)\n",
    "f=(G*m1*m2)/(r**2)\n",
    "print(\"Hence, the gravitational force is: \",round(f,2),\"N\")"
   ]
  },
  {
   "cell_type": "code",
   "execution_count": null,
   "id": "7163e11d",
   "metadata": {},
   "outputs": [],
   "source": []
  },
  {
   "cell_type": "code",
   "execution_count": null,
   "id": "a780cf5f",
   "metadata": {},
   "outputs": [],
   "source": []
  },
  {
   "cell_type": "markdown",
   "id": "2886f43d",
   "metadata": {},
   "source": [
    "## 12. Python Program to Form an Integer that has Number of Digits at 10’s Place & LSD at 1’s Place|"
   ]
  },
  {
   "cell_type": "markdown",
   "id": "0bc50d6c",
   "metadata": {},
   "source": [
    "Case 1:\n",
    "Enter the number:129\n",
    "The new number formed: 39"
   ]
  },
  {
   "cell_type": "code",
   "execution_count": 39,
   "id": "3608063d",
   "metadata": {},
   "outputs": [],
   "source": [
    "def form_number(n):\n",
    "    \n",
    "    l=len(str(n))\n",
    "    rem=n%10\n",
    "    new_num=l*10+rem\n",
    "    \n",
    "    print('Old no. was {} and New no. is {}'. format(n,new_num))\n",
    "    "
   ]
  },
  {
   "cell_type": "code",
   "execution_count": 40,
   "id": "711ddbaf",
   "metadata": {},
   "outputs": [
    {
     "name": "stdout",
     "output_type": "stream",
     "text": [
      "Old no. was 129 and New no. is 39\n",
      "Old no. was 24678 and New no. is 58\n"
     ]
    }
   ],
   "source": [
    "form_number(129)\n",
    "form_number(24678)"
   ]
  },
  {
   "cell_type": "code",
   "execution_count": null,
   "id": "e10d3634",
   "metadata": {},
   "outputs": [],
   "source": []
  },
  {
   "cell_type": "code",
   "execution_count": 43,
   "id": "4152467e",
   "metadata": {},
   "outputs": [],
   "source": []
  },
  {
   "cell_type": "code",
   "execution_count": 47,
   "id": "a64e2bc1",
   "metadata": {},
   "outputs": [],
   "source": [
    "\n",
    "#Count of Digit Func: This will be used later\n",
    "\n",
    "def count_digit(n):\n",
    "    \n",
    "    cnt=0\n",
    "    while n>0:\n",
    "        cnt+=1\n",
    "        n//=10\n",
    "    return cnt\n",
    "\n",
    "def form_number2(n):\n",
    "    \n",
    "    l=count_digit(n)\n",
    "    rem=n%10\n",
    "    new_num=l*10+rem\n",
    "    \n",
    "    print('Old no. was {} and New no. is {}'. format(n,new_num))\n",
    "    "
   ]
  },
  {
   "cell_type": "code",
   "execution_count": 49,
   "id": "003f2238",
   "metadata": {},
   "outputs": [
    {
     "name": "stdout",
     "output_type": "stream",
     "text": [
      "Old no. was 24698 and New no. is 58\n"
     ]
    }
   ],
   "source": [
    "form_number2(24698)"
   ]
  },
  {
   "cell_type": "code",
   "execution_count": null,
   "id": "5bfe8b3b",
   "metadata": {},
   "outputs": [],
   "source": []
  },
  {
   "cell_type": "markdown",
   "id": "0f46d91d",
   "metadata": {},
   "source": [
    "## 13. Python Program to Print an Identity Matrix"
   ]
  },
  {
   "cell_type": "markdown",
   "id": "5725f6e4",
   "metadata": {},
   "source": [
    "Case 1:\n",
    "Enter a number: 4\n",
    "1 0 0 0 \n",
    "0 1 0 0 \n",
    "0 0 1 0 \n",
    "0 0 0 1 "
   ]
  },
  {
   "cell_type": "code",
   "execution_count": null,
   "id": "ab73bc13",
   "metadata": {},
   "outputs": [],
   "source": []
  },
  {
   "cell_type": "code",
   "execution_count": 76,
   "id": "52390c4c",
   "metadata": {},
   "outputs": [],
   "source": [
    "def iden_matrix(n):\n",
    "    for i in range(n):\n",
    "        for j in range(n):\n",
    "            if i==j:\n",
    "                print('1',end='')\n",
    "            else:\n",
    "                print('0',end='')\n",
    "        print()"
   ]
  },
  {
   "cell_type": "code",
   "execution_count": 77,
   "id": "e79e79ae",
   "metadata": {},
   "outputs": [
    {
     "name": "stdout",
     "output_type": "stream",
     "text": [
      "1000\n",
      "0100\n",
      "0010\n",
      "0001\n"
     ]
    }
   ],
   "source": [
    "iden_matrix(4)"
   ]
  },
  {
   "cell_type": "code",
   "execution_count": 78,
   "id": "b73f5b9e",
   "metadata": {},
   "outputs": [
    {
     "name": "stdout",
     "output_type": "stream",
     "text": [
      "10\n",
      "01\n"
     ]
    }
   ],
   "source": [
    "iden_matrix(2)"
   ]
  },
  {
   "cell_type": "code",
   "execution_count": null,
   "id": "f3ba2571",
   "metadata": {},
   "outputs": [],
   "source": []
  },
  {
   "cell_type": "code",
   "execution_count": 79,
   "id": "4e9199c7",
   "metadata": {},
   "outputs": [
    {
     "name": "stdout",
     "output_type": "stream",
     "text": [
      "1  0  0  \n",
      "0  1  0  \n",
      "0  0  1  \n"
     ]
    }
   ],
   "source": [
    "size=3\n",
    "for row in range(0, size):\n",
    "        for col in range(0, size):\n",
    " \n",
    "            # Here end is used to stay in same line\n",
    "            if (row == col):\n",
    "                print(\"1 \", end=\" \")\n",
    "            else:\n",
    "                print(\"0 \", end=\" \")\n",
    "        print()"
   ]
  },
  {
   "cell_type": "code",
   "execution_count": null,
   "id": "897dc58f",
   "metadata": {},
   "outputs": [],
   "source": []
  },
  {
   "cell_type": "code",
   "execution_count": 80,
   "id": "7c7dcc85",
   "metadata": {},
   "outputs": [
    {
     "name": "stdout",
     "output_type": "stream",
     "text": [
      "Yes \n"
     ]
    }
   ],
   "source": [
    "# Python3 program to check\n",
    "# if a given matrix is identity\n",
    "MAX = 100;\n",
    "def isIdentity(mat, N):\n",
    "    for row in range(N):\n",
    "        for col in range(N):\n",
    "            if (row == col and\n",
    "                mat[row][col] != 1):\n",
    "                return False;\n",
    "            elif (row != col and\n",
    "                  mat[row][col] != 0):\n",
    "                return False;\n",
    "    return True;\n",
    " \n",
    "# Driver Code\n",
    "N = 4;\n",
    "mat = [[1, 0, 0, 0],\n",
    "       [0, 1, 0, 0],\n",
    "       [0, 0, 1, 0],\n",
    "       [0, 0, 0, 1]];\n",
    "if (isIdentity(mat, N)):\n",
    "    print(\"Yes \");\n",
    "else:\n",
    "    print(\"No \");\n",
    " "
   ]
  },
  {
   "cell_type": "code",
   "execution_count": null,
   "id": "395960b6",
   "metadata": {},
   "outputs": [],
   "source": []
  },
  {
   "cell_type": "code",
   "execution_count": null,
   "id": "46576be0",
   "metadata": {},
   "outputs": [],
   "source": []
  },
  {
   "cell_type": "code",
   "execution_count": null,
   "id": "5b2fff4d",
   "metadata": {},
   "outputs": [],
   "source": []
  },
  {
   "cell_type": "code",
   "execution_count": null,
   "id": "d75275e0",
   "metadata": {},
   "outputs": [],
   "source": []
  }
 ],
 "metadata": {
  "kernelspec": {
   "display_name": "Python 3 (ipykernel)",
   "language": "python",
   "name": "python3"
  },
  "language_info": {
   "codemirror_mode": {
    "name": "ipython",
    "version": 3
   },
   "file_extension": ".py",
   "mimetype": "text/x-python",
   "name": "python",
   "nbconvert_exporter": "python",
   "pygments_lexer": "ipython3",
   "version": "3.9.12"
  }
 },
 "nbformat": 4,
 "nbformat_minor": 5
}
