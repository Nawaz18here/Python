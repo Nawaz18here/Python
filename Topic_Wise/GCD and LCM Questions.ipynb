{
 "cells": [
  {
   "cell_type": "markdown",
   "id": "758f3b2d",
   "metadata": {},
   "source": [
    "## 1. Python Program to Find the LCM of Two Numbers"
   ]
  },
  {
   "cell_type": "markdown",
   "id": "5eb73a6d",
   "metadata": {},
   "source": [
    " It is the smallest positive integer that is divisible by both \"a\" and \"b\".\n",
    "\n",
    "For example: We have two integers 4 and 6. Let's find LCM\n",
    "    \n",
    "   Multiples of 4 are:\n",
    "\n",
    "4, 8, 12, 16, 20, 24, 28, 32, 36,... and so on...  \n",
    "Multiples of 6 are:\n",
    "\n",
    "6, 12, 18, 24, 30, 36, 42,... and so on....  \n",
    "Common multiples of 4 and 6 are simply the numbers that are in both lists:\n",
    "\n",
    "12, 24, 36, 48, 60, 72,.... and so on....  \n",
    "LCM is the lowest common multiplier so it is 12."
   ]
  },
  {
   "cell_type": "code",
   "execution_count": null,
   "id": "26ddf540",
   "metadata": {},
   "outputs": [],
   "source": []
  },
  {
   "cell_type": "code",
   "execution_count": 29,
   "id": "41684929",
   "metadata": {},
   "outputs": [],
   "source": [
    "#Usinh List Comprehension : Not that good\n",
    "\n",
    "def calc_lcm(a,b):\n",
    "    l1 = [a*i for i in range(1,50)]\n",
    "    l2 = [b*i for i in range(1,50)]\n",
    "    \n",
    "    l3 = min([k for k in l1 for j in l2 if k==j ])\n",
    "    \n",
    "    print(l3)"
   ]
  },
  {
   "cell_type": "code",
   "execution_count": 38,
   "id": "c835fcd4",
   "metadata": {},
   "outputs": [
    {
     "name": "stdout",
     "output_type": "stream",
     "text": [
      "12\n",
      "12\n",
      "60\n"
     ]
    }
   ],
   "source": [
    "calc_lcm(4,6)\n",
    "calc_lcm(12,6)\n",
    "calc_lcm(15,20)"
   ]
  },
  {
   "cell_type": "code",
   "execution_count": null,
   "id": "3dde794d",
   "metadata": {},
   "outputs": [],
   "source": []
  },
  {
   "cell_type": "code",
   "execution_count": 4,
   "id": "534829a9",
   "metadata": {},
   "outputs": [],
   "source": [
    "#Using For loop\n",
    "\n",
    "def calc_lcm2(a,b):\n",
    "    greater= max(a,b)\n",
    "    \n",
    "    for i in range( greater,1+(a*b) ):\n",
    "        if i%a==0 and i%b==0:\n",
    "            lcm=i\n",
    "            break\n",
    "    print('LCM of {} & {} is {}'.format(a,b,lcm))"
   ]
  },
  {
   "cell_type": "code",
   "execution_count": 5,
   "id": "a0132257",
   "metadata": {},
   "outputs": [
    {
     "name": "stdout",
     "output_type": "stream",
     "text": [
      "LCM of 12 & 6 is 12\n",
      "LCM of 5 & 6 is 30\n"
     ]
    }
   ],
   "source": [
    "calc_lcm2(12,6)\n",
    "calc_lcm2(5,6)"
   ]
  },
  {
   "cell_type": "code",
   "execution_count": null,
   "id": "6b97a259",
   "metadata": {},
   "outputs": [],
   "source": []
  },
  {
   "cell_type": "code",
   "execution_count": 16,
   "id": "7589107d",
   "metadata": {},
   "outputs": [],
   "source": [
    "\n",
    "# The next possibility of LCM will be ‘max’ interval apart\n",
    "\n",
    "#Using For loop\n",
    "\n",
    "def calc_lcm3(a,b):\n",
    "    greater= max(a,b)\n",
    "    \n",
    "    for i in range( greater,1+(a*b), greater ):\n",
    "        if i%a==0 and i%b==0:\n",
    "            lcm=i\n",
    "            break\n",
    "    print('LCM of {} & {} is {}'.format(a,b,lcm))"
   ]
  },
  {
   "cell_type": "code",
   "execution_count": 17,
   "id": "4991798c",
   "metadata": {},
   "outputs": [
    {
     "name": "stdout",
     "output_type": "stream",
     "text": [
      "LCM of 12 & 14 is 84\n",
      "LCM of 5 & 6 is 30\n",
      "LCM of 10 & 5 is 10\n"
     ]
    }
   ],
   "source": [
    "calc_lcm3(12,14)\n",
    "calc_lcm3(5,6)\n",
    "calc_lcm3(10,5)"
   ]
  },
  {
   "cell_type": "code",
   "execution_count": null,
   "id": "fee93d75",
   "metadata": {},
   "outputs": [],
   "source": []
  },
  {
   "cell_type": "code",
   "execution_count": 10,
   "id": "8f0d8daf",
   "metadata": {},
   "outputs": [
    {
     "name": "stdout",
     "output_type": "stream",
     "text": [
      "The L.C.M. is 216\n"
     ]
    }
   ],
   "source": [
    "# Python Program to find the L.C.M. of two input number\n",
    "\n",
    "def compute_lcm(x, y):\n",
    "\n",
    "   # choose the greater number\n",
    "    if x > y:\n",
    "        greater = x\n",
    "    else:\n",
    "        greater = y\n",
    "\n",
    "    while(True):\n",
    "        if((greater % x == 0) and (greater % y == 0)):\n",
    "            lcm = greater\n",
    "            break\n",
    "        greater += 1\n",
    "\n",
    "    return lcm\n",
    "\n",
    "num1 = 54\n",
    "num2 = 24\n",
    "\n",
    "print(\"The L.C.M. is\", compute_lcm(num1, num2))"
   ]
  },
  {
   "cell_type": "code",
   "execution_count": null,
   "id": "82eb5bd2",
   "metadata": {},
   "outputs": [],
   "source": []
  },
  {
   "cell_type": "code",
   "execution_count": 13,
   "id": "344c8431",
   "metadata": {},
   "outputs": [
    {
     "name": "stdout",
     "output_type": "stream",
     "text": [
      "LCM of 54 and 24 is 216\n"
     ]
    }
   ],
   "source": [
    "#Using Calculating HCF\n",
    "\n",
    "num1 = 54\n",
    "num2 = 24\n",
    "\n",
    "# Calculating HCF here\n",
    "for i in range(1, max(num1, num2)):\n",
    "    if num1 % i == num2 % i == 0:\n",
    "        hcf = i\n",
    "\n",
    "# LCM formula\n",
    "lcm = (num1*num2)//hcf\n",
    "\n",
    "print(\"LCM of\", num1, \"and\", num2, \"is\", lcm)"
   ]
  },
  {
   "cell_type": "code",
   "execution_count": null,
   "id": "5a1dd31a",
   "metadata": {},
   "outputs": [],
   "source": []
  },
  {
   "cell_type": "code",
   "execution_count": 27,
   "id": "efefc9a6",
   "metadata": {},
   "outputs": [
    {
     "name": "stdout",
     "output_type": "stream",
     "text": [
      "The L.C.M. is 216\n"
     ]
    }
   ],
   "source": [
    "# This function computes GCD \n",
    "def compute_gcd(x, y):\n",
    "\n",
    "    while(y):\n",
    "        x, y = y, x % y\n",
    "    return x\n",
    "\n",
    "# This function computes LCM\n",
    "def compute_lcm(x, y):\n",
    "    lcm = (x*y)//compute_gcd(x,y)\n",
    "    return lcm\n",
    "\n",
    "num1 = 54\n",
    "num2 = 24 \n",
    "\n",
    "print(\"The L.C.M. is\", compute_lcm(num1, num2))"
   ]
  },
  {
   "cell_type": "code",
   "execution_count": null,
   "id": "1617f73b",
   "metadata": {},
   "outputs": [],
   "source": []
  },
  {
   "cell_type": "code",
   "execution_count": 14,
   "id": "bd3938cd",
   "metadata": {},
   "outputs": [
    {
     "name": "stdout",
     "output_type": "stream",
     "text": [
      "LCM of 24 and 54 is 216\n"
     ]
    }
   ],
   "source": [
    "# Method 4\n",
    "\n",
    "def getHCF(num1, num2):\n",
    "    while num1!=num2:\n",
    "        if num1>num2:\n",
    "            num1-=num2\n",
    "        else:\n",
    "            num2-=num1\n",
    "    return num1\n",
    "\n",
    "\n",
    "num1 = 24\n",
    "num2 = 54\n",
    "\n",
    "# Calculating HCF here\n",
    "hcf = getHCF(num1, num2)\n",
    "\n",
    "# LCM formula\n",
    "lcm = (num1*num2)//hcf\n",
    "\n",
    "print(\"LCM of\", num1, \"and\", num2, \"is\", lcm)"
   ]
  },
  {
   "cell_type": "code",
   "execution_count": null,
   "id": "40dec25c",
   "metadata": {},
   "outputs": [],
   "source": []
  },
  {
   "cell_type": "code",
   "execution_count": 15,
   "id": "bd9f09f9",
   "metadata": {},
   "outputs": [
    {
     "name": "stdout",
     "output_type": "stream",
     "text": [
      "LCM of 12 and 14 is 84\n"
     ]
    }
   ],
   "source": [
    "# Recursive function to return HCF of two number\n",
    "def getHCF(num1, num2):\n",
    "    # Everything divides 0\n",
    "    if num1 == 0 or num2 == 0:\n",
    "        return num1 + num2\n",
    "\n",
    "    # base case\n",
    "    if num1 == num2:\n",
    "        return num1\n",
    "\n",
    "    # num1>num2\n",
    "    if num1 > num2:\n",
    "        return getHCF(num1 - num2, num2)\n",
    "    else:\n",
    "        return getHCF(num1, num2 - num1)\n",
    "\n",
    "\n",
    "num1 = 12\n",
    "num2 = 14\n",
    "\n",
    "# Calculating HCF here\n",
    "hcf = getHCF(num1, num2)\n",
    "\n",
    "# LCM formula\n",
    "lcm = (num1*num2)//hcf\n",
    "\n",
    "print(\"LCM of\", num1, \"and\", num2, \"is\", lcm)"
   ]
  },
  {
   "cell_type": "code",
   "execution_count": null,
   "id": "1c5ef9a8",
   "metadata": {},
   "outputs": [],
   "source": []
  },
  {
   "cell_type": "code",
   "execution_count": null,
   "id": "7af574b9",
   "metadata": {},
   "outputs": [],
   "source": []
  },
  {
   "cell_type": "code",
   "execution_count": null,
   "id": "fe80f61d",
   "metadata": {},
   "outputs": [],
   "source": []
  },
  {
   "cell_type": "code",
   "execution_count": null,
   "id": "8027b9ca",
   "metadata": {},
   "outputs": [],
   "source": []
  },
  {
   "cell_type": "markdown",
   "id": "ae22c617",
   "metadata": {},
   "source": [
    "## 2. Python Program to Find the GCD of Two Numbers"
   ]
  },
  {
   "cell_type": "code",
   "execution_count": null,
   "id": "2ca98f67",
   "metadata": {},
   "outputs": [],
   "source": []
  },
  {
   "cell_type": "markdown",
   "id": "e2093d5e",
   "metadata": {},
   "source": [
    "GCD stands for Greatest Common Divisor.\n",
    "\n",
    "The Greatest Common Divisor of two or more numbers is the largest positive integer that divides each number."
   ]
  },
  {
   "cell_type": "code",
   "execution_count": 20,
   "id": "678703db",
   "metadata": {},
   "outputs": [],
   "source": [
    "# HCF Calculation : Not Good Approach\n",
    "\n",
    "def gcd(a,b):\n",
    "    l1= [i for i in range(1,a) if a%i==0]\n",
    "    l2= [i for i in range(1,b) if b%i==0]\n",
    "\n",
    "    l=[i for i in l1 for j in l2 if i==j]\n",
    "    \n",
    "    if len(l)>1:\n",
    "        print(l[1])\n",
    "    else:\n",
    "        print(1)\n",
    "        \n"
   ]
  },
  {
   "cell_type": "code",
   "execution_count": 21,
   "id": "80cdcf08",
   "metadata": {},
   "outputs": [
    {
     "name": "stdout",
     "output_type": "stream",
     "text": [
      "1\n",
      "5\n"
     ]
    }
   ],
   "source": [
    "gcd(13,48)\n",
    "gcd(15,10)"
   ]
  },
  {
   "cell_type": "code",
   "execution_count": null,
   "id": "92ba7928",
   "metadata": {},
   "outputs": [],
   "source": []
  },
  {
   "cell_type": "code",
   "execution_count": 22,
   "id": "ab344ec5",
   "metadata": {},
   "outputs": [
    {
     "name": "stdout",
     "output_type": "stream",
     "text": [
      "GCD of 36 and 60 is 12\n"
     ]
    }
   ],
   "source": [
    "num1 = 36\n",
    "num2 = 60\n",
    "gcd = 1\n",
    "\n",
    "for i in range(1, min(num1, num2)):\n",
    "    if num1 % i == 0 and num2 % i == 0:\n",
    "        gcd = i\n",
    "print(\"GCD of\", num1, \"and\", num2, \"is\", gcd)"
   ]
  },
  {
   "cell_type": "code",
   "execution_count": null,
   "id": "f11eb106",
   "metadata": {},
   "outputs": [],
   "source": []
  },
  {
   "cell_type": "code",
   "execution_count": 23,
   "id": "9ff717f3",
   "metadata": {},
   "outputs": [
    {
     "name": "stdout",
     "output_type": "stream",
     "text": [
      "GCD of 36 and 60 is 12\n"
     ]
    }
   ],
   "source": [
    "#Using Repeated Subtraction\n",
    "\n",
    "num1 = 36\n",
    "num2 = 60\n",
    "a = num1\n",
    "b = num2\n",
    "\n",
    "while num1 != num2:\n",
    "    if num1 > num2:\n",
    "        num1 -= num2\n",
    "    else:\n",
    "        num2 -= num1\n",
    "\n",
    "print(\"GCD of\", a, \"and\", b, \"is\", num1)"
   ]
  },
  {
   "cell_type": "code",
   "execution_count": null,
   "id": "ffaa7ea9",
   "metadata": {},
   "outputs": [],
   "source": []
  },
  {
   "cell_type": "code",
   "execution_count": null,
   "id": "b23faec5",
   "metadata": {},
   "outputs": [],
   "source": []
  },
  {
   "cell_type": "code",
   "execution_count": 24,
   "id": "8bbece0d",
   "metadata": {},
   "outputs": [
    {
     "name": "stdout",
     "output_type": "stream",
     "text": [
      "GCD of 36 and 60 is 12\n"
     ]
    }
   ],
   "source": [
    "# Recursive function to return GCD of two number\n",
    "def findGCD(num1, num2):\n",
    "    \n",
    "    # Everything divides 0\n",
    "    if num1 == 0 or num2 == 0:\n",
    "        return num1 + num2\n",
    "    \n",
    "    # base case\n",
    "    if num1 == num2:\n",
    "        return num1\n",
    "    \n",
    "    # num1>num2\n",
    "    if num1 > num2:\n",
    "        return findGCD(num1 - num2, num2)\n",
    "    else:\n",
    "        return findGCD(num1, num2 - num1)\n",
    "\n",
    "\n",
    "num1 = 36\n",
    "num2 = 60\n",
    "\n",
    "print(\"GCD of\", num1, \"and\", num2, \"is\", findGCD(num1, num2))"
   ]
  },
  {
   "cell_type": "code",
   "execution_count": null,
   "id": "51a9c118",
   "metadata": {},
   "outputs": [],
   "source": []
  },
  {
   "cell_type": "code",
   "execution_count": 25,
   "id": "22395655",
   "metadata": {},
   "outputs": [
    {
     "name": "stdout",
     "output_type": "stream",
     "text": [
      "GCD of 36 and 60 is 12\n"
     ]
    }
   ],
   "source": [
    "# This method improves complexity of repeated subtraction\n",
    "# By efficient use of modulo operator in euclidean algorithm\n",
    "def getGCD(a, b):\n",
    "    return b == 0 and a or getGCD(b, a % b)\n",
    "\n",
    "\n",
    "num1 = 36\n",
    "num2 = 60\n",
    "\n",
    "print(\"GCD of\", num1, \"and\", num2, \"is\", getGCD(num1, num2))"
   ]
  },
  {
   "cell_type": "code",
   "execution_count": null,
   "id": "9c75f6a8",
   "metadata": {},
   "outputs": [],
   "source": []
  },
  {
   "cell_type": "code",
   "execution_count": null,
   "id": "aaa12558",
   "metadata": {},
   "outputs": [],
   "source": []
  },
  {
   "cell_type": "code",
   "execution_count": 26,
   "id": "3fb76763",
   "metadata": {},
   "outputs": [
    {
     "name": "stdout",
     "output_type": "stream",
     "text": [
      "GCD of -36 and 60 is 12\n"
     ]
    }
   ],
   "source": [
    "# This method improves complexity of repeated subtraction\n",
    "# By efficient use of modulo operator in Euclidean algorithm\n",
    "def getGCD(a, b):\n",
    "    return b == 0 and a or getGCD(b, a % b)\n",
    "\n",
    "\n",
    "num1 = -36\n",
    "num2 = 60\n",
    "\n",
    "# if user enters negative number, we just changing it to positive\n",
    "# By definition GCD is the highest positive number that divides both numbers\n",
    "# -36 & 60 : GCD = 12 (as highest num that divides both)\n",
    "# -36 & -60 : GCD = 12 (as highest num that divides both)\n",
    "num1 >= 0 and num1 or -num1\n",
    "num2 >= 0 and num2 or -num2\n",
    "\n",
    "print(\"GCD of\", num1, \"and\", num2, \"is\", getGCD(num1, num2))"
   ]
  },
  {
   "cell_type": "code",
   "execution_count": null,
   "id": "c5f0c98a",
   "metadata": {},
   "outputs": [],
   "source": []
  },
  {
   "cell_type": "code",
   "execution_count": 30,
   "id": "9fa69320",
   "metadata": {},
   "outputs": [
    {
     "name": "stdout",
     "output_type": "stream",
     "text": [
      "Enter first no!36\n",
      "Enter second no!60\n",
      "12\n"
     ]
    }
   ],
   "source": [
    "# Python Program to find the GCD of Two Numbers\n",
    "num1 = int(input(\"Enter first no!\"))\n",
    "num2 = int(input(\"Enter second no!\"))\n",
    "a = num1\n",
    "b = num2\n",
    "while(num2 != 0):   # When num2 is not equal to 0 # Swap num2 with num1 using temp\n",
    "    temp = num2\n",
    "    num2 = num1 % num2   # Modulus of num1 and num2\n",
    "    num1 = temp\n",
    "gcd = num1  \n",
    "\n",
    "print(gcd)"
   ]
  },
  {
   "cell_type": "code",
   "execution_count": null,
   "id": "a7b9615c",
   "metadata": {},
   "outputs": [],
   "source": []
  },
  {
   "cell_type": "code",
   "execution_count": null,
   "id": "8a60bac7",
   "metadata": {},
   "outputs": [],
   "source": []
  },
  {
   "cell_type": "markdown",
   "id": "6ca769e2",
   "metadata": {},
   "source": [
    "## 3. Python Program to Find the GCD of Two Numbers using Recursion"
   ]
  },
  {
   "cell_type": "code",
   "execution_count": 34,
   "id": "7c6a305d",
   "metadata": {},
   "outputs": [
    {
     "name": "stdout",
     "output_type": "stream",
     "text": [
      "The gcd of 60 and 48 is : 12\n"
     ]
    }
   ],
   "source": [
    "def hcf(a, b):\n",
    "    if(b == 0):\n",
    "        return a\n",
    "    else:\n",
    "        return hcf(b, a % b)\n",
    "\n",
    "a = 60\n",
    "b = 48\n",
    " \n",
    "# prints 12\n",
    "print(\"The gcd of 60 and 48 is : \", end=\"\")\n",
    "print(hcf(60, 48))"
   ]
  },
  {
   "cell_type": "code",
   "execution_count": null,
   "id": "3c1ec9a5",
   "metadata": {},
   "outputs": [],
   "source": []
  },
  {
   "cell_type": "markdown",
   "id": "ab9ae6ce",
   "metadata": {},
   "source": [
    "## 4. Python Program to Find the LCM of Two Numbers using Recursion"
   ]
  },
  {
   "cell_type": "code",
   "execution_count": 35,
   "id": "7d5ec517",
   "metadata": {},
   "outputs": [
    {
     "name": "stdout",
     "output_type": "stream",
     "text": [
      "Lcm of 23 and 69 is 69\n"
     ]
    }
   ],
   "source": [
    "def hcf(a, b):\n",
    "    if b == 0:\n",
    "        return a\n",
    "    else:\n",
    "        return hcf(b, a % b)\n",
    "\n",
    "\n",
    "def lcm(a, b):\n",
    "    return (a * b) // hcf(a, b)\n",
    "\n",
    "\n",
    "first = 23\n",
    "second = 69\n",
    "\n",
    "print(\"Lcm of\", first, \"and\", second, \"is\", lcm(first, second))"
   ]
  },
  {
   "cell_type": "code",
   "execution_count": null,
   "id": "6afed012",
   "metadata": {},
   "outputs": [],
   "source": []
  },
  {
   "cell_type": "code",
   "execution_count": null,
   "id": "f765a257",
   "metadata": {},
   "outputs": [],
   "source": []
  },
  {
   "cell_type": "code",
   "execution_count": null,
   "id": "8dead10f",
   "metadata": {},
   "outputs": [],
   "source": []
  }
 ],
 "metadata": {
  "kernelspec": {
   "display_name": "Python 3 (ipykernel)",
   "language": "python",
   "name": "python3"
  },
  "language_info": {
   "codemirror_mode": {
    "name": "ipython",
    "version": 3
   },
   "file_extension": ".py",
   "mimetype": "text/x-python",
   "name": "python",
   "nbconvert_exporter": "python",
   "pygments_lexer": "ipython3",
   "version": "3.9.12"
  }
 },
 "nbformat": 4,
 "nbformat_minor": 5
}
