{
 "cells": [
  {
   "cell_type": "markdown",
   "id": "f571fc17",
   "metadata": {},
   "source": [
    "## 1. Python Program to Read the Contents of the File"
   ]
  },
  {
   "cell_type": "code",
   "execution_count": 1,
   "id": "a40137e9",
   "metadata": {},
   "outputs": [],
   "source": [
    "#Write()\n",
    "\n",
    "with open('Open.txt','w') as f:\n",
    "    f.write('Hi im writing \\n')\n",
    "    f.write('This is file handling')"
   ]
  },
  {
   "cell_type": "code",
   "execution_count": 2,
   "id": "bab0d515",
   "metadata": {},
   "outputs": [],
   "source": [
    "#Writelines()\n",
    "\n",
    "with open('newfile2.txt','w') as f:\n",
    "    f.writelines('Say hi to our new member pogo \\n ok take care')\n"
   ]
  },
  {
   "cell_type": "code",
   "execution_count": 3,
   "id": "471d27a6",
   "metadata": {},
   "outputs": [],
   "source": [
    "#Writelines()\n",
    "lines= ['Hello', 'Welcome','To','Python']\n",
    "\n",
    "with open('python.txt','w') as f:\n",
    "    f.writelines('%s\\n' % l for l in lines)\n"
   ]
  },
  {
   "cell_type": "code",
   "execution_count": null,
   "id": "3f886d6d",
   "metadata": {},
   "outputs": [],
   "source": []
  },
  {
   "cell_type": "code",
   "execution_count": 4,
   "id": "cde9f596",
   "metadata": {},
   "outputs": [
    {
     "name": "stdout",
     "output_type": "stream",
     "text": [
      "['Hi im writing \\n', 'This is file handling']\n"
     ]
    }
   ],
   "source": [
    "#Reading file\n",
    "\n",
    "with open('Open.txt','r') as f:\n",
    "    print(f.readlines())"
   ]
  },
  {
   "cell_type": "code",
   "execution_count": 5,
   "id": "de9794fc",
   "metadata": {},
   "outputs": [
    {
     "name": "stdout",
     "output_type": "stream",
     "text": [
      "['Say hi to our new member pogo \\n', ' ok take care']\n",
      "--------------------------------------------------------------------\n",
      "['Hello\\n', 'Welcome\\n', 'To\\n', 'Python\\n']\n"
     ]
    }
   ],
   "source": [
    "    \n",
    "# READING both txt file here \n",
    "with open('newfile2.txt','r') as f1,open('python.txt','r') as f2:\n",
    "    print(f1.readlines())\n",
    "    print('--------------------------------------------------------------------')\n",
    "    print(f2.readlines())"
   ]
  },
  {
   "cell_type": "code",
   "execution_count": null,
   "id": "49367bef",
   "metadata": {},
   "outputs": [],
   "source": []
  },
  {
   "cell_type": "code",
   "execution_count": 6,
   "id": "7b8af413",
   "metadata": {},
   "outputs": [
    {
     "name": "stdout",
     "output_type": "stream",
     "text": [
      "Hello\n",
      "Welcome\n",
      "To\n",
      "Python\n",
      "\n"
     ]
    }
   ],
   "source": [
    "#read()\n",
    "\n",
    "with open('python.txt') as f:\n",
    "    contents = f.read()\n",
    "    print(contents)"
   ]
  },
  {
   "cell_type": "code",
   "execution_count": null,
   "id": "4b42b8a0",
   "metadata": {},
   "outputs": [],
   "source": []
  },
  {
   "cell_type": "code",
   "execution_count": 10,
   "id": "4a4130e7",
   "metadata": {},
   "outputs": [
    {
     "name": "stdout",
     "output_type": "stream",
     "text": [
      "Enter the name of the file with .txt extension:python.txt\n",
      "Hello\n",
      "\n",
      "Welcome\n",
      "\n",
      "To\n",
      "\n",
      "Python\n",
      "\n"
     ]
    }
   ],
   "source": [
    "#readline()\n",
    "\n",
    "a=str(input(\"Enter the name of the file with .txt extension:\"))\n",
    "file2=open(a,'r')\n",
    "line=file2.readline()\n",
    "while(line!=\"\"):\n",
    "    print(line)\n",
    "    line=file2.readline()\n",
    "file2.close()"
   ]
  },
  {
   "cell_type": "code",
   "execution_count": null,
   "id": "d6c420b4",
   "metadata": {},
   "outputs": [],
   "source": []
  },
  {
   "cell_type": "markdown",
   "id": "50f6e938",
   "metadata": {},
   "source": [
    "## 2. Python Program to Copy One File to Another File"
   ]
  },
  {
   "cell_type": "code",
   "execution_count": 12,
   "id": "4b06b008",
   "metadata": {},
   "outputs": [],
   "source": [
    "with open('python.txt','r') as f1:\n",
    "    r=f1.readlines()\n",
    "    \n",
    "with open('copypython.txt','w') as f2:\n",
    "    f2.writelines(r)"
   ]
  },
  {
   "cell_type": "code",
   "execution_count": 14,
   "id": "fce75a6c",
   "metadata": {},
   "outputs": [
    {
     "name": "stdout",
     "output_type": "stream",
     "text": [
      "['Hello\\n', 'Welcome\\n', 'To\\n', 'Python\\n']\n"
     ]
    }
   ],
   "source": [
    "with open('copypython.txt','r') as f1:\n",
    "    print(f1.readlines())\n",
    "    "
   ]
  },
  {
   "cell_type": "code",
   "execution_count": null,
   "id": "f332f9df",
   "metadata": {},
   "outputs": [],
   "source": []
  },
  {
   "cell_type": "code",
   "execution_count": 1,
   "id": "399ddc49",
   "metadata": {},
   "outputs": [],
   "source": [
    "# open both files\n",
    "with open('python.txt','r') as firstfile, open('copypython.txt','w') as secondfile:\n",
    "    # read content from first file\n",
    "    for line in firstfile:\n",
    "             # write content to second file\n",
    "            secondfile.write(line)\n"
   ]
  },
  {
   "cell_type": "code",
   "execution_count": 2,
   "id": "08bac04f",
   "metadata": {},
   "outputs": [
    {
     "name": "stdout",
     "output_type": "stream",
     "text": [
      "['Hello\\n', 'Welcome\\n', 'To\\n', 'Python\\n']\n"
     ]
    }
   ],
   "source": [
    "with open('copypython.txt','r') as f1:\n",
    "    print(f1.readlines())"
   ]
  },
  {
   "cell_type": "code",
   "execution_count": null,
   "id": "0479d296",
   "metadata": {},
   "outputs": [],
   "source": []
  },
  {
   "cell_type": "markdown",
   "id": "b86e7bfd",
   "metadata": {},
   "source": [
    "## 3. Python Program to Count the Number of Lines in Text File"
   ]
  },
  {
   "cell_type": "code",
   "execution_count": 5,
   "id": "4ed3de62",
   "metadata": {},
   "outputs": [
    {
     "data": {
      "text/plain": [
       "4"
      ]
     },
     "execution_count": 5,
     "metadata": {},
     "output_type": "execute_result"
    }
   ],
   "source": [
    "cnt=0\n",
    "with open('python.txt','r') as firstfile:\n",
    "    for line in firstfile:\n",
    "        cnt+=1\n",
    "cnt"
   ]
  },
  {
   "cell_type": "code",
   "execution_count": null,
   "id": "ee7e960a",
   "metadata": {},
   "outputs": [],
   "source": []
  },
  {
   "cell_type": "code",
   "execution_count": 6,
   "id": "50639ed1",
   "metadata": {},
   "outputs": [
    {
     "name": "stdout",
     "output_type": "stream",
     "text": [
      "Total Number of lines: 4\n"
     ]
    }
   ],
   "source": [
    "with open(r\"python.txt\", 'r') as fp:\n",
    "    lines = len(fp.readlines())\n",
    "    print('Total Number of lines:', lines)"
   ]
  },
  {
   "cell_type": "code",
   "execution_count": null,
   "id": "8b38acb6",
   "metadata": {},
   "outputs": [],
   "source": []
  },
  {
   "cell_type": "code",
   "execution_count": 7,
   "id": "fd1b3324",
   "metadata": {},
   "outputs": [
    {
     "name": "stdout",
     "output_type": "stream",
     "text": [
      "Total Number of lines: 4\n"
     ]
    }
   ],
   "source": [
    "with open(r\"python.txt\", 'r') as fp:\n",
    "    lines = sum(1 for line in fp)\n",
    "    print('Total Number of lines:', lines)"
   ]
  },
  {
   "cell_type": "code",
   "execution_count": null,
   "id": "8a5a605f",
   "metadata": {},
   "outputs": [],
   "source": []
  },
  {
   "cell_type": "markdown",
   "id": "6da7d658",
   "metadata": {},
   "source": [
    "## 4. Python Program to Count the Number of Blank Spaces in a Text File\n"
   ]
  },
  {
   "cell_type": "code",
   "execution_count": 7,
   "id": "ed56f119",
   "metadata": {},
   "outputs": [
    {
     "name": "stdout",
     "output_type": "stream",
     "text": [
      "Hi im writing \n",
      "This is file handling\n"
     ]
    }
   ],
   "source": [
    "with open('Open.txt','r') as f:\n",
    "    print (f.read())"
   ]
  },
  {
   "cell_type": "code",
   "execution_count": 31,
   "id": "67d4feeb",
   "metadata": {},
   "outputs": [
    {
     "name": "stdout",
     "output_type": "stream",
     "text": [
      "7\n"
     ]
    }
   ],
   "source": [
    "#Using Readlines()\n",
    "\n",
    "num_space=0\n",
    "with open('Open.txt','r') as f:\n",
    "    for line in f.readlines():\n",
    "        for i in line:\n",
    "            if(i.isspace()):\n",
    "                num_space+=1\n",
    "                \n",
    "print(num_space)"
   ]
  },
  {
   "cell_type": "code",
   "execution_count": null,
   "id": "c489703a",
   "metadata": {},
   "outputs": [],
   "source": []
  },
  {
   "cell_type": "code",
   "execution_count": 10,
   "id": "0da96b0f",
   "metadata": {},
   "outputs": [
    {
     "name": "stdout",
     "output_type": "stream",
     "text": [
      "7\n"
     ]
    }
   ],
   "source": [
    "#Using Read()\n",
    "\n",
    "num_space1=0\n",
    "with open('Open.txt','r') as f:\n",
    "    for line in f.read():\n",
    "        if(line.isspace()):\n",
    "            num_space1+=1\n",
    "                \n",
    "print(num_space1)"
   ]
  },
  {
   "cell_type": "code",
   "execution_count": null,
   "id": "0e70729d",
   "metadata": {},
   "outputs": [],
   "source": []
  },
  {
   "cell_type": "code",
   "execution_count": 19,
   "id": "1669917c",
   "metadata": {},
   "outputs": [],
   "source": [
    "# https://codescracker.com/python/program/python-count-characters-in-text-file.htm"
   ]
  },
  {
   "cell_type": "code",
   "execution_count": null,
   "id": "e081a642",
   "metadata": {},
   "outputs": [],
   "source": []
  },
  {
   "cell_type": "code",
   "execution_count": 31,
   "id": "0f422278",
   "metadata": {},
   "outputs": [
    {
     "name": "stdout",
     "output_type": "stream",
     "text": [
      "Enter the Name of File: Open.txt\n",
      "\n",
      "There are 7 Blank spaces available in the File\n"
     ]
    }
   ],
   "source": [
    "print(end=\"Enter the Name of File: \")\n",
    "fileName = str(input())\n",
    "try:\n",
    "    fileHandle = open(fileName, \"r\")\n",
    "    tot = 0\n",
    "\n",
    "    for char in fileHandle.read():\n",
    "        #print(char)\n",
    "        if char==' ':\n",
    "            tot = tot+1\n",
    "    fileHandle.close()\n",
    "\n",
    "    if tot>1:\n",
    "        print(\"\\nThere are \" + str(tot+1) + \" Blank spaces available in the File\")\n",
    "    elif tot==1:\n",
    "        print(\"\\nThere is only 1 Blank space available in the File\")\n",
    "    else:\n",
    "        print(\"\\nThere is no any Blank space available in the File!\")\n",
    "except IOError:\n",
    "        print(\"\\nError Occurred!\")"
   ]
  },
  {
   "cell_type": "code",
   "execution_count": null,
   "id": "280af5ed",
   "metadata": {},
   "outputs": [],
   "source": []
  },
  {
   "cell_type": "code",
   "execution_count": null,
   "id": "1ae7f607",
   "metadata": {},
   "outputs": [],
   "source": []
  },
  {
   "cell_type": "code",
   "execution_count": 18,
   "id": "178a8189",
   "metadata": {},
   "outputs": [
    {
     "name": "stdout",
     "output_type": "stream",
     "text": [
      "7\n"
     ]
    }
   ],
   "source": [
    "file = open(\"Open.txt\", \"r\")\n",
    "  \n",
    "count = 0\n",
    "while True:\n",
    "    char = file.read(1)\n",
    "      \n",
    "    #print(char)\n",
    "    \n",
    "    if char.isspace():\n",
    "        count += 1\n",
    "    if not char:\n",
    "        break\n",
    "    \n",
    "\n",
    "print(count)"
   ]
  },
  {
   "cell_type": "code",
   "execution_count": null,
   "id": "03aac247",
   "metadata": {},
   "outputs": [],
   "source": []
  },
  {
   "cell_type": "markdown",
   "id": "3838b3e0",
   "metadata": {},
   "source": [
    "## 5. Python Program to Count the Occurrences of a Word in a Text File"
   ]
  },
  {
   "cell_type": "code",
   "execution_count": 1,
   "id": "830a7dac",
   "metadata": {},
   "outputs": [],
   "source": [
    "with open('newfile2.txt','w') as f:\n",
    "    f.writelines('hello world\\ntest\\ntest test\\n')"
   ]
  },
  {
   "cell_type": "code",
   "execution_count": 2,
   "id": "c15e3939",
   "metadata": {},
   "outputs": [
    {
     "name": "stdout",
     "output_type": "stream",
     "text": [
      "hello world\n",
      "test\n",
      "test test\n",
      "\n"
     ]
    }
   ],
   "source": [
    "with open('newfile2.txt','r') as f:\n",
    "    print(f.read())\n",
    "    "
   ]
  },
  {
   "cell_type": "code",
   "execution_count": 21,
   "id": "1c9672b2",
   "metadata": {},
   "outputs": [
    {
     "name": "stdout",
     "output_type": "stream",
     "text": [
      "The specific word which is test, appearing 3 times\n"
     ]
    }
   ],
   "source": [
    "count=0\n",
    "search='test'\n",
    "\n",
    "with open('newfile2.txt','r') as f:\n",
    "    for i in f.readlines():\n",
    "        word= i.split()\n",
    "        for j in word:\n",
    "            if j==search:\n",
    "                count+=1\n",
    "                \n",
    "print('The specific word which is {}, appearing {} times'.format(search,count))"
   ]
  },
  {
   "cell_type": "code",
   "execution_count": null,
   "id": "68a16e59",
   "metadata": {},
   "outputs": [],
   "source": []
  },
  {
   "cell_type": "code",
   "execution_count": null,
   "id": "9b1de49d",
   "metadata": {},
   "outputs": [],
   "source": []
  },
  {
   "cell_type": "markdown",
   "id": "3cdb4286",
   "metadata": {},
   "source": [
    "## 6. Python Program to Count the Number of Words in a Text File"
   ]
  },
  {
   "cell_type": "code",
   "execution_count": 9,
   "id": "a180d8c6",
   "metadata": {},
   "outputs": [
    {
     "name": "stdout",
     "output_type": "stream",
     "text": [
      "Total Number of words:\n",
      "5\n"
     ]
    }
   ],
   "source": [
    "num_words = 0\n",
    " \n",
    "with open('newfile2.txt', 'r') as f:\n",
    "    for line in f:\n",
    "        words = line.split()\n",
    "        num_words += len(words)\n",
    "        \n",
    "        \n",
    "print(\"Total Number of words:\")\n",
    "print(num_words)"
   ]
  },
  {
   "cell_type": "code",
   "execution_count": null,
   "id": "2f875879",
   "metadata": {},
   "outputs": [],
   "source": []
  },
  {
   "cell_type": "code",
   "execution_count": 10,
   "id": "d57e5697",
   "metadata": {},
   "outputs": [
    {
     "name": "stdout",
     "output_type": "stream",
     "text": [
      "All words:  ['hello', 'world', 'test', 'test', 'test']\n",
      "Total Number of words: 5\n"
     ]
    }
   ],
   "source": [
    "num_words = 0\n",
    " \n",
    "with open('newfile2.txt', 'r') as f:\n",
    "    data = f.read()\n",
    "    line = data.split()\n",
    "    for word in line:\n",
    "        num_words += 1\n",
    "        \n",
    "print(\"All words: \", line)        \n",
    "print(\"Total Number of words:\", num_words)"
   ]
  },
  {
   "cell_type": "code",
   "execution_count": null,
   "id": "f58aa6fe",
   "metadata": {},
   "outputs": [],
   "source": []
  },
  {
   "cell_type": "markdown",
   "id": "d5a9ca2d",
   "metadata": {},
   "source": [
    "## 7. Python Program to Capitalize First Letter of Each Word in a File"
   ]
  },
  {
   "cell_type": "code",
   "execution_count": null,
   "id": "bf6297f2",
   "metadata": {},
   "outputs": [],
   "source": []
  },
  {
   "cell_type": "code",
   "execution_count": 65,
   "id": "14bbe852",
   "metadata": {},
   "outputs": [
    {
     "name": "stdout",
     "output_type": "stream",
     "text": [
      "Hello World\n",
      "\n",
      "Test\n",
      "\n",
      "Test Test\n"
     ]
    }
   ],
   "source": [
    "#title()\n",
    "\n",
    "file = open('newfile2.txt', 'r')\n",
    "\n",
    "for line in file:\n",
    "    output = line.title()\n",
    "    print(output)"
   ]
  },
  {
   "cell_type": "code",
   "execution_count": null,
   "id": "20cd4bb2",
   "metadata": {},
   "outputs": [],
   "source": []
  },
  {
   "cell_type": "code",
   "execution_count": 63,
   "id": "52404dea",
   "metadata": {},
   "outputs": [
    {
     "name": "stdout",
     "output_type": "stream",
     "text": [
      "Enter the Name of File: \n",
      "newfile2.txt\n",
      "All Words Capitalized Successfully!\n"
     ]
    }
   ],
   "source": [
    "\n",
    "totContent = \"\"\n",
    "print(\"Enter the Name of File: \")\n",
    "fileName = str(input())\n",
    "fileHandle = open(fileName, \"r\")\n",
    "\n",
    "for content in fileHandle:\n",
    "    newContent = content.title()\n",
    "    totContent = totContent + newContent\n",
    "\n",
    "fileHandle.close()\n",
    "\n",
    "fileHandle = open(fileName, \"w\")\n",
    "fileHandle.write(totContent)\n",
    "\n",
    "print(\"All Words Capitalized Successfully!\")\n",
    "fileHandle.close()\n"
   ]
  },
  {
   "cell_type": "code",
   "execution_count": null,
   "id": "7d8cf77d",
   "metadata": {},
   "outputs": [],
   "source": []
  },
  {
   "cell_type": "code",
   "execution_count": 64,
   "id": "30f6663d",
   "metadata": {},
   "outputs": [
    {
     "name": "stdout",
     "output_type": "stream",
     "text": [
      "Hello World\n",
      "Test\n",
      "Test Test\n"
     ]
    }
   ],
   "source": [
    "#Reading the file newfile2.txt after capitalizing the first letter of word\n",
    "\n",
    "with open('newfile2.txt','r') as f:\n",
    "    print(f.read())"
   ]
  },
  {
   "cell_type": "code",
   "execution_count": null,
   "id": "704cfc99",
   "metadata": {},
   "outputs": [],
   "source": []
  },
  {
   "cell_type": "code",
   "execution_count": null,
   "id": "8d5520f7",
   "metadata": {},
   "outputs": [],
   "source": []
  },
  {
   "cell_type": "markdown",
   "id": "0d154acb",
   "metadata": {},
   "source": [
    "## 8. Python Program to Counts the Number of Times a Letter Appears in the Text File\n"
   ]
  },
  {
   "cell_type": "code",
   "execution_count": 13,
   "id": "d1937de1",
   "metadata": {},
   "outputs": [
    {
     "name": "stdout",
     "output_type": "stream",
     "text": [
      "Hello World\n",
      "\n",
      "Test\n",
      "\n",
      "Test Test\n",
      "The specific word which is e, appearing 4 times\n"
     ]
    }
   ],
   "source": [
    "count=0\n",
    "search='e'\n",
    "\n",
    "\n",
    "\n",
    "\n",
    "with open('newfile2.txt','r') as f:\n",
    "    for i in f.readlines():\n",
    "        print(i)\n",
    "        \n",
    "        word= i.split()\n",
    "        for j in word:\n",
    "            for k in j:\n",
    "                if k==search:\n",
    "                    count+=1\n",
    "                \n",
    "print('The specific word which is {}, appearing {} times'.format(search,count))"
   ]
  },
  {
   "cell_type": "code",
   "execution_count": null,
   "id": "028f9209",
   "metadata": {},
   "outputs": [],
   "source": []
  },
  {
   "cell_type": "markdown",
   "id": "cdeb5b46",
   "metadata": {},
   "source": [
    "## 9. Python Program to Extract Numbers from Text File"
   ]
  },
  {
   "cell_type": "markdown",
   "id": "dc50be41",
   "metadata": {},
   "source": [
    "Case 1:\n",
    "Contents of file: \n",
    "hello world7 try\n",
    "test2 ok\n",
    "test test8 home python\n",
    "i love python\n",
    "new version of python is 3\n",
    " \n",
    "Output: \n",
    "Enter file name: out.txt\n",
    "5\n",
    "6"
   ]
  },
  {
   "cell_type": "code",
   "execution_count": null,
   "id": "9ccba0ad",
   "metadata": {},
   "outputs": [],
   "source": []
  },
  {
   "cell_type": "code",
   "execution_count": 17,
   "id": "bedbd270",
   "metadata": {},
   "outputs": [],
   "source": [
    "#Writing into a new file\n",
    "\n",
    "with open('Extractnum.txt','w') as f:\n",
    "    f.writelines('hello world7 try\\ntest2 ok\\ntest test8 home python\\ni love python\\nnew version of python is 3')"
   ]
  },
  {
   "cell_type": "code",
   "execution_count": 23,
   "id": "fb7f1b13",
   "metadata": {},
   "outputs": [
    {
     "name": "stdout",
     "output_type": "stream",
     "text": [
      "7\n",
      "2\n",
      "8\n",
      "3\n"
     ]
    }
   ],
   "source": [
    "\n",
    "with open('Extractnum.txt','r') as f:\n",
    "    for line in f.read():\n",
    "        if line.isnumeric():\n",
    "            print(line)"
   ]
  },
  {
   "cell_type": "code",
   "execution_count": null,
   "id": "d478523a",
   "metadata": {},
   "outputs": [],
   "source": []
  },
  {
   "cell_type": "code",
   "execution_count": 24,
   "id": "d31c24a3",
   "metadata": {},
   "outputs": [
    {
     "name": "stdout",
     "output_type": "stream",
     "text": [
      "Enter file name: Extractnum.txt\n",
      "7\n",
      "2\n",
      "8\n",
      "3\n"
     ]
    }
   ],
   "source": [
    "fname = input(\"Enter file name: \")\n",
    " \n",
    "with open(fname, 'r') as f:\n",
    "    for line in f:\n",
    "        words = line.split()\n",
    "        for i in words:\n",
    "            for letter in i:\n",
    "                if(letter.isdigit()):\n",
    "                    print(letter)"
   ]
  },
  {
   "cell_type": "code",
   "execution_count": null,
   "id": "73cc4134",
   "metadata": {},
   "outputs": [],
   "source": []
  },
  {
   "cell_type": "markdown",
   "id": "56bff1ac",
   "metadata": {},
   "source": [
    "## 10. Python Program to Print the Contents of File in Reverse Order "
   ]
  },
  {
   "cell_type": "markdown",
   "id": "137affa0",
   "metadata": {},
   "source": [
    "Case 2:\n",
    "Contents of file: \n",
    "line1\n",
    "line2\n",
    "line3\n",
    " \n",
    "Output: \n",
    "Enter file name: read2.txt\n",
    "line3\n",
    "line2\n",
    "line1"
   ]
  },
  {
   "cell_type": "code",
   "execution_count": null,
   "id": "0c531c66",
   "metadata": {},
   "outputs": [],
   "source": []
  },
  {
   "cell_type": "code",
   "execution_count": 47,
   "id": "96f723a4",
   "metadata": {},
   "outputs": [
    {
     "name": "stdout",
     "output_type": "stream",
     "text": [
      "hello world7 try\n",
      "\n",
      "test2 ok\n",
      "\n",
      "test test8 home python\n",
      "\n",
      "i love python\n",
      "\n",
      "new version of python is 3\n",
      "\n"
     ]
    }
   ],
   "source": [
    "with open('Extractnum.txt','r') as f:\n",
    "    for line in f.readlines():\n",
    "        print(line)"
   ]
  },
  {
   "cell_type": "code",
   "execution_count": 46,
   "id": "78fc10be",
   "metadata": {},
   "outputs": [
    {
     "name": "stdout",
     "output_type": "stream",
     "text": [
      "new version of python is 3\n",
      "i love python\n",
      "test test8 home python\n",
      "test2 ok\n",
      "hello world7 try\n",
      "\n"
     ]
    }
   ],
   "source": [
    "f2 = open(\"new.txt\", \"w\")\n",
    "\n",
    "with open(\"Extractnum.txt\", \"r\") as myfile:\n",
    "    data = myfile.readlines()\n",
    "\n",
    "data_2 = data[::-1]\n",
    "\n",
    "f2.writelines(data_2)\n",
    " \n",
    "f2.close()\n",
    "\n",
    "with open(\"new.txt\", \"r\") as myfile:\n",
    "    print(myfile.read())\n"
   ]
  },
  {
   "cell_type": "code",
   "execution_count": null,
   "id": "7779d230",
   "metadata": {},
   "outputs": [],
   "source": []
  },
  {
   "cell_type": "markdown",
   "id": "c472d330",
   "metadata": {},
   "source": [
    "##  11. Python Program to Append the Content of One File to the End of Another File"
   ]
  },
  {
   "cell_type": "code",
   "execution_count": 54,
   "id": "d47f9ff1",
   "metadata": {},
   "outputs": [
    {
     "name": "stdout",
     "output_type": "stream",
     "text": [
      "['hello world7 try\\n', 'test2 ok\\n', 'test test8 home python\\n', 'i love python\\n', 'new version of python is 3\\n']\n",
      "--------------------------------------------------------------------\n",
      "['Hello World\\n', 'Test\\n', 'Test Test']\n"
     ]
    }
   ],
   "source": [
    "with open('Extractnum.txt','r') as f1, open('newfile2.txt','r') as f2:\n",
    "    print(f1.readlines())\n",
    "    print('--------------------------------------------------------------------')\n",
    "    print(f2.readlines())"
   ]
  },
  {
   "cell_type": "code",
   "execution_count": 55,
   "id": "b26ac768",
   "metadata": {},
   "outputs": [],
   "source": [
    "with open('Extractnum.txt','r') as f1, open('newfile2.txt','a') as f2:\n",
    "    data1=f1.read()\n",
    "    \n",
    "    f2.writelines(data1)"
   ]
  },
  {
   "cell_type": "code",
   "execution_count": 56,
   "id": "c8223585",
   "metadata": {},
   "outputs": [
    {
     "name": "stdout",
     "output_type": "stream",
     "text": [
      "['hello world7 try\\n', 'test2 ok\\n', 'test test8 home python\\n', 'i love python\\n', 'new version of python is 3\\n']\n",
      "--------------------------------------------------------------------\n",
      "['Hello World\\n', 'Test\\n', 'Test Testhello world7 try\\n', 'test2 ok\\n', 'test test8 home python\\n', 'i love python\\n', 'new version of python is 3\\n']\n"
     ]
    }
   ],
   "source": [
    "#Appended\n",
    "\n",
    "with open('Extractnum.txt','r') as f1, open('newfile2.txt','r') as f2:\n",
    "    print(f1.readlines())\n",
    "    print('--------------------------------------------------------------------')\n",
    "    print(f2.readlines())"
   ]
  },
  {
   "cell_type": "code",
   "execution_count": null,
   "id": "0d42cbce",
   "metadata": {},
   "outputs": [],
   "source": []
  },
  {
   "cell_type": "markdown",
   "id": "9d8bf32c",
   "metadata": {},
   "source": [
    "## 12. Python Program to Read a String from the User and Append it into a File"
   ]
  },
  {
   "cell_type": "code",
   "execution_count": 1,
   "id": "11af5ba0",
   "metadata": {},
   "outputs": [],
   "source": [
    "def read_append():\n",
    "    try:\n",
    "        filename = str(input(\"Enter the name of file which exists: \"))\n",
    "        input_str = str(input(\"Enter string which you want to append: \"))\n",
    "        \n",
    "        with open(filename,'a') as f:\n",
    "            f.writelines(input_str)\n",
    "            f.write(\"\\n\")\n",
    "            \n",
    "        with open(filename,'r') as f:\n",
    "            print(f.read())\n",
    "    \n",
    "    except Exception as e:\n",
    "        print(e)"
   ]
  },
  {
   "cell_type": "code",
   "execution_count": 2,
   "id": "d3d669a6",
   "metadata": {},
   "outputs": [
    {
     "name": "stdout",
     "output_type": "stream",
     "text": [
      "Enter the name of file which exists: Open.txt\n",
      "Enter string which you want to append: Writing a str and it will be appended \\n ok\n",
      "Hi im writing \n",
      "This is file handlingWriting a str and it will be appended \\n ok\n",
      "\n"
     ]
    }
   ],
   "source": [
    "read_append()"
   ]
  },
  {
   "cell_type": "code",
   "execution_count": null,
   "id": "6b14e5a0",
   "metadata": {},
   "outputs": [],
   "source": []
  },
  {
   "cell_type": "code",
   "execution_count": null,
   "id": "109b105d",
   "metadata": {},
   "outputs": [],
   "source": []
  },
  {
   "cell_type": "code",
   "execution_count": null,
   "id": "6fe47c1e",
   "metadata": {},
   "outputs": [],
   "source": []
  }
 ],
 "metadata": {
  "kernelspec": {
   "display_name": "Python 3 (ipykernel)",
   "language": "python",
   "name": "python3"
  },
  "language_info": {
   "codemirror_mode": {
    "name": "ipython",
    "version": 3
   },
   "file_extension": ".py",
   "mimetype": "text/x-python",
   "name": "python",
   "nbconvert_exporter": "python",
   "pygments_lexer": "ipython3",
   "version": "3.9.12"
  }
 },
 "nbformat": 4,
 "nbformat_minor": 5
}
