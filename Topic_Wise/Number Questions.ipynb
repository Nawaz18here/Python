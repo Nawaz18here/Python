{
 "cells": [
  {
   "cell_type": "markdown",
   "id": "9d864789",
   "metadata": {},
   "source": []
  },
  {
   "cell_type": "markdown",
   "id": "7570d51d",
   "metadata": {},
   "source": [
    "##  1. Python Program to Check Prime Number"
   ]
  },
  {
   "cell_type": "code",
   "execution_count": null,
   "id": "c50b9742",
   "metadata": {},
   "outputs": [],
   "source": []
  },
  {
   "cell_type": "code",
   "execution_count": 2,
   "id": "887972ec",
   "metadata": {},
   "outputs": [],
   "source": [
    "#Using FOR Loop\n",
    "\n",
    "def check_prime(n):\n",
    "    flag=0\n",
    "    if n>1:\n",
    "        for i in range(2,n//2+1):\n",
    "            if n%i==0:\n",
    "                flag=1\n",
    "                break\n",
    "    else:\n",
    "        flag=-1\n",
    "        \n",
    "\n",
    "    if flag==1:\n",
    "        print(\"No, it is not a prime no!\")\n",
    "    elif flag==0:\n",
    "        print(\"Yes, it is a prime no!\")\n",
    "    else:\n",
    "        print(\"Invalid no!\")"
   ]
  },
  {
   "cell_type": "code",
   "execution_count": 5,
   "id": "08c58d1d",
   "metadata": {},
   "outputs": [
    {
     "name": "stdout",
     "output_type": "stream",
     "text": [
      "No, it is not a prime no!\n",
      "Invalid no!\n",
      "No, it is not a prime no!\n"
     ]
    }
   ],
   "source": [
    "check_prime(15)\n",
    "check_prime(-5)\n",
    "check_prime(88)"
   ]
  },
  {
   "cell_type": "code",
   "execution_count": null,
   "id": "7cdde017",
   "metadata": {},
   "outputs": [],
   "source": []
  },
  {
   "cell_type": "code",
   "execution_count": 11,
   "id": "9525ec89",
   "metadata": {},
   "outputs": [],
   "source": [
    "# Using a for...else\n",
    "\n",
    "def chk_prime2(n):\n",
    "    if n>1:\n",
    "        for i in range(2,n//2+1):\n",
    "            if n%i==0:\n",
    "                print(\"Not a prime no!\")\n",
    "                break\n",
    "        else:\n",
    "            print(\"It is a prime no!\")\n",
    "    else:\n",
    "        print(\"Not a prime no!\") \n",
    "\n"
   ]
  },
  {
   "cell_type": "code",
   "execution_count": 13,
   "id": "8e527231",
   "metadata": {},
   "outputs": [
    {
     "name": "stdout",
     "output_type": "stream",
     "text": [
      "It is a prime no!\n",
      "Not a prime no!\n"
     ]
    }
   ],
   "source": [
    "chk_prime2(41)\n",
    "chk_prime2(34)"
   ]
  },
  {
   "cell_type": "code",
   "execution_count": null,
   "id": "614aa10c",
   "metadata": {},
   "outputs": [],
   "source": []
  },
  {
   "cell_type": "markdown",
   "id": "10032760",
   "metadata": {},
   "source": [
    "## 2. Python Program to Find Prime Numbers in a Given Range"
   ]
  },
  {
   "cell_type": "code",
   "execution_count": 21,
   "id": "d10aa986",
   "metadata": {},
   "outputs": [],
   "source": [
    "def range_prime(l,u):\n",
    "    cnt=0\n",
    "    for i in range(l,u):\n",
    "        if n>1:\n",
    "                for j in range(2,i//2+1):\n",
    "                    if i%j==0:\n",
    "                        break\n",
    "                else:\n",
    "                    print(i, end =' ')\n",
    "                    cnt+=1\n",
    "    print(\"\\nTotal count between range is: \", cnt)"
   ]
  },
  {
   "cell_type": "code",
   "execution_count": 22,
   "id": "894f1b73",
   "metadata": {},
   "outputs": [
    {
     "name": "stdout",
     "output_type": "stream",
     "text": [
      "5 7 11 13 17 19 23 29 31 37 41 43 47 53 \n",
      "Total count between range is:  14\n"
     ]
    }
   ],
   "source": [
    "range_prime(4,56)"
   ]
  },
  {
   "cell_type": "code",
   "execution_count": null,
   "id": "5d2b80ca",
   "metadata": {},
   "outputs": [],
   "source": []
  },
  {
   "cell_type": "code",
   "execution_count": 25,
   "id": "2f825f3d",
   "metadata": {},
   "outputs": [],
   "source": [
    "# Print all no within a range and also give count!\n",
    "\n",
    "def prime_cnt():\n",
    "    l= int(input(\"Enter lower range: \"))\n",
    "    u= int(input(\"Enter upper range: \"))\n",
    "    cnt=1\n",
    "\n",
    "    for i in range(l,u):\n",
    "        if i>1:\n",
    "            for j in range(2,i):\n",
    "                if (i%j==0):\n",
    "                    break\n",
    "            else:\n",
    "                cnt+=1\n",
    "                print(i, end=' ')\n",
    "\n",
    "    print(\"\\nTotal count between lower and upper range is: \", cnt-1)\n",
    "    \n"
   ]
  },
  {
   "cell_type": "code",
   "execution_count": 26,
   "id": "2f3fe6d1",
   "metadata": {},
   "outputs": [
    {
     "name": "stdout",
     "output_type": "stream",
     "text": [
      "Enter lower range: 120\n",
      "Enter upper range: 150\n",
      "127 131 137 139 149 \n",
      "Total count between lower and upper range is:  5\n"
     ]
    }
   ],
   "source": [
    "prime_cnt()"
   ]
  },
  {
   "cell_type": "code",
   "execution_count": null,
   "id": "025f84b4",
   "metadata": {},
   "outputs": [],
   "source": []
  },
  {
   "cell_type": "code",
   "execution_count": null,
   "id": "9f8c6cc0",
   "metadata": {},
   "outputs": [],
   "source": []
  },
  {
   "cell_type": "markdown",
   "id": "1b65fee2",
   "metadata": {},
   "source": [
    "## 3. Python Program to Check whether a Number is Prime or Not using Recursion\n",
    " "
   ]
  },
  {
   "cell_type": "code",
   "execution_count": null,
   "id": "7755c6c0",
   "metadata": {},
   "outputs": [],
   "source": []
  },
  {
   "cell_type": "code",
   "execution_count": 1,
   "id": "0ae3159b",
   "metadata": {},
   "outputs": [],
   "source": [
    "def rec_prime(n,i=2):\n",
    "    if n==i:\n",
    "        return True\n",
    "    elif n%i==0:\n",
    "        return False\n",
    "    return rec_prime(n,i+1)"
   ]
  },
  {
   "cell_type": "code",
   "execution_count": 2,
   "id": "cc1a65d2",
   "metadata": {},
   "outputs": [
    {
     "name": "stdout",
     "output_type": "stream",
     "text": [
      "No, 4 is not a Prime\n"
     ]
    }
   ],
   "source": [
    "n = 4\n",
    "if rec_prime(n):\n",
    "    print(\"Yes,\", n, \"is Prime\")\n",
    "else:\n",
    "    print(\"No,\", n, \"is not a Prime\")"
   ]
  },
  {
   "cell_type": "code",
   "execution_count": null,
   "id": "24d6e6f5",
   "metadata": {},
   "outputs": [],
   "source": []
  },
  {
   "cell_type": "markdown",
   "id": "a9d18115",
   "metadata": {},
   "source": [
    "## 4. Python Program to Check Whether a Given Number is Perfect Number"
   ]
  },
  {
   "cell_type": "markdown",
   "id": "ee243ce3",
   "metadata": {},
   "source": [
    "Case 1:\n",
    "Enter any number: 6\n",
    "The number is a Perfect number!\n",
    "\n",
    "\n",
    "When a number is equal to the sum of all of its positive divisors except itself, it is said to be a Perfect Number.\n",
    "\n",
    "For example:\n",
    "\n",
    "n = 6\n",
    "\n",
    "Positive divisors of 6 except itself are 1, 2 and 3\n",
    "\n",
    "Sum of divisors is 1 + 2 + 3 = 6\n",
    "\n",
    "Hence 6 is a perfect number.\n",
    "\n"
   ]
  },
  {
   "cell_type": "code",
   "execution_count": 7,
   "id": "ea73a2ac",
   "metadata": {},
   "outputs": [],
   "source": [
    "#Using For Loop\n",
    "\n",
    "def chk_pernum(n):\n",
    "    total=0\n",
    "    for i in range(1,n):\n",
    "        if (n%i==0):\n",
    "            total+=i\n",
    "            \n",
    "    if total==n:\n",
    "        print(\"Yes, it is a perfect no!\")\n",
    "    else:\n",
    "        print(\"No, it is not a perfect no!\")"
   ]
  },
  {
   "cell_type": "code",
   "execution_count": 28,
   "id": "21ea8885",
   "metadata": {},
   "outputs": [
    {
     "name": "stdout",
     "output_type": "stream",
     "text": [
      "Yes, it is a perfect no!\n",
      "No, it is not a perfect no!\n",
      "Yes, it is a perfect no!\n"
     ]
    }
   ],
   "source": [
    "chk_pernum(6)\n",
    "chk_pernum(25)\n",
    "chk_pernum(28)"
   ]
  },
  {
   "cell_type": "code",
   "execution_count": null,
   "id": "eb641d7e",
   "metadata": {},
   "outputs": [],
   "source": []
  },
  {
   "cell_type": "code",
   "execution_count": 3,
   "id": "e15beaf8",
   "metadata": {},
   "outputs": [],
   "source": [
    "#Using While Loop\n",
    "\n",
    "def chk_pernum2(n):\n",
    "    total=0\n",
    "    i=1\n",
    "    \n",
    "    while i<n:\n",
    "        if (n%i==0):\n",
    "            total+=i\n",
    "        i+=1\n",
    "            \n",
    "    if total==n:\n",
    "        print(\"Yes, it is a perfect no!\")\n",
    "    else:\n",
    "        print(\"No, it is not a perfect no!\")"
   ]
  },
  {
   "cell_type": "code",
   "execution_count": 6,
   "id": "97c14018",
   "metadata": {},
   "outputs": [
    {
     "name": "stdout",
     "output_type": "stream",
     "text": [
      "Yes, it is a perfect no!\n",
      "No, it is not a perfect no!\n",
      "Yes, it is a perfect no!\n"
     ]
    }
   ],
   "source": [
    "chk_pernum2(6)\n",
    "chk_pernum2(25)\n",
    "chk_pernum2(28)"
   ]
  },
  {
   "cell_type": "code",
   "execution_count": null,
   "id": "ab342f7b",
   "metadata": {},
   "outputs": [],
   "source": []
  },
  {
   "cell_type": "markdown",
   "id": "7be6126f",
   "metadata": {},
   "source": [
    "## 5. Python Program to Check Armstrong Number"
   ]
  },
  {
   "cell_type": "markdown",
   "id": "ca1a28db",
   "metadata": {},
   "source": [
    "A number of n-digits can be defined as an Armstrong number if and only if the sum of its digits powered to n is equal to the number itself. For example, 1634 is an Armstrong number as\n",
    "\n",
    "1634= 1^4+ 6^4 + 3^4+ 4^4\n",
    "\n",
    "--------------------------------\n",
    "Input : 153\n",
    "Output : Yes\n",
    "153 is an Armstrong number.\n",
    "1*1*1 + 5*5*5 + 3*3*3 = 153\n"
   ]
  },
  {
   "cell_type": "code",
   "execution_count": null,
   "id": "0807ec85",
   "metadata": {},
   "outputs": [],
   "source": []
  },
  {
   "cell_type": "code",
   "execution_count": 10,
   "id": "3e86ee40",
   "metadata": {},
   "outputs": [],
   "source": [
    "#Using While Loop & Len function\n",
    "\n",
    "def chk_armstrong(num):\n",
    "    total=0\n",
    "    digit=0\n",
    "    temp=num\n",
    "    l=len(str(temp))\n",
    "    \n",
    "    while temp>0:\n",
    "        digit=temp%10\n",
    "        total+=digit**l\n",
    "        temp//=10\n",
    "        \n",
    "    if num==total:\n",
    "        print(\"Yes, it is a armstrong no!\")\n",
    "    else:\n",
    "        print(\"No, it is not a armstrong no!\")"
   ]
  },
  {
   "cell_type": "code",
   "execution_count": 14,
   "id": "39447f12",
   "metadata": {},
   "outputs": [
    {
     "name": "stdout",
     "output_type": "stream",
     "text": [
      "Yes, it is a armstrong no!\n",
      "Yes, it is a armstrong no!\n",
      "No, it is not a armstrong no!\n"
     ]
    }
   ],
   "source": [
    "chk_armstrong(1634)\n",
    "chk_armstrong(153)\n",
    "chk_armstrong(123)"
   ]
  },
  {
   "cell_type": "code",
   "execution_count": null,
   "id": "64aa576c",
   "metadata": {},
   "outputs": [],
   "source": []
  },
  {
   "cell_type": "code",
   "execution_count": 2,
   "id": "37ce8798",
   "metadata": {},
   "outputs": [],
   "source": [
    "def count_digit(num):\n",
    "    cnt=0\n",
    "    while num>0:\n",
    "        num//=10\n",
    "        cnt+=1\n",
    "    return cnt"
   ]
  },
  {
   "cell_type": "code",
   "execution_count": 20,
   "id": "9532f9bd",
   "metadata": {},
   "outputs": [
    {
     "name": "stdout",
     "output_type": "stream",
     "text": [
      "No of digit in given no: 1634 is 4\n",
      "No of digit in given no: 153 is 3\n",
      "No of digit in given no: 123 is 3\n",
      "No of digit in given no: 2 is 1\n",
      "No of digit in given no: 99999 is 5\n"
     ]
    }
   ],
   "source": [
    "print(\"No of digit in given no: 1634 is\",count_digit(1634))\n",
    "print(\"No of digit in given no: 153 is\",count_digit(153))\n",
    "print(\"No of digit in given no: 123 is\",count_digit(123))\n",
    "print(\"No of digit in given no: 2 is\",count_digit(2))\n",
    "print(\"No of digit in given no: 99999 is\",count_digit(99999))"
   ]
  },
  {
   "cell_type": "code",
   "execution_count": 24,
   "id": "3c7fc3cd",
   "metadata": {},
   "outputs": [],
   "source": [
    "#Using While Loop & digit count function\n",
    "\n",
    "def chk_armstrong2(num):\n",
    "    total=0\n",
    "    digit=0\n",
    "    temp=num\n",
    "    l=count_digit(temp)\n",
    "    \n",
    "    while temp>0:\n",
    "        digit=temp%10\n",
    "        total+=pow(digit,l)\n",
    "        temp//=10\n",
    "        \n",
    "    if num==total:\n",
    "        print(\"Yes, it is a armstrong no!\")\n",
    "    else:\n",
    "        print(\"No, it is not a armstrong no!\")"
   ]
  },
  {
   "cell_type": "code",
   "execution_count": 26,
   "id": "52a046c5",
   "metadata": {},
   "outputs": [
    {
     "name": "stdout",
     "output_type": "stream",
     "text": [
      "Yes, it is a armstrong no!\n",
      "Yes, it is a armstrong no!\n",
      "No, it is not a armstrong no!\n",
      "Yes, it is a armstrong no!\n"
     ]
    }
   ],
   "source": [
    "chk_armstrong2(1634)\n",
    "chk_armstrong2(153)\n",
    "chk_armstrong2(123)\n",
    "chk_armstrong2(407)"
   ]
  },
  {
   "cell_type": "code",
   "execution_count": null,
   "id": "e680dad5",
   "metadata": {},
   "outputs": [],
   "source": []
  },
  {
   "cell_type": "code",
   "execution_count": 28,
   "id": "c485003c",
   "metadata": {},
   "outputs": [
    {
     "name": "stdout",
     "output_type": "stream",
     "text": [
      "Enter a number: 153\n",
      "153 is an Armstrong number\n"
     ]
    }
   ],
   "source": [
    "def check_armstrong(num,n1,sum,temp):\n",
    "    if temp==0:\n",
    "        if sum==num:\n",
    "            return True\n",
    "        else:\n",
    "            return False\n",
    "    digit = temp % 10\n",
    "    sum = sum + digit**n1\n",
    "    temp = temp//10\n",
    "    return check_armstrong(num, n1, sum, temp)\n",
    "\n",
    "num = int(input(\"Enter a number: \"))\n",
    "sum = 0\n",
    "n1 = len(str(num))\n",
    "temp = num\n",
    "res = check_armstrong(num,n1,sum,temp)\n",
    "\n",
    "if res:\n",
    "    print(num,\"is an Armstrong number\")\n",
    "else:\n",
    "    print(num,\"is not an Armstrong number\")"
   ]
  },
  {
   "cell_type": "code",
   "execution_count": null,
   "id": "b3c73c91",
   "metadata": {},
   "outputs": [],
   "source": []
  },
  {
   "cell_type": "markdown",
   "id": "3aaf9a9c",
   "metadata": {},
   "source": [
    "## 6. Python Program to Find Armstrong Number between an Interval"
   ]
  },
  {
   "cell_type": "code",
   "execution_count": 13,
   "id": "ef4b0e28",
   "metadata": {},
   "outputs": [],
   "source": [
    "def print_armstrong():\n",
    "\n",
    "    l = int(input(\"Enter lower range: \"))  \n",
    "    u = int(input(\"Enter upper range: \"))  \n",
    "    for num in range(l,u+1):\n",
    "        \n",
    "        tot=0\n",
    "        temp=num\n",
    "        l=count_digit(temp)\n",
    "\n",
    "        while temp>0:\n",
    "            digit=temp%10\n",
    "            tot+=digit**l\n",
    "            temp//=10\n",
    "        \n",
    "        if num==tot:\n",
    "            print(num)\n",
    "    "
   ]
  },
  {
   "cell_type": "code",
   "execution_count": 14,
   "id": "c8a91419",
   "metadata": {},
   "outputs": [
    {
     "name": "stdout",
     "output_type": "stream",
     "text": [
      "Enter lower range: 100\n",
      "Enter upper range: 500\n",
      "153\n",
      "370\n",
      "371\n",
      "407\n"
     ]
    }
   ],
   "source": [
    "print_armstrong()"
   ]
  },
  {
   "cell_type": "code",
   "execution_count": null,
   "id": "07d348b3",
   "metadata": {},
   "outputs": [],
   "source": []
  },
  {
   "cell_type": "code",
   "execution_count": null,
   "id": "d4d33fc1",
   "metadata": {},
   "outputs": [],
   "source": []
  },
  {
   "cell_type": "markdown",
   "id": "df804ab6",
   "metadata": {},
   "source": [
    "## 7. Sum of First N Natural Numbers in Python"
   ]
  },
  {
   "cell_type": "markdown",
   "id": "012fdf4d",
   "metadata": {},
   "source": [
    "Example\n",
    "Input : num = 8\n",
    "Output : 36\n",
    "\n",
    "Where first 8 number is 1, 2, 3, 4, 5, 6, 7, 8\n",
    "Sum of numbers = 1 + 2 + 3 + 4 + 5 + 6 + 7 + 8 = 36"
   ]
  },
  {
   "cell_type": "code",
   "execution_count": 9,
   "id": "d6a972e8",
   "metadata": {},
   "outputs": [
    {
     "data": {
      "text/plain": [
       "36"
      ]
     },
     "execution_count": 9,
     "metadata": {},
     "output_type": "execute_result"
    }
   ],
   "source": [
    "tot=([i for i in range(8+1)])\n",
    "sum(tot)"
   ]
  },
  {
   "cell_type": "code",
   "execution_count": 10,
   "id": "c5f8fbfc",
   "metadata": {},
   "outputs": [
    {
     "data": {
      "text/plain": [
       "36"
      ]
     },
     "execution_count": 10,
     "metadata": {},
     "output_type": "execute_result"
    }
   ],
   "source": [
    "#Using FOR Loop\n",
    "\n",
    "n=8\n",
    "tot=0\n",
    "for i in range(n+1):\n",
    "    tot+=i\n",
    "tot"
   ]
  },
  {
   "cell_type": "code",
   "execution_count": 5,
   "id": "05d3a6da",
   "metadata": {},
   "outputs": [],
   "source": [
    "#USing recursion\n",
    "\n",
    "def rec_nsum(n):\n",
    "    if n==0:\n",
    "        return 0\n",
    "    else:\n",
    "        return n+rec_nsum(n-1)"
   ]
  },
  {
   "cell_type": "code",
   "execution_count": 6,
   "id": "e3903f45",
   "metadata": {},
   "outputs": [
    {
     "data": {
      "text/plain": [
       "36"
      ]
     },
     "execution_count": 6,
     "metadata": {},
     "output_type": "execute_result"
    }
   ],
   "source": [
    "rec_nsum(8)"
   ]
  },
  {
   "cell_type": "code",
   "execution_count": null,
   "id": "d73c4e58",
   "metadata": {},
   "outputs": [],
   "source": []
  },
  {
   "cell_type": "markdown",
   "id": "5abc9e68",
   "metadata": {},
   "source": [
    "## 8. Python Program to Check if a Number is a Strong Number"
   ]
  },
  {
   "cell_type": "markdown",
   "id": "75070fc1",
   "metadata": {},
   "source": [
    "Strong Number\n",
    "A Number that is equal to the sum of the factorial of it's individual digits is known as Strong Number.\n",
    "\n",
    "Example\n",
    "Input : 145\n",
    "Output : It's a Strong Number.\n",
    "Explanation : Number = 145\n",
    "145 = 1! + 4! + 5!\n",
    "145 = 1 + 24 + 120"
   ]
  },
  {
   "cell_type": "code",
   "execution_count": null,
   "id": "0b05313d",
   "metadata": {},
   "outputs": [],
   "source": []
  },
  {
   "cell_type": "code",
   "execution_count": 11,
   "id": "b961c2ad",
   "metadata": {},
   "outputs": [],
   "source": [
    "def fact(n):\n",
    "    if n<=1:\n",
    "        return 1\n",
    "    else:\n",
    "        return n*fact(n-1)"
   ]
  },
  {
   "cell_type": "code",
   "execution_count": 13,
   "id": "bfd98d10",
   "metadata": {},
   "outputs": [
    {
     "data": {
      "text/plain": [
       "120"
      ]
     },
     "execution_count": 13,
     "metadata": {},
     "output_type": "execute_result"
    }
   ],
   "source": [
    "fact(5)"
   ]
  },
  {
   "cell_type": "code",
   "execution_count": 19,
   "id": "435f8884",
   "metadata": {},
   "outputs": [],
   "source": [
    "#Using WHILE loop and using Fact program in it!\n",
    "\n",
    "def chk_strong(num):\n",
    "    temp=num\n",
    "    tot=0\n",
    "    \n",
    "    while temp>0:\n",
    "        digit=temp%10\n",
    "        tot+=fact(digit)\n",
    "        temp//=10\n",
    "        \n",
    "    if tot==num:\n",
    "        print(num,\"is a Strong no!\")\n",
    "    else:\n",
    "        print(num,\"is not a Strong no!\")"
   ]
  },
  {
   "cell_type": "code",
   "execution_count": 22,
   "id": "93d65631",
   "metadata": {},
   "outputs": [
    {
     "name": "stdout",
     "output_type": "stream",
     "text": [
      "145 is a Strong no!\n",
      "154 is not a Strong no!\n",
      "30 is not a Strong no!\n"
     ]
    }
   ],
   "source": [
    "chk_strong(145)\n",
    "chk_strong(154)\n",
    "chk_strong(30)"
   ]
  },
  {
   "cell_type": "code",
   "execution_count": null,
   "id": "0c15fdb8",
   "metadata": {},
   "outputs": [],
   "source": []
  },
  {
   "cell_type": "code",
   "execution_count": null,
   "id": "0b3501a1",
   "metadata": {},
   "outputs": [],
   "source": []
  },
  {
   "cell_type": "markdown",
   "id": "c474ed07",
   "metadata": {},
   "source": [
    "## 9. Python Program to Print Numbers in a Range Without using Loops"
   ]
  },
  {
   "cell_type": "code",
   "execution_count": 34,
   "id": "85e1ebb1",
   "metadata": {},
   "outputs": [],
   "source": [
    "def print_num(n):\n",
    "    if n>0:\n",
    "        print_num(n-1)\n",
    "        print(n, end=' ')\n",
    "        "
   ]
  },
  {
   "cell_type": "code",
   "execution_count": 35,
   "id": "d461e9b8",
   "metadata": {},
   "outputs": [
    {
     "name": "stdout",
     "output_type": "stream",
     "text": [
      "1 2 3 4 5 6 7 8 "
     ]
    }
   ],
   "source": [
    "print_num(8)"
   ]
  },
  {
   "cell_type": "code",
   "execution_count": null,
   "id": "6dd1d90e",
   "metadata": {},
   "outputs": [],
   "source": []
  },
  {
   "cell_type": "code",
   "execution_count": 42,
   "id": "626137ae",
   "metadata": {},
   "outputs": [],
   "source": [
    "def prnt_n(l,u):    \n",
    "    if (u>l):\n",
    "        print(l, end=' ')\n",
    "        prnt_n(l+1,u)\n",
    "        "
   ]
  },
  {
   "cell_type": "code",
   "execution_count": 43,
   "id": "168fe127",
   "metadata": {},
   "outputs": [
    {
     "name": "stdout",
     "output_type": "stream",
     "text": [
      "2 3 4 5 6 "
     ]
    }
   ],
   "source": [
    "prnt_n(2,7)"
   ]
  },
  {
   "cell_type": "code",
   "execution_count": null,
   "id": "93629354",
   "metadata": {},
   "outputs": [],
   "source": []
  },
  {
   "cell_type": "markdown",
   "id": "08c683e8",
   "metadata": {},
   "source": [
    "## 10. Python Program to Print the Natural Numbers Summation Pattern"
   ]
  },
  {
   "cell_type": "markdown",
   "id": "bcb5d204",
   "metadata": {},
   "source": [
    "Case 1:\n",
    "Enter a number: 4\n",
    "1 = 1\n",
    "1 + 2 = 3\n",
    "1 + 2 + 3 = 6\n",
    "1 + 2 + 3 + 4 = 10"
   ]
  },
  {
   "cell_type": "code",
   "execution_count": null,
   "id": "e121b8b2",
   "metadata": {},
   "outputs": [],
   "source": []
  },
  {
   "cell_type": "code",
   "execution_count": 46,
   "id": "1cbc5fa0",
   "metadata": {},
   "outputs": [
    {
     "name": "stdout",
     "output_type": "stream",
     "text": [
      "1 = 1\n",
      "1 + 2 = 3\n",
      "1 + 2 + 3 = 6\n",
      "1 + 2 + 3 + 4 = 10\n",
      "\n"
     ]
    }
   ],
   "source": [
    "number=4\n",
    "for j in range(1, number+1):\n",
    "    a = []\n",
    " \n",
    "    for i in range(1, j+1):\n",
    "        print(i, sep=\" \", end=\" \")\n",
    "        if(i < j):\n",
    "            print(\"+\", sep=\" \", end=\" \")\n",
    "        a.append(i)\n",
    "        \n",
    "    print(\"=\", sum(a))\n",
    "print()"
   ]
  },
  {
   "cell_type": "code",
   "execution_count": null,
   "id": "a1f8f709",
   "metadata": {},
   "outputs": [],
   "source": []
  },
  {
   "cell_type": "code",
   "execution_count": 57,
   "id": "0d80b5f1",
   "metadata": {},
   "outputs": [],
   "source": [
    "def print_natural_sum(n):\n",
    "    last = \"1\"\n",
    "    total = 1\n",
    "    \n",
    "    #print for 1\n",
    "    print(last, \"=\", total)\n",
    "    for i in range(2, n+1):\n",
    "        \n",
    "        total += i\n",
    "        # update the string and print it\n",
    "        last += \" + \" + str(i)\n",
    "        print(last, \"=\", total)\n",
    "        "
   ]
  },
  {
   "cell_type": "code",
   "execution_count": 64,
   "id": "6b6be171",
   "metadata": {},
   "outputs": [
    {
     "name": "stdout",
     "output_type": "stream",
     "text": [
      "1 = 1\n",
      "1 + 2 = 3\n",
      "1 + 2 + 3 = 6\n",
      "1 + 2 + 3 + 4 = 10\n",
      "1 + 2 + 3 + 4 + 5 = 15\n"
     ]
    }
   ],
   "source": [
    "print_natural_sum(5)"
   ]
  },
  {
   "cell_type": "code",
   "execution_count": null,
   "id": "05aaf279",
   "metadata": {},
   "outputs": [],
   "source": []
  },
  {
   "cell_type": "code",
   "execution_count": null,
   "id": "00c0cbff",
   "metadata": {},
   "outputs": [],
   "source": []
  },
  {
   "cell_type": "markdown",
   "id": "55cc69ee",
   "metadata": {},
   "source": [
    "## 11. Python Program to Find the Prime Factors of a Number"
   ]
  },
  {
   "cell_type": "code",
   "execution_count": null,
   "id": "976fd0c6",
   "metadata": {},
   "outputs": [],
   "source": []
  },
  {
   "cell_type": "code",
   "execution_count": 19,
   "id": "1add4997",
   "metadata": {},
   "outputs": [],
   "source": [
    "#Written prime no check program so that we can use it later\n",
    "\n",
    "def chk_prime(n):\n",
    "    if n>1:\n",
    "        for i in range(2,n//2+1):\n",
    "            if(n%i)==0:\n",
    "                return False\n",
    "                break\n",
    "        else:\n",
    "            return True"
   ]
  },
  {
   "cell_type": "code",
   "execution_count": null,
   "id": "9cd850a5",
   "metadata": {},
   "outputs": [],
   "source": []
  },
  {
   "cell_type": "code",
   "execution_count": 25,
   "id": "ee1ecaa1",
   "metadata": {},
   "outputs": [],
   "source": [
    "#Using FOR loop and chk_prime program\n",
    "\n",
    "def prime_fac(n):\n",
    "    for i in range(1,n):\n",
    "        if (n%i) ==0 :\n",
    "            if chk_prime(i):\n",
    "                print(i, end=' ')"
   ]
  },
  {
   "cell_type": "code",
   "execution_count": 28,
   "id": "eb61d1ef",
   "metadata": {},
   "outputs": [
    {
     "name": "stdout",
     "output_type": "stream",
     "text": [
      "2 5 11 "
     ]
    }
   ],
   "source": [
    "prime_fac(110)"
   ]
  },
  {
   "cell_type": "code",
   "execution_count": 29,
   "id": "8fd2bee0",
   "metadata": {},
   "outputs": [
    {
     "name": "stdout",
     "output_type": "stream",
     "text": [
      "5 "
     ]
    }
   ],
   "source": [
    "prime_fac(25)"
   ]
  },
  {
   "cell_type": "code",
   "execution_count": 30,
   "id": "80caae26",
   "metadata": {},
   "outputs": [
    {
     "name": "stdout",
     "output_type": "stream",
     "text": [
      "2 5 "
     ]
    }
   ],
   "source": [
    "prime_fac(200)"
   ]
  },
  {
   "cell_type": "code",
   "execution_count": null,
   "id": "3f9ce813",
   "metadata": {},
   "outputs": [],
   "source": []
  },
  {
   "cell_type": "code",
   "execution_count": null,
   "id": "0d10f5ac",
   "metadata": {},
   "outputs": [],
   "source": []
  },
  {
   "cell_type": "code",
   "execution_count": 33,
   "id": "60bcbad4",
   "metadata": {},
   "outputs": [
    {
     "name": "stdout",
     "output_type": "stream",
     "text": [
      " Please Enter any Number: 110\n",
      " 2 is a Prime Factor of a Given Number 110\n",
      " 5 is a Prime Factor of a Given Number 110\n",
      " 11 is a Prime Factor of a Given Number 110\n"
     ]
    }
   ],
   "source": [
    "# Python Program to find Prime Factors of a Number\n",
    " \n",
    "Number = int(input(\" Please Enter any Number: \"))\n",
    "\n",
    "for i in range(2, Number + 1):\n",
    "    if(Number % i == 0):\n",
    "        isprime = 1\n",
    "        for j in range(2, (i //2 + 1)):\n",
    "            if(i % j == 0):\n",
    "                isprime = 0\n",
    "                break\n",
    "            \n",
    "        if (isprime == 1):\n",
    "            print(\" %d is a Prime Factor of a Given Number %d\" %(i, Number))"
   ]
  },
  {
   "cell_type": "code",
   "execution_count": null,
   "id": "90b1cac8",
   "metadata": {},
   "outputs": [],
   "source": []
  },
  {
   "cell_type": "code",
   "execution_count": null,
   "id": "87566bfa",
   "metadata": {},
   "outputs": [],
   "source": []
  },
  {
   "cell_type": "markdown",
   "id": "fe8c8c04",
   "metadata": {},
   "source": [
    "## 12. Python Program to Check If Two Numbers are Amicable Numbers or Not"
   ]
  },
  {
   "cell_type": "code",
   "execution_count": null,
   "id": "bf3e3e0d",
   "metadata": {},
   "outputs": [],
   "source": []
  },
  {
   "cell_type": "code",
   "execution_count": 1,
   "id": "8da4aa29",
   "metadata": {},
   "outputs": [],
   "source": [
    "def sum_divsor(n):\n",
    "    sum_n=0\n",
    "    \n",
    "    for i in range(1,n):\n",
    "        if (n%i)==0:\n",
    "            sum_n+=i\n",
    "    return sum_n\n",
    "    "
   ]
  },
  {
   "cell_type": "code",
   "execution_count": 62,
   "id": "3b6c8d9c",
   "metadata": {},
   "outputs": [
    {
     "data": {
      "text/plain": [
       "220"
      ]
     },
     "execution_count": 62,
     "metadata": {},
     "output_type": "execute_result"
    }
   ],
   "source": [
    "sum_divsor(284)"
   ]
  },
  {
   "cell_type": "code",
   "execution_count": 65,
   "id": "b4cef2d6",
   "metadata": {},
   "outputs": [],
   "source": [
    "def chk_amicable(n1,n2):\n",
    "    \n",
    "    if sum_divsor(n1)==n2 and sum_divsor(n2)==n1:\n",
    "        print(\"Yes! both\",n1 ,\"&\" ,n2 , \"are amicable\")\n",
    "    else:\n",
    "        print(\"No! both\",n1 ,\"&\" ,n2 , \"are not amicable\")\n",
    "    "
   ]
  },
  {
   "cell_type": "code",
   "execution_count": 66,
   "id": "24567d91",
   "metadata": {
    "scrolled": true
   },
   "outputs": [
    {
     "name": "stdout",
     "output_type": "stream",
     "text": [
      "Yes! both 220 & 284 are amicable\n",
      "No! both 60 & 84 are not amicable\n",
      "Yes! both 1210 & 1184 are amicable\n"
     ]
    }
   ],
   "source": [
    "chk_amicable(220,284)\n",
    "chk_amicable(60,84)\n",
    "chk_amicable(1210,1184)"
   ]
  },
  {
   "cell_type": "code",
   "execution_count": null,
   "id": "66313b47",
   "metadata": {},
   "outputs": [],
   "source": []
  },
  {
   "cell_type": "code",
   "execution_count": 6,
   "id": "efbd80c7",
   "metadata": {},
   "outputs": [],
   "source": [
    "def chk_amicable(n1,n2):\n",
    "    \n",
    "    if sum_divsor(n1)==n2 and sum_divsor(n2)==n1:\n",
    "        print(\"Yes!! both {} & {} are amicable\".format(n1,n2))\n",
    "    else:\n",
    "        print('No!! both {} & {} are not amicable'.format(n1,n2))\n",
    "    "
   ]
  },
  {
   "cell_type": "code",
   "execution_count": 7,
   "id": "e7f084f0",
   "metadata": {},
   "outputs": [
    {
     "name": "stdout",
     "output_type": "stream",
     "text": [
      "Yes!! both 220 & 284 are amicable\n",
      "No!! both 60 & 84 are not amicable\n",
      "Yes!! both 1210 & 1184 are amicable\n"
     ]
    }
   ],
   "source": [
    "chk_amicable(220,284)\n",
    "chk_amicable(60,84)\n",
    "chk_amicable(1210,1184)"
   ]
  },
  {
   "cell_type": "code",
   "execution_count": null,
   "id": "ca2d5acc",
   "metadata": {},
   "outputs": [],
   "source": []
  },
  {
   "cell_type": "markdown",
   "id": "3e4cb9b4",
   "metadata": {},
   "source": [
    "## 13. Python Program to Find Whether a Number is a Power of Two"
   ]
  },
  {
   "cell_type": "code",
   "execution_count": 11,
   "id": "0b0485cd",
   "metadata": {},
   "outputs": [],
   "source": [
    "def power_two(n):\n",
    "    mul=2\n",
    "    \n",
    "    while mul<n-1:\n",
    "        mul*=2\n",
    "    \n",
    "    if (mul==n):\n",
    "        print(n, \"It is a power of 2!\")\n",
    "    else:\n",
    "        print(n, \"No it is not a power of 2!\")"
   ]
  },
  {
   "cell_type": "code",
   "execution_count": 100,
   "id": "3711f567",
   "metadata": {},
   "outputs": [
    {
     "name": "stdout",
     "output_type": "stream",
     "text": [
      "8 It is a power of 2!\n",
      "9 No it is not a power of 2!\n",
      "16 It is a power of 2!\n",
      "55 No it is not a power of 2!\n"
     ]
    }
   ],
   "source": [
    "power_two(8)\n",
    "power_two(9)\n",
    "power_two(16)\n",
    "power_two(55)"
   ]
  },
  {
   "cell_type": "code",
   "execution_count": null,
   "id": "3f549d69",
   "metadata": {},
   "outputs": [],
   "source": []
  },
  {
   "cell_type": "code",
   "execution_count": null,
   "id": "5fe34972",
   "metadata": {},
   "outputs": [],
   "source": []
  },
  {
   "cell_type": "code",
   "execution_count": 15,
   "id": "727ea10b",
   "metadata": {},
   "outputs": [],
   "source": [
    "#Using While Loop\n",
    "\n",
    "def isPowerOfTwo(n):\n",
    "    if (n == 0):\n",
    "        return False\n",
    "    while (n != 1):\n",
    "        if (n % 2 != 0):\n",
    "            return False\n",
    "        n = n // 2\n",
    "             \n",
    "    return True"
   ]
  },
  {
   "cell_type": "code",
   "execution_count": 16,
   "id": "09c3a647",
   "metadata": {},
   "outputs": [
    {
     "name": "stdout",
     "output_type": "stream",
     "text": [
      "No\n"
     ]
    }
   ],
   "source": [
    "# Driver code\n",
    "if(isPowerOfTwo(31)):\n",
    "    print('Yes')\n",
    "else:\n",
    "    print('No')"
   ]
  },
  {
   "cell_type": "code",
   "execution_count": null,
   "id": "89899e62",
   "metadata": {},
   "outputs": [],
   "source": []
  },
  {
   "cell_type": "raw",
   "id": "637929bd",
   "metadata": {},
   "source": [
    "Bit Manipulations\n",
    "One approach would be to use bit manipulations:\n",
    "\n",
    "(n & (n-1) == 0) and n != 0\n",
    "\n",
    "Explanation: every power of 2 has exactly 1 bit set to 1 \n",
    "(the bit in that numbers log base-2 index). So when subtracting 1 from it,\n",
    "that bit flips to 0 and all preceding bits flip to 1. \n",
    "\n",
    "That makes these 2 numbers the inverse of each other so when AND-ing them, we will get 0 as the result."
   ]
  },
  {
   "cell_type": "raw",
   "id": "2d45cc35",
   "metadata": {},
   "source": [
    "                    n = 8\n",
    "\n",
    "decimal |   8 = 2**3   |  8 - 1 = 7   |   8 & 7 = 0\n",
    "        |          ^   |              |\n",
    "binary  |   1 0 0 0    |   0 1 1 1    |    1 0 0 0\n",
    "        |   ^          |              |  & 0 1 1 1\n",
    "index   |   3 2 1 0    |              |    -------\n",
    "                                           0 0 0 0\n",
    "-----------------------------------------------------\n",
    "                    n = 5\n",
    "\n",
    "decimal | 5 = 2**2 + 1 |  5 - 1 = 4   |   5 & 4 = 4\n",
    "        |              |              |\n",
    "binary  |    1 0 1     |    1 0 0     |    1 0 1\n",
    "        |              |              |  & 1 0 0\n",
    "index   |    2 1 0     |              |    ------\n",
    "                                           1 0 0"
   ]
  },
  {
   "cell_type": "code",
   "execution_count": null,
   "id": "cae19d17",
   "metadata": {},
   "outputs": [],
   "source": []
  },
  {
   "cell_type": "code",
   "execution_count": 21,
   "id": "f3e1fe69",
   "metadata": {},
   "outputs": [],
   "source": [
    "def is_power_of_two(n):\n",
    "    return (n != 0) and (n & (n-1) == 0)"
   ]
  },
  {
   "cell_type": "code",
   "execution_count": 22,
   "id": "f25875a8",
   "metadata": {},
   "outputs": [
    {
     "data": {
      "text/plain": [
       "True"
      ]
     },
     "execution_count": 22,
     "metadata": {},
     "output_type": "execute_result"
    }
   ],
   "source": [
    "is_power_of_two(8)"
   ]
  },
  {
   "cell_type": "code",
   "execution_count": 23,
   "id": "b43dfb61",
   "metadata": {},
   "outputs": [
    {
     "data": {
      "text/plain": [
       "False"
      ]
     },
     "execution_count": 23,
     "metadata": {},
     "output_type": "execute_result"
    }
   ],
   "source": [
    "is_power_of_two(9)"
   ]
  },
  {
   "cell_type": "code",
   "execution_count": null,
   "id": "d3525eb8",
   "metadata": {},
   "outputs": [],
   "source": []
  },
  {
   "cell_type": "code",
   "execution_count": null,
   "id": "0fbcf8d8",
   "metadata": {},
   "outputs": [],
   "source": []
  },
  {
   "cell_type": "markdown",
   "id": "aef93ea3",
   "metadata": {},
   "source": [
    "## 14. Python Program to Calculate the Power using Recursion"
   ]
  },
  {
   "cell_type": "code",
   "execution_count": 42,
   "id": "a74fcf4d",
   "metadata": {},
   "outputs": [],
   "source": [
    "def calc_pow(num,power):\n",
    "    if power==0:\n",
    "        return 1\n",
    "    else:\n",
    "        return num*calc_pow(num,power-1)"
   ]
  },
  {
   "cell_type": "code",
   "execution_count": 43,
   "id": "d1a7a677",
   "metadata": {},
   "outputs": [
    {
     "data": {
      "text/plain": [
       "81"
      ]
     },
     "execution_count": 43,
     "metadata": {},
     "output_type": "execute_result"
    }
   ],
   "source": [
    "calc_pow(3,4)"
   ]
  },
  {
   "cell_type": "code",
   "execution_count": 44,
   "id": "3d41932c",
   "metadata": {},
   "outputs": [
    {
     "data": {
      "text/plain": [
       "32"
      ]
     },
     "execution_count": 44,
     "metadata": {},
     "output_type": "execute_result"
    }
   ],
   "source": [
    "calc_pow(2,5)"
   ]
  },
  {
   "cell_type": "code",
   "execution_count": null,
   "id": "1cb41dbd",
   "metadata": {},
   "outputs": [],
   "source": []
  },
  {
   "cell_type": "markdown",
   "id": "bb627545",
   "metadata": {},
   "source": [
    "## 15. Python Program to Find Product of Two Numbers using Recursion"
   ]
  },
  {
   "cell_type": "markdown",
   "id": "5928ed87",
   "metadata": {},
   "source": [
    "Case 1:\n",
    "Enter first number: 12\n",
    "Enter second number: 10\n",
    "Product is:  120"
   ]
  },
  {
   "cell_type": "code",
   "execution_count": null,
   "id": "85613136",
   "metadata": {},
   "outputs": [],
   "source": []
  },
  {
   "cell_type": "code",
   "execution_count": 1,
   "id": "63952427",
   "metadata": {},
   "outputs": [],
   "source": [
    "def rec_product(a,b):\n",
    "    if a<b:\n",
    "        return rec_product(b,a)\n",
    "    elif(b!=0):\n",
    "        return (a+rec_product(a,b-1))\n",
    "    else:\n",
    "        return 0\n",
    "    "
   ]
  },
  {
   "cell_type": "code",
   "execution_count": 3,
   "id": "0cf2fa7d",
   "metadata": {},
   "outputs": [
    {
     "data": {
      "text/plain": [
       "44"
      ]
     },
     "execution_count": 3,
     "metadata": {},
     "output_type": "execute_result"
    }
   ],
   "source": [
    "rec_product(4,11)"
   ]
  },
  {
   "cell_type": "code",
   "execution_count": 2,
   "id": "f151e6e0",
   "metadata": {},
   "outputs": [
    {
     "data": {
      "text/plain": [
       "64"
      ]
     },
     "execution_count": 2,
     "metadata": {},
     "output_type": "execute_result"
    }
   ],
   "source": [
    "rec_product(4,16)"
   ]
  },
  {
   "cell_type": "code",
   "execution_count": null,
   "id": "340888f9",
   "metadata": {},
   "outputs": [],
   "source": []
  },
  {
   "cell_type": "code",
   "execution_count": 49,
   "id": "9820cbb2",
   "metadata": {},
   "outputs": [],
   "source": [
    "#Product without using multiplication\n",
    "\n",
    "def product(a,b):\n",
    "    pro=0\n",
    "    x=max(a,b)\n",
    "    y=min(a,b)\n",
    "    for i in range(x):\n",
    "        pro+=y\n",
    "    print(\"Product of {} & {} are {}\".format(a,b,pro))\n",
    "    "
   ]
  },
  {
   "cell_type": "code",
   "execution_count": 51,
   "id": "c5ab282c",
   "metadata": {},
   "outputs": [
    {
     "name": "stdout",
     "output_type": "stream",
     "text": [
      "Product of 4 & 14 are 56\n",
      "Product of 12 & 10 are 120\n"
     ]
    }
   ],
   "source": [
    "product(4,14)\n",
    "product(12,10)"
   ]
  },
  {
   "cell_type": "code",
   "execution_count": null,
   "id": "b4d29d4b",
   "metadata": {},
   "outputs": [],
   "source": []
  },
  {
   "cell_type": "code",
   "execution_count": null,
   "id": "0658c049",
   "metadata": {},
   "outputs": [],
   "source": []
  },
  {
   "cell_type": "markdown",
   "id": "9469d0c8",
   "metadata": {},
   "source": [
    "## 16. Python Program to Find All Perfect Squares in the Given Range"
   ]
  },
  {
   "cell_type": "markdown",
   "id": "a2c32a4f",
   "metadata": {},
   "source": [
    "A number is said to be a perfect square number if it can be obtained by the multiplication of two equal integer numbers.\n",
    "\n",
    " \n",
    "\n",
    "for example,\n",
    "\n",
    "16 is a perfect square number because it can be obtained by the multiplication of two equal integers (4*4=16)."
   ]
  },
  {
   "cell_type": "code",
   "execution_count": null,
   "id": "f6ebd050",
   "metadata": {},
   "outputs": [],
   "source": []
  },
  {
   "cell_type": "code",
   "execution_count": 29,
   "id": "755d3ea1",
   "metadata": {},
   "outputs": [],
   "source": [
    "def print_persqr():\n",
    "    l=int(input(\"Enter Lower Range: \"))\n",
    "    u=int(input(\"Enter Upper Range: \"))\n",
    "    \n",
    "    for i in range(l,u):\n",
    "        if i*i>=u:\n",
    "            break\n",
    "        print(i*i, end=' ')"
   ]
  },
  {
   "cell_type": "code",
   "execution_count": 30,
   "id": "16d0d105",
   "metadata": {},
   "outputs": [
    {
     "name": "stdout",
     "output_type": "stream",
     "text": [
      "Enter Lower Range: 1\n",
      "Enter Upper Range: 127\n",
      "1 4 9 16 25 36 49 64 81 100 121 "
     ]
    }
   ],
   "source": [
    "print_persqr()"
   ]
  },
  {
   "cell_type": "code",
   "execution_count": 31,
   "id": "51e988a3",
   "metadata": {},
   "outputs": [
    {
     "name": "stdout",
     "output_type": "stream",
     "text": [
      "Enter Lower Range: 1\n",
      "Enter Upper Range: 30\n",
      "1 4 9 16 25 "
     ]
    }
   ],
   "source": [
    "print_persqr()"
   ]
  },
  {
   "cell_type": "code",
   "execution_count": null,
   "id": "d75d63cb",
   "metadata": {},
   "outputs": [],
   "source": []
  },
  {
   "cell_type": "code",
   "execution_count": null,
   "id": "ede78009",
   "metadata": {},
   "outputs": [],
   "source": []
  },
  {
   "cell_type": "code",
   "execution_count": 32,
   "id": "857f707b",
   "metadata": {},
   "outputs": [],
   "source": [
    "#Checking Perfect Square No!\n",
    "\n",
    "from math import sqrt\n",
    "\n",
    "def isPerfectSquare(x):\n",
    "    if x >= 0:\n",
    "        sr = int(sqrt(x))\n",
    "        return (sr * sr) == x\n",
    "    return False\n"
   ]
  },
  {
   "cell_type": "code",
   "execution_count": 33,
   "id": "95dc37f6",
   "metadata": {},
   "outputs": [
    {
     "name": "stdout",
     "output_type": "stream",
     "text": [
      "False\n"
     ]
    }
   ],
   "source": [
    "n = 84\n",
    "if isPerfectSquare(n):\n",
    "    print(\"True\")\n",
    "else:\n",
    "    print(\"False\")"
   ]
  },
  {
   "cell_type": "code",
   "execution_count": null,
   "id": "033729be",
   "metadata": {},
   "outputs": [],
   "source": []
  },
  {
   "cell_type": "code",
   "execution_count": 34,
   "id": "6e65fd56",
   "metadata": {},
   "outputs": [
    {
     "name": "stdout",
     "output_type": "stream",
     "text": [
      "[1, 4, 9, 16, 25]\n"
     ]
    }
   ],
   "source": [
    "#Other Method\n",
    "\n",
    "def squares(a, b):\n",
    "    lists=[]\n",
    "    # Traverse through all numbers\n",
    "    for i in range (a,b+1):\n",
    "        j = 1;\n",
    "        while j*j <= i:\n",
    "            if j*j == i:\n",
    "                 lists.append(i)  \n",
    "            j = j+1\n",
    "        i = i+1\n",
    "    return lists\n",
    "print(squares(1, 30))\n"
   ]
  },
  {
   "cell_type": "code",
   "execution_count": null,
   "id": "172a02f5",
   "metadata": {},
   "outputs": [],
   "source": []
  },
  {
   "cell_type": "code",
   "execution_count": 35,
   "id": "5d60c81b",
   "metadata": {},
   "outputs": [
    {
     "name": "stdout",
     "output_type": "stream",
     "text": [
      "1\n",
      "4\n",
      "9\n",
      "16\n"
     ]
    }
   ],
   "source": [
    "def print_perfect_squares(start, end):\n",
    "    for i in range(start, end+1):\n",
    "        root = int(i**0.5)\n",
    "        if root*root == i:\n",
    "            print(i)\n",
    "\n",
    "# Example usage\n",
    "print_perfect_squares(1, 20)   # Output: 1 4 9 16\n"
   ]
  },
  {
   "cell_type": "code",
   "execution_count": null,
   "id": "05934615",
   "metadata": {},
   "outputs": [],
   "source": []
  },
  {
   "cell_type": "code",
   "execution_count": null,
   "id": "d36d182c",
   "metadata": {},
   "outputs": [],
   "source": []
  },
  {
   "cell_type": "markdown",
   "id": "6379a867",
   "metadata": {},
   "source": [
    "## 17. Python Program to Print All Possible Combinations of Three Digits"
   ]
  },
  {
   "cell_type": "markdown",
   "id": "577a9db9",
   "metadata": {},
   "source": [
    "Input: [1, 2, 3]\n",
    "\n",
    "Output:\n",
    "1 2 3\n",
    "1 3 2\n",
    "2 1 3\n",
    "2 3 1\n",
    "3 1 2\n",
    "3 2 1"
   ]
  },
  {
   "cell_type": "code",
   "execution_count": 36,
   "id": "e690b2db",
   "metadata": {},
   "outputs": [
    {
     "name": "stdout",
     "output_type": "stream",
     "text": [
      "1 2 3\n",
      "1 3 2\n",
      "2 1 3\n",
      "2 3 1\n",
      "3 1 2\n",
      "3 2 1\n"
     ]
    }
   ],
   "source": [
    "def comb(L):\n",
    "      \n",
    "    for i in range(3):\n",
    "        for j in range(3):\n",
    "            for k in range(3):\n",
    "                  \n",
    "                # check if the indexes are not\n",
    "                # same\n",
    "                if (i!=j and j!=k and i!=k):\n",
    "                    print(L[i], L[j], L[k])\n",
    "                      \n",
    "# Driver Code\n",
    "comb([1, 2, 3])"
   ]
  },
  {
   "cell_type": "code",
   "execution_count": null,
   "id": "c310cbaa",
   "metadata": {},
   "outputs": [],
   "source": []
  },
  {
   "cell_type": "code",
   "execution_count": 37,
   "id": "67245895",
   "metadata": {},
   "outputs": [
    {
     "name": "stdout",
     "output_type": "stream",
     "text": [
      "(1, 2, 3)\n",
      "(1, 3, 2)\n",
      "(2, 1, 3)\n",
      "(2, 3, 1)\n",
      "(3, 1, 2)\n",
      "(3, 2, 1)\n"
     ]
    }
   ],
   "source": [
    "from itertools import permutations\n",
    "  \n",
    "# Get all combination of [1, 2, 3]\n",
    "# of length 3\n",
    "comb = permutations([1, 2, 3], 3)\n",
    "  \n",
    "for i in comb:\n",
    "    print(i)"
   ]
  },
  {
   "cell_type": "code",
   "execution_count": null,
   "id": "42b493bb",
   "metadata": {},
   "outputs": [],
   "source": []
  },
  {
   "cell_type": "code",
   "execution_count": null,
   "id": "fea6053f",
   "metadata": {},
   "outputs": [],
   "source": []
  },
  {
   "cell_type": "code",
   "execution_count": null,
   "id": "c9a09880",
   "metadata": {},
   "outputs": [],
   "source": []
  }
 ],
 "metadata": {
  "kernelspec": {
   "display_name": "Python 3 (ipykernel)",
   "language": "python",
   "name": "python3"
  },
  "language_info": {
   "codemirror_mode": {
    "name": "ipython",
    "version": 3
   },
   "file_extension": ".py",
   "mimetype": "text/x-python",
   "name": "python",
   "nbconvert_exporter": "python",
   "pygments_lexer": "ipython3",
   "version": "3.9.12"
  }
 },
 "nbformat": 4,
 "nbformat_minor": 5
}
