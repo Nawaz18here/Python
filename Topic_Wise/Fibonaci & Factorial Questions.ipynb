{
 "cells": [
  {
   "cell_type": "markdown",
   "id": "0b359fcc",
   "metadata": {},
   "source": [
    "## 1. Python Program to Find the Fibonacci Series Without using Recursion"
   ]
  },
  {
   "cell_type": "code",
   "execution_count": null,
   "id": "6ffb26c5",
   "metadata": {},
   "outputs": [],
   "source": [
    "# 0 1 1 2 3 5 8 \n",
    "# a b\n",
    "#   a b\n",
    "#     a b"
   ]
  },
  {
   "cell_type": "code",
   "execution_count": 6,
   "id": "da861e4c",
   "metadata": {},
   "outputs": [],
   "source": [
    "#Using Yield\n",
    "\n",
    "def fibo(n):\n",
    "    a,b=0,1\n",
    "    \n",
    "    for i in range(n):\n",
    "        yield a\n",
    "        a,b=b,a+b     "
   ]
  },
  {
   "cell_type": "code",
   "execution_count": 7,
   "id": "f121110c",
   "metadata": {},
   "outputs": [
    {
     "name": "stdout",
     "output_type": "stream",
     "text": [
      "0 1 1 2 3 5 "
     ]
    }
   ],
   "source": [
    "for i in fibo(6):\n",
    "    print(i, end =' ')"
   ]
  },
  {
   "cell_type": "code",
   "execution_count": null,
   "id": "4219e351",
   "metadata": {},
   "outputs": [],
   "source": []
  },
  {
   "cell_type": "code",
   "execution_count": 4,
   "id": "a30ea7b3",
   "metadata": {},
   "outputs": [
    {
     "name": "stdout",
     "output_type": "stream",
     "text": [
      "0 1 1 2 3 5 8 13 "
     ]
    }
   ],
   "source": [
    "#Using while loop\n",
    "\n",
    "a=0\n",
    "b=1\n",
    "n=15\n",
    "while a<n:\n",
    "    print(a, end =' ')\n",
    "    c=b+a\n",
    "    a=b\n",
    "    b=c"
   ]
  },
  {
   "cell_type": "code",
   "execution_count": null,
   "id": "180640fe",
   "metadata": {},
   "outputs": [],
   "source": []
  },
  {
   "cell_type": "code",
   "execution_count": 8,
   "id": "1d0a8022",
   "metadata": {},
   "outputs": [],
   "source": [
    "# *SERIES: 0, 1 , 1 , 2 , 3 , 5 , 8 , 13 , 21 , 34 ,...... *\n",
    "\n",
    "def fibser(n):\n",
    "    a,b=0,1\n",
    "    if n<0:\n",
    "        print(\"Enter positive no\")\n",
    "    elif n==0:\n",
    "        print(n)\n",
    "    else:\n",
    "        print(a, end =' ')\n",
    "        print(b, end =' ')\n",
    "        \n",
    "        for i in range(2,n):\n",
    "            c=a+b\n",
    "            a=b\n",
    "            b=c\n",
    "            print (c, end = ' ')\n",
    "       "
   ]
  },
  {
   "cell_type": "code",
   "execution_count": 9,
   "id": "98332c75",
   "metadata": {},
   "outputs": [
    {
     "name": "stdout",
     "output_type": "stream",
     "text": [
      "0 1 1 2 3 5 8 "
     ]
    }
   ],
   "source": [
    "fibser(7)"
   ]
  },
  {
   "cell_type": "code",
   "execution_count": null,
   "id": "c7ca56de",
   "metadata": {},
   "outputs": [],
   "source": []
  },
  {
   "cell_type": "code",
   "execution_count": 2,
   "id": "9097395c",
   "metadata": {},
   "outputs": [
    {
     "name": "stdout",
     "output_type": "stream",
     "text": [
      "0 1 1 2 3 5 8 "
     ]
    }
   ],
   "source": [
    "#SIMPLE CODE USING FOR LOOP \n",
    "\n",
    "a,b=0,1\n",
    "for i in range(0,7):\n",
    "    print(a, end=' ')\n",
    "    a,b=b,a+b"
   ]
  },
  {
   "cell_type": "code",
   "execution_count": null,
   "id": "e2b7d06e",
   "metadata": {},
   "outputs": [],
   "source": []
  },
  {
   "cell_type": "markdown",
   "id": "8a0b6504",
   "metadata": {},
   "source": [
    "## 2. Python Program to Find Fibonacci Numbers using Recursion"
   ]
  },
  {
   "cell_type": "code",
   "execution_count": 5,
   "id": "b16b5de8",
   "metadata": {},
   "outputs": [],
   "source": [
    "def recur_fib(n):\n",
    "    if (n==0 or n==1):\n",
    "        return n\n",
    "    else:\n",
    "        return ( recur_fib(n-2) + recur_fib(n-1) )"
   ]
  },
  {
   "cell_type": "code",
   "execution_count": 8,
   "id": "ee5f214d",
   "metadata": {},
   "outputs": [
    {
     "data": {
      "text/plain": [
       "1"
      ]
     },
     "execution_count": 8,
     "metadata": {},
     "output_type": "execute_result"
    }
   ],
   "source": [
    "recur_fib(1)"
   ]
  },
  {
   "cell_type": "code",
   "execution_count": 10,
   "id": "cf48a7dc",
   "metadata": {},
   "outputs": [
    {
     "name": "stdout",
     "output_type": "stream",
     "text": [
      "0 1 1 2 3 5 8 "
     ]
    }
   ],
   "source": [
    "# Print Fibonaci Series Using Recursion\n",
    "\n",
    "for i in range(7):\n",
    "    print(recur_fib(i), end =' ' )"
   ]
  },
  {
   "cell_type": "code",
   "execution_count": null,
   "id": "cdae807d",
   "metadata": {},
   "outputs": [],
   "source": []
  },
  {
   "cell_type": "code",
   "execution_count": 15,
   "id": "d6645b31",
   "metadata": {},
   "outputs": [
    {
     "name": "stdout",
     "output_type": "stream",
     "text": [
      "Enter number of terms:6\n",
      "The Number at 6th position : 8\n"
     ]
    }
   ],
   "source": [
    "x = int(input(\"Enter number of terms:\"))\n",
    "y= fibn(x)\n",
    "print(f\"The Number at {x}th position : {y}\")"
   ]
  },
  {
   "cell_type": "code",
   "execution_count": null,
   "id": "fc064b8b",
   "metadata": {},
   "outputs": [],
   "source": []
  },
  {
   "cell_type": "markdown",
   "id": "4a5488a7",
   "metadata": {},
   "source": [
    "## 3. Python Program to print the Fibonacci Series till a specific number"
   ]
  },
  {
   "cell_type": "code",
   "execution_count": 17,
   "id": "7931fc59",
   "metadata": {},
   "outputs": [],
   "source": [
    "def fib_sn(n):\n",
    "    a,b=0,1\n",
    "    while True:\n",
    "        print(a, end=' ')\n",
    "        a,b=b,a+b\n",
    "\n",
    "        if a>n:\n",
    "            break"
   ]
  },
  {
   "cell_type": "code",
   "execution_count": 18,
   "id": "96bc83c4",
   "metadata": {},
   "outputs": [
    {
     "name": "stdout",
     "output_type": "stream",
     "text": [
      "0 1 1 2 3 5 8 13 21 34 "
     ]
    }
   ],
   "source": [
    "fib_sn(50)"
   ]
  },
  {
   "cell_type": "code",
   "execution_count": null,
   "id": "14c4aea6",
   "metadata": {},
   "outputs": [],
   "source": []
  },
  {
   "cell_type": "markdown",
   "id": "0e9eb2d2",
   "metadata": {},
   "source": [
    "## 4. Python Program to Find the Factorial of a Number Without Recursion"
   ]
  },
  {
   "cell_type": "code",
   "execution_count": 27,
   "id": "58646fa7",
   "metadata": {},
   "outputs": [],
   "source": [
    "#Using FOR Loop\n",
    "\n",
    "def fact(n):\n",
    "    facnum=1\n",
    "    for i in range(1,n+1):\n",
    "        facnum*=i\n",
    "    return facnum"
   ]
  },
  {
   "cell_type": "code",
   "execution_count": 28,
   "id": "26adafa7",
   "metadata": {},
   "outputs": [
    {
     "data": {
      "text/plain": [
       "120"
      ]
     },
     "execution_count": 28,
     "metadata": {},
     "output_type": "execute_result"
    }
   ],
   "source": [
    "fact(5)"
   ]
  },
  {
   "cell_type": "code",
   "execution_count": null,
   "id": "05b15045",
   "metadata": {},
   "outputs": [],
   "source": []
  },
  {
   "cell_type": "code",
   "execution_count": 37,
   "id": "f8dc1491",
   "metadata": {},
   "outputs": [],
   "source": [
    "#Using WHILE Loop\n",
    "\n",
    "def fact_(n):\n",
    "    i=1\n",
    "    fac=1\n",
    "    while i<=n:\n",
    "        fac*=i\n",
    "        i+=1\n",
    "    return fac\n"
   ]
  },
  {
   "cell_type": "code",
   "execution_count": 38,
   "id": "97943109",
   "metadata": {},
   "outputs": [
    {
     "data": {
      "text/plain": [
       "120"
      ]
     },
     "execution_count": 38,
     "metadata": {},
     "output_type": "execute_result"
    }
   ],
   "source": [
    "fact_(5)"
   ]
  },
  {
   "cell_type": "code",
   "execution_count": 39,
   "id": "0c6bd6b2",
   "metadata": {},
   "outputs": [
    {
     "name": "stdout",
     "output_type": "stream",
     "text": [
      "1 1 2 6 24 120 720 5040 "
     ]
    }
   ],
   "source": [
    "for i in range(8):\n",
    "    print(fact_(i), end=' ')"
   ]
  },
  {
   "cell_type": "code",
   "execution_count": null,
   "id": "2a375cb8",
   "metadata": {},
   "outputs": [],
   "source": []
  },
  {
   "cell_type": "code",
   "execution_count": null,
   "id": "66cae17a",
   "metadata": {},
   "outputs": [],
   "source": []
  },
  {
   "cell_type": "markdown",
   "id": "5f913eed",
   "metadata": {},
   "source": [
    "## 5. Python Program to Find the Factorial of a Number using Recursion"
   ]
  },
  {
   "cell_type": "code",
   "execution_count": 40,
   "id": "540bb200",
   "metadata": {},
   "outputs": [],
   "source": [
    "def rec_fact(n):\n",
    "    if n==0 or n==1 :\n",
    "        return n\n",
    "    else:\n",
    "        return n*rec_fact(n-1)"
   ]
  },
  {
   "cell_type": "code",
   "execution_count": 41,
   "id": "c0b034bc",
   "metadata": {},
   "outputs": [
    {
     "data": {
      "text/plain": [
       "120"
      ]
     },
     "execution_count": 41,
     "metadata": {},
     "output_type": "execute_result"
    }
   ],
   "source": [
    "rec_fact(5)"
   ]
  },
  {
   "cell_type": "code",
   "execution_count": 44,
   "id": "8e0c470a",
   "metadata": {},
   "outputs": [
    {
     "name": "stdout",
     "output_type": "stream",
     "text": [
      "0 1 2 6 24 120 720 5040 "
     ]
    }
   ],
   "source": [
    "for i in range(8):\n",
    "    print(rec_fact(i),end =' ')"
   ]
  },
  {
   "cell_type": "code",
   "execution_count": null,
   "id": "31e32977",
   "metadata": {},
   "outputs": [],
   "source": []
  },
  {
   "cell_type": "code",
   "execution_count": null,
   "id": "c184d830",
   "metadata": {},
   "outputs": [],
   "source": []
  },
  {
   "cell_type": "code",
   "execution_count": null,
   "id": "e3d4ec7f",
   "metadata": {},
   "outputs": [],
   "source": []
  }
 ],
 "metadata": {
  "kernelspec": {
   "display_name": "Python 3 (ipykernel)",
   "language": "python",
   "name": "python3"
  },
  "language_info": {
   "codemirror_mode": {
    "name": "ipython",
    "version": 3
   },
   "file_extension": ".py",
   "mimetype": "text/x-python",
   "name": "python",
   "nbconvert_exporter": "python",
   "pygments_lexer": "ipython3",
   "version": "3.9.12"
  }
 },
 "nbformat": 4,
 "nbformat_minor": 5
}
