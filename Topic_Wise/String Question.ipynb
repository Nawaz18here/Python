{
 "cells": [
  {
   "cell_type": "markdown",
   "id": "799b16d2",
   "metadata": {},
   "source": [
    "## 1. Python Program to Check if a String is a Pangram or Not"
   ]
  },
  {
   "cell_type": "markdown",
   "id": "6bf6a19a",
   "metadata": {},
   "source": [
    "### Pangrams are words or sentences containing every letter of the alphabet at least once; the best known English example being A quick brown fox jumps over the lazy dog "
   ]
  },
  {
   "cell_type": "code",
   "execution_count": 24,
   "id": "513f6f4e",
   "metadata": {},
   "outputs": [],
   "source": [
    "def check_pangram(s):\n",
    "    \n",
    "    alphabet_str = \"abcdefghijklmnopqrstuvwxyz\"\n",
    "    for i in alphabet_str:\n",
    "        if i not in s.lower():\n",
    "            return False\n",
    "    return True"
   ]
  },
  {
   "cell_type": "code",
   "execution_count": 25,
   "id": "573fa4d1",
   "metadata": {},
   "outputs": [
    {
     "name": "stdout",
     "output_type": "stream",
     "text": [
      "False\n",
      "True\n",
      "True\n"
     ]
    }
   ],
   "source": [
    "print(check_pangram(\"Hello\"))\n",
    "print(check_pangram(\"The quick brown fox jumps over the lazy dog\"))\n",
    "print(check_pangram(\"The five boxing wizards jump quickly\"))"
   ]
  },
  {
   "cell_type": "code",
   "execution_count": null,
   "id": "ef3e977b",
   "metadata": {},
   "outputs": [],
   "source": []
  },
  {
   "cell_type": "code",
   "execution_count": 51,
   "id": "cbb7028b",
   "metadata": {},
   "outputs": [],
   "source": [
    "def check_pang(s):\n",
    "    \n",
    "    alphabet_str = \"abcdefghijklmnopqrstuvwxyz\"\n",
    "    \n",
    "    lowercaseInputString = s.lower()\n",
    "    lowercaseInputString  = lowercaseInputString .replace(\" \",\"\")\n",
    "    s = set(lowercaseInputString)\n",
    "    \n",
    "    if len(s) == 26 :\n",
    "        return(\"This is a pangram string\")\n",
    "    else:\n",
    "        return(\"This is not a pangram string\")"
   ]
  },
  {
   "cell_type": "code",
   "execution_count": 52,
   "id": "e4928967",
   "metadata": {},
   "outputs": [
    {
     "name": "stdout",
     "output_type": "stream",
     "text": [
      "This is not a pangram string\n",
      "This is a pangram string\n"
     ]
    }
   ],
   "source": [
    "print(check_pang(\"Hello\"))\n",
    "print(check_pang(\"The five boxing wizards jump quickly\"))"
   ]
  },
  {
   "cell_type": "code",
   "execution_count": null,
   "id": "de9c57fd",
   "metadata": {},
   "outputs": [],
   "source": []
  },
  {
   "cell_type": "code",
   "execution_count": 61,
   "id": "1b2e392c",
   "metadata": {},
   "outputs": [],
   "source": [
    "#Using Minus operation of Set()\n",
    "\n",
    "def check_pangram(arg):\n",
    "    if len(set('abcdefghijklmnopqrstuvwxyz') - set(arg.lower())) == 0 :\n",
    "        return True\n",
    "\n",
    "    return False"
   ]
  },
  {
   "cell_type": "code",
   "execution_count": 62,
   "id": "b49ad8e1",
   "metadata": {},
   "outputs": [
    {
     "name": "stdout",
     "output_type": "stream",
     "text": [
      "False\n",
      "True\n"
     ]
    }
   ],
   "source": [
    "print(check_pangram(\"Hello\"))\n",
    "print(check_pangram(\"The five boxing wizards jump quickly.\"))"
   ]
  },
  {
   "cell_type": "code",
   "execution_count": null,
   "id": "d7796010",
   "metadata": {},
   "outputs": [],
   "source": []
  },
  {
   "cell_type": "markdown",
   "id": "f730f2ca",
   "metadata": {},
   "source": [
    "## 2. Python Program to Remove Odd Indexed Characters in a string"
   ]
  },
  {
   "cell_type": "markdown",
   "id": "5f052b44",
   "metadata": {},
   "source": [
    "Case 1:\n",
    "Enter string:hello\n",
    "Modified string is:\n",
    "hlo"
   ]
  },
  {
   "cell_type": "code",
   "execution_count": 77,
   "id": "df1c8f31",
   "metadata": {},
   "outputs": [],
   "source": [
    "def Remove_odd(s):\n",
    "    s_new=''\n",
    "    n=len(s)\n",
    "    for i in range(0,n):\n",
    "        if i%2==0:\n",
    "            s_new+=(s[i])\n",
    "    return s_new        "
   ]
  },
  {
   "cell_type": "code",
   "execution_count": 79,
   "id": "c1bee8d9",
   "metadata": {},
   "outputs": [
    {
     "name": "stdout",
     "output_type": "stream",
     "text": [
      "hlo\n",
      "cekn\n"
     ]
    }
   ],
   "source": [
    "print(Remove_odd(\"hello\"))\n",
    "print(Remove_odd(\"checking\"))"
   ]
  },
  {
   "cell_type": "code",
   "execution_count": null,
   "id": "efc19fab",
   "metadata": {},
   "outputs": [],
   "source": []
  },
  {
   "cell_type": "code",
   "execution_count": 19,
   "id": "6b952b02",
   "metadata": {},
   "outputs": [],
   "source": [
    "def Rem_odd(s):\n",
    "    s_new=''\n",
    "    i=0\n",
    "    n=len(s)\n",
    "    \n",
    "    while i<n:\n",
    "        if i%2==0:\n",
    "            s_new+=s[i]\n",
    "            i+=1\n",
    "        else:\n",
    "            i+=1\n",
    "        \n",
    "    return s_new        "
   ]
  },
  {
   "cell_type": "code",
   "execution_count": 20,
   "id": "c34fc9ff",
   "metadata": {},
   "outputs": [
    {
     "name": "stdout",
     "output_type": "stream",
     "text": [
      "hlo\n",
      "cekn\n"
     ]
    }
   ],
   "source": [
    "print(Rem_odd(\"hello\"))\n",
    "print(Rem_odd(\"checking\"))"
   ]
  },
  {
   "cell_type": "code",
   "execution_count": null,
   "id": "02da89bf",
   "metadata": {},
   "outputs": [],
   "source": []
  },
  {
   "cell_type": "code",
   "execution_count": null,
   "id": "3ad5f59b",
   "metadata": {},
   "outputs": [],
   "source": []
  },
  {
   "cell_type": "markdown",
   "id": "08ba81e4",
   "metadata": {},
   "source": [
    "## 3. Python Program to Remove the nth Index Character from a Non-Empty String"
   ]
  },
  {
   "cell_type": "code",
   "execution_count": 25,
   "id": "6c316a11",
   "metadata": {},
   "outputs": [],
   "source": [
    "def rem_nth(inp_str,n):\n",
    "    \n",
    "    f_str=''\n",
    "    for i in range(0,len(inp_str)):\n",
    "        if i!=n:\n",
    "            f_str+=inp_str[i]\n",
    "    return f_str"
   ]
  },
  {
   "cell_type": "code",
   "execution_count": 27,
   "id": "c3a0a1ae",
   "metadata": {},
   "outputs": [
    {
     "name": "stdout",
     "output_type": "stream",
     "text": [
      "helo\n",
      "hecking\n"
     ]
    }
   ],
   "source": [
    "print(rem_nth(\"hello\",3))\n",
    "print(rem_nth(\"checking\",0))"
   ]
  },
  {
   "cell_type": "code",
   "execution_count": null,
   "id": "fe448c5c",
   "metadata": {},
   "outputs": [],
   "source": []
  },
  {
   "cell_type": "code",
   "execution_count": 28,
   "id": "9477bdf8",
   "metadata": {},
   "outputs": [],
   "source": [
    "def remove_char(s,n):\n",
    "    a=s[:n]\n",
    "    b=s[n+1:]\n",
    "    return a+b\n"
   ]
  },
  {
   "cell_type": "code",
   "execution_count": 29,
   "id": "34c9fc99",
   "metadata": {},
   "outputs": [
    {
     "name": "stdout",
     "output_type": "stream",
     "text": [
      "previus\n",
      "apan\n"
     ]
    }
   ],
   "source": [
    "print(remove_char(\"previous\",5))\n",
    "print(remove_char(\"Japan\",0))"
   ]
  },
  {
   "cell_type": "code",
   "execution_count": null,
   "id": "f3bc211a",
   "metadata": {},
   "outputs": [],
   "source": []
  },
  {
   "cell_type": "code",
   "execution_count": 30,
   "id": "e219326a",
   "metadata": {},
   "outputs": [],
   "source": [
    "#string.replace(oldvalue, newvalue, count)"
   ]
  },
  {
   "cell_type": "code",
   "execution_count": 35,
   "id": "49f9002b",
   "metadata": {},
   "outputs": [
    {
     "name": "stdout",
     "output_type": "stream",
     "text": [
      "Modified string after removing 1 th character \n",
      "hllo\n"
     ]
    }
   ],
   "source": [
    "str = \"hello\"\n",
    " \n",
    "# index to remove character at\n",
    "n = 1\n",
    "print(\"Modified string after removing\", n, \"th character \")\n",
    "str=str.replace(str[n],\"\",1)\n",
    "print(str)"
   ]
  },
  {
   "cell_type": "code",
   "execution_count": null,
   "id": "8204b932",
   "metadata": {},
   "outputs": [],
   "source": []
  },
  {
   "cell_type": "markdown",
   "id": "47a0c8db",
   "metadata": {},
   "source": [
    "## 4. Python Program to Replace All Occurrences of ‘a’ with \"$\" in a String"
   ]
  },
  {
   "cell_type": "markdown",
   "id": "c4111fc2",
   "metadata": {},
   "source": [
    "Case 2:\n",
    "Enter string:Asia\n",
    "Modified string:\n",
    "$si$"
   ]
  },
  {
   "cell_type": "code",
   "execution_count": 44,
   "id": "29485b93",
   "metadata": {},
   "outputs": [
    {
     "name": "stdout",
     "output_type": "stream",
     "text": [
      "$si$\n"
     ]
    }
   ],
   "source": [
    "s=\"Asia\"\n",
    "s=s.lower().replace(\"a\",\"$\")\n",
    "print(s)"
   ]
  },
  {
   "cell_type": "code",
   "execution_count": null,
   "id": "b33f077a",
   "metadata": {},
   "outputs": [],
   "source": []
  },
  {
   "cell_type": "code",
   "execution_count": 46,
   "id": "476a894b",
   "metadata": {},
   "outputs": [
    {
     "name": "stdout",
     "output_type": "stream",
     "text": [
      "$md$ni $th$ni kh$rch$ rup$iy$.\n"
     ]
    }
   ],
   "source": [
    "str = \"Amdani athani kharcha rupaiya.\"\n",
    "\n",
    "new_string=''\n",
    "str=str.lower()\n",
    "for i in range(0,len(str)):\n",
    "    if (str[i]=='a'):\n",
    "        new_string+='$'\n",
    "    else:\n",
    "        new_string+=str[i]\n",
    "print(new_string)"
   ]
  },
  {
   "cell_type": "code",
   "execution_count": null,
   "id": "572c9133",
   "metadata": {},
   "outputs": [],
   "source": []
  },
  {
   "cell_type": "code",
   "execution_count": 47,
   "id": "7247c7d1",
   "metadata": {},
   "outputs": [
    {
     "name": "stdout",
     "output_type": "stream",
     "text": [
      "$md$ni $th$ni kh$rch$ rup$iy$.\n"
     ]
    }
   ],
   "source": [
    "import re\n",
    " \n",
    "#declaring a string variable\n",
    "str = \"Amdani athani kharcha rupaiya.\"\n",
    " \n",
    "#using re.sub() function to replace all occurrences of 'a' with '$'\n",
    "modified_str = re.sub(\"a\", \"$\", str.lower())\n",
    " \n",
    "#print(\"Modified string : \")\n",
    "print(modified_str)"
   ]
  },
  {
   "cell_type": "code",
   "execution_count": null,
   "id": "33366191",
   "metadata": {},
   "outputs": [],
   "source": []
  },
  {
   "cell_type": "markdown",
   "id": "be4495f8",
   "metadata": {},
   "source": [
    "## 5. Python Program to Replace Every Blank Space with Hyphen in a String"
   ]
  },
  {
   "cell_type": "markdown",
   "id": "66e05ec9",
   "metadata": {},
   "source": [
    "Case 1:\n",
    "Enter string:hello world\n",
    "Modified string:\n",
    "hello-world"
   ]
  },
  {
   "cell_type": "code",
   "execution_count": 48,
   "id": "08fbce31",
   "metadata": {},
   "outputs": [
    {
     "name": "stdout",
     "output_type": "stream",
     "text": [
      "hello-world\n"
     ]
    }
   ],
   "source": [
    "s=\"hello world\"\n",
    "s=s.lower().replace(\" \",\"-\")\n",
    "print(s)"
   ]
  },
  {
   "cell_type": "code",
   "execution_count": null,
   "id": "00886b61",
   "metadata": {},
   "outputs": [],
   "source": []
  },
  {
   "cell_type": "markdown",
   "id": "c3e7ccff",
   "metadata": {},
   "source": [
    "## 6. Python Program to Reverse a String using Recursion"
   ]
  },
  {
   "cell_type": "code",
   "execution_count": 53,
   "id": "8c14ee8d",
   "metadata": {},
   "outputs": [],
   "source": [
    "def rev_str_rec(s):\n",
    "    if len(s)==0:\n",
    "        return s\n",
    "    else:\n",
    "        #return s[-1]+  rev_str_rec(s[:len(s)-1])\n",
    "        return  rev_str_rec(s[1:]) + s[0]\n",
    "    "
   ]
  },
  {
   "cell_type": "code",
   "execution_count": 54,
   "id": "4fb354af",
   "metadata": {},
   "outputs": [
    {
     "data": {
      "text/plain": [
       "'olleh'"
      ]
     },
     "execution_count": 54,
     "metadata": {},
     "output_type": "execute_result"
    }
   ],
   "source": [
    "s='hello'\n",
    "rev_str_rec(s)"
   ]
  },
  {
   "cell_type": "code",
   "execution_count": null,
   "id": "474b950f",
   "metadata": {},
   "outputs": [],
   "source": []
  },
  {
   "cell_type": "markdown",
   "id": "c9ff69b0",
   "metadata": {},
   "source": [
    "## 7. Python Program to Reverse a String Without using Recursion"
   ]
  },
  {
   "cell_type": "code",
   "execution_count": 57,
   "id": "f7bd8c85",
   "metadata": {},
   "outputs": [],
   "source": [
    "def reverse_str1(s):\n",
    "    news=''\n",
    "    for i in s :\n",
    "        news=i+news\n",
    "    return news   "
   ]
  },
  {
   "cell_type": "code",
   "execution_count": 59,
   "id": "74f42a70",
   "metadata": {},
   "outputs": [
    {
     "data": {
      "text/plain": [
       "'skeeg rof skeeG'"
      ]
     },
     "execution_count": 59,
     "metadata": {},
     "output_type": "execute_result"
    }
   ],
   "source": [
    "reverse_str1(\"Geeks for geeks\")"
   ]
  },
  {
   "cell_type": "code",
   "execution_count": null,
   "id": "baeeba39",
   "metadata": {},
   "outputs": [],
   "source": []
  },
  {
   "cell_type": "code",
   "execution_count": 60,
   "id": "fa3d679b",
   "metadata": {},
   "outputs": [
    {
     "data": {
      "text/plain": [
       "'skeeg rof skeeG'"
      ]
     },
     "execution_count": 60,
     "metadata": {},
     "output_type": "execute_result"
    }
   ],
   "source": [
    "#Using extended slice\n",
    "s1=\"Geeks for geeks\"\n",
    "s1[::-1]"
   ]
  },
  {
   "cell_type": "code",
   "execution_count": null,
   "id": "ccdb3efe",
   "metadata": {},
   "outputs": [],
   "source": []
  },
  {
   "cell_type": "code",
   "execution_count": 64,
   "id": "3bac5a1a",
   "metadata": {},
   "outputs": [
    {
     "name": "stdout",
     "output_type": "stream",
     "text": [
      "['G', 'e', 'e', 'k', 's', ' ', 'f', 'o', 'r', ' ', 'g', 'e', 'e', 'k', 's']\n",
      "['s', 'k', 'e', 'e', 'g', ' ', 'r', 'o', 'f', ' ', 's', 'k', 'e', 'e', 'G']\n",
      "skeeg rof skeeG\n"
     ]
    }
   ],
   "source": [
    "#Demonstration using reverse \n",
    "\n",
    "string=\"Geeks for geeks\"\n",
    "string = list(string)\n",
    "print(string)\n",
    "\n",
    "string.reverse()\n",
    "print(string)\n",
    "\n",
    "s3=\"\".join(string)\n",
    "print(s3)\n"
   ]
  },
  {
   "cell_type": "code",
   "execution_count": 65,
   "id": "81c004a1",
   "metadata": {},
   "outputs": [
    {
     "data": {
      "text/plain": [
       "'skeegrofskeeG'"
      ]
     },
     "execution_count": 65,
     "metadata": {},
     "output_type": "execute_result"
    }
   ],
   "source": [
    "def reverse(string):\n",
    "    string = list(string)\n",
    "    string.reverse()\n",
    "    return \"\".join(string)\n",
    " \n",
    "s = \"Geeksforgeeks\"\n",
    "reverse(s)"
   ]
  },
  {
   "cell_type": "code",
   "execution_count": null,
   "id": "dc38dcd6",
   "metadata": {},
   "outputs": [],
   "source": []
  },
  {
   "cell_type": "code",
   "execution_count": 67,
   "id": "692639b7",
   "metadata": {},
   "outputs": [
    {
     "name": "stdout",
     "output_type": "stream",
     "text": [
      "yob dooG\n"
     ]
    }
   ],
   "source": [
    "# Using a while loop  \n",
    "\n",
    "s=\"Good boy\"\n",
    "i=0\n",
    "ns=''\n",
    "n=len(s)\n",
    "while i<n:\n",
    "    ns=s[i]+ns\n",
    "    i+=1\n",
    "print(ns)"
   ]
  },
  {
   "cell_type": "code",
   "execution_count": null,
   "id": "7689270e",
   "metadata": {},
   "outputs": [],
   "source": []
  },
  {
   "cell_type": "markdown",
   "id": "9e2367b8",
   "metadata": {},
   "source": [
    "## 8. Python Program to Determine How Many Times a Given Letter Occurs in a String Recursively"
   ]
  },
  {
   "cell_type": "markdown",
   "id": "42276ef1",
   "metadata": {},
   "source": [
    "Case 2:\n",
    "Enter string:hello world\n",
    "Enter character to check:l\n",
    "Count is:\n",
    "3"
   ]
  },
  {
   "cell_type": "code",
   "execution_count": null,
   "id": "4aafe2a4",
   "metadata": {},
   "outputs": [],
   "source": []
  },
  {
   "cell_type": "code",
   "execution_count": 69,
   "id": "c6511043",
   "metadata": {},
   "outputs": [],
   "source": [
    "#Using loop\n",
    "\n",
    "def occu_word(s,char):\n",
    "    cnt=0\n",
    "    for i in s:\n",
    "        if i==char:\n",
    "            cnt+=1\n",
    "    return cnt"
   ]
  },
  {
   "cell_type": "code",
   "execution_count": 72,
   "id": "38187a43",
   "metadata": {},
   "outputs": [
    {
     "name": "stdout",
     "output_type": "stream",
     "text": [
      "3\n",
      "0\n"
     ]
    }
   ],
   "source": [
    "print(occu_word('hello world','l'))\n",
    "print(occu_word('hello world','f'))"
   ]
  },
  {
   "cell_type": "code",
   "execution_count": null,
   "id": "93bf9773",
   "metadata": {},
   "outputs": [],
   "source": []
  },
  {
   "cell_type": "code",
   "execution_count": 87,
   "id": "958d0797",
   "metadata": {},
   "outputs": [],
   "source": [
    "#Using Recursion\n",
    "\n",
    "def occ_words(s,char):\n",
    "    \n",
    "    if not s:\n",
    "        return 0\n",
    "    elif s[0]==char:\n",
    "        return 1 + occ_words(s[1:],char)\n",
    "    else:\n",
    "         return occ_words(s[1:],char)"
   ]
  },
  {
   "cell_type": "code",
   "execution_count": 88,
   "id": "fe0cd36b",
   "metadata": {},
   "outputs": [
    {
     "name": "stdout",
     "output_type": "stream",
     "text": [
      "3\n",
      "0\n"
     ]
    }
   ],
   "source": [
    "print(occ_words('hello world','l'))\n",
    "print(occ_words('hello world','f'))"
   ]
  },
  {
   "cell_type": "code",
   "execution_count": null,
   "id": "12e988ad",
   "metadata": {},
   "outputs": [],
   "source": []
  },
  {
   "cell_type": "code",
   "execution_count": 85,
   "id": "0509f1d3",
   "metadata": {},
   "outputs": [
    {
     "name": "stdout",
     "output_type": "stream",
     "text": [
      "Count of e in GeeksforGeeks is :  4\n"
     ]
    }
   ],
   "source": [
    "# using lambda + sum() + map() to get count\n",
    "\n",
    "test_str = \"GeeksforGeeks\"\n",
    "count= sum(map(lambda x:1 if 'e' in x else 0 , test_str))\n",
    " \n",
    "# printing result\n",
    "print (\"Count of e in GeeksforGeeks is : \", (count))\n"
   ]
  },
  {
   "cell_type": "code",
   "execution_count": null,
   "id": "f8670887",
   "metadata": {},
   "outputs": [],
   "source": []
  },
  {
   "cell_type": "markdown",
   "id": "d62f4c8b",
   "metadata": {},
   "source": [
    "## 9. Python Program to Calculate the Length of a String Without using Library Functions"
   ]
  },
  {
   "cell_type": "code",
   "execution_count": 89,
   "id": "f57ed77f",
   "metadata": {},
   "outputs": [
    {
     "data": {
      "text/plain": [
       "9"
      ]
     },
     "execution_count": 89,
     "metadata": {},
     "output_type": "execute_result"
    }
   ],
   "source": [
    "#Using For Loop \n",
    "\n",
    "s='Recursion'\n",
    "cnt=0\n",
    "for i in s:\n",
    "    cnt+=1\n",
    "cnt"
   ]
  },
  {
   "cell_type": "code",
   "execution_count": null,
   "id": "4d32ead3",
   "metadata": {},
   "outputs": [],
   "source": []
  },
  {
   "cell_type": "code",
   "execution_count": 91,
   "id": "af1b5c60",
   "metadata": {},
   "outputs": [
    {
     "data": {
      "text/plain": [
       "9"
      ]
     },
     "execution_count": 91,
     "metadata": {},
     "output_type": "execute_result"
    }
   ],
   "source": [
    "#Using While Loop\n",
    "\n",
    "s='Recursion'\n",
    "cnt=0\n",
    "while s[cnt:]:\n",
    "    cnt+=1\n",
    "cnt"
   ]
  },
  {
   "cell_type": "code",
   "execution_count": null,
   "id": "b126172f",
   "metadata": {},
   "outputs": [],
   "source": []
  },
  {
   "cell_type": "code",
   "execution_count": 6,
   "id": "c016cc2d",
   "metadata": {},
   "outputs": [
    {
     "name": "stdout",
     "output_type": "stream",
     "text": [
      "Length of string :  9\n"
     ]
    }
   ],
   "source": [
    "#Using List Comprehension\n",
    "\n",
    "s='Recursion'\n",
    "print(\"Length of string : \", sum([1 for i in s]))"
   ]
  },
  {
   "cell_type": "code",
   "execution_count": null,
   "id": "de357220",
   "metadata": {},
   "outputs": [],
   "source": []
  },
  {
   "cell_type": "code",
   "execution_count": 9,
   "id": "cb2eaad7",
   "metadata": {},
   "outputs": [],
   "source": [
    "#Using Recursion\n",
    "\n",
    "def recur_len(s):\n",
    "    if not s:\n",
    "        return 0\n",
    "    else:\n",
    "        return 1+recur_len(s[1:])\n"
   ]
  },
  {
   "cell_type": "code",
   "execution_count": 10,
   "id": "0e284658",
   "metadata": {},
   "outputs": [
    {
     "data": {
      "text/plain": [
       "9"
      ]
     },
     "execution_count": 10,
     "metadata": {},
     "output_type": "execute_result"
    }
   ],
   "source": [
    "recur_len('Recursion')"
   ]
  },
  {
   "cell_type": "code",
   "execution_count": null,
   "id": "15f13028",
   "metadata": {},
   "outputs": [],
   "source": []
  },
  {
   "cell_type": "markdown",
   "id": "12ed4651",
   "metadata": {},
   "source": [
    "##  10. Python Program to Count the Number of Words and Characters in a String"
   ]
  },
  {
   "cell_type": "markdown",
   "id": "49bb7a68",
   "metadata": {},
   "source": [
    "Case 1:\n",
    "Enter string:Hello world\n",
    "Number of words in the string:\n",
    "2\n",
    "Number of characters in the string:\n",
    "11"
   ]
  },
  {
   "cell_type": "code",
   "execution_count": null,
   "id": "81cbb258",
   "metadata": {},
   "outputs": [],
   "source": []
  },
  {
   "cell_type": "code",
   "execution_count": 19,
   "id": "8f98060a",
   "metadata": {},
   "outputs": [],
   "source": [
    "s=\"Hello world\"\n",
    "\n",
    "#s.split(\" \") ----> ['Hello', 'world']"
   ]
  },
  {
   "cell_type": "code",
   "execution_count": 25,
   "id": "69cac106",
   "metadata": {},
   "outputs": [],
   "source": [
    "#Using Split and Loop\n",
    "\n",
    "def count_word_char(s):\n",
    "    cnt_char=0\n",
    "    \n",
    "    cnt_word= len(s.split(\" \"))\n",
    "    \n",
    "    for i in s:\n",
    "        cnt_char+=1\n",
    "    return cnt_word,cnt_char"
   ]
  },
  {
   "cell_type": "code",
   "execution_count": 39,
   "id": "b25f3914",
   "metadata": {},
   "outputs": [
    {
     "name": "stdout",
     "output_type": "stream",
     "text": [
      "(2, 11)\n",
      "(6, 45)\n"
     ]
    }
   ],
   "source": [
    "print(count_word_char(\"Hello world\"))\n",
    "print(count_word_char(\"Geeksforgeeks is best Computer Science Portal\"))"
   ]
  },
  {
   "cell_type": "code",
   "execution_count": null,
   "id": "0ef32b27",
   "metadata": {},
   "outputs": [],
   "source": []
  },
  {
   "cell_type": "code",
   "execution_count": null,
   "id": "de0b5173",
   "metadata": {},
   "outputs": [],
   "source": []
  },
  {
   "cell_type": "code",
   "execution_count": 21,
   "id": "4f1df2e8",
   "metadata": {},
   "outputs": [
    {
     "name": "stdout",
     "output_type": "stream",
     "text": [
      "The original string is : Geeksforgeeks is best Computer Science Portal\n",
      "The number of words in string are : 6\n",
      "The number of words in string are :  45\n"
     ]
    }
   ],
   "source": [
    "#Using count\n",
    "\n",
    "test_string = \"Geeksforgeeks is best Computer Science Portal\"\n",
    " \n",
    "print(\"The original string is : \" + test_string)\n",
    " \n",
    "# using split() to count words in string\n",
    "res = test_string.count(\" \")+1\n",
    " \n",
    "\n",
    "print(\"The number of words in string are : \" + str(res))\n",
    "print(\"The number of words in string are : \", len(test_string))"
   ]
  },
  {
   "cell_type": "code",
   "execution_count": null,
   "id": "5b86c561",
   "metadata": {},
   "outputs": [],
   "source": []
  },
  {
   "cell_type": "code",
   "execution_count": 35,
   "id": "46cfc40b",
   "metadata": {},
   "outputs": [],
   "source": [
    "#Using two Loops for words and char count\n",
    "\n",
    "def count_word_char2(s):\n",
    "    cnt_char,cnt_word=0,0\n",
    "    \n",
    "    for i in s:\n",
    "        cnt_char+=1\n",
    "    \n",
    "    for j in s:\n",
    "        if (j==' ' or j=='\\n' or j=='\\t'):\n",
    "            cnt_word+=1\n",
    "      \n",
    "    return cnt_word+1,cnt_char"
   ]
  },
  {
   "cell_type": "code",
   "execution_count": 36,
   "id": "02324ca4",
   "metadata": {},
   "outputs": [
    {
     "data": {
      "text/plain": [
       "(6, 45)"
      ]
     },
     "execution_count": 36,
     "metadata": {},
     "output_type": "execute_result"
    }
   ],
   "source": [
    "test_string = \"Geeksforgeeks is best Computer Science Portal\"\n",
    "count_word_char2(test_string)"
   ]
  },
  {
   "cell_type": "code",
   "execution_count": null,
   "id": "24aed875",
   "metadata": {},
   "outputs": [],
   "source": []
  },
  {
   "cell_type": "markdown",
   "id": "0b8df3af",
   "metadata": {},
   "source": [
    "## 11. Python Program to Count Number of Lowercase Characters in a String"
   ]
  },
  {
   "cell_type": "markdown",
   "id": "51078748",
   "metadata": {},
   "source": [
    "Case 2:\n",
    "Enter string:AbCd\n",
    "The number of lowercase characters is:\n",
    "2"
   ]
  },
  {
   "cell_type": "code",
   "execution_count": 75,
   "id": "9204f78e",
   "metadata": {},
   "outputs": [],
   "source": [
    "# Using the built-in methods\n",
    "\n",
    "def count_low_upp(s):\n",
    "    cnt_lower,cnt_upper=0,0\n",
    "    for i in s:\n",
    "        if i.islower()==True:\n",
    "            cnt_lower+=1\n",
    "        elif i.isupper()==True :\n",
    "            cnt_upper+=1\n",
    "    return(cnt_lower,cnt_upper)\n",
    " "
   ]
  },
  {
   "cell_type": "code",
   "execution_count": 76,
   "id": "12c1ab62",
   "metadata": {},
   "outputs": [
    {
     "data": {
      "text/plain": [
       "(6, 1)"
      ]
     },
     "execution_count": 76,
     "metadata": {},
     "output_type": "execute_result"
    }
   ],
   "source": [
    "count_low_upp('Program')"
   ]
  },
  {
   "cell_type": "code",
   "execution_count": null,
   "id": "2372c09a",
   "metadata": {},
   "outputs": [],
   "source": []
  },
  {
   "cell_type": "code",
   "execution_count": 78,
   "id": "cf51d24f",
   "metadata": {},
   "outputs": [],
   "source": [
    "#Using Dictionary\n",
    "\n",
    "def count_char(s):\n",
    "    d={\"upper_case\":0,\"lower_case\":0}\n",
    "    for i in s:\n",
    "        if i.islower():\n",
    "            d[\"lower_case\"]+=1\n",
    "        elif i.isupper():\n",
    "            d[\"upper_case\"]+=1\n",
    "    return d"
   ]
  },
  {
   "cell_type": "code",
   "execution_count": 79,
   "id": "9f3a47e4",
   "metadata": {},
   "outputs": [
    {
     "data": {
      "text/plain": [
       "{'upper_case': 3, 'lower_case': 13}"
      ]
     },
     "execution_count": 79,
     "metadata": {},
     "output_type": "execute_result"
    }
   ],
   "source": [
    "count_char('The quick Brown Fox')"
   ]
  },
  {
   "cell_type": "code",
   "execution_count": null,
   "id": "e55bf1dc",
   "metadata": {},
   "outputs": [],
   "source": []
  },
  {
   "cell_type": "code",
   "execution_count": 81,
   "id": "d0abe2af",
   "metadata": {},
   "outputs": [],
   "source": [
    "#Using comprehension\n",
    "\n",
    "s='The quick Brown Fox'\n",
    "\n",
    "def n_lower_chars(string):\n",
    "    return sum(1 for c in string if c.islower())"
   ]
  },
  {
   "cell_type": "code",
   "execution_count": 82,
   "id": "2fd24d83",
   "metadata": {},
   "outputs": [
    {
     "data": {
      "text/plain": [
       "13"
      ]
     },
     "execution_count": 82,
     "metadata": {},
     "output_type": "execute_result"
    }
   ],
   "source": [
    "n_lower_chars(s)"
   ]
  },
  {
   "cell_type": "code",
   "execution_count": null,
   "id": "b23a2f81",
   "metadata": {},
   "outputs": [],
   "source": []
  },
  {
   "cell_type": "code",
   "execution_count": 87,
   "id": "323ae894",
   "metadata": {},
   "outputs": [],
   "source": [
    "#Using ASCII CHAR of alphabets\n",
    "\n",
    "def countchar(s):\n",
    "    cnt_l,cnt_u=0,0\n",
    "    \n",
    "    for i in s:\n",
    "        if ord(i)>=97 and ord(i)<=122:\n",
    "            cnt_l+=1\n",
    "        elif ord(i)>=65 and ord(i)<=90:\n",
    "            cnt_u+=1\n",
    "    return cnt_l,cnt_u\n"
   ]
  },
  {
   "cell_type": "code",
   "execution_count": 89,
   "id": "4163cd2f",
   "metadata": {},
   "outputs": [
    {
     "data": {
      "text/plain": [
       "(13, 3)"
      ]
     },
     "execution_count": 89,
     "metadata": {},
     "output_type": "execute_result"
    }
   ],
   "source": [
    "countchar('The quick Brown Fox')"
   ]
  },
  {
   "cell_type": "code",
   "execution_count": null,
   "id": "ccb7327c",
   "metadata": {},
   "outputs": [],
   "source": []
  },
  {
   "cell_type": "code",
   "execution_count": 93,
   "id": "97f73c27",
   "metadata": {},
   "outputs": [
    {
     "name": "stdout",
     "output_type": "stream",
     "text": [
      "Lower case characters =  13\n",
      "Upper case characters =  3\n"
     ]
    }
   ],
   "source": [
    "#Using in operator\n",
    "\n",
    "string = 'The quick Brown Fox'\n",
    "\n",
    "upper = 0\n",
    "lower = 0\n",
    "up=\"ABCDEFGHIJKLMNOPQRSTUVWXYZ\"\n",
    "lo=\"abcdefghijklmnopqrstuvwxyz\"\n",
    "for i in string:\n",
    "    if i in up:\n",
    "        upper+=1\n",
    "    elif i in lo:\n",
    "        lower+=1\n",
    "print('Lower case characters = ', lower)\n",
    "print('Upper case characters = ', upper)"
   ]
  },
  {
   "cell_type": "code",
   "execution_count": null,
   "id": "db7d5c05",
   "metadata": {},
   "outputs": [],
   "source": []
  },
  {
   "cell_type": "code",
   "execution_count": null,
   "id": "7d633f87",
   "metadata": {},
   "outputs": [],
   "source": []
  },
  {
   "cell_type": "markdown",
   "id": "61255ff2",
   "metadata": {},
   "source": [
    "## 12. Python Program to Count the Number of Vowels in a String"
   ]
  },
  {
   "cell_type": "code",
   "execution_count": 98,
   "id": "4632630a",
   "metadata": {},
   "outputs": [],
   "source": [
    "def count_vowels(s):\n",
    "    vowels = 'aeiou'\n",
    "    count_vowels=0\n",
    "    \n",
    "    for i in s:\n",
    "        if i.lower() in vowels:\n",
    "            count_vowels+=1\n",
    "    return count_vowels\n"
   ]
  },
  {
   "cell_type": "code",
   "execution_count": 99,
   "id": "68b1462d",
   "metadata": {},
   "outputs": [
    {
     "name": "stdout",
     "output_type": "stream",
     "text": [
      "1\n",
      "3\n",
      "3\n"
     ]
    }
   ],
   "source": [
    "print(count_vowels(\"Python\"))\n",
    "print(count_vowels(\"WELCOME\"))\n",
    "print(count_vowels(\"Hello world\"))"
   ]
  },
  {
   "cell_type": "code",
   "execution_count": null,
   "id": "a20f7968",
   "metadata": {},
   "outputs": [],
   "source": []
  },
  {
   "cell_type": "code",
   "execution_count": 100,
   "id": "3096041c",
   "metadata": {},
   "outputs": [],
   "source": [
    "#Using list comprehension\n",
    "\n",
    "def count_vowels2(s):\n",
    "    vowels = 'aeiouAEIOU'\n",
    "    count_vowels= len([i for i in s if i in vowels])\n",
    "    \n",
    "    return count_vowels\n"
   ]
  },
  {
   "cell_type": "code",
   "execution_count": 101,
   "id": "0381b366",
   "metadata": {},
   "outputs": [
    {
     "name": "stdout",
     "output_type": "stream",
     "text": [
      "3\n"
     ]
    }
   ],
   "source": [
    "print(count_vowels2(\"Hello world\"))"
   ]
  },
  {
   "cell_type": "code",
   "execution_count": null,
   "id": "dc612f3b",
   "metadata": {},
   "outputs": [],
   "source": []
  },
  {
   "cell_type": "code",
   "execution_count": 55,
   "id": "7d7049b8",
   "metadata": {},
   "outputs": [],
   "source": [
    "def count_vowels2(s):\n",
    "    \n",
    "    count_vowels=0\n",
    "    \n",
    "    for i in s:\n",
    "        if(i=='a' or i=='e' or i=='i' or i=='o' or i=='u'\n",
    "           or i=='A' or i=='E' or i=='I' or i=='O' or i=='U'):\n",
    "            count_vowels+=1\n",
    "    return count_vowels"
   ]
  },
  {
   "cell_type": "code",
   "execution_count": 56,
   "id": "162e429b",
   "metadata": {},
   "outputs": [
    {
     "name": "stdout",
     "output_type": "stream",
     "text": [
      "1\n",
      "3\n",
      "3\n"
     ]
    }
   ],
   "source": [
    "print(count_vowels2(\"Python\"))\n",
    "print(count_vowels2(\"WELCOME\"))\n",
    "print(count_vowels2(\"Hello world\"))"
   ]
  },
  {
   "cell_type": "code",
   "execution_count": null,
   "id": "d7875103",
   "metadata": {},
   "outputs": [],
   "source": []
  },
  {
   "cell_type": "code",
   "execution_count": null,
   "id": "93b6ff1b",
   "metadata": {},
   "outputs": [],
   "source": []
  },
  {
   "cell_type": "code",
   "execution_count": null,
   "id": "5debd92f",
   "metadata": {},
   "outputs": [],
   "source": []
  },
  {
   "cell_type": "code",
   "execution_count": null,
   "id": "26994a03",
   "metadata": {},
   "outputs": [],
   "source": []
  },
  {
   "cell_type": "markdown",
   "id": "9a62717c",
   "metadata": {},
   "source": [
    "## 13. Python Program to Count Number of Uppercase and Lowercase Letters in a String"
   ]
  },
  {
   "cell_type": "code",
   "execution_count": 102,
   "id": "fbf20a39",
   "metadata": {},
   "outputs": [],
   "source": [
    "#Using ASCII CHAR of alphabets and List Comprehension\n",
    "\n",
    "def countchar2(s):\n",
    "    \n",
    "    cnt_l=len([i for i in s if ord(i)>=97 and ord(i)<=122])\n",
    "    cnt_u=len([i for i in s if ord(i)>=65 and ord(i)<=90])\n",
    "    \n",
    "    return cnt_l,cnt_u\n"
   ]
  },
  {
   "cell_type": "code",
   "execution_count": 103,
   "id": "1744378a",
   "metadata": {},
   "outputs": [
    {
     "data": {
      "text/plain": [
       "(7, 3)"
      ]
     },
     "execution_count": 103,
     "metadata": {},
     "output_type": "execute_result"
    }
   ],
   "source": [
    "countchar2(\"SanFouNdry\")"
   ]
  },
  {
   "cell_type": "code",
   "execution_count": null,
   "id": "65aac367",
   "metadata": {},
   "outputs": [],
   "source": []
  },
  {
   "cell_type": "code",
   "execution_count": null,
   "id": "6bf619b1",
   "metadata": {},
   "outputs": [],
   "source": []
  },
  {
   "cell_type": "markdown",
   "id": "22ab26fc",
   "metadata": {},
   "source": [
    "## 14. Python Program to Count the Number of Digits and Letters in a String"
   ]
  },
  {
   "cell_type": "markdown",
   "id": "3fcc44f3",
   "metadata": {},
   "source": [
    "Case 1:\n",
    "Enter string:Hello123\n",
    "The number of digits is:\n",
    "3\n",
    "The number of characters is:\n",
    "5"
   ]
  },
  {
   "cell_type": "code",
   "execution_count": 121,
   "id": "611d68f3",
   "metadata": {},
   "outputs": [],
   "source": [
    "def count_dig_char(s):\n",
    "    c_digit,c_letter=0,0\n",
    "    \n",
    "    for i in s:\n",
    "        if i.isdigit():\n",
    "            c_digit+=1\n",
    "        c_letter=len(s)-c_digit\n",
    "\n",
    "    return c_digit,c_letter"
   ]
  },
  {
   "cell_type": "code",
   "execution_count": 125,
   "id": "dde015ff",
   "metadata": {},
   "outputs": [
    {
     "name": "stdout",
     "output_type": "stream",
     "text": [
      "Number of Digit & letters are (4, 6)\n",
      "(2, 3)\n",
      "(0, 14)\n"
     ]
    }
   ],
   "source": [
    "cdl=count_dig_char(\"python1234\")\n",
    "print(\"Number of Digit & letters are\", cdl)\n",
    "\n",
    "print(count_dig_char(\"Abc12\"))\n",
    "print(count_dig_char(\"W@e are humans\"))"
   ]
  },
  {
   "cell_type": "code",
   "execution_count": null,
   "id": "47ee8e01",
   "metadata": {},
   "outputs": [],
   "source": []
  },
  {
   "cell_type": "code",
   "execution_count": 126,
   "id": "8c6419de",
   "metadata": {},
   "outputs": [
    {
     "name": "stdout",
     "output_type": "stream",
     "text": [
      "Please Enter your Own String : Hello&16Python@\n",
      "\n",
      "Total Number of Alphabets in this String :   11\n",
      "Total Number of Digits in this String :   2\n",
      "Total Number of Special Characters in this String :   2\n"
     ]
    }
   ],
   "source": [
    "str1 = input(\"Please Enter your Own String : \")\n",
    "alphabets = digits = special = 0\n",
    "\n",
    "for i in range(len(str1)):\n",
    "    if(ord(str1[i]) >= 48 and ord(str1[i]) <= 57): \n",
    "        digits = digits + 1 \n",
    "        \n",
    "    elif((ord(str1[i]) >= 65 and ord(str1[i]) <= 90) or (ord(str1[i]) >= 97 and ord(str1[i]) <= 122)):\n",
    "        alphabets = alphabets + 1\n",
    "        \n",
    "    else:\n",
    "        special = special + 1\n",
    "        \n",
    "print(\"\\nTotal Number of Alphabets in this String :  \", alphabets)\n",
    "print(\"Total Number of Digits in this String :  \", digits)\n",
    "print(\"Total Number of Special Characters in this String :  \", special)"
   ]
  },
  {
   "cell_type": "code",
   "execution_count": null,
   "id": "ae291a2a",
   "metadata": {},
   "outputs": [],
   "source": []
  },
  {
   "cell_type": "code",
   "execution_count": null,
   "id": "06668074",
   "metadata": {},
   "outputs": [],
   "source": []
  },
  {
   "cell_type": "code",
   "execution_count": 128,
   "id": "437e0ef7",
   "metadata": {},
   "outputs": [
    {
     "name": "stdout",
     "output_type": "stream",
     "text": [
      "Total letters found : 13\n",
      "Total digits found : 2\n"
     ]
    }
   ],
   "source": [
    "all_digits = ['0', '1', '2', '3', '4', '5', '6', '7', '8', '9']\n",
    "\n",
    "all_letters = ['a', 'b', 'c', 'd', 'e', 'f', 'g', 'h', 'i', 'j', 'k', 'l',\n",
    "               'm', 'n', 'o', 'p', 'q', 'r', 's', 't', 'u', 'v', 'w', 'x', 'y', 'z']\n",
    "\n",
    "string = \"geeks2for3geeks\"\n",
    "\n",
    "total_digits,total_letters = 0,0\n",
    "\n",
    "for s in string:\n",
    "\n",
    "    if s in all_digits:\n",
    "        total_digits += 1\n",
    "    elif s in all_letters:\n",
    "        total_letters += 1\n",
    "\n",
    "print(\"Total letters found :\", total_letters)\n",
    "print(\"Total digits found :\", total_digits)"
   ]
  },
  {
   "cell_type": "code",
   "execution_count": null,
   "id": "6d75b379",
   "metadata": {},
   "outputs": [],
   "source": []
  },
  {
   "cell_type": "markdown",
   "id": "d41f7cab",
   "metadata": {},
   "source": [
    "## 15. Python Program to Print All Permutations of a String in Lexicographic Order without Recursion"
   ]
  },
  {
   "cell_type": "markdown",
   "id": "5506d3a9",
   "metadata": {},
   "source": [
    "Case 1:\n",
    "Enter the string: pig\n",
    "pig\n",
    "gip\n",
    "gpi\n",
    "igp\n",
    "ipg\n",
    "pgi"
   ]
  },
  {
   "cell_type": "code",
   "execution_count": 143,
   "id": "ed312ef8",
   "metadata": {},
   "outputs": [
    {
     "name": "stdout",
     "output_type": "stream",
     "text": [
      "['gip', 'gpi', 'igp', 'ipg', 'pgi', 'pig']\n"
     ]
    }
   ],
   "source": [
    "from itertools import permutations\n",
    "\n",
    "def get_lexicographic_permutations(s):\n",
    "    return sorted(''.join(chars) for chars in permutations(s))\n",
    "\n",
    "print(get_lexicographic_permutations('pig'))"
   ]
  },
  {
   "cell_type": "code",
   "execution_count": null,
   "id": "cb719d87",
   "metadata": {},
   "outputs": [],
   "source": []
  },
  {
   "cell_type": "markdown",
   "id": "fc1a0b4a",
   "metadata": {},
   "source": [
    "## 16. Python Program to Print All Permutations of a String in Lexicographic Order using Recursion"
   ]
  },
  {
   "cell_type": "code",
   "execution_count": null,
   "id": "f637183b",
   "metadata": {},
   "outputs": [],
   "source": []
  },
  {
   "cell_type": "code",
   "execution_count": null,
   "id": "0725981c",
   "metadata": {},
   "outputs": [],
   "source": []
  },
  {
   "cell_type": "code",
   "execution_count": null,
   "id": "699a5416",
   "metadata": {},
   "outputs": [],
   "source": []
  },
  {
   "cell_type": "markdown",
   "id": "458ac9b2",
   "metadata": {},
   "source": [
    "## 17. Python Program to Check if the Substring is Present in the Given String"
   ]
  },
  {
   "cell_type": "markdown",
   "id": "0b9a4f29",
   "metadata": {},
   "source": [
    "Case 2:\n",
    "Enter string:Hello world\n",
    "Enter word:apple\n",
    "Substring not found in string!"
   ]
  },
  {
   "cell_type": "code",
   "execution_count": null,
   "id": "52bdfd0a",
   "metadata": {},
   "outputs": [],
   "source": []
  },
  {
   "cell_type": "code",
   "execution_count": 183,
   "id": "8de221f6",
   "metadata": {},
   "outputs": [
    {
     "name": "stdout",
     "output_type": "stream",
     "text": [
      "Yes, it is found\n"
     ]
    }
   ],
   "source": [
    "#Using in operator\n",
    "\n",
    "s='Hello world'\n",
    "word='world'\n",
    "\n",
    "if word in s:\n",
    "    print(\"Yes, it is found\")\n",
    "else:\n",
    "    print(\"No, it is not found\")\n"
   ]
  },
  {
   "cell_type": "code",
   "execution_count": null,
   "id": "bf13ed33",
   "metadata": {},
   "outputs": [],
   "source": []
  },
  {
   "cell_type": "code",
   "execution_count": 182,
   "id": "3f5f763b",
   "metadata": {},
   "outputs": [
    {
     "name": "stdout",
     "output_type": "stream",
     "text": [
      "No, it is not found\n"
     ]
    }
   ],
   "source": [
    "s='Hello world'\n",
    "s=s.split(' ')  # ['Hello', 'world']\n",
    "word='ok'\n",
    "\n",
    "if word in s:\n",
    "    print(\"Yes, it is found\")\n",
    "else:\n",
    "    print(\"No, it is not found\")"
   ]
  },
  {
   "cell_type": "code",
   "execution_count": null,
   "id": "457b2620",
   "metadata": {},
   "outputs": [],
   "source": []
  },
  {
   "cell_type": "code",
   "execution_count": 187,
   "id": "043c862f",
   "metadata": {},
   "outputs": [
    {
     "name": "stdout",
     "output_type": "stream",
     "text": [
      "['Yes']\n"
     ]
    }
   ],
   "source": [
    "# Using list comprehension\n",
    "\n",
    "s='Hello Python'\n",
    "word='Hello'\n",
    "print(['Yes' if word in s else 'No'])"
   ]
  },
  {
   "cell_type": "code",
   "execution_count": null,
   "id": "33c9ccea",
   "metadata": {},
   "outputs": [],
   "source": []
  },
  {
   "cell_type": "code",
   "execution_count": null,
   "id": "7d8af250",
   "metadata": {},
   "outputs": [],
   "source": []
  },
  {
   "cell_type": "markdown",
   "id": "5ae33ab3",
   "metadata": {},
   "source": [
    "## 18. Python Program to Find Common Characters in Two Strings"
   ]
  },
  {
   "cell_type": "markdown",
   "id": "4a50256c",
   "metadata": {},
   "source": [
    "Case 1:\n",
    "Enter first string:Hello\n",
    "Enter second string:How are you\n",
    "The common letters are:\n",
    "H\n",
    "e\n",
    "o"
   ]
  },
  {
   "cell_type": "code",
   "execution_count": 19,
   "id": "7e9c02a5",
   "metadata": {},
   "outputs": [],
   "source": [
    "#Using Generator Comprehension\n",
    "\n",
    "def comm_char(s1,s2):\n",
    "\n",
    "    common_char = (i for i in s1 if i in s2) \n",
    "    return (common_char)"
   ]
  },
  {
   "cell_type": "code",
   "execution_count": 20,
   "id": "1e6f7f4e",
   "metadata": {},
   "outputs": [
    {
     "name": "stdout",
     "output_type": "stream",
     "text": [
      "H\n",
      "e\n",
      "o\n"
     ]
    }
   ],
   "source": [
    "s=comm_char('Hello','How are you')\n",
    "for i in s:\n",
    "    print(i)"
   ]
  },
  {
   "cell_type": "code",
   "execution_count": 4,
   "id": "13c9ca5c",
   "metadata": {},
   "outputs": [
    {
     "name": "stdout",
     "output_type": "stream",
     "text": [
      "H\n",
      "e\n",
      "o\n"
     ]
    }
   ],
   "source": [
    "#Naive Method\n",
    "\n",
    "s1,s2='Hello','How are you'\n",
    "for i in s1:\n",
    "    if i in s2:\n",
    "        print(i)"
   ]
  },
  {
   "cell_type": "code",
   "execution_count": null,
   "id": "90823245",
   "metadata": {},
   "outputs": [],
   "source": []
  },
  {
   "cell_type": "code",
   "execution_count": 21,
   "id": "feb3c668",
   "metadata": {},
   "outputs": [
    {
     "name": "stdout",
     "output_type": "stream",
     "text": [
      "{'a'}\n"
     ]
    }
   ],
   "source": [
    "#Using set\n",
    "\n",
    "set1 = set('apple')\n",
    "set2 = set('banana')\n",
    "output = set1 & set2\n",
    "print(output)"
   ]
  },
  {
   "cell_type": "code",
   "execution_count": null,
   "id": "9cfe16c1",
   "metadata": {},
   "outputs": [],
   "source": []
  },
  {
   "cell_type": "code",
   "execution_count": 31,
   "id": "6539d94d",
   "metadata": {},
   "outputs": [
    {
     "name": "stdout",
     "output_type": "stream",
     "text": [
      "geeks\n",
      " $g$e$e$k$s$ \n"
     ]
    }
   ],
   "source": [
    "# Joining with empty separator\n",
    "list1 = ['g', 'e', 'e', 'k', 's']\n",
    "print(\"\".join(list1))\n",
    " \n",
    "# Joining with string\n",
    "list1 = \" geeks \"\n",
    "print(\"$\".join(list1))"
   ]
  },
  {
   "cell_type": "code",
   "execution_count": null,
   "id": "ef36f485",
   "metadata": {},
   "outputs": [],
   "source": []
  },
  {
   "cell_type": "code",
   "execution_count": 39,
   "id": "9ff9d2fb",
   "metadata": {},
   "outputs": [
    {
     "name": "stdout",
     "output_type": "stream",
     "text": [
      "Heo\n"
     ]
    }
   ],
   "source": [
    "#Using set intersection\n",
    "\n",
    "print(''.join(sorted(set.intersection(set(s1), set(s2)))))"
   ]
  },
  {
   "cell_type": "code",
   "execution_count": null,
   "id": "75861652",
   "metadata": {},
   "outputs": [],
   "source": []
  },
  {
   "cell_type": "code",
   "execution_count": null,
   "id": "cd9b4b33",
   "metadata": {},
   "outputs": [],
   "source": []
  },
  {
   "cell_type": "markdown",
   "id": "ba583f57",
   "metadata": {},
   "source": [
    "## 19. Python Program to Print All Letters Present in Both Strings"
   ]
  },
  {
   "cell_type": "code",
   "execution_count": null,
   "id": "bcb96675",
   "metadata": {},
   "outputs": [],
   "source": []
  },
  {
   "cell_type": "code",
   "execution_count": 76,
   "id": "9b7fde9f",
   "metadata": {},
   "outputs": [],
   "source": [
    "#Using Generator Comprehension\n",
    "\n",
    "def all_char(s1,s2):\n",
    "\n",
    "    all_char1 = {i for i in s1 }\n",
    "    all_char2 = {j for j in s2 }\n",
    "    \n",
    "    return (all_char1.union(all_char2))"
   ]
  },
  {
   "cell_type": "code",
   "execution_count": 78,
   "id": "0dc3064d",
   "metadata": {},
   "outputs": [
    {
     "name": "stdout",
     "output_type": "stream",
     "text": [
      "u\n",
      "e\n",
      "A\n",
      " \n",
      "w\n",
      "H\n",
      "l\n",
      "o\n",
      "y\n",
      "r\n"
     ]
    }
   ],
   "source": [
    "s=all_char('Hello','How Are you')\n",
    "for i in s:\n",
    "    print(i)"
   ]
  },
  {
   "cell_type": "code",
   "execution_count": null,
   "id": "8f28f272",
   "metadata": {},
   "outputs": [],
   "source": []
  },
  {
   "cell_type": "code",
   "execution_count": 81,
   "id": "0be16527",
   "metadata": {},
   "outputs": [],
   "source": [
    "#Using Generator Comprehension\n",
    "\n",
    "def all_char(s1,s2):\n",
    "\n",
    "    all_char1 = {i for i in s1 }\n",
    "    all_char2 = {j for j in s2 }\n",
    "    \n",
    "    return ''.join(all_char1.union(all_char2))\n",
    "    #return (all_char1.union(all_char2))"
   ]
  },
  {
   "cell_type": "code",
   "execution_count": 82,
   "id": "d6468ff9",
   "metadata": {},
   "outputs": [
    {
     "name": "stdout",
     "output_type": "stream",
     "text": [
      "ueA wHloyr\n"
     ]
    }
   ],
   "source": [
    "print(all_char('Hello','How Are you'))"
   ]
  },
  {
   "cell_type": "code",
   "execution_count": null,
   "id": "05e68f66",
   "metadata": {},
   "outputs": [],
   "source": []
  },
  {
   "cell_type": "code",
   "execution_count": null,
   "id": "066f3dd0",
   "metadata": {},
   "outputs": [],
   "source": []
  },
  {
   "cell_type": "code",
   "execution_count": 73,
   "id": "bde0deed",
   "metadata": {},
   "outputs": [
    {
     "name": "stdout",
     "output_type": "stream",
     "text": [
      "The letters are:\n",
      "u\n",
      "e\n",
      "h\n",
      " \n",
      "a\n",
      "w\n",
      "n\n",
      "t\n",
      "H\n",
      "P\n",
      "o\n",
      "y\n",
      "r\n"
     ]
    }
   ],
   "source": [
    "s1='Hello'\n",
    "s1='Python'\n",
    "\n",
    "a=list(set(s1)|set(s2))\n",
    "print(\"The letters are:\")\n",
    "\n",
    "for i in a:\n",
    "    print(i)"
   ]
  },
  {
   "cell_type": "code",
   "execution_count": null,
   "id": "4e74abd4",
   "metadata": {},
   "outputs": [],
   "source": []
  },
  {
   "cell_type": "markdown",
   "id": "09985d24",
   "metadata": {},
   "source": [
    "## 20. Python Program that Displays which Letters are in First String but not in Second"
   ]
  },
  {
   "cell_type": "markdown",
   "id": "900ad58b",
   "metadata": {},
   "source": [
    "Case 1:\n",
    "Enter first string:Hello\n",
    "Enter second string:world\n",
    "The letters are:\n",
    "H\n",
    "e"
   ]
  },
  {
   "cell_type": "code",
   "execution_count": 85,
   "id": "9424b79b",
   "metadata": {},
   "outputs": [
    {
     "name": "stdout",
     "output_type": "stream",
     "text": [
      "The letters are:\n",
      "e\n",
      "H\n"
     ]
    }
   ],
   "source": [
    "#Using Set difference\n",
    "\n",
    "s1='Hello'\n",
    "s2='world'\n",
    "\n",
    "a=list(set(s1)-set(s2))\n",
    "print(\"The letters are:\")\n",
    "\n",
    "for i in a:\n",
    "    print(i)"
   ]
  },
  {
   "cell_type": "code",
   "execution_count": null,
   "id": "6c7e9962",
   "metadata": {},
   "outputs": [],
   "source": []
  },
  {
   "cell_type": "code",
   "execution_count": 88,
   "id": "f449abd3",
   "metadata": {},
   "outputs": [
    {
     "name": "stdout",
     "output_type": "stream",
     "text": [
      "H\n",
      "e\n"
     ]
    }
   ],
   "source": [
    "#Using Generator Comprehension\n",
    "\n",
    "result = (i for i in s1 if i not in s2)\n",
    "for i in result:\n",
    "    print(i)"
   ]
  },
  {
   "cell_type": "code",
   "execution_count": null,
   "id": "f227e574",
   "metadata": {},
   "outputs": [],
   "source": []
  },
  {
   "cell_type": "code",
   "execution_count": 89,
   "id": "2ca37062",
   "metadata": {},
   "outputs": [],
   "source": [
    "def recur_diff(s1,s2):\n",
    "    if len(s1)==0:\n",
    "        return set()\n",
    "    else:\n",
    "        result=recur_diff(s1[1:],s2)\n",
    "        if s1[0] not in s2:\n",
    "            result.add(s1[0])\n",
    "        return result"
   ]
  },
  {
   "cell_type": "code",
   "execution_count": 90,
   "id": "7e4a7787",
   "metadata": {},
   "outputs": [
    {
     "data": {
      "text/plain": [
       "{'H', 'e'}"
      ]
     },
     "execution_count": 90,
     "metadata": {},
     "output_type": "execute_result"
    }
   ],
   "source": [
    "recur_diff(s1,s2)"
   ]
  },
  {
   "cell_type": "code",
   "execution_count": 93,
   "id": "81f7531a",
   "metadata": {},
   "outputs": [
    {
     "data": {
      "text/plain": [
       "{'f', 'o', 'r'}"
      ]
     },
     "execution_count": 93,
     "metadata": {},
     "output_type": "execute_result"
    }
   ],
   "source": [
    "a = \"geeksforgeeks\"\n",
    "b = \"geeks\"\n",
    " \n",
    "# call recursive method\n",
    "result = recur_diff(a, b)\n",
    "result"
   ]
  },
  {
   "cell_type": "code",
   "execution_count": null,
   "id": "816fa047",
   "metadata": {},
   "outputs": [],
   "source": []
  },
  {
   "cell_type": "code",
   "execution_count": null,
   "id": "9fb2bce7",
   "metadata": {},
   "outputs": [],
   "source": []
  },
  {
   "cell_type": "markdown",
   "id": "d4673129",
   "metadata": {},
   "source": [
    "## 21. Python Program that Displays Letters that are not Common in Two Strings"
   ]
  },
  {
   "cell_type": "code",
   "execution_count": 109,
   "id": "ac5cd577",
   "metadata": {},
   "outputs": [
    {
     "name": "stdout",
     "output_type": "stream",
     "text": [
      "g\n",
      "i\n",
      "T\n",
      "e\n",
      "n\n",
      "r\n"
     ]
    }
   ],
   "source": [
    "#Using comprehension and converting into set\n",
    "\n",
    "s1='Test'\n",
    "s2='string'\n",
    "\n",
    "s_frst= [ i for i in s2 if i not in s1 ]\n",
    "s_scnd= [ i for i in s1 if i not in s2 ]\n",
    "\n",
    "\n",
    "s=list(set(s_frst)|set(s_scnd))\n",
    "for i in s:\n",
    "    print(i)"
   ]
  },
  {
   "cell_type": "code",
   "execution_count": 110,
   "id": "75ea067d",
   "metadata": {},
   "outputs": [
    {
     "name": "stdout",
     "output_type": "stream",
     "text": [
      "The letters are:\n",
      "h\n",
      "v\n",
      "a\n",
      "t\n",
      "r\n"
     ]
    }
   ],
   "source": [
    "string_1 = \"hi\"\n",
    "string_2 = \"virat\"\n",
    " \n",
    "e = list(set(string_1) ^ set(string_2))\n",
    "\n",
    "print(\"The letters are:\")\n",
    "for i in e:\n",
    "    print(i)"
   ]
  },
  {
   "cell_type": "code",
   "execution_count": null,
   "id": "5c642892",
   "metadata": {},
   "outputs": [],
   "source": []
  },
  {
   "cell_type": "code",
   "execution_count": null,
   "id": "29c75dca",
   "metadata": {},
   "outputs": [],
   "source": []
  },
  {
   "cell_type": "markdown",
   "id": "0dea1be5",
   "metadata": {},
   "source": [
    "## 22. Python Program to Create a New String Made up of First and Last 2 Characters"
   ]
  },
  {
   "cell_type": "code",
   "execution_count": 121,
   "id": "2ed40f25",
   "metadata": {},
   "outputs": [],
   "source": [
    "def str_end(s):\n",
    "    if len(s)<2:\n",
    "        return s\n",
    "    else:\n",
    "        return (s[:2]+s[-2:])"
   ]
  },
  {
   "cell_type": "code",
   "execution_count": 122,
   "id": "80109beb",
   "metadata": {},
   "outputs": [
    {
     "data": {
      "text/plain": [
       "'Chng'"
      ]
     },
     "execution_count": 122,
     "metadata": {},
     "output_type": "execute_result"
    }
   ],
   "source": [
    "str_end('Checking')"
   ]
  },
  {
   "cell_type": "code",
   "execution_count": null,
   "id": "8a36706f",
   "metadata": {},
   "outputs": [],
   "source": []
  },
  {
   "cell_type": "code",
   "execution_count": 124,
   "id": "dc5852ba",
   "metadata": {},
   "outputs": [
    {
     "name": "stdout",
     "output_type": "stream",
     "text": [
      "Input string = Geeksforgeeks\n",
      "New String = Geks\n"
     ]
    }
   ],
   "source": [
    "inputString = \"Geeksforgeeks\"\n",
    "count = 0\n",
    "\n",
    "for i in inputString:\n",
    "      count = count + 1\n",
    "newString = inputString[ 0:2 ] + inputString [count - 2: count ]\n",
    " \n",
    "print(\"Input string = \" + inputString)\n",
    "print(\"New String = \"+ newString)"
   ]
  },
  {
   "cell_type": "code",
   "execution_count": null,
   "id": "632e6a4f",
   "metadata": {},
   "outputs": [],
   "source": []
  },
  {
   "cell_type": "markdown",
   "id": "eb582f48",
   "metadata": {},
   "source": [
    "## 23. Python Program to Find the Larger String without using Built-in Functions"
   ]
  },
  {
   "cell_type": "markdown",
   "id": "7c70ac9c",
   "metadata": {},
   "source": [
    "Case 1:\n",
    "Enter first string:Bangalore\n",
    "Enter second string:Delhi\n",
    "Larger string is:\n",
    "Bangalore"
   ]
  },
  {
   "cell_type": "code",
   "execution_count": null,
   "id": "c02ce4de",
   "metadata": {},
   "outputs": [],
   "source": []
  },
  {
   "cell_type": "code",
   "execution_count": 10,
   "id": "f4fff99e",
   "metadata": {},
   "outputs": [],
   "source": [
    "def larger_str(s1,s2):\n",
    "    cnt_s1,cnt_s2=0,0\n",
    "    \n",
    "    for i in s1:\n",
    "        cnt_s1+=1\n",
    "    \n",
    "    for j in s2:\n",
    "        cnt_s2+=1\n",
    "        \n",
    "    if cnt_s1>cnt_s2:\n",
    "        return(s1)\n",
    "    elif cnt_s1==cnt_s2:\n",
    "        print(\"Both Equal\")\n",
    "    else:\n",
    "        return(s2)\n",
    "    "
   ]
  },
  {
   "cell_type": "code",
   "execution_count": 11,
   "id": "ae9f6e14",
   "metadata": {},
   "outputs": [
    {
     "name": "stdout",
     "output_type": "stream",
     "text": [
      "Bangalore\n",
      "Malaysia\n",
      "Both Equal\n"
     ]
    }
   ],
   "source": [
    "print(larger_str('Bangalore','Delhi'))\n",
    "print(larger_str('Delhi','Malaysia'))\n",
    "larger_str('Delhi','Delhi')"
   ]
  },
  {
   "cell_type": "code",
   "execution_count": null,
   "id": "09aa04f3",
   "metadata": {},
   "outputs": [],
   "source": []
  },
  {
   "cell_type": "markdown",
   "id": "9314740f",
   "metadata": {},
   "source": [
    "## 24. Python Program to Sort Hyphen Separated Sequence of Words in Alphabetical Order"
   ]
  },
  {
   "cell_type": "code",
   "execution_count": 29,
   "id": "5762767e",
   "metadata": {},
   "outputs": [],
   "source": [
    "str1 = \"Hello-this-Is-an-Example\"\n",
    "\n",
    "def sort_str(my_str):\n",
    "    new_s=[i.lower() for i in my_str.split('-')]\n",
    "    new_s.sort()\n",
    "\n",
    "    return '-'.join(new_s)\n",
    "    "
   ]
  },
  {
   "cell_type": "code",
   "execution_count": 30,
   "id": "9debbb0f",
   "metadata": {},
   "outputs": [
    {
     "data": {
      "text/plain": [
       "'an-example-hello-is-this'"
      ]
     },
     "execution_count": 30,
     "metadata": {},
     "output_type": "execute_result"
    }
   ],
   "source": [
    "sort_str(str1)"
   ]
  },
  {
   "cell_type": "code",
   "execution_count": null,
   "id": "483fedbe",
   "metadata": {},
   "outputs": [],
   "source": []
  },
  {
   "cell_type": "code",
   "execution_count": 31,
   "id": "f23b41d5",
   "metadata": {},
   "outputs": [
    {
     "name": "stdout",
     "output_type": "stream",
     "text": [
      "an\n",
      "example\n",
      "hello\n",
      "is\n",
      "this\n"
     ]
    }
   ],
   "source": [
    "new_s=[i.lower() for i in my_str.split('-')]\n",
    "new_s.sort()\n",
    "\n",
    "for i in new_s:\n",
    "    print(i)"
   ]
  },
  {
   "cell_type": "code",
   "execution_count": null,
   "id": "15d7cf67",
   "metadata": {},
   "outputs": [],
   "source": []
  },
  {
   "cell_type": "code",
   "execution_count": null,
   "id": "abeef0bb",
   "metadata": {},
   "outputs": [],
   "source": []
  },
  {
   "cell_type": "markdown",
   "id": "a9fc72b3",
   "metadata": {},
   "source": [
    "##  25. Python Program to Count the Occurrences of Each Word in a Given String Sentence"
   ]
  },
  {
   "cell_type": "code",
   "execution_count": 34,
   "id": "3681c477",
   "metadata": {},
   "outputs": [],
   "source": [
    "def cnt_occ(s,n):\n",
    "    d={}\n",
    "    \n",
    "    for i in s.split():\n",
    "        if i in d:\n",
    "            d[i]+=1\n",
    "        else:\n",
    "            d[i]=1\n",
    "    return d.get(n)\n",
    "        "
   ]
  },
  {
   "cell_type": "code",
   "execution_count": 37,
   "id": "a774249c",
   "metadata": {},
   "outputs": [
    {
     "data": {
      "text/plain": [
       "2"
      ]
     },
     "execution_count": 37,
     "metadata": {},
     "output_type": "execute_result"
    }
   ],
   "source": [
    "cnt_occ('orange blue red orange','orange')"
   ]
  },
  {
   "cell_type": "code",
   "execution_count": null,
   "id": "c8fe3340",
   "metadata": {},
   "outputs": [],
   "source": []
  },
  {
   "cell_type": "code",
   "execution_count": 38,
   "id": "bb7795bf",
   "metadata": {},
   "outputs": [],
   "source": [
    "def cnt_occ2(s):\n",
    "    d={}\n",
    "    \n",
    "    for i in s.split():\n",
    "        if i in d:\n",
    "            d[i]+=1\n",
    "        else:\n",
    "            d[i]=1\n",
    "    return d\n",
    "        "
   ]
  },
  {
   "cell_type": "code",
   "execution_count": 39,
   "id": "509fea95",
   "metadata": {},
   "outputs": [
    {
     "name": "stdout",
     "output_type": "stream",
     "text": [
      "{'the': 2, 'quick': 1, 'brown': 1, 'fox': 1, 'jumps': 1, 'over': 1, 'lazy': 1, 'dog.': 1}\n"
     ]
    }
   ],
   "source": [
    "print( cnt_occ2('the quick brown fox jumps over the lazy dog.'))"
   ]
  },
  {
   "cell_type": "code",
   "execution_count": 41,
   "id": "77fd6a4e",
   "metadata": {},
   "outputs": [
    {
     "name": "stdout",
     "output_type": "stream",
     "text": [
      "the : 2\n",
      "quick : 1\n",
      "brown : 1\n",
      "fox : 1\n",
      "jumps : 1\n",
      "over : 1\n",
      "lazy : 1\n",
      "dog. : 1\n"
     ]
    }
   ],
   "source": [
    "s=cnt_occ2('the quick brown fox jumps over the lazy dog.')\n",
    "for key in list(s.keys()):\n",
    "    print(key, \":\", s[key])"
   ]
  },
  {
   "cell_type": "code",
   "execution_count": null,
   "id": "083eabce",
   "metadata": {},
   "outputs": [],
   "source": []
  },
  {
   "cell_type": "markdown",
   "id": "b3000583",
   "metadata": {},
   "source": [
    "## 26. Python Program to Count Number of Vowels in a String using Sets"
   ]
  },
  {
   "cell_type": "code",
   "execution_count": 42,
   "id": "a2e019ab",
   "metadata": {},
   "outputs": [
    {
     "data": {
      "text/plain": [
       "6"
      ]
     },
     "execution_count": 42,
     "metadata": {},
     "output_type": "execute_result"
    }
   ],
   "source": [
    "s=\"Problem Description\"\n",
    "vowels= set('aeiouAEIOU')\n",
    "\n",
    "cnt_vowel = sum([ 1 for i in s if i in vowels])\n",
    "cnt_vowel"
   ]
  },
  {
   "cell_type": "code",
   "execution_count": null,
   "id": "884df1dd",
   "metadata": {},
   "outputs": [],
   "source": []
  },
  {
   "cell_type": "markdown",
   "id": "2068e84e",
   "metadata": {},
   "source": [
    "## 27. String Palindrome Program in Python"
   ]
  },
  {
   "cell_type": "code",
   "execution_count": 45,
   "id": "d0d4e6a3",
   "metadata": {},
   "outputs": [],
   "source": [
    "def check_palindrome(s):\n",
    "    news=''\n",
    "    for i in s:\n",
    "        news=i+news\n",
    "    if news==s:\n",
    "        print(s,\" is a palindrome!\")\n",
    "    else:\n",
    "        print(s,\" is not a palindrome!\")\n"
   ]
  },
  {
   "cell_type": "code",
   "execution_count": 47,
   "id": "e908b7c0",
   "metadata": {},
   "outputs": [
    {
     "name": "stdout",
     "output_type": "stream",
     "text": [
      "malayalam  is a palindrome!\n",
      "hello  is not a palindrome!\n"
     ]
    }
   ],
   "source": [
    "check_palindrome(\"malayalam\")\n",
    "check_palindrome(\"hello\")"
   ]
  },
  {
   "cell_type": "code",
   "execution_count": null,
   "id": "9b3c0c28",
   "metadata": {},
   "outputs": [],
   "source": []
  },
  {
   "cell_type": "code",
   "execution_count": 55,
   "id": "5b852de2",
   "metadata": {},
   "outputs": [],
   "source": [
    "def check_palindrome2(s):\n",
    "    news=''\n",
    "    i=0\n",
    "    n=len(s)\n",
    "    \n",
    "    while i<n:\n",
    "        news=s[i]+news\n",
    "        i+=1        \n",
    "        \n",
    "    if news==s:\n",
    "        print(s,\" is a palindrome!\")\n",
    "    else:\n",
    "        print(s,\" is not a palindrome!\")\n"
   ]
  },
  {
   "cell_type": "code",
   "execution_count": 56,
   "id": "eea14906",
   "metadata": {},
   "outputs": [
    {
     "name": "stdout",
     "output_type": "stream",
     "text": [
      "malayalam  is a palindrome!\n",
      "hello  is not a palindrome!\n"
     ]
    }
   ],
   "source": [
    "check_palindrome2(\"malayalam\")\n",
    "check_palindrome2(\"hello\")"
   ]
  },
  {
   "cell_type": "code",
   "execution_count": null,
   "id": "f0b466ea",
   "metadata": {},
   "outputs": [],
   "source": []
  },
  {
   "cell_type": "code",
   "execution_count": 57,
   "id": "89cda883",
   "metadata": {},
   "outputs": [],
   "source": [
    "def check_palindrome3(s):\n",
    "    \n",
    "    if s==s[::-1]:\n",
    "        print(s,\" is a palindrome!\")\n",
    "    else:\n",
    "        print(s,\" is not a palindrome!\")\n"
   ]
  },
  {
   "cell_type": "code",
   "execution_count": 58,
   "id": "db00910f",
   "metadata": {},
   "outputs": [
    {
     "name": "stdout",
     "output_type": "stream",
     "text": [
      "malayalam  is a palindrome!\n",
      "hello  is not a palindrome!\n"
     ]
    }
   ],
   "source": [
    "check_palindrome3(\"malayalam\")\n",
    "check_palindrome3(\"hello\")"
   ]
  },
  {
   "cell_type": "code",
   "execution_count": null,
   "id": "e7c0db08",
   "metadata": {},
   "outputs": [],
   "source": []
  },
  {
   "cell_type": "code",
   "execution_count": 65,
   "id": "47610341",
   "metadata": {},
   "outputs": [],
   "source": [
    "def check_palindrome4(s):\n",
    "    \n",
    "    for i in range(0,int(len(s)//2)):\n",
    "        if s[i]!=s[len(s)-i-1]:\n",
    "            return(\"It is not a palindrome!\")\n",
    "    return(\"It is a palindrome!\")"
   ]
  },
  {
   "cell_type": "code",
   "execution_count": 67,
   "id": "cbc5dffa",
   "metadata": {},
   "outputs": [
    {
     "data": {
      "text/plain": [
       "'It is a palindrome!'"
      ]
     },
     "execution_count": 67,
     "metadata": {},
     "output_type": "execute_result"
    }
   ],
   "source": [
    "check_palindrome4(\"malayalam\")"
   ]
  },
  {
   "cell_type": "code",
   "execution_count": 68,
   "id": "6c8f99f0",
   "metadata": {},
   "outputs": [
    {
     "data": {
      "text/plain": [
       "'It is not a palindrome!'"
      ]
     },
     "execution_count": 68,
     "metadata": {},
     "output_type": "execute_result"
    }
   ],
   "source": [
    "check_palindrome4(\"hello\")"
   ]
  },
  {
   "cell_type": "code",
   "execution_count": null,
   "id": "64c303cd",
   "metadata": {},
   "outputs": [],
   "source": []
  },
  {
   "cell_type": "code",
   "execution_count": 80,
   "id": "38af4cf6",
   "metadata": {},
   "outputs": [],
   "source": [
    "def check_palindrome5(s):\n",
    "    flag=0\n",
    "    \n",
    "    for i in range(0,len(s)):\n",
    "        if s[i]!=s[len(s)-i-1]:\n",
    "            flag=1\n",
    "            break\n",
    "        else:\n",
    "            continue\n",
    "        \n",
    "    if flag==1:\n",
    "        print(s,\" is not a palindrome!\")\n",
    "    else:\n",
    "        print(s,\" is a palindrome!\")\n"
   ]
  },
  {
   "cell_type": "code",
   "execution_count": 81,
   "id": "b88f2abb",
   "metadata": {},
   "outputs": [
    {
     "name": "stdout",
     "output_type": "stream",
     "text": [
      "malayalam  is a palindrome!\n",
      "hello  is not a palindrome!\n"
     ]
    }
   ],
   "source": [
    "check_palindrome5(\"malayalam\")\n",
    "check_palindrome5(\"hello\")"
   ]
  },
  {
   "cell_type": "code",
   "execution_count": null,
   "id": "21bcbabb",
   "metadata": {},
   "outputs": [],
   "source": []
  },
  {
   "cell_type": "markdown",
   "id": "053c3c14",
   "metadata": {},
   "source": [
    "## 28. Python Program to Check whether two Strings are Anagrams"
   ]
  },
  {
   "cell_type": "code",
   "execution_count": null,
   "id": "3e651316",
   "metadata": {},
   "outputs": [],
   "source": []
  },
  {
   "cell_type": "code",
   "execution_count": 150,
   "id": "d4bdeb09",
   "metadata": {},
   "outputs": [],
   "source": [
    "#Using List Comprehension\n",
    "\n",
    "def check_anagram(s1,s2):\n",
    "    x= [i for i in s1]\n",
    "    x.sort()\n",
    "    \n",
    "    y= [i for i in s2]\n",
    "    y.sort()\n",
    "    \n",
    "    if (x == y):\n",
    "        print(\"The strings are anagrams.\")\n",
    "    else:\n",
    "        print(\"The strings aren't anagrams.\")\n",
    "    "
   ]
  },
  {
   "cell_type": "code",
   "execution_count": 151,
   "id": "1d003aa1",
   "metadata": {},
   "outputs": [
    {
     "name": "stdout",
     "output_type": "stream",
     "text": [
      "The strings are anagrams.\n"
     ]
    }
   ],
   "source": [
    "st1='Holle'\n",
    "st2='Hello'\n",
    "check_anagram(st1,st2)"
   ]
  },
  {
   "cell_type": "code",
   "execution_count": null,
   "id": "0fc08ccf",
   "metadata": {},
   "outputs": [],
   "source": []
  },
  {
   "cell_type": "code",
   "execution_count": 153,
   "id": "5655e935",
   "metadata": {},
   "outputs": [
    {
     "name": "stdout",
     "output_type": "stream",
     "text": [
      "The strings aren't anagrams.\n"
     ]
    }
   ],
   "source": [
    "sd1 = \"School\"\n",
    "sd2 = \"scAhool\"\n",
    "check_anagram(sd1,sd2)"
   ]
  },
  {
   "cell_type": "code",
   "execution_count": null,
   "id": "4cf7b429",
   "metadata": {},
   "outputs": [],
   "source": []
  },
  {
   "cell_type": "code",
   "execution_count": 143,
   "id": "08ee1d6c",
   "metadata": {},
   "outputs": [
    {
     "name": "stdout",
     "output_type": "stream",
     "text": [
      "The strings aren't anagrams.\n"
     ]
    }
   ],
   "source": [
    "def check(s1, s2):\n",
    "     \n",
    "    if(sorted(s1)== sorted(s2)):\n",
    "        print(\"The strings are anagrams.\")\n",
    "    else:\n",
    "        print(\"The strings aren't anagrams.\")        \n",
    "         \n",
    "# driver code \n",
    "s1 =\"silenta\"\n",
    "s2 =\"silent\"\n",
    "check(s1, s2)"
   ]
  },
  {
   "cell_type": "code",
   "execution_count": null,
   "id": "47e928f9",
   "metadata": {},
   "outputs": [],
   "source": []
  },
  {
   "cell_type": "code",
   "execution_count": 144,
   "id": "36741867",
   "metadata": {},
   "outputs": [
    {
     "name": "stdout",
     "output_type": "stream",
     "text": [
      "True\n"
     ]
    }
   ],
   "source": [
    "def isAnagram(a, b):\n",
    "    \n",
    "    #Unequal Length strings cannot be anagrams\n",
    "    if len(a) != len(b):\n",
    "        return False\n",
    "    \n",
    "    first = sorted(a)\n",
    "    second = sorted(b)\n",
    "    \n",
    "    if first == second:\n",
    "        return True\n",
    "    else:\n",
    "        return False\n",
    "    \n",
    "#driver code\n",
    "ans = isAnagram(\"listen\",\"silent\")\n",
    "print(ans)"
   ]
  },
  {
   "cell_type": "code",
   "execution_count": null,
   "id": "409ff1f3",
   "metadata": {},
   "outputs": [],
   "source": []
  },
  {
   "cell_type": "code",
   "execution_count": null,
   "id": "900075dd",
   "metadata": {},
   "outputs": [],
   "source": []
  },
  {
   "cell_type": "markdown",
   "id": "f180380e",
   "metadata": {},
   "source": [
    "## 29. Python Program to Check whether a String is Palindrome or not using Recursion"
   ]
  },
  {
   "cell_type": "code",
   "execution_count": 1,
   "id": "afb01c7c",
   "metadata": {},
   "outputs": [],
   "source": [
    "def recur_palindrome(s):\n",
    "    if len(s)<1:\n",
    "        return True\n",
    "    else:\n",
    "        if s[0]==s[-1]:\n",
    "            return recur_palindrome(s[1:-1])\n",
    "        else:\n",
    "            return False\n",
    "            "
   ]
  },
  {
   "cell_type": "code",
   "execution_count": 6,
   "id": "b49017ab",
   "metadata": {},
   "outputs": [
    {
     "name": "stdout",
     "output_type": "stream",
     "text": [
      "The string is a palindrome.\n"
     ]
    }
   ],
   "source": [
    "s='peep'\n",
    "\n",
    "if(recur_palindrome(s)==True):\n",
    "    print(\"The string is a palindrome.\")\n",
    "else:\n",
    "    print(\"The string is not a palindrome.\")\n",
    "   \n"
   ]
  },
  {
   "cell_type": "code",
   "execution_count": null,
   "id": "f85f32f7",
   "metadata": {},
   "outputs": [],
   "source": []
  },
  {
   "cell_type": "code",
   "execution_count": null,
   "id": "c85ecade",
   "metadata": {},
   "outputs": [],
   "source": []
  },
  {
   "cell_type": "markdown",
   "id": "684ab99b",
   "metadata": {},
   "source": [
    "## 30. Python Program to Find All Odd Palindrome Numbers in a Range without using Recursion"
   ]
  },
  {
   "cell_type": "markdown",
   "id": "05251941",
   "metadata": {},
   "source": [
    "Case 1:\n",
    "Enter lower limit: 100\n",
    "Enter upper limit: 150\n",
    "The numbers are:  [101, 111, 121, 131, 141]"
   ]
  },
  {
   "cell_type": "code",
   "execution_count": 7,
   "id": "114cb4ab",
   "metadata": {},
   "outputs": [
    {
     "name": "stdout",
     "output_type": "stream",
     "text": [
      "Enter lower limit: 100\n",
      "Enter upper limit: 150\n",
      "The numbers are:  [101, 111, 121, 131, 141]\n"
     ]
    }
   ],
   "source": [
    "a=[]\n",
    "l=int(input(\"Enter lower limit: \"))\n",
    "u=int(input(\"Enter upper limit: \"))\n",
    "a=[x for x in range(l,u+1) if x%2!=0 and str(x)==str(x)[::-1]]\n",
    "print(\"The numbers are: \",a)"
   ]
  },
  {
   "cell_type": "code",
   "execution_count": null,
   "id": "79e0be24",
   "metadata": {},
   "outputs": [],
   "source": []
  },
  {
   "cell_type": "code",
   "execution_count": null,
   "id": "7963c4c6",
   "metadata": {},
   "outputs": [],
   "source": []
  },
  {
   "cell_type": "code",
   "execution_count": 14,
   "id": "2dd13486",
   "metadata": {},
   "outputs": [],
   "source": [
    "def palindrome_num(n):\n",
    "    rev_num=0\n",
    "    temp=n\n",
    "    \n",
    "    while n>0:\n",
    "        digit=n%10\n",
    "        rev_num= rev_num*10+ digit\n",
    "        n//=10\n",
    "        \n",
    "    if(temp==rev_num):\n",
    "        return 'Yes'\n",
    "    else:\n",
    "        return 'No'\n",
    "    "
   ]
  },
  {
   "cell_type": "code",
   "execution_count": 16,
   "id": "460d041b",
   "metadata": {},
   "outputs": [
    {
     "name": "stdout",
     "output_type": "stream",
     "text": [
      "Yes\n",
      "No\n"
     ]
    }
   ],
   "source": [
    "print(palindrome_num(121))\n",
    "print(palindrome_num(1211))"
   ]
  },
  {
   "cell_type": "code",
   "execution_count": null,
   "id": "20d76f55",
   "metadata": {},
   "outputs": [],
   "source": []
  },
  {
   "cell_type": "code",
   "execution_count": null,
   "id": "78b44b68",
   "metadata": {},
   "outputs": [],
   "source": []
  },
  {
   "cell_type": "code",
   "execution_count": 32,
   "id": "96c82f61",
   "metadata": {},
   "outputs": [],
   "source": [
    "def isPalindrome(n):\n",
    "  \n",
    "    # Find reverse of n\n",
    "    rev_num=0\n",
    "    temp=n\n",
    "    \n",
    "    while n>0:\n",
    "        digit=n%10\n",
    "        rev_num= rev_num*10+ digit\n",
    "        n//=10\n",
    "    \n",
    "    return (temp == rev_num)\n",
    "    \n",
    "    '''\n",
    "    if(temp==rev_num):\n",
    "        return True\n",
    "    else:\n",
    "        return False'''\n",
    "  "
   ]
  },
  {
   "cell_type": "code",
   "execution_count": 33,
   "id": "30a674bc",
   "metadata": {},
   "outputs": [
    {
     "name": "stdout",
     "output_type": "stream",
     "text": [
      "101 111 121 131 141 "
     ]
    }
   ],
   "source": [
    "for i in range(100, 150 + 1):\n",
    "    if isPalindrome(i) & i%2!=0:\n",
    "        print(i, end = \" \")"
   ]
  },
  {
   "cell_type": "code",
   "execution_count": null,
   "id": "ec8e473b",
   "metadata": {},
   "outputs": [],
   "source": []
  }
 ],
 "metadata": {
  "kernelspec": {
   "display_name": "Python 3 (ipykernel)",
   "language": "python",
   "name": "python3"
  },
  "language_info": {
   "codemirror_mode": {
    "name": "ipython",
    "version": 3
   },
   "file_extension": ".py",
   "mimetype": "text/x-python",
   "name": "python",
   "nbconvert_exporter": "python",
   "pygments_lexer": "ipython3",
   "version": "3.9.12"
  }
 },
 "nbformat": 4,
 "nbformat_minor": 5
}
