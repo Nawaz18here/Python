{
 "cells": [
  {
   "cell_type": "markdown",
   "id": "3679e3e7",
   "metadata": {},
   "source": [
    "## 1. Python Program to Create a List of Tuples with the First Element as the Number and Second Element as the Square of the Number"
   ]
  },
  {
   "cell_type": "code",
   "execution_count": 4,
   "id": "595bd56a",
   "metadata": {},
   "outputs": [
    {
     "data": {
      "text/plain": [
       "[(0, 0), (1, 1), (2, 4), (3, 9), (4, 16)]"
      ]
     },
     "execution_count": 4,
     "metadata": {},
     "output_type": "execute_result"
    }
   ],
   "source": [
    "#Using List Comprehension\n",
    "\n",
    "l = [(i,i**2) for i in range(5)]\n",
    "l"
   ]
  },
  {
   "cell_type": "code",
   "execution_count": null,
   "id": "cb5dfd4f",
   "metadata": {},
   "outputs": [],
   "source": []
  },
  {
   "cell_type": "code",
   "execution_count": 12,
   "id": "4906d1a1",
   "metadata": {},
   "outputs": [],
   "source": [
    "# Using map() and lambda function\n",
    "\n",
    "res= list(map(lambda x:(x,x**2), [i for i in range(6)]))"
   ]
  },
  {
   "cell_type": "code",
   "execution_count": 13,
   "id": "7d3f1ed6",
   "metadata": {},
   "outputs": [
    {
     "data": {
      "text/plain": [
       "[(0, 0), (1, 1), (2, 4), (3, 9), (4, 16), (5, 25)]"
      ]
     },
     "execution_count": 13,
     "metadata": {},
     "output_type": "execute_result"
    }
   ],
   "source": [
    "res"
   ]
  },
  {
   "cell_type": "code",
   "execution_count": null,
   "id": "f82bcc27",
   "metadata": {},
   "outputs": [],
   "source": []
  },
  {
   "cell_type": "markdown",
   "id": "c090277f",
   "metadata": {},
   "source": [
    "## 2. Python Program to Remove All Tuples in a List Outside the Given Range"
   ]
  },
  {
   "cell_type": "code",
   "execution_count": null,
   "id": "6a908322",
   "metadata": {},
   "outputs": [],
   "source": []
  },
  {
   "cell_type": "code",
   "execution_count": 14,
   "id": "df46a71f",
   "metadata": {},
   "outputs": [
    {
     "data": {
      "text/plain": [
       "[('c', 45), ('e', 75)]"
      ]
     },
     "execution_count": 14,
     "metadata": {},
     "output_type": "execute_result"
    }
   ],
   "source": [
    "ini_tuple = [('b', 100), ('c', 200), ('c', 45),\n",
    "             ('d', 876), ('e', 75)]\n",
    " \n",
    "result = [ i for i in ini_tuple if i[1]<100 ]\n",
    "result"
   ]
  },
  {
   "cell_type": "code",
   "execution_count": null,
   "id": "3507cc64",
   "metadata": {},
   "outputs": [],
   "source": []
  },
  {
   "cell_type": "code",
   "execution_count": 16,
   "id": "f02bf28f",
   "metadata": {},
   "outputs": [
    {
     "data": {
      "text/plain": [
       "[('c', 45), ('e', 75)]"
      ]
     },
     "execution_count": 16,
     "metadata": {},
     "output_type": "execute_result"
    }
   ],
   "source": [
    "y = list(filter(lambda x:x[1]<100,ini_tuple))\n",
    "y"
   ]
  },
  {
   "cell_type": "code",
   "execution_count": null,
   "id": "9e12dee0",
   "metadata": {},
   "outputs": [],
   "source": []
  },
  {
   "cell_type": "code",
   "execution_count": 17,
   "id": "72a5fedc",
   "metadata": {},
   "outputs": [],
   "source": [
    "#Input:\n",
    "#[(32, 5), (None, None), (None, 6), (6, None), (None, None)]\n",
    "\n",
    "#Output:\n",
    "#[(32, 5), (None, 6), (6, None)]"
   ]
  },
  {
   "cell_type": "code",
   "execution_count": 29,
   "id": "42ae0690",
   "metadata": {},
   "outputs": [
    {
     "data": {
      "text/plain": [
       "[(32, 5), (None, 6), (6, None)]"
      ]
     },
     "execution_count": 29,
     "metadata": {},
     "output_type": "execute_result"
    }
   ],
   "source": [
    "x =[(32, 5), (None, None), (None, 6), (6, None), (None, None)]\n",
    "y = [ i for i in x if not all(vals==None for vals in i)]\n",
    "y"
   ]
  },
  {
   "cell_type": "code",
   "execution_count": null,
   "id": "5c52bb78",
   "metadata": {},
   "outputs": [],
   "source": []
  },
  {
   "cell_type": "code",
   "execution_count": 32,
   "id": "30f53ded",
   "metadata": {},
   "outputs": [
    {
     "name": "stdout",
     "output_type": "stream",
     "text": [
      "Enter lower roll number (starting with 12CS):50\n",
      "Enter upper roll number (starting with 12CS):100\n",
      "[('c', '12CS055')]\n"
     ]
    }
   ],
   "source": [
    "y=[('a','12CS039'),('b','12CS320'),('c','12CS055'),('d','12CS100')]\n",
    "low=int(input(\"Enter lower roll number (starting with 12CS):\"))\n",
    "up=int(input(\"Enter upper roll number (starting with 12CS):\"))\n",
    "l='12CS0'+str(low)\n",
    "u='12CS'+str(up)\n",
    "p=[x for x in y if x[1]>l and x[1]<u]\n",
    "print(p)"
   ]
  },
  {
   "cell_type": "code",
   "execution_count": null,
   "id": "59f6d8dd",
   "metadata": {},
   "outputs": [],
   "source": []
  },
  {
   "cell_type": "markdown",
   "id": "7e91d5e6",
   "metadata": {},
   "source": [
    "## 3. Python Program to Sort a List of Tuples in Increasing Order by the Last Element in Each Tuple"
   ]
  },
  {
   "cell_type": "markdown",
   "id": "8b3da6c9",
   "metadata": {},
   "source": [
    "Input: [(1, 3), (3, 2), (2, 1)]\n",
    "Output: [(2, 1), (3, 2), (1, 3)]"
   ]
  },
  {
   "cell_type": "code",
   "execution_count": 34,
   "id": "536f1c7f",
   "metadata": {},
   "outputs": [
    {
     "data": {
      "text/plain": [
       "[(2, 1), (3, 2), (1, 3)]"
      ]
     },
     "execution_count": 34,
     "metadata": {},
     "output_type": "execute_result"
    }
   ],
   "source": [
    "ip= [(1, 3), (3, 2), (2, 1)] \n",
    "\n",
    "ip.sort(key=lambda x:x[-1])\n",
    "ip"
   ]
  },
  {
   "cell_type": "code",
   "execution_count": null,
   "id": "3889e522",
   "metadata": {},
   "outputs": [],
   "source": []
  },
  {
   "cell_type": "code",
   "execution_count": 42,
   "id": "2f750e3f",
   "metadata": {},
   "outputs": [],
   "source": [
    "def sort_tup(ip):\n",
    "    n=len(ip)\n",
    "    for i in range(0,n):\n",
    "        for j in range(0,n-i-1):\n",
    "            if (ip[j][-1]>ip[j+1][-1]):\n",
    "                ip[j],ip[j+1]=ip[j+1],ip[j]\n",
    "    return(ip)"
   ]
  },
  {
   "cell_type": "code",
   "execution_count": 43,
   "id": "7b1b1956",
   "metadata": {},
   "outputs": [
    {
     "data": {
      "text/plain": [
       "[(2, 1), (3, 2), (1, 3)]"
      ]
     },
     "execution_count": 43,
     "metadata": {},
     "output_type": "execute_result"
    }
   ],
   "source": [
    "sort_tup(ip)"
   ]
  },
  {
   "cell_type": "code",
   "execution_count": 44,
   "id": "88b42e56",
   "metadata": {},
   "outputs": [
    {
     "data": {
      "text/plain": [
       "[('learn', 1), ('code', 3), ('python', 7), ('programming', 7)]"
      ]
     },
     "execution_count": 44,
     "metadata": {},
     "output_type": "execute_result"
    }
   ],
   "source": [
    "upList = [(\"python\", 7), (\"learn\" , 1), (\"programming\", 7), (\"code\" , 3)]\n",
    "sort_tup(upList)"
   ]
  },
  {
   "cell_type": "code",
   "execution_count": null,
   "id": "420e3ee4",
   "metadata": {},
   "outputs": [],
   "source": []
  },
  {
   "cell_type": "code",
   "execution_count": 45,
   "id": "6a7a8573",
   "metadata": {},
   "outputs": [
    {
     "name": "stdout",
     "output_type": "stream",
     "text": [
      "[('a', 96), ('d', 92), ('f', 90), ('g', 84)]\n"
     ]
    }
   ],
   "source": [
    "sample = [('f', 90), ('g', 84), ('d', 92), ('a', 96)]\n",
    "sample.sort(key = lambda i:i[1], reverse = True)\n",
    "print(sample)\n",
    " \n",
    "# Output : [('a', 96), ('d', 92), ('f', 90), ('g', 84)]"
   ]
  },
  {
   "cell_type": "code",
   "execution_count": null,
   "id": "5904951a",
   "metadata": {},
   "outputs": [],
   "source": []
  }
 ],
 "metadata": {
  "kernelspec": {
   "display_name": "Python 3 (ipykernel)",
   "language": "python",
   "name": "python3"
  },
  "language_info": {
   "codemirror_mode": {
    "name": "ipython",
    "version": 3
   },
   "file_extension": ".py",
   "mimetype": "text/x-python",
   "name": "python",
   "nbconvert_exporter": "python",
   "pygments_lexer": "ipython3",
   "version": "3.9.12"
  }
 },
 "nbformat": 4,
 "nbformat_minor": 5
}
