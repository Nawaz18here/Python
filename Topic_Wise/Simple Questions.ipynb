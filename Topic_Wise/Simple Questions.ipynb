{
 "cells": [
  {
   "cell_type": "code",
   "execution_count": null,
   "id": "cf2fab64",
   "metadata": {},
   "outputs": [],
   "source": []
  },
  {
   "cell_type": "markdown",
   "id": "d3c15f9e",
   "metadata": {},
   "source": [
    "## 1. Python Program to Check Whether a Given Number is Even or Odd using Recursion"
   ]
  },
  {
   "cell_type": "code",
   "execution_count": 1,
   "id": "01b487f7",
   "metadata": {},
   "outputs": [],
   "source": [
    "def chk_odd_even(n):\n",
    "    if n<2:\n",
    "        return (n%2==0)\n",
    "    else:\n",
    "        return chk_odd_even(n-2)"
   ]
  },
  {
   "cell_type": "code",
   "execution_count": 2,
   "id": "3664127a",
   "metadata": {},
   "outputs": [
    {
     "data": {
      "text/plain": [
       "False"
      ]
     },
     "execution_count": 2,
     "metadata": {},
     "output_type": "execute_result"
    }
   ],
   "source": [
    "chk_odd_even(9)"
   ]
  },
  {
   "cell_type": "code",
   "execution_count": 3,
   "id": "e7f06285",
   "metadata": {},
   "outputs": [
    {
     "data": {
      "text/plain": [
       "True"
      ]
     },
     "execution_count": 3,
     "metadata": {},
     "output_type": "execute_result"
    }
   ],
   "source": [
    "chk_odd_even(8)"
   ]
  },
  {
   "cell_type": "code",
   "execution_count": null,
   "id": "95abd65d",
   "metadata": {},
   "outputs": [],
   "source": []
  },
  {
   "cell_type": "code",
   "execution_count": 4,
   "id": "0b816579",
   "metadata": {},
   "outputs": [
    {
     "name": "stdout",
     "output_type": "stream",
     "text": [
      "3 num is odd\n"
     ]
    }
   ],
   "source": [
    "def evenOdd(n):\n",
    "     \n",
    "    #if remainder is 0 then num is even\n",
    "    if(n==0):\n",
    "        return True\n",
    "       \n",
    "    #if remainder is 1 then num is odd\n",
    "    elif(n==1):\n",
    "        return False\n",
    "    else:\n",
    "        return evenOdd(n-2)\n",
    "       \n",
    "# Input by geeks\n",
    "num=3\n",
    "if(evenOdd(num)):\n",
    "    print(num,\"num is even\")\n",
    "else:\n",
    "    print(num,\"num is odd\")"
   ]
  },
  {
   "cell_type": "code",
   "execution_count": null,
   "id": "9f4ef719",
   "metadata": {},
   "outputs": [],
   "source": []
  },
  {
   "cell_type": "code",
   "execution_count": null,
   "id": "2f6b1ded",
   "metadata": {},
   "outputs": [],
   "source": []
  },
  {
   "cell_type": "markdown",
   "id": "c66ab9c7",
   "metadata": {},
   "source": [
    "## 2. Python Program to Check Whether a Number is Positive or Negative"
   ]
  },
  {
   "cell_type": "code",
   "execution_count": 5,
   "id": "06331d01",
   "metadata": {},
   "outputs": [],
   "source": [
    "def chk_no(n):\n",
    "    if n>=0:\n",
    "        print(\"Positive No!\")\n",
    "    else:\n",
    "        print(\"Negative No!\")"
   ]
  },
  {
   "cell_type": "code",
   "execution_count": 6,
   "id": "b72f4b12",
   "metadata": {},
   "outputs": [
    {
     "name": "stdout",
     "output_type": "stream",
     "text": [
      "Positive No!\n",
      "Negative No!\n"
     ]
    }
   ],
   "source": [
    "chk_no(18)\n",
    "chk_no(-5)"
   ]
  },
  {
   "cell_type": "code",
   "execution_count": null,
   "id": "6236d84c",
   "metadata": {},
   "outputs": [],
   "source": []
  },
  {
   "cell_type": "code",
   "execution_count": 12,
   "id": "398a384f",
   "metadata": {},
   "outputs": [
    {
     "name": "stdout",
     "output_type": "stream",
     "text": [
      "['Negative']\n"
     ]
    }
   ],
   "source": [
    "x=-8\n",
    "x=['Positive' if x>0 else 'Negative' if x<0 else 'Zero']\n",
    "print(x)"
   ]
  },
  {
   "cell_type": "code",
   "execution_count": null,
   "id": "d4b2df05",
   "metadata": {},
   "outputs": [],
   "source": []
  },
  {
   "cell_type": "markdown",
   "id": "9f1decdb",
   "metadata": {},
   "source": [
    "## 3. Python Program to Print All Odd Numbers in a Range"
   ]
  },
  {
   "cell_type": "code",
   "execution_count": null,
   "id": "30101230",
   "metadata": {},
   "outputs": [],
   "source": []
  },
  {
   "cell_type": "code",
   "execution_count": 13,
   "id": "82058273",
   "metadata": {},
   "outputs": [
    {
     "data": {
      "text/plain": [
       "[1, 3, 5, 7, 9, 11, 13, 15, 17, 19]"
      ]
     },
     "execution_count": 13,
     "metadata": {},
     "output_type": "execute_result"
    }
   ],
   "source": [
    "n=20\n",
    "x=[i for i in range(n) if i%2!=0]\n",
    "x"
   ]
  },
  {
   "cell_type": "code",
   "execution_count": null,
   "id": "2e56c4d5",
   "metadata": {},
   "outputs": [],
   "source": []
  },
  {
   "cell_type": "markdown",
   "id": "7b763746",
   "metadata": {},
   "source": [
    "## 4. Python Program to Check if a Number is a Palindrome"
   ]
  },
  {
   "cell_type": "code",
   "execution_count": null,
   "id": "385ee3a5",
   "metadata": {},
   "outputs": [],
   "source": []
  },
  {
   "cell_type": "markdown",
   "id": "41fbab81",
   "metadata": {},
   "source": [
    "Palindromic Numbers\n",
    "\n",
    "The Numbers that when reversed is the same as the original number\n",
    "itself are known as Palindromic Numbers.\n"
   ]
  },
  {
   "cell_type": "code",
   "execution_count": null,
   "id": "9e965615",
   "metadata": {},
   "outputs": [],
   "source": [
    "#Using WHILE Loop\n",
    "\n",
    "def palindrome_Num(n):\n",
    "    \n",
    "    rev_num=0\n",
    "    temp=n\n",
    "    while temp>0:\n",
    "        remainder=temp%10\n",
    "        rev_num=rev_num*10+ remainder\n",
    "        temp//=10\n",
    "        \n",
    "    if n==rev_num:\n",
    "        print('{} is a palindrome no!'.format(n))\n",
    "    else:\n",
    "        print('{} is not a palindrome no!'.format(n))\n",
    "    "
   ]
  },
  {
   "cell_type": "code",
   "execution_count": 6,
   "id": "13e735d1",
   "metadata": {},
   "outputs": [
    {
     "name": "stdout",
     "output_type": "stream",
     "text": [
      "1551 is a palindrome no!\n",
      "12321 is a palindrome no!\n",
      "5418 is not a palindrome no!\n"
     ]
    }
   ],
   "source": [
    "palindrome_Num(1551)\n",
    "palindrome_Num(12321)\n",
    "palindrome_Num(5418)"
   ]
  },
  {
   "cell_type": "code",
   "execution_count": null,
   "id": "76933eda",
   "metadata": {},
   "outputs": [],
   "source": []
  },
  {
   "cell_type": "code",
   "execution_count": null,
   "id": "5349967c",
   "metadata": {},
   "outputs": [],
   "source": []
  },
  {
   "cell_type": "code",
   "execution_count": 8,
   "id": "891eb673",
   "metadata": {},
   "outputs": [],
   "source": [
    "def recurrev(number, rev):\n",
    "    if number == 0:\n",
    "        return rev\n",
    "\n",
    "    remainder = int(number % 10)\n",
    "    rev = (rev * 10) + remainder\n",
    "\n",
    "    return recurrev(int(number / 10), rev)\n"
   ]
  },
  {
   "cell_type": "code",
   "execution_count": 9,
   "id": "349cba0d",
   "metadata": {},
   "outputs": [
    {
     "name": "stdout",
     "output_type": "stream",
     "text": [
      "12321 is: Palindrome\n"
     ]
    }
   ],
   "source": [
    "num = 12321\n",
    "reverse = 0\n",
    "reverse = recurrev(num, reverse)\n",
    "\n",
    "print(str(num) + \" is: \", end=\"\")\n",
    "print(\"Palindrome\") if reverse == num else print(\"Not Palindrome\")\n"
   ]
  },
  {
   "cell_type": "code",
   "execution_count": null,
   "id": "76882ab1",
   "metadata": {},
   "outputs": [],
   "source": []
  },
  {
   "cell_type": "code",
   "execution_count": null,
   "id": "b105c347",
   "metadata": {},
   "outputs": [],
   "source": []
  },
  {
   "cell_type": "markdown",
   "id": "4c821170",
   "metadata": {},
   "source": [
    "## 5. Python Program to Reverse a Number"
   ]
  },
  {
   "cell_type": "code",
   "execution_count": 14,
   "id": "2b3e3f4d",
   "metadata": {},
   "outputs": [],
   "source": [
    "#Using While Loop\n",
    "\n",
    "def rev_num(num):\n",
    "    \n",
    "    temp=num\n",
    "    rev_number=0\n",
    "    digit=0\n",
    "    while temp>0:\n",
    "        digit=temp%10\n",
    "        rev_number=rev_number*10+digit\n",
    "        temp//=10\n",
    "        \n",
    "    print(rev_number)\n",
    "        "
   ]
  },
  {
   "cell_type": "code",
   "execution_count": 15,
   "id": "d1d1294a",
   "metadata": {},
   "outputs": [
    {
     "name": "stdout",
     "output_type": "stream",
     "text": [
      "189\n",
      "321\n"
     ]
    }
   ],
   "source": [
    "rev_num(981)\n",
    "rev_num(123)"
   ]
  },
  {
   "cell_type": "code",
   "execution_count": null,
   "id": "4a22ee5c",
   "metadata": {},
   "outputs": [],
   "source": []
  },
  {
   "cell_type": "code",
   "execution_count": 13,
   "id": "a655e6ba",
   "metadata": {},
   "outputs": [
    {
     "name": "stdout",
     "output_type": "stream",
     "text": [
      "Enter the number: 1351\n",
      "Reverse of entered number is = 1531\n"
     ]
    }
   ],
   "source": [
    "# Using Recursion\n",
    "\n",
    "num = int(input(\"Enter the number: \"))  \n",
    "rev_number=0\n",
    "def recur_rev(num):\n",
    "    \n",
    "    global rev_number\n",
    "    if num>0:\n",
    "        digit=num%10\n",
    "        rev_number=rev_number*10+digit\n",
    "        recur_rev(num//10)\n",
    "    return rev_number\n",
    "\n",
    "x = recur_rev(num)  \n",
    "print(\"Reverse of entered number is = %d\" % x)  "
   ]
  },
  {
   "cell_type": "code",
   "execution_count": null,
   "id": "f9a306e1",
   "metadata": {},
   "outputs": [],
   "source": []
  },
  {
   "cell_type": "code",
   "execution_count": 14,
   "id": "134bef5b",
   "metadata": {},
   "outputs": [
    {
     "name": "stdout",
     "output_type": "stream",
     "text": [
      "4321\n"
     ]
    }
   ],
   "source": [
    "#Other Recursion\n",
    "\n",
    "def recursum(number,reverse):\n",
    "    if number==0:\n",
    "        return reverse\n",
    "    remainder = int(number%10)\n",
    "    reverse = (reverse*10)+remainder\n",
    "    return recursum(int(number/10),reverse)\n",
    "\n",
    "num = 1234\n",
    "reverse = 0\n",
    "print(recursum(num,reverse))"
   ]
  },
  {
   "cell_type": "code",
   "execution_count": null,
   "id": "83d68fbe",
   "metadata": {},
   "outputs": [],
   "source": []
  },
  {
   "cell_type": "code",
   "execution_count": null,
   "id": "38ad162d",
   "metadata": {},
   "outputs": [],
   "source": []
  },
  {
   "cell_type": "markdown",
   "id": "78abb99a",
   "metadata": {},
   "source": [
    "## 6. Python Program to Print All Integers that Aren’t Divisible by Either 2 or 3"
   ]
  },
  {
   "cell_type": "code",
   "execution_count": 22,
   "id": "672b9805",
   "metadata": {},
   "outputs": [],
   "source": [
    "def print_int(n):\n",
    "    for i in range(n):\n",
    "        if (i%2!=0) and (i%3!=0):\n",
    "            print(i, end=' ')"
   ]
  },
  {
   "cell_type": "code",
   "execution_count": 23,
   "id": "09dd7f14",
   "metadata": {},
   "outputs": [
    {
     "name": "stdout",
     "output_type": "stream",
     "text": [
      "1 5 7 11 13 17 19 23 25 29 31 35 37 41 43 47 49 "
     ]
    }
   ],
   "source": [
    "print_int(50)"
   ]
  },
  {
   "cell_type": "code",
   "execution_count": 25,
   "id": "5beda715",
   "metadata": {},
   "outputs": [
    {
     "data": {
      "text/plain": [
       "[1, 5, 7, 11, 13, 17, 19, 23, 25, 29, 31, 35, 37, 41, 43, 47, 49]"
      ]
     },
     "execution_count": 25,
     "metadata": {},
     "output_type": "execute_result"
    }
   ],
   "source": [
    "#Using List Comprehension\n",
    "\n",
    "x=[i for i in range(50) if (i%2!=0) and (i%3!=0)]\n",
    "x"
   ]
  },
  {
   "cell_type": "code",
   "execution_count": null,
   "id": "d25dc1dc",
   "metadata": {},
   "outputs": [],
   "source": []
  },
  {
   "cell_type": "markdown",
   "id": "34a50f18",
   "metadata": {},
   "source": [
    "## 7. Python Program to Find Numbers which are Divisible by 7 and Multiple of 5 in a Given Range"
   ]
  },
  {
   "cell_type": "code",
   "execution_count": 29,
   "id": "aef3d34a",
   "metadata": {},
   "outputs": [
    {
     "data": {
      "text/plain": [
       "[420, 455, 490, 525, 560, 595, 630, 665]"
      ]
     },
     "execution_count": 29,
     "metadata": {},
     "output_type": "execute_result"
    }
   ],
   "source": [
    "#Using List Comprehension\n",
    "\n",
    "x=[i for i in range(400,700) if (i%7==0) and (i%5==0)]\n",
    "x"
   ]
  },
  {
   "cell_type": "code",
   "execution_count": null,
   "id": "c4634ac4",
   "metadata": {},
   "outputs": [],
   "source": []
  },
  {
   "cell_type": "code",
   "execution_count": null,
   "id": "2d9c1a7d",
   "metadata": {},
   "outputs": [],
   "source": []
  },
  {
   "cell_type": "markdown",
   "id": "e61eb588",
   "metadata": {},
   "source": [
    "## 8. Python Program to Print All Numbers in a Range Divisible by a Given Number"
   ]
  },
  {
   "cell_type": "code",
   "execution_count": 32,
   "id": "6e05af09",
   "metadata": {},
   "outputs": [],
   "source": [
    "def div_no(lower,upper,num):\n",
    "    x=[i for i in range(lower,upper) if (i%num==0)]\n",
    "    print(x)"
   ]
  },
  {
   "cell_type": "code",
   "execution_count": 33,
   "id": "037e084b",
   "metadata": {},
   "outputs": [
    {
     "name": "stdout",
     "output_type": "stream",
     "text": [
      "[5, 10, 15, 20, 25, 30, 35, 40, 45]\n"
     ]
    }
   ],
   "source": [
    "div_no(1,50,5)"
   ]
  },
  {
   "cell_type": "code",
   "execution_count": null,
   "id": "c66373e7",
   "metadata": {},
   "outputs": [],
   "source": []
  },
  {
   "cell_type": "code",
   "execution_count": null,
   "id": "9847323a",
   "metadata": {},
   "outputs": [],
   "source": []
  },
  {
   "cell_type": "markdown",
   "id": "3da1dd8b",
   "metadata": {},
   "source": [
    "## 9. Sum of Digits Program in Python "
   ]
  },
  {
   "cell_type": "code",
   "execution_count": 34,
   "id": "9a3e420c",
   "metadata": {},
   "outputs": [],
   "source": [
    "def sum_digit(num):\n",
    "    \n",
    "    temp=num\n",
    "    total=0\n",
    "    while temp>0:\n",
    "        remainder=temp%10\n",
    "        total+=remainder\n",
    "        temp//=10\n",
    "        \n",
    "    print('Sum of digits of {} are {}'.format(num,total))"
   ]
  },
  {
   "cell_type": "code",
   "execution_count": 35,
   "id": "7886ce12",
   "metadata": {},
   "outputs": [
    {
     "name": "stdout",
     "output_type": "stream",
     "text": [
      "Sum of digits of 1892 are 20\n",
      "Sum of digits of 157 are 13\n"
     ]
    }
   ],
   "source": [
    "sum_digit(1892)\n",
    "sum_digit(157)"
   ]
  },
  {
   "cell_type": "code",
   "execution_count": null,
   "id": "4e102da0",
   "metadata": {},
   "outputs": [],
   "source": []
  },
  {
   "cell_type": "code",
   "execution_count": 39,
   "id": "d8c15d1a",
   "metadata": {},
   "outputs": [
    {
     "name": "stdout",
     "output_type": "stream",
     "text": [
      "15\n"
     ]
    }
   ],
   "source": [
    "# Using String Character Extraction\n",
    "\n",
    "num = 12345\n",
    "sum = 0\n",
    "for i in str(num):\n",
    "    sum = sum + int(i)\n",
    "\n",
    "print(sum)"
   ]
  },
  {
   "cell_type": "code",
   "execution_count": null,
   "id": "af480cdd",
   "metadata": {},
   "outputs": [],
   "source": []
  },
  {
   "cell_type": "code",
   "execution_count": 1,
   "id": "c3d74804",
   "metadata": {},
   "outputs": [
    {
     "name": "stdout",
     "output_type": "stream",
     "text": [
      "15\n"
     ]
    }
   ],
   "source": [
    "#Using Recursion I\n",
    "\n",
    "def recur_sumdigit(num,total):\n",
    "   \n",
    "    if num==0:\n",
    "        return total\n",
    "    \n",
    "    remainder=int(num%10)\n",
    "    total+=remainder\n",
    "    return recur_sumdigit(num//10,total)\n",
    "\n",
    "total=0\n",
    "num=12345\n",
    "\n",
    "print(recur_sumdigit(num,total))"
   ]
  },
  {
   "cell_type": "code",
   "execution_count": null,
   "id": "6aed0262",
   "metadata": {},
   "outputs": [],
   "source": []
  },
  {
   "cell_type": "code",
   "execution_count": 3,
   "id": "60f45d8c",
   "metadata": {},
   "outputs": [
    {
     "name": "stdout",
     "output_type": "stream",
     "text": [
      "15\n"
     ]
    }
   ],
   "source": [
    "#Using Recursion 2\n",
    "\n",
    "def recur_sumdigit2(num):\n",
    "   \n",
    "    if num==0:\n",
    "        return 0\n",
    "    return int(num%10)+ recur_sumdigit2(num//10)\n",
    "\n",
    "num=12345\n",
    "\n",
    "print(recur_sumdigit2(num))"
   ]
  },
  {
   "cell_type": "code",
   "execution_count": null,
   "id": "5bfb7a4c",
   "metadata": {},
   "outputs": [],
   "source": []
  },
  {
   "cell_type": "code",
   "execution_count": 4,
   "id": "2198019e",
   "metadata": {},
   "outputs": [
    {
     "name": "stdout",
     "output_type": "stream",
     "text": [
      "15\n"
     ]
    }
   ],
   "source": [
    "def sumDigits(no):\n",
    "    return 0 if no == 0 else int(no % 10) + sumDigits(int(no / 10)) \n",
    "   \n",
    "# Driver code\n",
    "n = 12345\n",
    "print(sumDigits(n))"
   ]
  },
  {
   "cell_type": "code",
   "execution_count": null,
   "id": "caaabc4f",
   "metadata": {},
   "outputs": [],
   "source": []
  },
  {
   "cell_type": "markdown",
   "id": "3bc69782",
   "metadata": {},
   "source": [
    "## 10. Sum of Digit of a Number using Recursion in Python"
   ]
  },
  {
   "cell_type": "code",
   "execution_count": 5,
   "id": "2446a0e5",
   "metadata": {},
   "outputs": [
    {
     "name": "stdout",
     "output_type": "stream",
     "text": [
      "16\n"
     ]
    }
   ],
   "source": [
    "#Using Recursion 2\n",
    "\n",
    "def recur_sumdigit2(num):\n",
    "   \n",
    "    if num==0:\n",
    "        return 0\n",
    "    return int(num%10)+ recur_sumdigit2(num//10)\n",
    "\n",
    "num=4561\n",
    "\n",
    "print(recur_sumdigit2(num))"
   ]
  },
  {
   "cell_type": "code",
   "execution_count": null,
   "id": "9d9f79f5",
   "metadata": {},
   "outputs": [],
   "source": []
  },
  {
   "cell_type": "code",
   "execution_count": null,
   "id": "13773c21",
   "metadata": {},
   "outputs": [],
   "source": []
  },
  {
   "cell_type": "markdown",
   "id": "3bcb51a2",
   "metadata": {},
   "source": [
    "## 11. Python Program to Count the Number of Digits in a Number"
   ]
  },
  {
   "cell_type": "code",
   "execution_count": 11,
   "id": "71711772",
   "metadata": {},
   "outputs": [],
   "source": [
    "# Iterative Approach\n",
    "\n",
    "def count_digit(num):\n",
    "    \n",
    "    n=num\n",
    "    cnt=0\n",
    "    while (n!=0):\n",
    "        rem=n%10\n",
    "        cnt+=1\n",
    "        n//=10\n",
    "    print('Count of digit in {} is {}'.format(num,cnt))\n",
    "        "
   ]
  },
  {
   "cell_type": "code",
   "execution_count": 12,
   "id": "9bdabf1d",
   "metadata": {},
   "outputs": [
    {
     "name": "stdout",
     "output_type": "stream",
     "text": [
      "Count of digit in 156 is 3\n",
      "Count of digit in 1 is 1\n",
      "Count of digit in 158101 is 6\n"
     ]
    }
   ],
   "source": [
    "count_digit(156)\n",
    "count_digit(1)\n",
    "count_digit(158101)"
   ]
  },
  {
   "cell_type": "code",
   "execution_count": null,
   "id": "a58cf646",
   "metadata": {},
   "outputs": [],
   "source": []
  },
  {
   "cell_type": "code",
   "execution_count": 13,
   "id": "f3bc16c1",
   "metadata": {},
   "outputs": [],
   "source": [
    "# Recursive Approach\n",
    "\n",
    "def recur_count_digit(num):\n",
    "    if num==0:\n",
    "        return 0\n",
    "    return 1 + recur_count_digit(num//10)\n",
    "    \n",
    "        "
   ]
  },
  {
   "cell_type": "code",
   "execution_count": 14,
   "id": "5b540fa4",
   "metadata": {},
   "outputs": [
    {
     "data": {
      "text/plain": [
       "5"
      ]
     },
     "execution_count": 14,
     "metadata": {},
     "output_type": "execute_result"
    }
   ],
   "source": [
    "recur_count_digit(15731)"
   ]
  },
  {
   "cell_type": "code",
   "execution_count": 16,
   "id": "656c2ebc",
   "metadata": {},
   "outputs": [
    {
     "data": {
      "text/plain": [
       "1"
      ]
     },
     "execution_count": 16,
     "metadata": {},
     "output_type": "execute_result"
    }
   ],
   "source": [
    "recur_count_digit(4)"
   ]
  },
  {
   "cell_type": "code",
   "execution_count": null,
   "id": "eeb467a3",
   "metadata": {},
   "outputs": [],
   "source": []
  },
  {
   "cell_type": "code",
   "execution_count": 22,
   "id": "d4037eb3",
   "metadata": {},
   "outputs": [
    {
     "name": "stdout",
     "output_type": "stream",
     "text": [
      "5\n"
     ]
    }
   ],
   "source": [
    "#Using List Comprehension by converting the number into a string\n",
    "\n",
    "num=12561\n",
    "x=len([i for i in str(num)])\n",
    "print(x)"
   ]
  },
  {
   "cell_type": "code",
   "execution_count": null,
   "id": "93a728b9",
   "metadata": {},
   "outputs": [],
   "source": []
  },
  {
   "cell_type": "code",
   "execution_count": null,
   "id": "8ee4c30d",
   "metadata": {},
   "outputs": [],
   "source": []
  },
  {
   "cell_type": "markdown",
   "id": "57aba06c",
   "metadata": {},
   "source": [
    "## 12. Python Program to Find All the Divisors of an Integer"
   ]
  },
  {
   "cell_type": "markdown",
   "id": "b340117d",
   "metadata": {},
   "source": [
    "Case 2:\n",
    "Enter an integer:20\n",
    "The divisors of the number are:\n",
    "1\n",
    "2\n",
    "4\n",
    "5\n",
    "10\n",
    "20"
   ]
  },
  {
   "cell_type": "code",
   "execution_count": 27,
   "id": "674d560f",
   "metadata": {},
   "outputs": [],
   "source": [
    "#Using Loop \n",
    "\n",
    "def all_div(n):\n",
    "    for i in range(1,n+1):\n",
    "        if(n%i==0):\n",
    "            print(i,end=' ')"
   ]
  },
  {
   "cell_type": "code",
   "execution_count": 28,
   "id": "8ed05cd6",
   "metadata": {},
   "outputs": [
    {
     "name": "stdout",
     "output_type": "stream",
     "text": [
      "1 2 4 5 10 20 "
     ]
    }
   ],
   "source": [
    "all_div(20)"
   ]
  },
  {
   "cell_type": "code",
   "execution_count": 30,
   "id": "38495434",
   "metadata": {},
   "outputs": [
    {
     "name": "stdout",
     "output_type": "stream",
     "text": [
      "[1, 2, 3, 6, 9, 13, 18, 26, 39, 78, 117, 234]\n"
     ]
    }
   ],
   "source": [
    "#Using List Comprehension\n",
    "\n",
    "n=234\n",
    "x=[i for i in range(1,n+1) if(n%i==0)]\n",
    "print(x)"
   ]
  },
  {
   "cell_type": "code",
   "execution_count": null,
   "id": "8afd6948",
   "metadata": {},
   "outputs": [],
   "source": []
  },
  {
   "cell_type": "markdown",
   "id": "c31ae47c",
   "metadata": {},
   "source": [
    "## 13. Python Program to Find the Smallest Divisor of an Integer"
   ]
  },
  {
   "cell_type": "code",
   "execution_count": 34,
   "id": "34abac26",
   "metadata": {},
   "outputs": [],
   "source": [
    "#Using Loop and break\n",
    "\n",
    "def smallest_div(n):\n",
    "    for i in range(2,n+1):\n",
    "        if(n%i==0):\n",
    "            print(\"Smallest Divisor of {} is {}\".format(n,i))\n",
    "            break"
   ]
  },
  {
   "cell_type": "code",
   "execution_count": 37,
   "id": "e9406840",
   "metadata": {},
   "outputs": [
    {
     "name": "stdout",
     "output_type": "stream",
     "text": [
      "Smallest Divisor of 75 is 3\n",
      "Smallest Divisor of 31 is 31\n"
     ]
    }
   ],
   "source": [
    "smallest_div(75)\n",
    "smallest_div(31)"
   ]
  },
  {
   "cell_type": "code",
   "execution_count": null,
   "id": "a9483e08",
   "metadata": {},
   "outputs": [],
   "source": []
  },
  {
   "cell_type": "code",
   "execution_count": 43,
   "id": "82e91cb8",
   "metadata": {},
   "outputs": [
    {
     "name": "stdout",
     "output_type": "stream",
     "text": [
      "The smallest divisor is : \n",
      "3\n"
     ]
    }
   ],
   "source": [
    "#Using sort func\n",
    "\n",
    "first_num = 51\n",
    "my_list = []\n",
    "\n",
    "for i in range(2,first_num+1):\n",
    "    if(first_num%i==0):\n",
    "        my_list.append(i)\n",
    "my_list.sort()\n",
    "\n",
    "print(\"The smallest divisor is : \")\n",
    "print(my_list[0])"
   ]
  },
  {
   "cell_type": "code",
   "execution_count": null,
   "id": "011c30e1",
   "metadata": {},
   "outputs": [],
   "source": []
  },
  {
   "cell_type": "code",
   "execution_count": 41,
   "id": "4c45852f",
   "metadata": {},
   "outputs": [],
   "source": [
    "def smallest_divisor(n):\n",
    "    \"\"\"Find the smallest divisor of n.\"\"\"\n",
    "    # Check if n is divisible by 2\n",
    "    if n % 2 == 0:\n",
    "        return 2\n",
    "    \n",
    "    # Check if n is divisible by odd numbers from 3 to n/2\n",
    "    for i in range(3, n//2+1, 2):\n",
    "        if n % i == 0:\n",
    "            return i\n",
    "    \n",
    "    # If no divisor found, n is prime\n",
    "    return n"
   ]
  },
  {
   "cell_type": "code",
   "execution_count": 42,
   "id": "fe8c400c",
   "metadata": {},
   "outputs": [
    {
     "data": {
      "text/plain": [
       "5"
      ]
     },
     "execution_count": 42,
     "metadata": {},
     "output_type": "execute_result"
    }
   ],
   "source": [
    "smallest_divisor(25)"
   ]
  },
  {
   "cell_type": "code",
   "execution_count": null,
   "id": "1367cedd",
   "metadata": {},
   "outputs": [],
   "source": []
  },
  {
   "cell_type": "code",
   "execution_count": null,
   "id": "d9c76695",
   "metadata": {},
   "outputs": [],
   "source": []
  },
  {
   "cell_type": "markdown",
   "id": "5e276d32",
   "metadata": {},
   "source": [
    "## 14. Python Program to Print Binary Equivalent of a Number without Using Recursion\n"
   ]
  },
  {
   "cell_type": "markdown",
   "id": "d54c4838",
   "metadata": {},
   "source": [
    "Input :10\n",
    "Output :1010"
   ]
  },
  {
   "cell_type": "code",
   "execution_count": 56,
   "id": "08df25e5",
   "metadata": {},
   "outputs": [],
   "source": [
    "# Recursive Function to convert Decimal to Binary\n",
    "\n",
    "def decToBin(n):\n",
    "    if n>0:\n",
    "        decToBin(n//2)\n",
    "        print(n%2,end='')"
   ]
  },
  {
   "cell_type": "code",
   "execution_count": 57,
   "id": "00b35c52",
   "metadata": {},
   "outputs": [
    {
     "name": "stdout",
     "output_type": "stream",
     "text": [
      "1010"
     ]
    }
   ],
   "source": [
    "decToBin(10)"
   ]
  },
  {
   "cell_type": "code",
   "execution_count": 53,
   "id": "ed0c8ece",
   "metadata": {},
   "outputs": [
    {
     "name": "stdout",
     "output_type": "stream",
     "text": [
      "1 10 11 100 101 "
     ]
    }
   ],
   "source": [
    "#Printing Binary Values from 1 to 5\n",
    "N=5\n",
    "for i in range(1, N+1):\n",
    "    decToBin(i)\n",
    "    print(end=\" \")"
   ]
  },
  {
   "cell_type": "code",
   "execution_count": null,
   "id": "f9e465e2",
   "metadata": {},
   "outputs": [],
   "source": []
  },
  {
   "cell_type": "markdown",
   "id": "3f9407a5",
   "metadata": {},
   "source": [
    "## 15. Python Program to Print Binary Equivalent of a Number without Using Recursion\n"
   ]
  },
  {
   "cell_type": "code",
   "execution_count": 63,
   "id": "a7c47db5",
   "metadata": {},
   "outputs": [],
   "source": [
    "def decimal_to_binary(n):\n",
    "    \n",
    "    if n==0:\n",
    "        return 0\n",
    "    \n",
    "    binary=\"\"\n",
    "    while n>0:\n",
    "        rem=n%2\n",
    "        binary=str(rem)+binary\n",
    "        n//=2\n",
    "    \n",
    "    return int(binary)\n",
    "        "
   ]
  },
  {
   "cell_type": "code",
   "execution_count": 64,
   "id": "4bf57408",
   "metadata": {},
   "outputs": [
    {
     "data": {
      "text/plain": [
       "1010"
      ]
     },
     "execution_count": 64,
     "metadata": {},
     "output_type": "execute_result"
    }
   ],
   "source": [
    "decimal_to_binary(10)"
   ]
  },
  {
   "cell_type": "code",
   "execution_count": null,
   "id": "f50c19a1",
   "metadata": {},
   "outputs": [],
   "source": []
  },
  {
   "cell_type": "code",
   "execution_count": 75,
   "id": "c4edd5d7",
   "metadata": {},
   "outputs": [],
   "source": [
    "def decimal_to_binary(n):\n",
    "    \n",
    "    # Handle base case of 0\n",
    "    if n == 0:\n",
    "        return 0\n",
    "    \n",
    "    binary_list = []\n",
    "    \n",
    "    # Convert to binary digits\n",
    "    while n > 0:\n",
    "        rem = n % 2\n",
    "        binary_list.insert(0, rem)\n",
    "        n //= 2\n",
    "    \n",
    "    binary_str = \"\".join(str(bit) for bit in binary_list)\n",
    "    \n",
    "    return int(binary_str)\n"
   ]
  },
  {
   "cell_type": "code",
   "execution_count": 76,
   "id": "94272b9b",
   "metadata": {},
   "outputs": [
    {
     "name": "stdout",
     "output_type": "stream",
     "text": [
      "Binary equivalent of 12 is 1100\n"
     ]
    }
   ],
   "source": [
    "# Example usage\n",
    "n = 12\n",
    "print(\"Binary equivalent of\", n, \"is\", decimal_to_binary(n)) \n"
   ]
  },
  {
   "cell_type": "code",
   "execution_count": null,
   "id": "98ca25ca",
   "metadata": {},
   "outputs": [],
   "source": []
  },
  {
   "cell_type": "code",
   "execution_count": null,
   "id": "ecc8eda8",
   "metadata": {},
   "outputs": [],
   "source": []
  },
  {
   "cell_type": "markdown",
   "id": "856124c2",
   "metadata": {},
   "source": [
    "## 16. Python Program to Print Table of a Given Number"
   ]
  },
  {
   "cell_type": "code",
   "execution_count": 66,
   "id": "1fef9885",
   "metadata": {},
   "outputs": [
    {
     "name": "stdout",
     "output_type": "stream",
     "text": [
      "17 * 1 = 17\n",
      "17 * 2 = 34\n",
      "17 * 3 = 51\n",
      "17 * 4 = 68\n",
      "17 * 5 = 85\n",
      "17 * 6 = 102\n",
      "17 * 7 = 119\n",
      "17 * 8 = 136\n",
      "17 * 9 = 153\n",
      "17 * 10 = 170\n"
     ]
    }
   ],
   "source": [
    "num=17\n",
    "for i in range(1,11):\n",
    "    print('{} * {} = {}'.format(num,i,num*i))"
   ]
  },
  {
   "cell_type": "code",
   "execution_count": null,
   "id": "42a0f3e8",
   "metadata": {},
   "outputs": [],
   "source": []
  },
  {
   "cell_type": "markdown",
   "id": "94fddf04",
   "metadata": {},
   "source": [
    "## 17. Python Program to Calculate Grade of a Student"
   ]
  },
  {
   "cell_type": "code",
   "execution_count": 10,
   "id": "e2609b1d",
   "metadata": {},
   "outputs": [],
   "source": [
    "def calc_grade(a1,a2,a3,a4,a5):\n",
    "    avg=(a1+a2+a3+a4+a5)/5\n",
    "    \n",
    "    if avg>90:\n",
    "        print(\"Grade is A\")\n",
    "    elif avg>75 and avg<90:\n",
    "        print(\"Grade is B\")\n",
    "    elif avg>60 and avg<75:\n",
    "        print(\"Grade is C\")\n",
    "    elif avg>45 and avg<60:\n",
    "        print(\"Grade is D\")\n",
    "    else:\n",
    "        print(\"Grade is E\")"
   ]
  },
  {
   "cell_type": "code",
   "execution_count": 11,
   "id": "2b2aae0e",
   "metadata": {},
   "outputs": [
    {
     "name": "stdout",
     "output_type": "stream",
     "text": [
      "Grade is B\n"
     ]
    }
   ],
   "source": [
    "calc_grade(78,71,85,76,85)"
   ]
  },
  {
   "cell_type": "code",
   "execution_count": null,
   "id": "3785c81e",
   "metadata": {},
   "outputs": [],
   "source": []
  },
  {
   "cell_type": "markdown",
   "id": "96fc01bd",
   "metadata": {},
   "source": [
    "## 18. Python Program to Check if a Date is Valid and Print the Incremented Date if it is"
   ]
  },
  {
   "cell_type": "code",
   "execution_count": 5,
   "id": "8e9812d2",
   "metadata": {},
   "outputs": [],
   "source": [
    "#Using If condition\n",
    "\n",
    "def check_date():\n",
    "    my_date = input(\"Enter a date : \")\n",
    "    dd,mm,yy = my_date.split('/')\n",
    "    dd=int(dd)\n",
    "    mm=int(mm)\n",
    "    yy=int(yy)\n",
    "\n",
    "    if mm in [1,3,5,7,8,10,12]:\n",
    "        max_val=31\n",
    "    elif mm in [4,6,9,11]:\n",
    "        max_val=30\n",
    "    elif(yy%4==0 and yy%100!=0 or yy%400==0):\n",
    "        max_val=29\n",
    "    else:\n",
    "        max_val=28\n",
    "\n",
    "    if (mm<1 or mm>12 or dd<1 or dd>max_val):\n",
    "        print(\"Invalid Date!\")\n",
    "    elif(dd==max_val and mm!=12):\n",
    "        dd+=1\n",
    "        mm+=1\n",
    "        print(\"Incremented Date: {}/{}/{} \".format(dd,mm,yy))\n",
    "    elif(dd==31 and mm==12):\n",
    "        dd=1\n",
    "        mm=1\n",
    "        yy+=1\n",
    "        print(\"Incremented Date: {}/{}/{} \".format(dd,mm,yy))\n",
    "    else:\n",
    "        dd+=1\n",
    "        print(\"Incremented Date: {}/{}/{} \".format(dd,mm,yy))\n",
    "    "
   ]
  },
  {
   "cell_type": "code",
   "execution_count": 6,
   "id": "a2f5eab1",
   "metadata": {},
   "outputs": [
    {
     "name": "stdout",
     "output_type": "stream",
     "text": [
      "Enter a date : 25/09/2022\n",
      "Incremented Date: 26/9/2022 \n"
     ]
    }
   ],
   "source": [
    "check_date()"
   ]
  },
  {
   "cell_type": "code",
   "execution_count": null,
   "id": "5dc080cc",
   "metadata": {},
   "outputs": [],
   "source": []
  },
  {
   "cell_type": "code",
   "execution_count": null,
   "id": "6cfc843d",
   "metadata": {},
   "outputs": [],
   "source": []
  },
  {
   "cell_type": "code",
   "execution_count": 9,
   "id": "40c3e85a",
   "metadata": {},
   "outputs": [
    {
     "name": "stdout",
     "output_type": "stream",
     "text": [
      "Enter date in yyyy-mm-dd format:  2021-10-16\n",
      "Incremented date is: 2021-10-17\n"
     ]
    }
   ],
   "source": [
    "#Python Program to Check if a Date is Valid and Print the Incremented Date if it is   \n",
    "import datetime\n",
    "class Date:\n",
    "\n",
    "    def __init__(self):\n",
    "        pass\n",
    "#method for checking date\n",
    "    def date_cheker(self,date):\n",
    "        year,month,day=date.split('-')\n",
    "        day=int(day)\n",
    "        month=int(month)\n",
    "        year=int(year)\n",
    "#Exception handling\n",
    "        try:\n",
    "            datetime.datetime(year,month,day)\n",
    "            print(\"Incremented date is:\",datetime.date(year,month,day) + datetime.timedelta(days=1))\n",
    "        except ValueError:\n",
    "            print(\"Date Invalid\")\n",
    "\n",
    "#creating a object\n",
    "d1=Date()\n",
    "date=input(\"Enter date in yyyy-mm-dd format:  \")\n",
    "d1.date_cheker(date)"
   ]
  },
  {
   "cell_type": "code",
   "execution_count": null,
   "id": "2780ce4c",
   "metadata": {},
   "outputs": [],
   "source": []
  },
  {
   "cell_type": "code",
   "execution_count": null,
   "id": "8908c9f7",
   "metadata": {},
   "outputs": [],
   "source": []
  },
  {
   "cell_type": "markdown",
   "id": "5b3a0adf",
   "metadata": {},
   "source": [
    "## 19. Python Program to Check Whether a given Year is a Leap Year"
   ]
  },
  {
   "cell_type": "code",
   "execution_count": 24,
   "id": "a3814b80",
   "metadata": {},
   "outputs": [],
   "source": [
    "def chk_leap(yy):\n",
    "    yy=int(yy)\n",
    "    \n",
    "    if (yy%4==0 and yy%100!=0) or (yy%400 == 0):\n",
    "        print(\"Leap Year it is:\", yy)\n",
    "    else:\n",
    "        print(yy,\": It is not a Leap Year\")"
   ]
  },
  {
   "cell_type": "code",
   "execution_count": 25,
   "id": "2f1e6b71",
   "metadata": {},
   "outputs": [
    {
     "name": "stdout",
     "output_type": "stream",
     "text": [
      "Leap Year it is: 2016\n",
      "2021 : It is not a Leap Year\n"
     ]
    }
   ],
   "source": [
    "chk_leap(2016)\n",
    "chk_leap(2021)"
   ]
  },
  {
   "cell_type": "code",
   "execution_count": null,
   "id": "2b2b851d",
   "metadata": {},
   "outputs": [],
   "source": []
  },
  {
   "cell_type": "markdown",
   "id": "8e155724",
   "metadata": {},
   "source": [
    "## 20. Python Program to Convert Centimeters to Feet and Inches"
   ]
  },
  {
   "cell_type": "code",
   "execution_count": 3,
   "id": "a8f4a3bf",
   "metadata": {},
   "outputs": [],
   "source": [
    "\n",
    "def convert_cm_ft_inches(given_cm):\n",
    "    \n",
    "    total_inches= given_cm / 2.54 \n",
    "    total_feet= total_inches // 12 \n",
    "    rem_inches = total_inches - (12*total_feet)\n",
    "\n",
    "    print(total_feet,'ft &',round(rem_inches,2),'inches')\n",
    "\n"
   ]
  },
  {
   "cell_type": "code",
   "execution_count": 6,
   "id": "bfb6caec",
   "metadata": {},
   "outputs": [
    {
     "name": "stdout",
     "output_type": "stream",
     "text": [
      "4.0 ft & 11.06 inches\n",
      "5.0 ft & 10.08 inches\n"
     ]
    }
   ],
   "source": [
    "convert_cm_ft_inches(150)\n",
    "convert_cm_ft_inches(178)"
   ]
  },
  {
   "cell_type": "code",
   "execution_count": null,
   "id": "01e7e306",
   "metadata": {},
   "outputs": [],
   "source": []
  },
  {
   "cell_type": "code",
   "execution_count": 8,
   "id": "2f1ceba9",
   "metadata": {},
   "outputs": [
    {
     "name": "stdout",
     "output_type": "stream",
     "text": [
      "Inches is: 70.08\n",
      "Feet is: 5.84\n"
     ]
    }
   ],
   "source": [
    "def Conversion(centi):\n",
    "    inch = 0.3937 * centi\n",
    "    feet = 0.0328 * centi\n",
    "    print (\"Inches is:\", round(inch, 2))\n",
    "    print (\"Feet is:\", round(feet, 2))\n",
    "\n",
    "#Driver Code\n",
    "centi = 178\n",
    "Conversion(centi)"
   ]
  },
  {
   "cell_type": "code",
   "execution_count": null,
   "id": "9029f94c",
   "metadata": {},
   "outputs": [],
   "source": []
  },
  {
   "cell_type": "code",
   "execution_count": null,
   "id": "58aca22f",
   "metadata": {},
   "outputs": [],
   "source": []
  },
  {
   "cell_type": "markdown",
   "id": "ade45c3d",
   "metadata": {},
   "source": [
    "## 21. Python Program to Read a Number n and Compute n+nn+nnn"
   ]
  },
  {
   "cell_type": "markdown",
   "id": "6fd758cd",
   "metadata": {},
   "source": [
    "Case 1:\n",
    "Enter a number n: 5\n",
    "The value is: 615"
   ]
  },
  {
   "cell_type": "code",
   "execution_count": 82,
   "id": "d89b798f",
   "metadata": {},
   "outputs": [],
   "source": [
    "def readnum(n):\n",
    "    \n",
    "    temp=str(n)\n",
    "    t1=temp+temp\n",
    "    t2=temp+temp+temp\n",
    "    tot=n+int(t1)+int(t2)\n",
    "    \n",
    "    print(\"Total is\",tot)\n",
    "        "
   ]
  },
  {
   "cell_type": "code",
   "execution_count": 83,
   "id": "644a150e",
   "metadata": {},
   "outputs": [
    {
     "name": "stdout",
     "output_type": "stream",
     "text": [
      "Total is 615\n"
     ]
    }
   ],
   "source": [
    "readnum(5)"
   ]
  },
  {
   "cell_type": "code",
   "execution_count": 84,
   "id": "54069c46",
   "metadata": {},
   "outputs": [
    {
     "name": "stdout",
     "output_type": "stream",
     "text": [
      "Total is 204060\n"
     ]
    }
   ],
   "source": [
    "readnum(20)"
   ]
  },
  {
   "cell_type": "code",
   "execution_count": null,
   "id": "ac34ce52",
   "metadata": {},
   "outputs": [],
   "source": []
  },
  {
   "cell_type": "code",
   "execution_count": null,
   "id": "2593faf0",
   "metadata": {},
   "outputs": [],
   "source": []
  },
  {
   "cell_type": "code",
   "execution_count": 85,
   "id": "2a90303e",
   "metadata": {},
   "outputs": [
    {
     "name": "stdout",
     "output_type": "stream",
     "text": [
      "615\n"
     ]
    }
   ],
   "source": [
    "def Series(n, m):\n",
    "  \n",
    "    # Converting the number to string\n",
    "    str_n = str(n)\n",
    "  \n",
    "    # Initializing result as number and string\n",
    "    sums = n\n",
    "    sum_str = str(n)\n",
    "  \n",
    "    # Adding remaining terms\n",
    "    for i in range(1, m):\n",
    "         \n",
    "        # Concatenating the string making n, nn, nnn...\n",
    "        sum_str = sum_str + str_n\n",
    "          \n",
    "        # Before adding converting back to integer\n",
    "        sums = sums + int(sum_str)\n",
    "  \n",
    "    return sums\n",
    "  \n",
    "# Driver Code\n",
    "n = 5\n",
    "m = 3\n",
    "total = Series(n, m)\n",
    "print(total)"
   ]
  },
  {
   "cell_type": "code",
   "execution_count": null,
   "id": "40620799",
   "metadata": {},
   "outputs": [],
   "source": []
  },
  {
   "cell_type": "code",
   "execution_count": null,
   "id": "62730fe2",
   "metadata": {},
   "outputs": [],
   "source": []
  }
 ],
 "metadata": {
  "kernelspec": {
   "display_name": "Python 3 (ipykernel)",
   "language": "python",
   "name": "python3"
  },
  "language_info": {
   "codemirror_mode": {
    "name": "ipython",
    "version": 3
   },
   "file_extension": ".py",
   "mimetype": "text/x-python",
   "name": "python",
   "nbconvert_exporter": "python",
   "pygments_lexer": "ipython3",
   "version": "3.9.12"
  }
 },
 "nbformat": 4,
 "nbformat_minor": 5
}
