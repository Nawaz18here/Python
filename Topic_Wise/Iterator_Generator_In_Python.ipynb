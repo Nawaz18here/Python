{
 "cells": [
  {
   "cell_type": "markdown",
   "id": "587b5c8e",
   "metadata": {},
   "source": [
    "# ITERATOR"
   ]
  },
  {
   "cell_type": "code",
   "execution_count": null,
   "id": "e119cd25",
   "metadata": {},
   "outputs": [],
   "source": [
    "#Iterator Example"
   ]
  },
  {
   "cell_type": "code",
   "execution_count": 1,
   "id": "48b1465a",
   "metadata": {},
   "outputs": [],
   "source": [
    "list1 = [1,2,'Nttman',True]\n",
    "l_iter = iter(list1)"
   ]
  },
  {
   "cell_type": "code",
   "execution_count": 2,
   "id": "39c833be",
   "metadata": {},
   "outputs": [
    {
     "name": "stdout",
     "output_type": "stream",
     "text": [
      "1\n",
      "2\n",
      "Nttman\n",
      "True\n"
     ]
    }
   ],
   "source": [
    "print(next(l_iter))\n",
    "print(next(l_iter))\n",
    "print(next(l_iter))\n",
    "print(next(l_iter))"
   ]
  },
  {
   "cell_type": "code",
   "execution_count": 3,
   "id": "fb5687cf",
   "metadata": {},
   "outputs": [
    {
     "ename": "StopIteration",
     "evalue": "",
     "output_type": "error",
     "traceback": [
      "\u001b[1;31m---------------------------------------------------------------------------\u001b[0m",
      "\u001b[1;31mStopIteration\u001b[0m                             Traceback (most recent call last)",
      "Input \u001b[1;32mIn [3]\u001b[0m, in \u001b[0;36m<cell line: 1>\u001b[1;34m()\u001b[0m\n\u001b[1;32m----> 1\u001b[0m \u001b[38;5;28mprint\u001b[39m(\u001b[38;5;28;43mnext\u001b[39;49m\u001b[43m(\u001b[49m\u001b[43ml_iter\u001b[49m\u001b[43m)\u001b[49m)\n",
      "\u001b[1;31mStopIteration\u001b[0m: "
     ]
    }
   ],
   "source": [
    "print(next(l_iter))"
   ]
  },
  {
   "cell_type": "code",
   "execution_count": null,
   "id": "e12bb94a",
   "metadata": {},
   "outputs": [],
   "source": []
  },
  {
   "cell_type": "code",
   "execution_count": 4,
   "id": "e74dd312",
   "metadata": {},
   "outputs": [
    {
     "ename": "TypeError",
     "evalue": "'list' object is not an iterator",
     "output_type": "error",
     "traceback": [
      "\u001b[1;31m---------------------------------------------------------------------------\u001b[0m",
      "\u001b[1;31mTypeError\u001b[0m                                 Traceback (most recent call last)",
      "Input \u001b[1;32mIn [4]\u001b[0m, in \u001b[0;36m<cell line: 2>\u001b[1;34m()\u001b[0m\n\u001b[0;32m      1\u001b[0m l\u001b[38;5;241m=\u001b[39m[\u001b[38;5;241m1\u001b[39m,\u001b[38;5;241m2\u001b[39m,\u001b[38;5;241m3\u001b[39m,\u001b[38;5;28;01mTrue\u001b[39;00m,\u001b[38;5;124m'\u001b[39m\u001b[38;5;124mhello\u001b[39m\u001b[38;5;124m'\u001b[39m]\n\u001b[1;32m----> 2\u001b[0m \u001b[38;5;28mprint\u001b[39m(\u001b[38;5;28;43mnext\u001b[39;49m\u001b[43m(\u001b[49m\u001b[43ml\u001b[49m\u001b[43m)\u001b[49m)\n",
      "\u001b[1;31mTypeError\u001b[0m: 'list' object is not an iterator"
     ]
    }
   ],
   "source": [
    "l=[1,2,3,True,'hello']\n",
    "print(next(l))"
   ]
  },
  {
   "cell_type": "code",
   "execution_count": null,
   "id": "156cd9cc",
   "metadata": {},
   "outputs": [],
   "source": []
  },
  {
   "cell_type": "markdown",
   "id": "0e6bb0a1",
   "metadata": {},
   "source": [
    "# GENERATOR"
   ]
  },
  {
   "cell_type": "code",
   "execution_count": null,
   "id": "afd96068",
   "metadata": {},
   "outputs": [],
   "source": []
  },
  {
   "cell_type": "code",
   "execution_count": 10,
   "id": "4831627c",
   "metadata": {},
   "outputs": [],
   "source": [
    "def generator1():\n",
    "    print(\"hello here\")\n",
    "    yield 5\n",
    "    \n",
    "    print(\"Ok now\")\n",
    "    yield 7\n",
    "    \n",
    "    print(\"Bye going\")\n",
    "    yield 2\n"
   ]
  },
  {
   "cell_type": "code",
   "execution_count": 11,
   "id": "46f065a5",
   "metadata": {},
   "outputs": [
    {
     "name": "stdout",
     "output_type": "stream",
     "text": [
      "<generator object generator1 at 0x000002003EB15BA0>\n"
     ]
    }
   ],
   "source": [
    "generator_val= generator1()\n",
    "print(generator_val)"
   ]
  },
  {
   "cell_type": "code",
   "execution_count": 12,
   "id": "db6686b3",
   "metadata": {},
   "outputs": [
    {
     "name": "stdout",
     "output_type": "stream",
     "text": [
      "hello here\n",
      "5\n",
      "Ok now\n",
      "7\n",
      "Bye going\n",
      "2\n"
     ]
    }
   ],
   "source": [
    "print(next(generator_val))\n",
    "print(next(generator_val))\n",
    "print(next(generator_val))"
   ]
  },
  {
   "cell_type": "code",
   "execution_count": 13,
   "id": "7aae0830",
   "metadata": {},
   "outputs": [
    {
     "ename": "StopIteration",
     "evalue": "",
     "output_type": "error",
     "traceback": [
      "\u001b[1;31m---------------------------------------------------------------------------\u001b[0m",
      "\u001b[1;31mStopIteration\u001b[0m                             Traceback (most recent call last)",
      "Input \u001b[1;32mIn [13]\u001b[0m, in \u001b[0;36m<cell line: 1>\u001b[1;34m()\u001b[0m\n\u001b[1;32m----> 1\u001b[0m \u001b[38;5;28mprint\u001b[39m(\u001b[38;5;28;43mnext\u001b[39;49m\u001b[43m(\u001b[49m\u001b[43mgenerator_val\u001b[49m\u001b[43m)\u001b[49m)\n",
      "\u001b[1;31mStopIteration\u001b[0m: "
     ]
    }
   ],
   "source": [
    "print(next(generator_val))"
   ]
  },
  {
   "cell_type": "code",
   "execution_count": null,
   "id": "7e758b56",
   "metadata": {},
   "outputs": [],
   "source": []
  },
  {
   "cell_type": "code",
   "execution_count": 16,
   "id": "e401a65d",
   "metadata": {},
   "outputs": [],
   "source": [
    "def generator2():\n",
    "    print(\"hello here\")\n",
    "    yield 5\n",
    "    \n",
    "    return\n",
    "    \n",
    "    print(\"Ok now\")\n",
    "    yield 7\n",
    "    \n",
    "    print(\"Bye going\")\n",
    "    yield 2\n"
   ]
  },
  {
   "cell_type": "code",
   "execution_count": 17,
   "id": "40a79149",
   "metadata": {},
   "outputs": [
    {
     "name": "stdout",
     "output_type": "stream",
     "text": [
      "<generator object generator2 at 0x000002003EB15E40>\n",
      "hello here\n",
      "5\n"
     ]
    }
   ],
   "source": [
    "generator_val= generator2()\n",
    "print(generator_val)\n",
    "print(next(generator_val))"
   ]
  },
  {
   "cell_type": "code",
   "execution_count": 18,
   "id": "25145c58",
   "metadata": {
    "scrolled": true
   },
   "outputs": [
    {
     "ename": "StopIteration",
     "evalue": "",
     "output_type": "error",
     "traceback": [
      "\u001b[1;31m---------------------------------------------------------------------------\u001b[0m",
      "\u001b[1;31mStopIteration\u001b[0m                             Traceback (most recent call last)",
      "Input \u001b[1;32mIn [18]\u001b[0m, in \u001b[0;36m<cell line: 1>\u001b[1;34m()\u001b[0m\n\u001b[1;32m----> 1\u001b[0m \u001b[38;5;28mprint\u001b[39m(\u001b[38;5;28;43mnext\u001b[39;49m\u001b[43m(\u001b[49m\u001b[43mgenerator_val\u001b[49m\u001b[43m)\u001b[49m)\n",
      "\u001b[1;31mStopIteration\u001b[0m: "
     ]
    }
   ],
   "source": [
    "print(next(generator_val))"
   ]
  },
  {
   "cell_type": "code",
   "execution_count": null,
   "id": "395995e4",
   "metadata": {},
   "outputs": [],
   "source": []
  },
  {
   "cell_type": "code",
   "execution_count": 19,
   "id": "fbeb4e76",
   "metadata": {},
   "outputs": [],
   "source": [
    "#Cube Function Example\n",
    "def gencube(n):\n",
    "    for i in range(n):\n",
    "        yield i**3"
   ]
  },
  {
   "cell_type": "code",
   "execution_count": 20,
   "id": "895fe1b8",
   "metadata": {},
   "outputs": [
    {
     "data": {
      "text/plain": [
       "<generator object gencube at 0x000002003EB15430>"
      ]
     },
     "execution_count": 20,
     "metadata": {},
     "output_type": "execute_result"
    }
   ],
   "source": [
    "gencube(100)"
   ]
  },
  {
   "cell_type": "code",
   "execution_count": 23,
   "id": "4df72790",
   "metadata": {},
   "outputs": [
    {
     "name": "stdout",
     "output_type": "stream",
     "text": [
      "0\n",
      "1\n",
      "8\n",
      "27\n",
      "64\n",
      "125\n",
      "216\n",
      "343\n",
      "512\n",
      "729\n",
      "1000\n",
      "1331\n",
      "1728\n",
      "2197\n",
      "2744\n"
     ]
    }
   ],
   "source": [
    "for i in gencube(15):\n",
    "    print(i)"
   ]
  },
  {
   "cell_type": "code",
   "execution_count": null,
   "id": "de8a3462",
   "metadata": {},
   "outputs": [],
   "source": []
  },
  {
   "cell_type": "code",
   "execution_count": 1,
   "id": "fd6063b5",
   "metadata": {},
   "outputs": [],
   "source": [
    "#Fibonaci Series Using Yield Keyword"
   ]
  },
  {
   "cell_type": "code",
   "execution_count": 4,
   "id": "919cd361",
   "metadata": {},
   "outputs": [],
   "source": [
    "def fibo(n):\n",
    "    a,b=1,1\n",
    "    \n",
    "    for i in range(n):\n",
    "        yield a\n",
    "        a,b=b,a+b"
   ]
  },
  {
   "cell_type": "code",
   "execution_count": 5,
   "id": "7855a6ba",
   "metadata": {},
   "outputs": [
    {
     "name": "stdout",
     "output_type": "stream",
     "text": [
      "1\n",
      "1\n",
      "2\n",
      "3\n",
      "5\n",
      "8\n"
     ]
    }
   ],
   "source": [
    "for i in fibo(6):\n",
    "    print(i)"
   ]
  },
  {
   "cell_type": "code",
   "execution_count": null,
   "id": "23f896c5",
   "metadata": {},
   "outputs": [],
   "source": []
  },
  {
   "cell_type": "code",
   "execution_count": 10,
   "id": "3b9db7de",
   "metadata": {},
   "outputs": [],
   "source": [
    "def fib(n):\n",
    "    a,b=1,1\n",
    "    o=[]\n",
    "    \n",
    "    for i in range(n):\n",
    "        o.append(a)\n",
    "        a,b=b,a+b\n",
    "    return o"
   ]
  },
  {
   "cell_type": "code",
   "execution_count": 11,
   "id": "b31e85f5",
   "metadata": {},
   "outputs": [
    {
     "data": {
      "text/plain": [
       "[1, 1, 2, 3, 5, 8]"
      ]
     },
     "execution_count": 11,
     "metadata": {},
     "output_type": "execute_result"
    }
   ],
   "source": [
    "fib(6)"
   ]
  },
  {
   "cell_type": "code",
   "execution_count": null,
   "id": "4aff802b",
   "metadata": {},
   "outputs": [],
   "source": []
  },
  {
   "cell_type": "code",
   "execution_count": null,
   "id": "44f031f9",
   "metadata": {},
   "outputs": [],
   "source": []
  },
  {
   "cell_type": "code",
   "execution_count": null,
   "id": "1a86e150",
   "metadata": {},
   "outputs": [],
   "source": []
  },
  {
   "cell_type": "code",
   "execution_count": null,
   "id": "c245e0f8",
   "metadata": {},
   "outputs": [],
   "source": []
  }
 ],
 "metadata": {
  "kernelspec": {
   "display_name": "Python 3 (ipykernel)",
   "language": "python",
   "name": "python3"
  },
  "language_info": {
   "codemirror_mode": {
    "name": "ipython",
    "version": 3
   },
   "file_extension": ".py",
   "mimetype": "text/x-python",
   "name": "python",
   "nbconvert_exporter": "python",
   "pygments_lexer": "ipython3",
   "version": "3.9.12"
  }
 },
 "nbformat": 4,
 "nbformat_minor": 5
}
