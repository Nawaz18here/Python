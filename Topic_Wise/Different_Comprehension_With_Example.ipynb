{
 "cells": [
  {
   "cell_type": "code",
   "execution_count": null,
   "id": "9ca95ccd",
   "metadata": {},
   "outputs": [],
   "source": [
    "# 27th DEC : DIFFERENT COMPREHENSION IN PYTHON"
   ]
  },
  {
   "cell_type": "markdown",
   "id": "c46a7fe0",
   "metadata": {},
   "source": [
    "## Syntax of List Comprehension\n",
    "\n",
    "newList = [ expression for item in iterable if condition ]"
   ]
  },
  {
   "cell_type": "markdown",
   "id": "a8c0c7ed",
   "metadata": {},
   "source": [
    "***Provide a concise way to create lists."
   ]
  },
  {
   "cell_type": "code",
   "execution_count": null,
   "id": "776622b3",
   "metadata": {},
   "outputs": [],
   "source": []
  },
  {
   "cell_type": "markdown",
   "id": "babccd77",
   "metadata": {},
   "source": [
    "## COMMON WAY "
   ]
  },
  {
   "cell_type": "code",
   "execution_count": 8,
   "id": "44b80ed8",
   "metadata": {},
   "outputs": [],
   "source": [
    "l = [1,12,15,15,8,9,10,15,7,20]\n",
    "ev_num = []\n",
    "od_num = []\n",
    "\n",
    "for i in l :\n",
    "    if i%2==0:\n",
    "        ev_num.append(i)\n",
    "    else:\n",
    "        od_num.append(i)\n",
    "        "
   ]
  },
  {
   "cell_type": "code",
   "execution_count": 9,
   "id": "91637e3c",
   "metadata": {},
   "outputs": [
    {
     "data": {
      "text/plain": [
       "[12, 8, 10, 20]"
      ]
     },
     "execution_count": 9,
     "metadata": {},
     "output_type": "execute_result"
    }
   ],
   "source": [
    "ev_num"
   ]
  },
  {
   "cell_type": "code",
   "execution_count": 10,
   "id": "6e62ebeb",
   "metadata": {},
   "outputs": [
    {
     "data": {
      "text/plain": [
       "[1, 15, 15, 9, 15, 7]"
      ]
     },
     "execution_count": 10,
     "metadata": {},
     "output_type": "execute_result"
    }
   ],
   "source": [
    "od_num"
   ]
  },
  {
   "cell_type": "code",
   "execution_count": null,
   "id": "815b3103",
   "metadata": {},
   "outputs": [],
   "source": []
  },
  {
   "cell_type": "markdown",
   "id": "00204ebf",
   "metadata": {},
   "source": [
    "## USING LIST COMPREHENSION"
   ]
  },
  {
   "cell_type": "code",
   "execution_count": null,
   "id": "bed12c26",
   "metadata": {},
   "outputs": [],
   "source": []
  },
  {
   "cell_type": "code",
   "execution_count": 12,
   "id": "db1f174d",
   "metadata": {},
   "outputs": [
    {
     "data": {
      "text/plain": [
       "[12, 8, 10, 20]"
      ]
     },
     "execution_count": 12,
     "metadata": {},
     "output_type": "execute_result"
    }
   ],
   "source": [
    "even_l = [ i for i in l if i % 2 == 0]\n",
    "even_l"
   ]
  },
  {
   "cell_type": "code",
   "execution_count": 13,
   "id": "0fc6b307",
   "metadata": {},
   "outputs": [
    {
     "data": {
      "text/plain": [
       "[1, 15, 15, 9, 15, 7]"
      ]
     },
     "execution_count": 13,
     "metadata": {},
     "output_type": "execute_result"
    }
   ],
   "source": [
    "odd_l = [ i for i in l if i % 2 != 0]\n",
    "odd_l"
   ]
  },
  {
   "cell_type": "code",
   "execution_count": null,
   "id": "09fcd24d",
   "metadata": {},
   "outputs": [],
   "source": []
  },
  {
   "cell_type": "code",
   "execution_count": 14,
   "id": "2d0f46a0",
   "metadata": {},
   "outputs": [
    {
     "data": {
      "text/plain": [
       "[0, 2, 4, 6, 8]"
      ]
     },
     "execution_count": 14,
     "metadata": {},
     "output_type": "execute_result"
    }
   ],
   "source": [
    "#Another Example of squaring the no. of even no. only \n",
    "\n",
    "sq_l = [ i*1 for i in range(0,10) if i%2==0 ]\n",
    "sq_l"
   ]
  },
  {
   "cell_type": "code",
   "execution_count": null,
   "id": "c4023286",
   "metadata": {},
   "outputs": [],
   "source": []
  },
  {
   "cell_type": "markdown",
   "id": "cbbecec7",
   "metadata": {},
   "source": [
    "# NESTED LIST COMPREHENSION"
   ]
  },
  {
   "cell_type": "code",
   "execution_count": null,
   "id": "5e02c3e0",
   "metadata": {},
   "outputs": [],
   "source": []
  },
  {
   "cell_type": "code",
   "execution_count": 21,
   "id": "d76e8fa7",
   "metadata": {},
   "outputs": [
    {
     "data": {
      "text/plain": [
       "[8, 14, 20, 35, 48, 84]"
      ]
     },
     "execution_count": 21,
     "metadata": {},
     "output_type": "execute_result"
    }
   ],
   "source": [
    "#Another Example of multipling no from two given list \n",
    "\n",
    "lst1 = [2,5,12]\n",
    "lst2 = [4,7]\n",
    "\n",
    "mul_lst = [i*j for i in lst1 for j in lst2 ]\n",
    "mul_lst"
   ]
  },
  {
   "cell_type": "code",
   "execution_count": 22,
   "id": "1bac8283",
   "metadata": {},
   "outputs": [
    {
     "data": {
      "text/plain": [
       "[8, 14, 20, 35, 48, 84]"
      ]
     },
     "execution_count": 22,
     "metadata": {},
     "output_type": "execute_result"
    }
   ],
   "source": [
    "#Common Way\n",
    "s=[]\n",
    "for i in lst1:\n",
    "    for j in lst2:\n",
    "        s.append(i*j)\n",
    "s"
   ]
  },
  {
   "cell_type": "code",
   "execution_count": null,
   "id": "08a2d6c3",
   "metadata": {},
   "outputs": [],
   "source": []
  },
  {
   "cell_type": "code",
   "execution_count": 33,
   "id": "e0992b88",
   "metadata": {},
   "outputs": [
    {
     "data": {
      "text/plain": [
       "[[2, 4],\n",
       " [2, 7],\n",
       " [2, 3],\n",
       " [2, 17],\n",
       " [6, 4],\n",
       " [6, 7],\n",
       " [6, 3],\n",
       " [6, 17],\n",
       " [1, 4],\n",
       " [1, 7],\n",
       " [1, 3],\n",
       " [1, 17]]"
      ]
     },
     "execution_count": 33,
     "metadata": {},
     "output_type": "execute_result"
    }
   ],
   "source": [
    "#Another Example of getting multiple probable elements\n",
    "# from two given list \n",
    "\n",
    "lst1 = [2,6,1]\n",
    "lst2 = [4,7,3,17]\n",
    "\n",
    "ele_lst = [[i,j] for i in lst1 for j in lst2 ]\n",
    "ele_lst"
   ]
  },
  {
   "cell_type": "code",
   "execution_count": null,
   "id": "ab272295",
   "metadata": {},
   "outputs": [],
   "source": []
  },
  {
   "cell_type": "code",
   "execution_count": 34,
   "id": "807b9ff8",
   "metadata": {},
   "outputs": [
    {
     "data": {
      "text/plain": [
       "[[2, 4],\n",
       " [2, 7],\n",
       " [2, 3],\n",
       " [2, 17],\n",
       " [6, 4],\n",
       " [6, 7],\n",
       " [6, 3],\n",
       " [6, 17],\n",
       " [1, 4],\n",
       " [1, 7],\n",
       " [1, 3],\n",
       " [1, 17]]"
      ]
     },
     "execution_count": 34,
     "metadata": {},
     "output_type": "execute_result"
    }
   ],
   "source": [
    "s=[]\n",
    "for i in lst1:\n",
    "    for j in lst2:\n",
    "        s.append([i,j])\n",
    "s"
   ]
  },
  {
   "cell_type": "code",
   "execution_count": null,
   "id": "6b4ce8c0",
   "metadata": {},
   "outputs": [],
   "source": []
  },
  {
   "cell_type": "markdown",
   "id": "8a049e9e",
   "metadata": {},
   "source": [
    "# Syntax of Dict Comprehension"
   ]
  },
  {
   "cell_type": "markdown",
   "id": "3aeb182a",
   "metadata": {},
   "source": [
    "Syntax: {key,value for (key,value) in iterable if condition }"
   ]
  },
  {
   "cell_type": "code",
   "execution_count": null,
   "id": "6350254a",
   "metadata": {},
   "outputs": [],
   "source": []
  },
  {
   "cell_type": "code",
   "execution_count": 35,
   "id": "a8dca1d1",
   "metadata": {},
   "outputs": [
    {
     "data": {
      "text/plain": [
       "{0: 0, 1: 1, 2: 4, 3: 9, 4: 16, 5: 25, 6: 36, 7: 49, 8: 64, 9: 81}"
      ]
     },
     "execution_count": 35,
     "metadata": {},
     "output_type": "execute_result"
    }
   ],
   "source": [
    "#Example 1 : No. with their square in dict\n",
    "\n",
    "#Common Way\n",
    "\n",
    "d = {}\n",
    "for i in range(0,10):\n",
    "    d[i]=i*i\n",
    "d\n"
   ]
  },
  {
   "cell_type": "code",
   "execution_count": 37,
   "id": "0a885d48",
   "metadata": {},
   "outputs": [
    {
     "data": {
      "text/plain": [
       "{0: 0, 1: 1, 2: 4, 3: 9, 4: 16, 5: 25, 6: 36, 7: 49, 8: 64, 9: 81}"
      ]
     },
     "execution_count": 37,
     "metadata": {},
     "output_type": "execute_result"
    }
   ],
   "source": [
    "#Using Dict Comprehension\n",
    "\n",
    "d1 = {i:i*i for i in range(0,10) }\n",
    "d1"
   ]
  },
  {
   "cell_type": "code",
   "execution_count": null,
   "id": "8fd36c21",
   "metadata": {},
   "outputs": [],
   "source": []
  },
  {
   "cell_type": "code",
   "execution_count": 39,
   "id": "5b8ac14b",
   "metadata": {},
   "outputs": [
    {
     "data": {
      "text/plain": [
       "{0: 'Mon', 1: 'Tue', 2: 'Wed'}"
      ]
     },
     "execution_count": 39,
     "metadata": {},
     "output_type": "execute_result"
    }
   ],
   "source": [
    "#Example 2 : Combine two lists into a dictionary\n",
    "\n",
    "\n",
    "dict1= {}\n",
    "l1 = [ x for x in range(3)]\n",
    "l2 = ['Mon','Tue','Wed']\n",
    "\n",
    "for key,value in zip(l1,l2):\n",
    "    dict1[key]=value\n",
    "dict1"
   ]
  },
  {
   "cell_type": "code",
   "execution_count": null,
   "id": "da7c4d51",
   "metadata": {},
   "outputs": [],
   "source": []
  },
  {
   "cell_type": "code",
   "execution_count": 42,
   "id": "24ed268d",
   "metadata": {},
   "outputs": [
    {
     "data": {
      "text/plain": [
       "{0: 'Mon', 1: 'Tue', 2: 'Wed'}"
      ]
     },
     "execution_count": 42,
     "metadata": {},
     "output_type": "execute_result"
    }
   ],
   "source": [
    "dict2 = {key:val for (key,val) in zip(l1,l2)}\n",
    "dict2"
   ]
  },
  {
   "cell_type": "code",
   "execution_count": null,
   "id": "abac193a",
   "metadata": {},
   "outputs": [],
   "source": []
  },
  {
   "cell_type": "markdown",
   "id": "fab9cd19",
   "metadata": {},
   "source": [
    "# Syntax of Set Comprehension"
   ]
  },
  {
   "cell_type": "markdown",
   "id": "5732fb9e",
   "metadata": {},
   "source": [
    "Syntax: {expression for item in iterable if condition }"
   ]
  },
  {
   "cell_type": "code",
   "execution_count": 43,
   "id": "37b15120",
   "metadata": {},
   "outputs": [
    {
     "data": {
      "text/plain": [
       "{1, 3, 5, 7, 9}"
      ]
     },
     "execution_count": 43,
     "metadata": {},
     "output_type": "execute_result"
    }
   ],
   "source": [
    "#Example :\n",
    "\n",
    "s1 = {i for i in range(1,10) if i%2==1}\n",
    "s1"
   ]
  },
  {
   "cell_type": "code",
   "execution_count": 44,
   "id": "1995c390",
   "metadata": {},
   "outputs": [
    {
     "data": {
      "text/plain": [
       "{1, 3, 5}"
      ]
     },
     "execution_count": 44,
     "metadata": {},
     "output_type": "execute_result"
    }
   ],
   "source": [
    "#Example Duplicate Filtering\n",
    "    \n",
    "s = [1,2,3,4,2,3,2,3,4,1,5]\n",
    "s2= set()\n",
    "\n",
    "for i in s:\n",
    "    if i%2!=0:\n",
    "        s2.add(i)\n",
    "s2\n"
   ]
  },
  {
   "cell_type": "code",
   "execution_count": 45,
   "id": "a2f57517",
   "metadata": {},
   "outputs": [
    {
     "data": {
      "text/plain": [
       "{1, 3, 5}"
      ]
     },
     "execution_count": 45,
     "metadata": {},
     "output_type": "execute_result"
    }
   ],
   "source": [
    "s3 = {i for i in s if i%2!=0}\n",
    "s3"
   ]
  },
  {
   "cell_type": "code",
   "execution_count": null,
   "id": "8c095622",
   "metadata": {},
   "outputs": [],
   "source": []
  },
  {
   "cell_type": "markdown",
   "id": "f3d08a86",
   "metadata": {},
   "source": [
    "# GENERATOR COMPREHENSION"
   ]
  },
  {
   "cell_type": "markdown",
   "id": "6bd08f26",
   "metadata": {},
   "source": [
    " SYNTAX: (expression for item in iterable if condition)"
   ]
  },
  {
   "cell_type": "code",
   "execution_count": null,
   "id": "3e0b1e32",
   "metadata": {},
   "outputs": [],
   "source": []
  },
  {
   "cell_type": "code",
   "execution_count": 1,
   "id": "f3e510ec",
   "metadata": {},
   "outputs": [],
   "source": [
    "#Example : Common Way\n",
    "\n",
    "def generator(l):\n",
    "    for i in list:\n",
    "        if i%2==0:\n",
    "            yield i\n",
    "\n"
   ]
  },
  {
   "cell_type": "code",
   "execution_count": 2,
   "id": "d69901bd",
   "metadata": {},
   "outputs": [],
   "source": [
    "list=[1,2,3,4,6,7,1,33,5]\n",
    "gen_val= generator(list)"
   ]
  },
  {
   "cell_type": "code",
   "execution_count": 3,
   "id": "90eb815b",
   "metadata": {},
   "outputs": [
    {
     "data": {
      "text/plain": [
       "<generator object generator at 0x000001C80029D7B0>"
      ]
     },
     "execution_count": 3,
     "metadata": {},
     "output_type": "execute_result"
    }
   ],
   "source": [
    "gen_val"
   ]
  },
  {
   "cell_type": "code",
   "execution_count": 4,
   "id": "9e253067",
   "metadata": {},
   "outputs": [
    {
     "name": "stdout",
     "output_type": "stream",
     "text": [
      "2\n",
      "4\n",
      "6\n"
     ]
    },
    {
     "ename": "StopIteration",
     "evalue": "",
     "output_type": "error",
     "traceback": [
      "\u001b[1;31m---------------------------------------------------------------------------\u001b[0m",
      "\u001b[1;31mStopIteration\u001b[0m                             Traceback (most recent call last)",
      "Input \u001b[1;32mIn [4]\u001b[0m, in \u001b[0;36m<cell line: 4>\u001b[1;34m()\u001b[0m\n\u001b[0;32m      2\u001b[0m \u001b[38;5;28mprint\u001b[39m(\u001b[38;5;28mnext\u001b[39m(gen_val))\n\u001b[0;32m      3\u001b[0m \u001b[38;5;28mprint\u001b[39m(\u001b[38;5;28mnext\u001b[39m(gen_val))\n\u001b[1;32m----> 4\u001b[0m \u001b[38;5;28mprint\u001b[39m(\u001b[38;5;28;43mnext\u001b[39;49m\u001b[43m(\u001b[49m\u001b[43mgen_val\u001b[49m\u001b[43m)\u001b[49m)\n\u001b[0;32m      5\u001b[0m \u001b[38;5;28mprint\u001b[39m(\u001b[38;5;28mnext\u001b[39m(gen_val))\n",
      "\u001b[1;31mStopIteration\u001b[0m: "
     ]
    }
   ],
   "source": [
    "print(next(gen_val))\n",
    "print(next(gen_val))\n",
    "print(next(gen_val))\n",
    "print(next(gen_val))\n",
    "print(next(gen_val))"
   ]
  },
  {
   "cell_type": "code",
   "execution_count": null,
   "id": "09ecf43e",
   "metadata": {},
   "outputs": [],
   "source": []
  },
  {
   "cell_type": "code",
   "execution_count": 6,
   "id": "ab63596d",
   "metadata": {},
   "outputs": [
    {
     "name": "stdout",
     "output_type": "stream",
     "text": [
      "<generator object <genexpr> at 0x000001C801E0BD60>\n"
     ]
    }
   ],
   "source": [
    "#Genarator Comprehension:\n",
    "\n",
    "gen_values = (i for i in list if i%2==0)\n",
    "print(gen_values)\n"
   ]
  },
  {
   "cell_type": "code",
   "execution_count": 8,
   "id": "c1073ab9",
   "metadata": {},
   "outputs": [
    {
     "name": "stdout",
     "output_type": "stream",
     "text": [
      "2\n",
      "4\n",
      "6\n"
     ]
    },
    {
     "ename": "StopIteration",
     "evalue": "",
     "output_type": "error",
     "traceback": [
      "\u001b[1;31m---------------------------------------------------------------------------\u001b[0m",
      "\u001b[1;31mStopIteration\u001b[0m                             Traceback (most recent call last)",
      "Input \u001b[1;32mIn [8]\u001b[0m, in \u001b[0;36m<cell line: 4>\u001b[1;34m()\u001b[0m\n\u001b[0;32m      2\u001b[0m \u001b[38;5;28mprint\u001b[39m(\u001b[38;5;28mnext\u001b[39m(gen_values))\n\u001b[0;32m      3\u001b[0m \u001b[38;5;28mprint\u001b[39m(\u001b[38;5;28mnext\u001b[39m(gen_values))\n\u001b[1;32m----> 4\u001b[0m \u001b[38;5;28mprint\u001b[39m(\u001b[38;5;28;43mnext\u001b[39;49m\u001b[43m(\u001b[49m\u001b[43mgen_values\u001b[49m\u001b[43m)\u001b[49m)\n",
      "\u001b[1;31mStopIteration\u001b[0m: "
     ]
    }
   ],
   "source": [
    "print(next(gen_values))\n",
    "print(next(gen_values))\n",
    "print(next(gen_values))\n",
    "print(next(gen_values))"
   ]
  },
  {
   "cell_type": "code",
   "execution_count": null,
   "id": "80cc63e1",
   "metadata": {},
   "outputs": [],
   "source": []
  },
  {
   "cell_type": "markdown",
   "id": "0b26166b",
   "metadata": {},
   "source": [
    "# Some Questions related to Comprehesnion Below "
   ]
  },
  {
   "cell_type": "code",
   "execution_count": 10,
   "id": "d1e9edf5",
   "metadata": {},
   "outputs": [],
   "source": [
    "a    = [ 1,3,5,7,9,11 ]\n",
    "#O/P = [ 2,6,10,14,18,22 ]"
   ]
  },
  {
   "cell_type": "code",
   "execution_count": 11,
   "id": "a576f82e",
   "metadata": {},
   "outputs": [
    {
     "data": {
      "text/plain": [
       "[2, 6, 10, 14, 18, 22]"
      ]
     },
     "execution_count": 11,
     "metadata": {},
     "output_type": "execute_result"
    }
   ],
   "source": [
    "op= [ 2*i for i in a ]\n",
    "op"
   ]
  },
  {
   "cell_type": "code",
   "execution_count": null,
   "id": "46ffc142",
   "metadata": {},
   "outputs": [],
   "source": []
  },
  {
   "cell_type": "code",
   "execution_count": 12,
   "id": "b4c13b7f",
   "metadata": {},
   "outputs": [],
   "source": [
    "#Remove all odd no from list\n",
    "numbers = [3,5,45,97,32,22,10,19,39,43]"
   ]
  },
  {
   "cell_type": "code",
   "execution_count": 13,
   "id": "804c9128",
   "metadata": {},
   "outputs": [
    {
     "data": {
      "text/plain": [
       "[32, 22, 10]"
      ]
     },
     "execution_count": 13,
     "metadata": {},
     "output_type": "execute_result"
    }
   ],
   "source": [
    "rem_odd = [ i for i in numbers if i%2!=1 ]\n",
    "rem_odd"
   ]
  },
  {
   "cell_type": "code",
   "execution_count": null,
   "id": "1dce8aba",
   "metadata": {},
   "outputs": [],
   "source": []
  },
  {
   "cell_type": "code",
   "execution_count": 14,
   "id": "828b4d6f",
   "metadata": {},
   "outputs": [],
   "source": [
    "# Find all of the numbers from 1-1000 that are divisible by 7"
   ]
  },
  {
   "cell_type": "code",
   "execution_count": 17,
   "id": "f1753275",
   "metadata": {},
   "outputs": [
    {
     "data": {
      "text/plain": [
       "[0, 7, 14, 21, 28, 35, 42, 49, 56, 63, 70, 77, 84, 91, 98]"
      ]
     },
     "execution_count": 17,
     "metadata": {},
     "output_type": "execute_result"
    }
   ],
   "source": [
    "div_7 = [ i for i in range(0,100) if i%7==0]\n",
    "div_7"
   ]
  },
  {
   "cell_type": "code",
   "execution_count": null,
   "id": "3fe3d50e",
   "metadata": {},
   "outputs": [],
   "source": []
  },
  {
   "cell_type": "code",
   "execution_count": 16,
   "id": "e3320ba9",
   "metadata": {},
   "outputs": [],
   "source": [
    "#Find all of the numbers from 1-1000 that have a 3 in them"
   ]
  },
  {
   "cell_type": "code",
   "execution_count": 18,
   "id": "222178fc",
   "metadata": {},
   "outputs": [
    {
     "data": {
      "text/plain": [
       "[3, 13, 23, 30, 31, 32, 33, 34, 35, 36, 37, 38, 39, 43, 53, 63, 73, 83, 93]"
      ]
     },
     "execution_count": 18,
     "metadata": {},
     "output_type": "execute_result"
    }
   ],
   "source": [
    "list_3 = [ i for i in range(1,100) if '3' in str(i)]\n",
    "list_3"
   ]
  },
  {
   "cell_type": "code",
   "execution_count": null,
   "id": "4db9876d",
   "metadata": {},
   "outputs": [],
   "source": []
  },
  {
   "cell_type": "code",
   "execution_count": 24,
   "id": "fad7040c",
   "metadata": {},
   "outputs": [
    {
     "data": {
      "text/plain": [
       "[' ', ' ', ' ', ' ', ' ']"
      ]
     },
     "execution_count": 24,
     "metadata": {},
     "output_type": "execute_result"
    }
   ],
   "source": [
    "# Count the number of spaces in a string\n",
    "stri = \"Hello Im writing a python code\"\n",
    "list_4 = [ i for i in stri if i==' ']\n",
    "list_4"
   ]
  },
  {
   "cell_type": "code",
   "execution_count": 26,
   "id": "d53e7dc4",
   "metadata": {},
   "outputs": [
    {
     "name": "stdout",
     "output_type": "stream",
     "text": [
      "5\n"
     ]
    }
   ],
   "source": [
    "print(len(list_4))"
   ]
  },
  {
   "cell_type": "code",
   "execution_count": 25,
   "id": "bc82795c",
   "metadata": {},
   "outputs": [
    {
     "data": {
      "text/plain": [
       "5"
      ]
     },
     "execution_count": 25,
     "metadata": {},
     "output_type": "execute_result"
    }
   ],
   "source": [
    "#Common Way\n",
    "cnt=0\n",
    "for i in stri :\n",
    "    if i==' ':\n",
    "        cnt+=1\n",
    "cnt"
   ]
  },
  {
   "cell_type": "code",
   "execution_count": null,
   "id": "5cd8dc37",
   "metadata": {},
   "outputs": [],
   "source": []
  },
  {
   "cell_type": "code",
   "execution_count": 27,
   "id": "252cb59c",
   "metadata": {},
   "outputs": [],
   "source": [
    "# Create a list of all the consonants in the string"
   ]
  },
  {
   "cell_type": "code",
   "execution_count": 28,
   "id": "10158933",
   "metadata": {},
   "outputs": [],
   "source": [
    "some_str= '''Yellow Yaks like yelling and yawning and yesturday\n",
    "they yodled while eating yuky yams'''"
   ]
  },
  {
   "cell_type": "code",
   "execution_count": 31,
   "id": "a65c5ac6",
   "metadata": {},
   "outputs": [
    {
     "data": {
      "text/plain": [
       "['Y',\n",
       " 'l',\n",
       " 'l',\n",
       " 'w',\n",
       " 'Y',\n",
       " 'k',\n",
       " 's',\n",
       " 'l',\n",
       " 'k',\n",
       " 'y',\n",
       " 'l',\n",
       " 'l',\n",
       " 'n',\n",
       " 'g',\n",
       " 'n',\n",
       " 'd',\n",
       " 'y',\n",
       " 'w',\n",
       " 'n',\n",
       " 'n',\n",
       " 'g',\n",
       " 'n',\n",
       " 'd',\n",
       " 'y',\n",
       " 's',\n",
       " 't',\n",
       " 'r',\n",
       " 'd',\n",
       " 'y',\n",
       " '\\n',\n",
       " 't',\n",
       " 'h',\n",
       " 'y',\n",
       " 'y',\n",
       " 'd',\n",
       " 'l',\n",
       " 'd',\n",
       " 'w',\n",
       " 'h',\n",
       " 'l',\n",
       " 't',\n",
       " 'n',\n",
       " 'g',\n",
       " 'y',\n",
       " 'k',\n",
       " 'y',\n",
       " 'y',\n",
       " 'm',\n",
       " 's']"
      ]
     },
     "execution_count": 31,
     "metadata": {},
     "output_type": "execute_result"
    }
   ],
   "source": [
    "cons_str = [ i for i in some_str if i not in ('a','e','i','o','u',' ')]\n",
    "cons_str "
   ]
  },
  {
   "cell_type": "code",
   "execution_count": null,
   "id": "a0ed5199",
   "metadata": {},
   "outputs": [],
   "source": []
  },
  {
   "cell_type": "code",
   "execution_count": null,
   "id": "cb26e223",
   "metadata": {},
   "outputs": [],
   "source": [
    "#Get the index and the value as a tuple for items\n",
    "#in the list ['hi', 4, 8.99, 'apple', ('t','b','n')]"
   ]
  },
  {
   "cell_type": "code",
   "execution_count": 34,
   "id": "6920509d",
   "metadata": {},
   "outputs": [],
   "source": [
    "list= ['hi', 4, 8.99, 'apple', ('t','b','n')]"
   ]
  },
  {
   "cell_type": "code",
   "execution_count": 36,
   "id": "e2a9f6f1",
   "metadata": {},
   "outputs": [
    {
     "name": "stdout",
     "output_type": "stream",
     "text": [
      "0 hi\n",
      "1 4\n",
      "2 8.99\n",
      "3 apple\n",
      "4 ('t', 'b', 'n')\n"
     ]
    }
   ],
   "source": [
    "for i in range(len(list)):\n",
    "    print(i,(list[i]))"
   ]
  },
  {
   "cell_type": "code",
   "execution_count": 39,
   "id": "4671b802",
   "metadata": {},
   "outputs": [
    {
     "data": {
      "text/plain": [
       "[(0, 'hi'), (1, 4), (2, 8.99), (3, 'apple'), (4, ('t', 'b', 'n'))]"
      ]
     },
     "execution_count": 39,
     "metadata": {},
     "output_type": "execute_result"
    }
   ],
   "source": [
    "i_list = [(i,j) for i,j in enumerate(list)]\n",
    "i_list"
   ]
  },
  {
   "cell_type": "code",
   "execution_count": null,
   "id": "cb48e8df",
   "metadata": {},
   "outputs": [],
   "source": []
  },
  {
   "cell_type": "code",
   "execution_count": 42,
   "id": "b062ff0d",
   "metadata": {},
   "outputs": [],
   "source": [
    "#Find the common numbers in two lists\n",
    "#(without using a tuple or set)"
   ]
  },
  {
   "cell_type": "code",
   "execution_count": 43,
   "id": "0c8c807a",
   "metadata": {},
   "outputs": [],
   "source": [
    "list_a = 1, 2, 3, 4\n",
    "list_b = 2, 3, 4, 5"
   ]
  },
  {
   "cell_type": "code",
   "execution_count": 44,
   "id": "83c2e24a",
   "metadata": {},
   "outputs": [
    {
     "data": {
      "text/plain": [
       "[2, 3, 4]"
      ]
     },
     "execution_count": 44,
     "metadata": {},
     "output_type": "execute_result"
    }
   ],
   "source": [
    "comm_l = [ i for i in list_a if i in list_b]\n",
    "comm_l"
   ]
  },
  {
   "cell_type": "code",
   "execution_count": null,
   "id": "98b0cb16",
   "metadata": {},
   "outputs": [],
   "source": []
  },
  {
   "cell_type": "code",
   "execution_count": 45,
   "id": "d79ecf16",
   "metadata": {},
   "outputs": [],
   "source": [
    "#Get only the numbers in a sentence like\n",
    "#‘In 1984 there were 13 instances of a\n",
    "#protest with over 1000 people attending’"
   ]
  },
  {
   "cell_type": "code",
   "execution_count": 46,
   "id": "a2fb7bae",
   "metadata": {},
   "outputs": [],
   "source": [
    "sentence= 'In 1984 there were 13 instances of a protest with over 1000 people attending'"
   ]
  },
  {
   "cell_type": "code",
   "execution_count": 62,
   "id": "6d694e5c",
   "metadata": {},
   "outputs": [
    {
     "data": {
      "text/plain": [
       "['1984', '13', '1000']"
      ]
     },
     "execution_count": 62,
     "metadata": {},
     "output_type": "execute_result"
    }
   ],
   "source": [
    "s=sentence.split()\n",
    "s_int = [ i for i in s if i.isnumeric()]\n",
    "s_int"
   ]
  },
  {
   "cell_type": "code",
   "execution_count": null,
   "id": "ac8bbee7",
   "metadata": {},
   "outputs": [],
   "source": []
  },
  {
   "cell_type": "code",
   "execution_count": 63,
   "id": "3070e588",
   "metadata": {},
   "outputs": [],
   "source": [
    "#Given numbers = range(20),\n",
    "#produce a list containing the word ‘even’\n",
    "#if a number in the numbers is even,\n",
    "#and the word ‘odd’ if the number is odd.\n",
    "#Result would look like ‘odd’,’odd’, ‘even’"
   ]
  },
  {
   "cell_type": "code",
   "execution_count": 72,
   "id": "793501f1",
   "metadata": {},
   "outputs": [
    {
     "data": {
      "text/plain": [
       "['even',\n",
       " 'odd',\n",
       " 'even',\n",
       " 'odd',\n",
       " 'even',\n",
       " 'odd',\n",
       " 'even',\n",
       " 'odd',\n",
       " 'even',\n",
       " 'odd',\n",
       " 'even',\n",
       " 'odd',\n",
       " 'even',\n",
       " 'odd',\n",
       " 'even',\n",
       " 'odd',\n",
       " 'even',\n",
       " 'odd',\n",
       " 'even',\n",
       " 'odd']"
      ]
     },
     "execution_count": 72,
     "metadata": {},
     "output_type": "execute_result"
    }
   ],
   "source": [
    "i_list = ['odd' if i%2!=0 else 'even' for i in range(20)]\n",
    "i_list"
   ]
  },
  {
   "cell_type": "code",
   "execution_count": null,
   "id": "c65f9f72",
   "metadata": {},
   "outputs": [],
   "source": []
  },
  {
   "cell_type": "markdown",
   "id": "25d084f5",
   "metadata": {},
   "source": [
    "10. Produce a list of tuples consisting of only the matching numbers in these lists.\n",
    "list_a = [1,2,3,4,5,6,7,8,9]\n",
    "\n",
    "list_b = [2,7,1,12]\n",
    "\n",
    "Result would look like (4,4), (12,12)"
   ]
  },
  {
   "cell_type": "code",
   "execution_count": 73,
   "id": "1b8153c1",
   "metadata": {},
   "outputs": [],
   "source": [
    "list_a = [1,2,3,4,5,6,7,8,9]\n",
    "list_b = [2,7,1,12]"
   ]
  },
  {
   "cell_type": "code",
   "execution_count": 78,
   "id": "e5a232f7",
   "metadata": {},
   "outputs": [
    {
     "data": {
      "text/plain": [
       "[(1, 1), (2, 2), (7, 7)]"
      ]
     },
     "execution_count": 78,
     "metadata": {},
     "output_type": "execute_result"
    }
   ],
   "source": [
    "lout = [(i,i) for i in list_a if i in list_b]\n",
    "lout"
   ]
  },
  {
   "cell_type": "code",
   "execution_count": 80,
   "id": "0d88ff19",
   "metadata": {},
   "outputs": [
    {
     "data": {
      "text/plain": [
       "[(1, 1), (2, 2), (7, 7)]"
      ]
     },
     "execution_count": 80,
     "metadata": {},
     "output_type": "execute_result"
    }
   ],
   "source": [
    "res = [(a,b) for a in list_a for b in list_b if a==b]\n",
    "res"
   ]
  },
  {
   "cell_type": "code",
   "execution_count": null,
   "id": "d9412a86",
   "metadata": {},
   "outputs": [],
   "source": []
  },
  {
   "cell_type": "markdown",
   "id": "13382729",
   "metadata": {},
   "source": [
    "Find all of the words in a string that are less than 4 letters"
   ]
  },
  {
   "cell_type": "code",
   "execution_count": 81,
   "id": "d51ffad8",
   "metadata": {},
   "outputs": [],
   "source": [
    "sentence = 'On a summer day somner smith went simming in the sun and his red skin stung'"
   ]
  },
  {
   "cell_type": "code",
   "execution_count": 83,
   "id": "2c582614",
   "metadata": {},
   "outputs": [
    {
     "data": {
      "text/plain": [
       "['On', 'a', 'day', 'in', 'the', 'sun', 'and', 'his', 'red']"
      ]
     },
     "execution_count": 83,
     "metadata": {},
     "output_type": "execute_result"
    }
   ],
   "source": [
    "all_word = [ i for i in sentence.split() if len(i)<4]\n",
    "all_word"
   ]
  },
  {
   "cell_type": "code",
   "execution_count": null,
   "id": "7e8c306c",
   "metadata": {},
   "outputs": [],
   "source": []
  },
  {
   "cell_type": "markdown",
   "id": "f23f0c9b",
   "metadata": {},
   "source": [
    "Use a nested list comprehension to find all of the numbers from 1-1000 that are divisible by any single digit besides 1 (2-9)"
   ]
  },
  {
   "cell_type": "code",
   "execution_count": 94,
   "id": "7e45cc4a",
   "metadata": {},
   "outputs": [
    {
     "data": {
      "text/plain": [
       "[0, 2, 3, 4, 5, 6, 7, 8, 9, 10, 12, 14, 15, 16, 18, 20, 21, 22, 24]"
      ]
     },
     "execution_count": 94,
     "metadata": {},
     "output_type": "execute_result"
    }
   ],
   "source": [
    "x_div = [i for i in range(0,25) \n",
    "         if True in [True for x in range(2,10) if i%x==0] \n",
    "        ]\n",
    "x_div"
   ]
  },
  {
   "cell_type": "code",
   "execution_count": null,
   "id": "b3fc7d89",
   "metadata": {},
   "outputs": [],
   "source": []
  },
  {
   "cell_type": "code",
   "execution_count": 102,
   "id": "35045abc",
   "metadata": {},
   "outputs": [
    {
     "name": "stdout",
     "output_type": "stream",
     "text": [
      "{2, 3, 4, 5, 6, 7, 8, 9, 10, 12, 14, 15, 16, 18, 20, 21, 22, 24}\n"
     ]
    }
   ],
   "source": [
    "#Using For Loop\n",
    "no_dups =set()\n",
    "\n",
    "for n in range(1,25):\n",
    "    for x in range(2,10):\n",
    "        if n%x==0:\n",
    "            no_dups.add(n)\n",
    "print(no_dups)\n"
   ]
  },
  {
   "cell_type": "code",
   "execution_count": null,
   "id": "0e857696",
   "metadata": {},
   "outputs": [],
   "source": []
  },
  {
   "cell_type": "markdown",
   "id": "ec4c594c",
   "metadata": {},
   "source": [
    "# Nested List Comprehension"
   ]
  },
  {
   "cell_type": "code",
   "execution_count": null,
   "id": "bdaf635a",
   "metadata": {},
   "outputs": [],
   "source": []
  },
  {
   "cell_type": "code",
   "execution_count": 103,
   "id": "da57d853",
   "metadata": {},
   "outputs": [],
   "source": [
    "nested = [[1,2,3], ['a','b','def'], [5, 10,'f',17], [3,9] ] "
   ]
  },
  {
   "cell_type": "code",
   "execution_count": 106,
   "id": "033ff8b8",
   "metadata": {},
   "outputs": [
    {
     "data": {
      "text/plain": [
       "[1, 2, 3, 'a', 'b', 'def', 5, 10, 'f', 17, 3, 9]"
      ]
     },
     "execution_count": 106,
     "metadata": {},
     "output_type": "execute_result"
    }
   ],
   "source": [
    "fl= [j for i in nested for j in i]\n",
    "fl"
   ]
  },
  {
   "cell_type": "code",
   "execution_count": null,
   "id": "a3f83fbe",
   "metadata": {},
   "outputs": [],
   "source": []
  },
  {
   "cell_type": "code",
   "execution_count": 109,
   "id": "e4d382b1",
   "metadata": {},
   "outputs": [
    {
     "data": {
      "text/plain": [
       "[1, 2, 3, 'a', 'b', 'def', 5, 10, 'f', 17]"
      ]
     },
     "execution_count": 109,
     "metadata": {},
     "output_type": "execute_result"
    }
   ],
   "source": [
    "#Using Nested List Comprehension using if cond\n",
    "flatten3= [j for i in nested for j in i if len(i)>2]\n",
    "flatten3"
   ]
  },
  {
   "cell_type": "code",
   "execution_count": null,
   "id": "68167a50",
   "metadata": {},
   "outputs": [],
   "source": []
  },
  {
   "cell_type": "code",
   "execution_count": 110,
   "id": "17068e57",
   "metadata": {},
   "outputs": [],
   "source": [
    "#Get Square of no if it is even\n",
    "Numbers = [[1,2,3,4,5,6,7,8,9,10],\n",
    "          [11,12,13,14,15,16,17,18,19,20]]"
   ]
  },
  {
   "cell_type": "code",
   "execution_count": 111,
   "id": "c709ea6d",
   "metadata": {},
   "outputs": [
    {
     "data": {
      "text/plain": [
       "[4, 16, 36, 64, 100, 144, 196, 256, 324, 400]"
      ]
     },
     "execution_count": 111,
     "metadata": {},
     "output_type": "execute_result"
    }
   ],
   "source": [
    "sq_lst = [ j**2 for i in Numbers for j in i if j%2==0 ]\n",
    "sq_lst"
   ]
  },
  {
   "cell_type": "code",
   "execution_count": null,
   "id": "1ae555ce",
   "metadata": {},
   "outputs": [],
   "source": []
  },
  {
   "cell_type": "code",
   "execution_count": 112,
   "id": "f101a885",
   "metadata": {},
   "outputs": [],
   "source": [
    "#Nested list with if condition"
   ]
  },
  {
   "cell_type": "code",
   "execution_count": 113,
   "id": "d4664d07",
   "metadata": {},
   "outputs": [
    {
     "data": {
      "text/plain": [
       "[0, 10]"
      ]
     },
     "execution_count": 113,
     "metadata": {},
     "output_type": "execute_result"
    }
   ],
   "source": [
    "fil_lst = [ i for i in range(0,20) if i%2==0 if i%5==0]\n",
    "fil_lst"
   ]
  },
  {
   "cell_type": "code",
   "execution_count": 114,
   "id": "1dcd8cf6",
   "metadata": {},
   "outputs": [],
   "source": [
    "#If else with Nested list Comprehension"
   ]
  },
  {
   "cell_type": "code",
   "execution_count": 115,
   "id": "a0411cf5",
   "metadata": {},
   "outputs": [],
   "source": [
    "list = ['even' if i%2==0 else 'odd' for i in range(10)]"
   ]
  },
  {
   "cell_type": "code",
   "execution_count": 116,
   "id": "8b3df4fb",
   "metadata": {},
   "outputs": [
    {
     "data": {
      "text/plain": [
       "['even', 'odd', 'even', 'odd', 'even', 'odd', 'even', 'odd', 'even', 'odd']"
      ]
     },
     "execution_count": 116,
     "metadata": {},
     "output_type": "execute_result"
    }
   ],
   "source": [
    "list"
   ]
  },
  {
   "cell_type": "code",
   "execution_count": null,
   "id": "cd7021f1",
   "metadata": {},
   "outputs": [],
   "source": []
  }
 ],
 "metadata": {
  "kernelspec": {
   "display_name": "Python 3 (ipykernel)",
   "language": "python",
   "name": "python3"
  },
  "language_info": {
   "codemirror_mode": {
    "name": "ipython",
    "version": 3
   },
   "file_extension": ".py",
   "mimetype": "text/x-python",
   "name": "python",
   "nbconvert_exporter": "python",
   "pygments_lexer": "ipython3",
   "version": "3.9.12"
  }
 },
 "nbformat": 4,
 "nbformat_minor": 5
}
